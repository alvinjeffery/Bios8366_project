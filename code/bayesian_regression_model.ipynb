{
 "cells": [
  {
   "cell_type": "markdown",
   "metadata": {},
   "source": [
    "## To-do list\n",
    "* Some cohort exploration based on deletion of subjects\n",
    "\n",
    "* Look at variable correlations & clustering (if possible) -- suspect eg that systolic/diastolic will cluster based on prev work & means we can get away with using a variable score or one but not the other\n",
    "\n",
    "* Model checking!!\n",
    "\n",
    "**Noted:**\n",
    "* labs need transformation\n",
    "* meds can't be used; too sparse (though try exposure variables)\n",
    "* everything else should be good\n",
    "* "
   ]
  },
  {
   "cell_type": "markdown",
   "metadata": {},
   "source": [
    "## For a general modeling pipeline:\n",
    "Need a utility function that:\n",
    "1. Takes a DF and a list of variables,\n",
    "2. Makes a GLM and samples from it,\n",
    "3. Returns the trace & the model.\n",
    "\n",
    "This will create a bunch of models & traces to check model diagnostics on, LOO, WAIC, etc & pick some \"good\" models.\n",
    "\n",
    "Then need utility functions for:\n",
    "1. Plotting chosen diagnostics.\n",
    "2. Doing model comparisons using WAIC/LOO.\n",
    "3. Measuring the accuracy vs validation set -- this will require refitting the model & using sample_ppc w/ shared theano variables to predict off the validation set.\n",
    "\n",
    "FINALLY, take the best model that pops out of the above & refit it with both train+validation sets, then use it to predict the test set as final check of accuracy."
   ]
  },
  {
   "cell_type": "code",
   "execution_count": 1,
   "metadata": {},
   "outputs": [],
   "source": [
    "%matplotlib inline\n",
    "import numpy as np\n",
    "import pandas as pd\n",
    "import matplotlib.pyplot as plt\n",
    "import seaborn as sns\n",
    "import pymc3 as pm\n",
    "sns.set()\n",
    "\n",
    "from sklearn import preprocessing, model_selection\n",
    "from sklearn.metrics import make_scorer, confusion_matrix, f1_score, roc_auc_score"
   ]
  },
  {
   "cell_type": "code",
   "execution_count": 2,
   "metadata": {},
   "outputs": [],
   "source": [
    "import warnings\n",
    "warnings.filterwarnings(\"ignore\", module=\"mkl_fft\")\n",
    "warnings.filterwarnings(\"ignore\", module=\"matplotlib\")"
   ]
  },
  {
   "cell_type": "code",
   "execution_count": 65,
   "metadata": {},
   "outputs": [],
   "source": [
    "df = pd.read_csv('../data/merged.csv', parse_dates=['admit_date','discharge_date','dob','dod'])"
   ]
  },
  {
   "cell_type": "code",
   "execution_count": 4,
   "metadata": {},
   "outputs": [
    {
     "data": {
      "text/html": [
       "<div>\n",
       "<style scoped>\n",
       "    .dataframe tbody tr th:only-of-type {\n",
       "        vertical-align: middle;\n",
       "    }\n",
       "\n",
       "    .dataframe tbody tr th {\n",
       "        vertical-align: top;\n",
       "    }\n",
       "\n",
       "    .dataframe thead th {\n",
       "        text-align: right;\n",
       "    }\n",
       "</style>\n",
       "<table border=\"1\" class=\"dataframe\">\n",
       "  <thead>\n",
       "    <tr style=\"text-align: right;\">\n",
       "      <th></th>\n",
       "      <th>ruid</th>\n",
       "      <th>visit_id</th>\n",
       "      <th>admit_date</th>\n",
       "      <th>discharge_date</th>\n",
       "      <th>stay_length</th>\n",
       "      <th>n_transfers</th>\n",
       "      <th>readmit_time</th>\n",
       "      <th>readmit_30d</th>\n",
       "      <th>sex</th>\n",
       "      <th>dob</th>\n",
       "      <th>...</th>\n",
       "      <th>pcv</th>\n",
       "      <th>plt-ct</th>\n",
       "      <th>systolic</th>\n",
       "      <th>diastolic</th>\n",
       "      <th>bmi</th>\n",
       "      <th>pregnancy_indicator</th>\n",
       "      <th>egfr</th>\n",
       "      <th>age</th>\n",
       "      <th>total_encounters</th>\n",
       "      <th>group</th>\n",
       "    </tr>\n",
       "  </thead>\n",
       "  <tbody>\n",
       "    <tr>\n",
       "      <th>0</th>\n",
       "      <td>50135262</td>\n",
       "      <td>0</td>\n",
       "      <td>2007-02-08</td>\n",
       "      <td>2007-02-12</td>\n",
       "      <td>4</td>\n",
       "      <td>2</td>\n",
       "      <td>172 days 00:00:00.000000000</td>\n",
       "      <td>0</td>\n",
       "      <td>F</td>\n",
       "      <td>1949-09-20</td>\n",
       "      <td>...</td>\n",
       "      <td>32.0</td>\n",
       "      <td>334.0</td>\n",
       "      <td>140.0</td>\n",
       "      <td>58.0</td>\n",
       "      <td>44.710</td>\n",
       "      <td>0.0</td>\n",
       "      <td>123.677830</td>\n",
       "      <td>57.385352</td>\n",
       "      <td>10</td>\n",
       "      <td>train</td>\n",
       "    </tr>\n",
       "    <tr>\n",
       "      <th>1</th>\n",
       "      <td>50135262</td>\n",
       "      <td>1</td>\n",
       "      <td>2007-08-03</td>\n",
       "      <td>2007-08-06</td>\n",
       "      <td>3</td>\n",
       "      <td>3</td>\n",
       "      <td>22 days 00:00:00.000000000</td>\n",
       "      <td>1</td>\n",
       "      <td>F</td>\n",
       "      <td>1949-09-20</td>\n",
       "      <td>...</td>\n",
       "      <td>39.0</td>\n",
       "      <td>291.5</td>\n",
       "      <td>121.0</td>\n",
       "      <td>61.0</td>\n",
       "      <td>45.025</td>\n",
       "      <td>0.0</td>\n",
       "      <td>89.505000</td>\n",
       "      <td>57.867214</td>\n",
       "      <td>10</td>\n",
       "      <td>train</td>\n",
       "    </tr>\n",
       "    <tr>\n",
       "      <th>2</th>\n",
       "      <td>50135262</td>\n",
       "      <td>2</td>\n",
       "      <td>2007-08-28</td>\n",
       "      <td>2007-08-29</td>\n",
       "      <td>1</td>\n",
       "      <td>1</td>\n",
       "      <td>179 days 00:00:00.000000000</td>\n",
       "      <td>0</td>\n",
       "      <td>F</td>\n",
       "      <td>1949-09-20</td>\n",
       "      <td>...</td>\n",
       "      <td>38.0</td>\n",
       "      <td>308.0</td>\n",
       "      <td>131.0</td>\n",
       "      <td>60.0</td>\n",
       "      <td>46.230</td>\n",
       "      <td>0.0</td>\n",
       "      <td>107.450000</td>\n",
       "      <td>57.935661</td>\n",
       "      <td>10</td>\n",
       "      <td>train</td>\n",
       "    </tr>\n",
       "    <tr>\n",
       "      <th>3</th>\n",
       "      <td>50135262</td>\n",
       "      <td>3</td>\n",
       "      <td>2008-02-24</td>\n",
       "      <td>2008-02-28</td>\n",
       "      <td>4</td>\n",
       "      <td>2</td>\n",
       "      <td>44 days 00:00:00.000000000</td>\n",
       "      <td>0</td>\n",
       "      <td>F</td>\n",
       "      <td>1949-09-20</td>\n",
       "      <td>...</td>\n",
       "      <td>38.0</td>\n",
       "      <td>274.0</td>\n",
       "      <td>151.0</td>\n",
       "      <td>74.0</td>\n",
       "      <td>47.140</td>\n",
       "      <td>0.0</td>\n",
       "      <td>73.010770</td>\n",
       "      <td>58.428474</td>\n",
       "      <td>10</td>\n",
       "      <td>train</td>\n",
       "    </tr>\n",
       "    <tr>\n",
       "      <th>4</th>\n",
       "      <td>50135262</td>\n",
       "      <td>4</td>\n",
       "      <td>2008-04-12</td>\n",
       "      <td>2008-04-13</td>\n",
       "      <td>1</td>\n",
       "      <td>1</td>\n",
       "      <td>928 days 00:00:00.000000000</td>\n",
       "      <td>0</td>\n",
       "      <td>F</td>\n",
       "      <td>1949-09-20</td>\n",
       "      <td>...</td>\n",
       "      <td>36.0</td>\n",
       "      <td>330.0</td>\n",
       "      <td>134.0</td>\n",
       "      <td>66.0</td>\n",
       "      <td>47.360</td>\n",
       "      <td>0.0</td>\n",
       "      <td>84.358415</td>\n",
       "      <td>58.559890</td>\n",
       "      <td>10</td>\n",
       "      <td>train</td>\n",
       "    </tr>\n",
       "  </tbody>\n",
       "</table>\n",
       "<p>5 rows × 109 columns</p>\n",
       "</div>"
      ],
      "text/plain": [
       "       ruid  visit_id admit_date discharge_date  stay_length  n_transfers  \\\n",
       "0  50135262         0 2007-02-08     2007-02-12            4            2   \n",
       "1  50135262         1 2007-08-03     2007-08-06            3            3   \n",
       "2  50135262         2 2007-08-28     2007-08-29            1            1   \n",
       "3  50135262         3 2008-02-24     2008-02-28            4            2   \n",
       "4  50135262         4 2008-04-12     2008-04-13            1            1   \n",
       "\n",
       "                  readmit_time  readmit_30d sex        dob  ...     pcv  \\\n",
       "0  172 days 00:00:00.000000000            0   F 1949-09-20  ...    32.0   \n",
       "1   22 days 00:00:00.000000000            1   F 1949-09-20  ...    39.0   \n",
       "2  179 days 00:00:00.000000000            0   F 1949-09-20  ...    38.0   \n",
       "3   44 days 00:00:00.000000000            0   F 1949-09-20  ...    38.0   \n",
       "4  928 days 00:00:00.000000000            0   F 1949-09-20  ...    36.0   \n",
       "\n",
       "  plt-ct  systolic  diastolic     bmi  pregnancy_indicator        egfr  \\\n",
       "0  334.0     140.0       58.0  44.710                  0.0  123.677830   \n",
       "1  291.5     121.0       61.0  45.025                  0.0   89.505000   \n",
       "2  308.0     131.0       60.0  46.230                  0.0  107.450000   \n",
       "3  274.0     151.0       74.0  47.140                  0.0   73.010770   \n",
       "4  330.0     134.0       66.0  47.360                  0.0   84.358415   \n",
       "\n",
       "         age  total_encounters  group  \n",
       "0  57.385352                10  train  \n",
       "1  57.867214                10  train  \n",
       "2  57.935661                10  train  \n",
       "3  58.428474                10  train  \n",
       "4  58.559890                10  train  \n",
       "\n",
       "[5 rows x 109 columns]"
      ]
     },
     "execution_count": 4,
     "metadata": {},
     "output_type": "execute_result"
    }
   ],
   "source": [
    "df.head()"
   ]
  },
  {
   "cell_type": "code",
   "execution_count": 5,
   "metadata": {},
   "outputs": [
    {
     "data": {
      "text/plain": [
       "train    12912\n",
       "test      4229\n",
       "valid     3992\n",
       "Name: group, dtype: int64"
      ]
     },
     "execution_count": 5,
     "metadata": {},
     "output_type": "execute_result"
    }
   ],
   "source": [
    "df.group.value_counts()"
   ]
  },
  {
   "cell_type": "code",
   "execution_count": 66,
   "metadata": {},
   "outputs": [],
   "source": [
    "df.sex = (df.sex == 'M')*1\n",
    "df.drop('race',axis=1, inplace = True) # can't use this; there's just too few of some races for it to be meaningful"
   ]
  },
  {
   "cell_type": "code",
   "execution_count": 67,
   "metadata": {},
   "outputs": [],
   "source": [
    "df.columns = df.columns.str.replace(\" |,\",\"\").str.replace(\"-\",\"_\")"
   ]
  },
  {
   "cell_type": "code",
   "execution_count": 69,
   "metadata": {},
   "outputs": [],
   "source": [
    "id_vars = list(df.columns[0:3]) + ['total_encounters','group','dob','dod']\n",
    "meds = list(df.columns[df.columns.str.contains('med_')])\n",
    "cpts = list(df.columns[df.columns.str.contains('cpt_')])\n",
    "dx = list(df.columns[df.columns.str.contains('icd_dx')])\n",
    "labs = list(df.columns[df.columns.str.contains('lab_')])\n",
    "demos = ['age','sex']\n",
    "outcomes = ['readmit_time','readmit_30d']\n",
    "visit = cpts + ['n_transfers','stay_length','icd_proc','icd_visit']\n",
    "final_var = demos + dx + labs + visit # drop meds; can't use them\n",
    "trans_var = ['age'] + labs"
   ]
  },
  {
   "cell_type": "code",
   "execution_count": 60,
   "metadata": {},
   "outputs": [],
   "source": [
    "meds_desc = df[meds].describe()\n",
    "visit_desc = df[visit].describe()\n",
    "dx_desc = df[dx].describe()\n",
    "labs_desc = df[labs].describe()\n",
    "demos_desc = df[demos].describe()"
   ]
  },
  {
   "cell_type": "code",
   "execution_count": 70,
   "metadata": {},
   "outputs": [],
   "source": [
    "X = df[['readmit_30d'] + final_var + ['group']]"
   ]
  },
  {
   "cell_type": "code",
   "execution_count": 70,
   "metadata": {},
   "outputs": [],
   "source": [
    "scaler = StandardScaler()\n",
    "X[trans_vars] = scaler.fit_transform[X[trans_vars]]"
   ]
  },
  {
   "cell_type": "code",
   "execution_count": 71,
   "metadata": {},
   "outputs": [],
   "source": [
    "train = X[X.group=='train'].copy()\n",
    "train.drop(columns='group', inplace=True)\n",
    "\n",
    "valid = X[X.group=='valid'].copy()\n",
    "valid.drop(columns='group', inplace=True)\n",
    "\n",
    "test = X[X.group=='test'].copy()\n",
    "test.drop(columns='group', inplace=True)\n",
    "\n",
    "assert(X.shape[0]==(train.shape[0] + valid.shape[0] + test.shape[0]))"
   ]
  },
  {
   "cell_type": "code",
   "execution_count": 72,
   "metadata": {},
   "outputs": [],
   "source": [
    "train_red = train.dropna()"
   ]
  },
  {
   "cell_type": "code",
   "execution_count": 104,
   "metadata": {},
   "outputs": [],
   "source": [
    "def model_gen(outcome = 'readmit_30d', variables = final_var, data = train, draws = 1000):\n",
    "    import pymc3 as pm\n",
    "    import pymc3.glm as glm\n",
    "    \n",
    "    formula = outcome + ' ~ ' + ' + '.join(variables)\n",
    "    family = pm.glm.families.Binomial()\n",
    "    \n",
    "    with pm.Model() as model:\n",
    "        glm.GLM.from_formula(formula,data,family = family)\n",
    "    \n",
    "        start = pm.find_MAP()\n",
    "        \n",
    "        trace = pm.sample(draws, start = start)\n",
    "        \n",
    "    return model, trace"
   ]
  },
  {
   "cell_type": "code",
   "execution_count": null,
   "metadata": {},
   "outputs": [],
   "source": []
  }
 ],
 "metadata": {
  "kernelspec": {
   "display_name": "Python 3",
   "language": "python",
   "name": "python3"
  },
  "language_info": {
   "codemirror_mode": {
    "name": "ipython",
    "version": 3
   },
   "file_extension": ".py",
   "mimetype": "text/x-python",
   "name": "python",
   "nbconvert_exporter": "python",
   "pygments_lexer": "ipython3",
   "version": "3.6.7"
  }
 },
 "nbformat": 4,
 "nbformat_minor": 2
}
