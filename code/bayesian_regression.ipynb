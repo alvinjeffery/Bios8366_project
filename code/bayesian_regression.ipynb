{
 "cells": [
  {
   "cell_type": "markdown",
   "metadata": {},
   "source": [
    "## To-do list\n",
    "* Some cohort exploration based on deletion of subjects\n",
    "\n",
    "* Look at variable correlations & clustering (if possible) -- suspect eg that systolic/diastolic will cluster based on prev work & means we can get away with using a variable score or one but not the other\n",
    "\n",
    "* Create initial kitchen-sink model(s)\n",
    "    * Identifier variables: ruid, visit_id, admit_date, discharge_date\n",
    "    * Outcome variables: **readmit_30d**, readmit_time\n",
    "    * Fixed effects (initially): ICD9, CPTs, medications, race, stay length, sex, DOB/age, pregnancy indicator\n",
    "    * Random effects (initially): labs, number of transfers\n",
    "    * Try as both: # transfers, stay length\n",
    "\n",
    "* Model checking!!"
   ]
  },
  {
   "cell_type": "code",
   "execution_count": 7,
   "metadata": {},
   "outputs": [],
   "source": [
    "%matplotlib inline\n",
    "import numpy as np\n",
    "import pandas as pd\n",
    "import matplotlib.pyplot as plt\n",
    "import seaborn as sns\n",
    "import pymc3 as pm\n",
    "sns.set()\n",
    "\n",
    "from sklearn import preprocessing, model_selection\n",
    "from sklearn.metrics import make_scorer, confusion_matrix, f1_score, roc_auc_score"
   ]
  },
  {
   "cell_type": "code",
   "execution_count": 2,
   "metadata": {},
   "outputs": [],
   "source": [
    "df = pd.read_csv('../data/merged.csv')"
   ]
  },
  {
   "cell_type": "code",
   "execution_count": 3,
   "metadata": {},
   "outputs": [
    {
     "data": {
      "text/html": [
       "<div>\n",
       "<style scoped>\n",
       "    .dataframe tbody tr th:only-of-type {\n",
       "        vertical-align: middle;\n",
       "    }\n",
       "\n",
       "    .dataframe tbody tr th {\n",
       "        vertical-align: top;\n",
       "    }\n",
       "\n",
       "    .dataframe thead th {\n",
       "        text-align: right;\n",
       "    }\n",
       "</style>\n",
       "<table border=\"1\" class=\"dataframe\">\n",
       "  <thead>\n",
       "    <tr style=\"text-align: right;\">\n",
       "      <th></th>\n",
       "      <th>ruid</th>\n",
       "      <th>visit_id</th>\n",
       "      <th>admit_date</th>\n",
       "      <th>discharge_date</th>\n",
       "      <th>stay_length</th>\n",
       "      <th>n_transfers</th>\n",
       "      <th>readmit_time</th>\n",
       "      <th>readmit_30d</th>\n",
       "      <th>sex</th>\n",
       "      <th>dob</th>\n",
       "      <th>...</th>\n",
       "      <th>gluc</th>\n",
       "      <th>k</th>\n",
       "      <th>na</th>\n",
       "      <th>pcv</th>\n",
       "      <th>plt-ct</th>\n",
       "      <th>systolic</th>\n",
       "      <th>diastolic</th>\n",
       "      <th>bmi</th>\n",
       "      <th>pregnancy_indicator</th>\n",
       "      <th>egfr</th>\n",
       "    </tr>\n",
       "  </thead>\n",
       "  <tbody>\n",
       "    <tr>\n",
       "      <th>0</th>\n",
       "      <td>50135262</td>\n",
       "      <td>0</td>\n",
       "      <td>2007-02-08</td>\n",
       "      <td>2007-02-12</td>\n",
       "      <td>4 days 00:00:00.000000000</td>\n",
       "      <td>2</td>\n",
       "      <td>172 days 00:00:00.000000000</td>\n",
       "      <td>0</td>\n",
       "      <td>F</td>\n",
       "      <td>1949-09-20</td>\n",
       "      <td>...</td>\n",
       "      <td>138.0</td>\n",
       "      <td>4.40</td>\n",
       "      <td>136.0</td>\n",
       "      <td>32.0</td>\n",
       "      <td>334.0</td>\n",
       "      <td>140.0</td>\n",
       "      <td>58.0</td>\n",
       "      <td>44.710</td>\n",
       "      <td>0.0</td>\n",
       "      <td>123.677830</td>\n",
       "    </tr>\n",
       "    <tr>\n",
       "      <th>1</th>\n",
       "      <td>50135262</td>\n",
       "      <td>1</td>\n",
       "      <td>2007-08-03</td>\n",
       "      <td>2007-08-06</td>\n",
       "      <td>3 days 00:00:00.000000000</td>\n",
       "      <td>3</td>\n",
       "      <td>22 days 00:00:00.000000000</td>\n",
       "      <td>1</td>\n",
       "      <td>F</td>\n",
       "      <td>1949-09-20</td>\n",
       "      <td>...</td>\n",
       "      <td>213.5</td>\n",
       "      <td>4.45</td>\n",
       "      <td>135.0</td>\n",
       "      <td>39.0</td>\n",
       "      <td>291.5</td>\n",
       "      <td>121.0</td>\n",
       "      <td>61.0</td>\n",
       "      <td>45.025</td>\n",
       "      <td>0.0</td>\n",
       "      <td>89.505000</td>\n",
       "    </tr>\n",
       "    <tr>\n",
       "      <th>2</th>\n",
       "      <td>50135262</td>\n",
       "      <td>2</td>\n",
       "      <td>2007-08-28</td>\n",
       "      <td>2007-08-29</td>\n",
       "      <td>1 days 00:00:00.000000000</td>\n",
       "      <td>1</td>\n",
       "      <td>179 days 00:00:00.000000000</td>\n",
       "      <td>0</td>\n",
       "      <td>F</td>\n",
       "      <td>1949-09-20</td>\n",
       "      <td>...</td>\n",
       "      <td>266.0</td>\n",
       "      <td>3.90</td>\n",
       "      <td>139.0</td>\n",
       "      <td>38.0</td>\n",
       "      <td>308.0</td>\n",
       "      <td>131.0</td>\n",
       "      <td>60.0</td>\n",
       "      <td>46.230</td>\n",
       "      <td>0.0</td>\n",
       "      <td>107.450000</td>\n",
       "    </tr>\n",
       "    <tr>\n",
       "      <th>3</th>\n",
       "      <td>50135262</td>\n",
       "      <td>3</td>\n",
       "      <td>2008-02-24</td>\n",
       "      <td>2008-02-28</td>\n",
       "      <td>4 days 00:00:00.000000000</td>\n",
       "      <td>2</td>\n",
       "      <td>44 days 00:00:00.000000000</td>\n",
       "      <td>0</td>\n",
       "      <td>F</td>\n",
       "      <td>1949-09-20</td>\n",
       "      <td>...</td>\n",
       "      <td>230.0</td>\n",
       "      <td>4.00</td>\n",
       "      <td>135.0</td>\n",
       "      <td>38.0</td>\n",
       "      <td>274.0</td>\n",
       "      <td>151.0</td>\n",
       "      <td>74.0</td>\n",
       "      <td>47.140</td>\n",
       "      <td>0.0</td>\n",
       "      <td>73.010770</td>\n",
       "    </tr>\n",
       "    <tr>\n",
       "      <th>4</th>\n",
       "      <td>50135262</td>\n",
       "      <td>4</td>\n",
       "      <td>2008-04-12</td>\n",
       "      <td>2008-04-13</td>\n",
       "      <td>1 days 00:00:00.000000000</td>\n",
       "      <td>1</td>\n",
       "      <td>928 days 00:00:00.000000000</td>\n",
       "      <td>0</td>\n",
       "      <td>F</td>\n",
       "      <td>1949-09-20</td>\n",
       "      <td>...</td>\n",
       "      <td>162.0</td>\n",
       "      <td>4.10</td>\n",
       "      <td>139.0</td>\n",
       "      <td>36.0</td>\n",
       "      <td>330.0</td>\n",
       "      <td>134.0</td>\n",
       "      <td>66.0</td>\n",
       "      <td>47.360</td>\n",
       "      <td>0.0</td>\n",
       "      <td>84.358415</td>\n",
       "    </tr>\n",
       "  </tbody>\n",
       "</table>\n",
       "<p>5 rows × 66 columns</p>\n",
       "</div>"
      ],
      "text/plain": [
       "       ruid  visit_id  admit_date discharge_date                stay_length  \\\n",
       "0  50135262         0  2007-02-08     2007-02-12  4 days 00:00:00.000000000   \n",
       "1  50135262         1  2007-08-03     2007-08-06  3 days 00:00:00.000000000   \n",
       "2  50135262         2  2007-08-28     2007-08-29  1 days 00:00:00.000000000   \n",
       "3  50135262         3  2008-02-24     2008-02-28  4 days 00:00:00.000000000   \n",
       "4  50135262         4  2008-04-12     2008-04-13  1 days 00:00:00.000000000   \n",
       "\n",
       "   n_transfers                 readmit_time  readmit_30d sex         dob  \\\n",
       "0            2  172 days 00:00:00.000000000            0   F  1949-09-20   \n",
       "1            3   22 days 00:00:00.000000000            1   F  1949-09-20   \n",
       "2            1  179 days 00:00:00.000000000            0   F  1949-09-20   \n",
       "3            2   44 days 00:00:00.000000000            0   F  1949-09-20   \n",
       "4            1  928 days 00:00:00.000000000            0   F  1949-09-20   \n",
       "\n",
       "      ...       gluc     k     na   pcv  plt-ct  systolic  diastolic     bmi  \\\n",
       "0     ...      138.0  4.40  136.0  32.0   334.0     140.0       58.0  44.710   \n",
       "1     ...      213.5  4.45  135.0  39.0   291.5     121.0       61.0  45.025   \n",
       "2     ...      266.0  3.90  139.0  38.0   308.0     131.0       60.0  46.230   \n",
       "3     ...      230.0  4.00  135.0  38.0   274.0     151.0       74.0  47.140   \n",
       "4     ...      162.0  4.10  139.0  36.0   330.0     134.0       66.0  47.360   \n",
       "\n",
       "   pregnancy_indicator        egfr  \n",
       "0                  0.0  123.677830  \n",
       "1                  0.0   89.505000  \n",
       "2                  0.0  107.450000  \n",
       "3                  0.0   73.010770  \n",
       "4                  0.0   84.358415  \n",
       "\n",
       "[5 rows x 66 columns]"
      ]
     },
     "execution_count": 3,
     "metadata": {},
     "output_type": "execute_result"
    }
   ],
   "source": [
    "df.head()"
   ]
  },
  {
   "cell_type": "code",
   "execution_count": 5,
   "metadata": {},
   "outputs": [
    {
     "data": {
      "text/plain": [
       "(21041, 66)"
      ]
     },
     "execution_count": 5,
     "metadata": {},
     "output_type": "execute_result"
    }
   ],
   "source": [
    "df.shape"
   ]
  },
  {
   "cell_type": "code",
   "execution_count": 8,
   "metadata": {},
   "outputs": [
    {
     "data": {
      "text/plain": [
       "Index(['ruid', 'visit_id', 'admit_date', 'discharge_date', 'stay_length',\n",
       "       'n_transfers', 'readmit_time', 'readmit_30d', 'sex', 'dob', 'dod',\n",
       "       'race', 'cpt_anesthesia', 'cpt_eval_manage', 'cpt_expired',\n",
       "       'cpt_medicine', 'cpt_modifier', 'cpt_path_lab', 'cpt_radiology',\n",
       "       'cpt_surgery', 'cpt_unknown', 'icd_dx_blood', 'icd_dx_circulatory',\n",
       "       'icd_dx_congenital', 'icd_dx_digestive', 'icd_dx_endocrine',\n",
       "       'icd_dx_external', 'icd_dx_gu', 'icd_dx_infection', 'icd_dx_injury',\n",
       "       'icd_dx_mental', 'icd_dx_muscskel', 'icd_dx_neoplasm', 'icd_dx_nervous',\n",
       "       'icd_dx_obstetric', 'icd_dx_perinatal', 'icd_dx_respiratory',\n",
       "       'icd_dx_skin', 'icd_dx_symptoms', 'icd_proc', 'icd_visit',\n",
       "       'med_Antihypertensive Agents', 'med_Analgesics, Opioid',\n",
       "       'med_Narcotics', 'med_Antipyretics', 'med_Anti-Bacterial Agents',\n",
       "       'med_Anti-Inflammatory Agents, Non-Steroidal',\n",
       "       'med_Analgesics, Non-Narcotic', 'med_Antiemetics', 'med_Diuretics',\n",
       "       'med_Anti-Arrhythmia Agents', 'bun', 'co2', 'cl', 'creat', 'glubed',\n",
       "       'gluc', 'k', 'na', 'pcv', 'plt-ct', 'systolic', 'diastolic', 'bmi',\n",
       "       'pregnancy_indicator', 'egfr'],\n",
       "      dtype='object')"
      ]
     },
     "execution_count": 8,
     "metadata": {},
     "output_type": "execute_result"
    }
   ],
   "source": [
    "df.columns"
   ]
  },
  {
   "cell_type": "code",
   "execution_count": 9,
   "metadata": {},
   "outputs": [
    {
     "data": {
      "text/plain": [
       "630.0"
      ]
     },
     "execution_count": 9,
     "metadata": {},
     "output_type": "execute_result"
    }
   ],
   "source": [
    ".03*21000"
   ]
  },
  {
   "cell_type": "code",
   "execution_count": null,
   "metadata": {},
   "outputs": [],
   "source": []
  }
 ],
 "metadata": {
  "kernelspec": {
   "display_name": "Python 3",
   "language": "python",
   "name": "python3"
  },
  "language_info": {
   "codemirror_mode": {
    "name": "ipython",
    "version": 3
   },
   "file_extension": ".py",
   "mimetype": "text/x-python",
   "name": "python",
   "nbconvert_exporter": "python",
   "pygments_lexer": "ipython3",
   "version": "3.6.7"
  }
 },
 "nbformat": 4,
 "nbformat_minor": 2
}
