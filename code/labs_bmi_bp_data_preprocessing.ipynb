{
 "cells": [
  {
   "cell_type": "markdown",
   "metadata": {},
   "source": [
    "# labs_bmi_bp_data_preprocessing.ipynb"
   ]
  },
  {
   "cell_type": "markdown",
   "metadata": {},
   "source": [
    "**Primary Analyst:** Patrick Wu"
   ]
  },
  {
   "cell_type": "code",
   "execution_count": 1,
   "metadata": {},
   "outputs": [],
   "source": [
    "%matplotlib inline\n",
    "import numpy as np\n",
    "import pylab as plt\n",
    "import pandas as pd\n",
    "import seaborn as sns\n",
    "sns.set(style=\"darkgrid\")\n",
    "\n",
    "# Set seed\n",
    "np.random.seed(10011)"
   ]
  },
  {
   "cell_type": "markdown",
   "metadata": {},
   "source": [
    "## Helper functions"
   ]
  },
  {
   "cell_type": "code",
   "execution_count": 2,
   "metadata": {},
   "outputs": [],
   "source": [
    "# create function looking at top X number of labs\n",
    "def top_labs(labs_df,num_labs=10):\n",
    "    \n",
    "    \"\"\"function takes in lab in dataframe format and outputs \n",
    "    \n",
    "        :param labs_df = lab dataframe with columns = {'RUID','Lab_name','Lab_date','Lab_value'}\n",
    "        :param num_labs = top X of desired top labs to output from function, default = top 10\n",
    "        \n",
    "        :return = \n",
    "            top_num_labs: pandas dataframe with columns {'Lab_name','counts'} that contains only labs from top number of desired labs\n",
    "            top_pt_labs: pandas dataframe with columns {'RUID', 'Lab_name', 'Lab_date','Lab_value'} that contains only labs from top number of desired labs\n",
    "    \"\"\"\n",
    "    # preprocess lab dataframe to get sorted labs\n",
    "    top_labs = pd.DataFrame(labs_df[['Lab_name']].groupby(['Lab_name']).size()).reset_index()\n",
    "    top_labs.columns = ['Lab_name','counts']\n",
    "    top_labs1 = top_labs.sort_values(by='counts',ascending=False)\n",
    "    \n",
    "    # get dataframe with columns = {'Lab_name', 'counts'}\n",
    "    top_num_labs = top_labs1.iloc[0:int(num_labs),:]\n",
    "    \n",
    "    # create dataframe with only labs matching top labs\n",
    "    top_pt_labs = labs_df[labs_df['Lab_name'].isin(top_num_labs['Lab_name'])]\n",
    "    \n",
    "    return top_num_labs, top_pt_labs"
   ]
  },
  {
   "cell_type": "code",
   "execution_count": 3,
   "metadata": {},
   "outputs": [],
   "source": [
    "# write function to clean labs, to remove non-numeric values, etc.\n",
    "\n",
    "def cleanLabs(labsdf):\n",
    "    \n",
    "    # sort labs dataframe to identify non-numeric values\n",
    "    cleanlabs_df = labsdf.sort_values(by='lab_value',ascending=False)\n",
    "    \n",
    "    # convert non-numeric values to 'NaN'\n",
    "    cleanlabs_df['lab_value'] = pd.to_numeric(cleanlabs_df['lab_value'],errors='coerce')\n",
    "    \n",
    "    # remove rows with NaN for Lab_value\n",
    "    cleanlabs_df = cleanlabs_df[~cleanlabs_df['lab_value'].isna()]\n",
    "    \n",
    "    # return cleaned up labs dataframe\n",
    "    return cleanlabs_df"
   ]
  },
  {
   "cell_type": "code",
   "execution_count": 4,
   "metadata": {},
   "outputs": [],
   "source": [
    "# write function to clean labs, to remove non-numeric values, etc.\n",
    "# note that this differs from the cleanLabs() function, as rows with NaN are NOT removed\n",
    "\n",
    "def cleanLabs1(labsdf):\n",
    "    \n",
    "    # sort labs dataframe to identify non-numeric values\n",
    "    cleanlabs_df = labsdf.sort_values(by='lab_value',ascending=False)\n",
    "    \n",
    "    # convert non-numeric values to 'NaN'\n",
    "    cleanlabs_df['lab_value'] = pd.to_numeric(cleanlabs_df['lab_value'],errors='coerce')\n",
    "    \n",
    "    # return cleaned up labs dataframe\n",
    "    return cleanlabs_df"
   ]
  },
  {
   "cell_type": "code",
   "execution_count": 5,
   "metadata": {},
   "outputs": [],
   "source": [
    "# write function that returns merged table for labs with base_table\n",
    "def stat_values_labs(labs_df, base_table):\n",
    "    \n",
    "    # merge cleaned up labs df with match 'ruid' and 'hospital_day' with base table\n",
    "    labs_merged = pd.merge(labs_df, base_table, how='right', right_on=['ruid','hospital_day'], left_on=['ruid','lab_date'])\n",
    "    \n",
    "    # return merged df\n",
    "    return labs_merged"
   ]
  },
  {
   "cell_type": "code",
   "execution_count": 6,
   "metadata": {},
   "outputs": [],
   "source": [
    "def outlier_detection(lab_dataframe, lab_name):\n",
    "    \n",
    "    lab_df1 = lab_dataframe[lab_dataframe['lab_name']==lab_name]\n",
    "    \n",
    "    _ = plt.hist(lab_df1['lab_value'])\n",
    "    \n",
    "    lab_99 = np.nanpercentile(lab_df1['lab_value'], 99, interpolation='midpoint')\n",
    "    lab_1 = np.nanpercentile(lab_df1['lab_value'], 1, interpolation='midpoint')\n",
    "    \n",
    "    print(\"99% percentile for \",lab_name,\": \")\n",
    "    \n",
    "    return lab_99, lab_1"
   ]
  },
  {
   "cell_type": "code",
   "execution_count": 7,
   "metadata": {},
   "outputs": [],
   "source": [
    "dir = '../data/'"
   ]
  },
  {
   "cell_type": "markdown",
   "metadata": {},
   "source": [
    "## Aim #1: process labs to merge with base_table that has rows organized by 'ruid-visit_id' pairs"
   ]
  },
  {
   "cell_type": "code",
   "execution_count": 8,
   "metadata": {},
   "outputs": [
    {
     "data": {
      "text/html": [
       "<div>\n",
       "<style scoped>\n",
       "    .dataframe tbody tr th:only-of-type {\n",
       "        vertical-align: middle;\n",
       "    }\n",
       "\n",
       "    .dataframe tbody tr th {\n",
       "        vertical-align: top;\n",
       "    }\n",
       "\n",
       "    .dataframe thead th {\n",
       "        text-align: right;\n",
       "    }\n",
       "</style>\n",
       "<table border=\"1\" class=\"dataframe\">\n",
       "  <thead>\n",
       "    <tr style=\"text-align: right;\">\n",
       "      <th></th>\n",
       "      <th>RUID</th>\n",
       "      <th>Lab_name</th>\n",
       "      <th>Lab_date</th>\n",
       "      <th>Lab_value</th>\n",
       "    </tr>\n",
       "  </thead>\n",
       "  <tbody>\n",
       "    <tr>\n",
       "      <th>0</th>\n",
       "      <td>50135262</td>\n",
       "      <td>%SAT</td>\n",
       "      <td>04/13/2008</td>\n",
       "      <td>17</td>\n",
       "    </tr>\n",
       "    <tr>\n",
       "      <th>1</th>\n",
       "      <td>50135262</td>\n",
       "      <td>ABO</td>\n",
       "      <td>02/08/2007</td>\n",
       "      <td>A</td>\n",
       "    </tr>\n",
       "    <tr>\n",
       "      <th>2</th>\n",
       "      <td>50135262</td>\n",
       "      <td>ABO</td>\n",
       "      <td>02/24/2008</td>\n",
       "      <td>a</td>\n",
       "    </tr>\n",
       "    <tr>\n",
       "      <th>3</th>\n",
       "      <td>50135262</td>\n",
       "      <td>AN-GAP</td>\n",
       "      <td>02/08/2007</td>\n",
       "      <td>9</td>\n",
       "    </tr>\n",
       "    <tr>\n",
       "      <th>4</th>\n",
       "      <td>50135262</td>\n",
       "      <td>AN-GAP</td>\n",
       "      <td>02/11/2011</td>\n",
       "      <td>8</td>\n",
       "    </tr>\n",
       "  </tbody>\n",
       "</table>\n",
       "</div>"
      ],
      "text/plain": [
       "       RUID Lab_name    Lab_date Lab_value\n",
       "0  50135262     %SAT  04/13/2008        17\n",
       "1  50135262      ABO  02/08/2007         A\n",
       "2  50135262      ABO  02/24/2008         a\n",
       "3  50135262   AN-GAP  02/08/2007         9\n",
       "4  50135262   AN-GAP  02/11/2011         8"
      ]
     },
     "execution_count": 8,
     "metadata": {},
     "output_type": "execute_result"
    }
   ],
   "source": [
    "# import labs\n",
    "df_LAB = pd.read_csv(dir+'FONNESBECK_LAB_20151202.csv',sep=',',engine='python',quoting=3,dtype={'RUID': str})\n",
    "df_LAB.head()"
   ]
  },
  {
   "cell_type": "code",
   "execution_count": 9,
   "metadata": {},
   "outputs": [],
   "source": [
    "# top 20 labs\n",
    "top_num_labs, top_pt_labs = top_labs(df_LAB,20)"
   ]
  },
  {
   "cell_type": "code",
   "execution_count": 10,
   "metadata": {},
   "outputs": [
    {
     "data": {
      "text/html": [
       "<div>\n",
       "<style scoped>\n",
       "    .dataframe tbody tr th:only-of-type {\n",
       "        vertical-align: middle;\n",
       "    }\n",
       "\n",
       "    .dataframe tbody tr th {\n",
       "        vertical-align: top;\n",
       "    }\n",
       "\n",
       "    .dataframe thead th {\n",
       "        text-align: right;\n",
       "    }\n",
       "</style>\n",
       "<table border=\"1\" class=\"dataframe\">\n",
       "  <thead>\n",
       "    <tr style=\"text-align: right;\">\n",
       "      <th></th>\n",
       "      <th>Lab_name</th>\n",
       "      <th>counts</th>\n",
       "    </tr>\n",
       "  </thead>\n",
       "  <tbody>\n",
       "    <tr>\n",
       "      <th>1762</th>\n",
       "      <td>GluBed</td>\n",
       "      <td>252113</td>\n",
       "    </tr>\n",
       "    <tr>\n",
       "      <th>2218</th>\n",
       "      <td>K</td>\n",
       "      <td>238492</td>\n",
       "    </tr>\n",
       "    <tr>\n",
       "      <th>1154</th>\n",
       "      <td>Creat</td>\n",
       "      <td>233493</td>\n",
       "    </tr>\n",
       "    <tr>\n",
       "      <th>2609</th>\n",
       "      <td>Na</td>\n",
       "      <td>230471</td>\n",
       "    </tr>\n",
       "    <tr>\n",
       "      <th>2776</th>\n",
       "      <td>PCV</td>\n",
       "      <td>229964</td>\n",
       "    </tr>\n",
       "    <tr>\n",
       "      <th>592</th>\n",
       "      <td>BUN</td>\n",
       "      <td>226556</td>\n",
       "    </tr>\n",
       "    <tr>\n",
       "      <th>1765</th>\n",
       "      <td>Gluc</td>\n",
       "      <td>226554</td>\n",
       "    </tr>\n",
       "    <tr>\n",
       "      <th>926</th>\n",
       "      <td>CO2</td>\n",
       "      <td>226256</td>\n",
       "    </tr>\n",
       "    <tr>\n",
       "      <th>1070</th>\n",
       "      <td>Cl</td>\n",
       "      <td>226059</td>\n",
       "    </tr>\n",
       "    <tr>\n",
       "      <th>2920</th>\n",
       "      <td>Plt-Ct</td>\n",
       "      <td>215131</td>\n",
       "    </tr>\n",
       "    <tr>\n",
       "      <th>3891</th>\n",
       "      <td>WBC</td>\n",
       "      <td>213850</td>\n",
       "    </tr>\n",
       "    <tr>\n",
       "      <th>2025</th>\n",
       "      <td>Hgb</td>\n",
       "      <td>213328</td>\n",
       "    </tr>\n",
       "    <tr>\n",
       "      <th>3058</th>\n",
       "      <td>RBC</td>\n",
       "      <td>210475</td>\n",
       "    </tr>\n",
       "    <tr>\n",
       "      <th>2376</th>\n",
       "      <td>MCHC</td>\n",
       "      <td>209793</td>\n",
       "    </tr>\n",
       "    <tr>\n",
       "      <th>2375</th>\n",
       "      <td>MCH</td>\n",
       "      <td>209463</td>\n",
       "    </tr>\n",
       "    <tr>\n",
       "      <th>2378</th>\n",
       "      <td>MCV</td>\n",
       "      <td>207226</td>\n",
       "    </tr>\n",
       "    <tr>\n",
       "      <th>3067</th>\n",
       "      <td>RDW</td>\n",
       "      <td>207028</td>\n",
       "    </tr>\n",
       "    <tr>\n",
       "      <th>292</th>\n",
       "      <td>AN-GAP</td>\n",
       "      <td>205919</td>\n",
       "    </tr>\n",
       "    <tr>\n",
       "      <th>1002</th>\n",
       "      <td>Ca</td>\n",
       "      <td>198994</td>\n",
       "    </tr>\n",
       "    <tr>\n",
       "      <th>3069</th>\n",
       "      <td>RDWSD</td>\n",
       "      <td>117521</td>\n",
       "    </tr>\n",
       "  </tbody>\n",
       "</table>\n",
       "</div>"
      ],
      "text/plain": [
       "     Lab_name  counts\n",
       "1762   GluBed  252113\n",
       "2218        K  238492\n",
       "1154    Creat  233493\n",
       "2609       Na  230471\n",
       "2776      PCV  229964\n",
       "592       BUN  226556\n",
       "1765     Gluc  226554\n",
       "926       CO2  226256\n",
       "1070       Cl  226059\n",
       "2920   Plt-Ct  215131\n",
       "3891      WBC  213850\n",
       "2025      Hgb  213328\n",
       "3058      RBC  210475\n",
       "2376     MCHC  209793\n",
       "2375      MCH  209463\n",
       "2378      MCV  207226\n",
       "3067      RDW  207028\n",
       "292    AN-GAP  205919\n",
       "1002       Ca  198994\n",
       "3069    RDWSD  117521"
      ]
     },
     "execution_count": 10,
     "metadata": {},
     "output_type": "execute_result"
    }
   ],
   "source": [
    "top_num_labs"
   ]
  },
  {
   "cell_type": "markdown",
   "metadata": {},
   "source": [
    "based on these results, will use all labs from `GluBed` to `Ca`, since there's a big drop-off between `Ca` and `RDWSD`"
   ]
  },
  {
   "cell_type": "code",
   "execution_count": 11,
   "metadata": {},
   "outputs": [],
   "source": [
    "# get all labs from GluBed to Ca, i.e. filter RDWSD\n",
    "top_num_labs1, top_pt_labs1 = top_labs(df_LAB,19)"
   ]
  },
  {
   "cell_type": "code",
   "execution_count": 12,
   "metadata": {},
   "outputs": [
    {
     "data": {
      "text/plain": [
       "GluBed    252113\n",
       "K         238492\n",
       "Creat     233493\n",
       "Na        230471\n",
       "PCV       229964\n",
       "BUN       226556\n",
       "Gluc      226554\n",
       "CO2       226256\n",
       "Cl        226059\n",
       "Plt-Ct    215131\n",
       "WBC       213850\n",
       "Hgb       213328\n",
       "RBC       210475\n",
       "MCHC      209793\n",
       "MCH       209463\n",
       "MCV       207226\n",
       "RDW       207028\n",
       "AN-GAP    205919\n",
       "Ca        198994\n",
       "Name: Lab_name, dtype: int64"
      ]
     },
     "execution_count": 12,
     "metadata": {},
     "output_type": "execute_result"
    }
   ],
   "source": [
    "top_pt_labs1['Lab_name'].value_counts()"
   ]
  },
  {
   "cell_type": "code",
   "execution_count": 13,
   "metadata": {},
   "outputs": [
    {
     "data": {
      "text/html": [
       "<div>\n",
       "<style scoped>\n",
       "    .dataframe tbody tr th:only-of-type {\n",
       "        vertical-align: middle;\n",
       "    }\n",
       "\n",
       "    .dataframe tbody tr th {\n",
       "        vertical-align: top;\n",
       "    }\n",
       "\n",
       "    .dataframe thead th {\n",
       "        text-align: right;\n",
       "    }\n",
       "</style>\n",
       "<table border=\"1\" class=\"dataframe\">\n",
       "  <thead>\n",
       "    <tr style=\"text-align: right;\">\n",
       "      <th></th>\n",
       "      <th>ruid</th>\n",
       "      <th>lab_name</th>\n",
       "      <th>lab_date</th>\n",
       "      <th>lab_value</th>\n",
       "    </tr>\n",
       "  </thead>\n",
       "  <tbody>\n",
       "    <tr>\n",
       "      <th>3</th>\n",
       "      <td>50135262</td>\n",
       "      <td>AN-GAP</td>\n",
       "      <td>02/08/2007</td>\n",
       "      <td>9</td>\n",
       "    </tr>\n",
       "    <tr>\n",
       "      <th>4</th>\n",
       "      <td>50135262</td>\n",
       "      <td>AN-GAP</td>\n",
       "      <td>02/11/2011</td>\n",
       "      <td>8</td>\n",
       "    </tr>\n",
       "    <tr>\n",
       "      <th>5</th>\n",
       "      <td>50135262</td>\n",
       "      <td>AN-GAP</td>\n",
       "      <td>02/12/2011</td>\n",
       "      <td>6</td>\n",
       "    </tr>\n",
       "    <tr>\n",
       "      <th>6</th>\n",
       "      <td>50135262</td>\n",
       "      <td>AN-GAP</td>\n",
       "      <td>02/13/2007</td>\n",
       "      <td>9</td>\n",
       "    </tr>\n",
       "    <tr>\n",
       "      <th>7</th>\n",
       "      <td>50135262</td>\n",
       "      <td>AN-GAP</td>\n",
       "      <td>02/13/2011</td>\n",
       "      <td>8</td>\n",
       "    </tr>\n",
       "  </tbody>\n",
       "</table>\n",
       "</div>"
      ],
      "text/plain": [
       "       ruid lab_name    lab_date lab_value\n",
       "3  50135262   AN-GAP  02/08/2007         9\n",
       "4  50135262   AN-GAP  02/11/2011         8\n",
       "5  50135262   AN-GAP  02/12/2011         6\n",
       "6  50135262   AN-GAP  02/13/2007         9\n",
       "7  50135262   AN-GAP  02/13/2011         8"
      ]
     },
     "execution_count": 13,
     "metadata": {},
     "output_type": "execute_result"
    }
   ],
   "source": [
    "top_pt_labs1.columns = ['ruid','lab_name','lab_date','lab_value']\n",
    "top_pt_labs1.head()"
   ]
  },
  {
   "cell_type": "code",
   "execution_count": 14,
   "metadata": {},
   "outputs": [
    {
     "data": {
      "text/html": [
       "<div>\n",
       "<style scoped>\n",
       "    .dataframe tbody tr th:only-of-type {\n",
       "        vertical-align: middle;\n",
       "    }\n",
       "\n",
       "    .dataframe tbody tr th {\n",
       "        vertical-align: top;\n",
       "    }\n",
       "\n",
       "    .dataframe thead th {\n",
       "        text-align: right;\n",
       "    }\n",
       "</style>\n",
       "<table border=\"1\" class=\"dataframe\">\n",
       "  <thead>\n",
       "    <tr style=\"text-align: right;\">\n",
       "      <th></th>\n",
       "      <th>ruid</th>\n",
       "      <th>lab_name</th>\n",
       "      <th>lab_date</th>\n",
       "      <th>lab_value</th>\n",
       "    </tr>\n",
       "  </thead>\n",
       "  <tbody>\n",
       "    <tr>\n",
       "      <th>5503436</th>\n",
       "      <td>53732927</td>\n",
       "      <td>Plt-Ct</td>\n",
       "      <td>07/25/2013</td>\n",
       "      <td>NaN</td>\n",
       "    </tr>\n",
       "    <tr>\n",
       "      <th>6301228</th>\n",
       "      <td>53733765</td>\n",
       "      <td>Na</td>\n",
       "      <td>10/23/1999</td>\n",
       "      <td>NaN</td>\n",
       "    </tr>\n",
       "    <tr>\n",
       "      <th>2683342</th>\n",
       "      <td>53730260</td>\n",
       "      <td>CO2</td>\n",
       "      <td>02/10/2000</td>\n",
       "      <td>NaN</td>\n",
       "    </tr>\n",
       "    <tr>\n",
       "      <th>2684017</th>\n",
       "      <td>53730260</td>\n",
       "      <td>K</td>\n",
       "      <td>02/10/2000</td>\n",
       "      <td>NaN</td>\n",
       "    </tr>\n",
       "    <tr>\n",
       "      <th>2239788</th>\n",
       "      <td>53729811</td>\n",
       "      <td>Creat</td>\n",
       "      <td>05/26/2000</td>\n",
       "      <td>NaN</td>\n",
       "    </tr>\n",
       "  </tbody>\n",
       "</table>\n",
       "</div>"
      ],
      "text/plain": [
       "             ruid lab_name    lab_date  lab_value\n",
       "5503436  53732927   Plt-Ct  07/25/2013        NaN\n",
       "6301228  53733765       Na  10/23/1999        NaN\n",
       "2683342  53730260      CO2  02/10/2000        NaN\n",
       "2684017  53730260        K  02/10/2000        NaN\n",
       "2239788  53729811    Creat  05/26/2000        NaN"
      ]
     },
     "execution_count": 14,
     "metadata": {},
     "output_type": "execute_result"
    }
   ],
   "source": [
    "# clean labs, i.e. lab_value  to NaN if not numeric\n",
    "top_pt_labs2 = cleanLabs1(top_pt_labs1)\n",
    "top_pt_labs2.head()"
   ]
  },
  {
   "cell_type": "code",
   "execution_count": 15,
   "metadata": {},
   "outputs": [
    {
     "data": {
      "text/plain": [
       "ruid             0\n",
       "lab_name         0\n",
       "lab_date         0\n",
       "lab_value    18659\n",
       "dtype: int64"
      ]
     },
     "execution_count": 15,
     "metadata": {},
     "output_type": "execute_result"
    }
   ],
   "source": [
    "top_pt_labs2.isna().sum()"
   ]
  },
  {
   "cell_type": "code",
   "execution_count": 16,
   "metadata": {},
   "outputs": [
    {
     "data": {
      "text/plain": [
       "(4181165, 4)"
      ]
     },
     "execution_count": 16,
     "metadata": {},
     "output_type": "execute_result"
    }
   ],
   "source": [
    "top_pt_labs2.shape"
   ]
  },
  {
   "cell_type": "code",
   "execution_count": 17,
   "metadata": {},
   "outputs": [],
   "source": [
    "# read in base table that I will use for merging\n",
    "base_table = pd.read_pickle(dir+'adt_cms_final.pkl')"
   ]
  },
  {
   "cell_type": "code",
   "execution_count": 18,
   "metadata": {},
   "outputs": [
    {
     "data": {
      "text/html": [
       "<div>\n",
       "<style scoped>\n",
       "    .dataframe tbody tr th:only-of-type {\n",
       "        vertical-align: middle;\n",
       "    }\n",
       "\n",
       "    .dataframe tbody tr th {\n",
       "        vertical-align: top;\n",
       "    }\n",
       "\n",
       "    .dataframe thead th {\n",
       "        text-align: right;\n",
       "    }\n",
       "</style>\n",
       "<table border=\"1\" class=\"dataframe\">\n",
       "  <thead>\n",
       "    <tr style=\"text-align: right;\">\n",
       "      <th></th>\n",
       "      <th>ruid</th>\n",
       "      <th>visit_id</th>\n",
       "      <th>admit_date</th>\n",
       "      <th>discharge_date</th>\n",
       "      <th>hospital_day</th>\n",
       "      <th>stay_length</th>\n",
       "      <th>n_transfers</th>\n",
       "      <th>readmit_time</th>\n",
       "      <th>readmit_30d</th>\n",
       "    </tr>\n",
       "  </thead>\n",
       "  <tbody>\n",
       "    <tr>\n",
       "      <th>0</th>\n",
       "      <td>50135262</td>\n",
       "      <td>0</td>\n",
       "      <td>2007-02-08</td>\n",
       "      <td>2007-02-12</td>\n",
       "      <td>2007-02-08</td>\n",
       "      <td>4 days</td>\n",
       "      <td>2</td>\n",
       "      <td>172 days</td>\n",
       "      <td>0</td>\n",
       "    </tr>\n",
       "    <tr>\n",
       "      <th>1</th>\n",
       "      <td>50135262</td>\n",
       "      <td>0</td>\n",
       "      <td>2007-02-08</td>\n",
       "      <td>2007-02-12</td>\n",
       "      <td>2007-02-09</td>\n",
       "      <td>4 days</td>\n",
       "      <td>2</td>\n",
       "      <td>172 days</td>\n",
       "      <td>0</td>\n",
       "    </tr>\n",
       "    <tr>\n",
       "      <th>2</th>\n",
       "      <td>50135262</td>\n",
       "      <td>0</td>\n",
       "      <td>2007-02-08</td>\n",
       "      <td>2007-02-12</td>\n",
       "      <td>2007-02-10</td>\n",
       "      <td>4 days</td>\n",
       "      <td>2</td>\n",
       "      <td>172 days</td>\n",
       "      <td>0</td>\n",
       "    </tr>\n",
       "    <tr>\n",
       "      <th>3</th>\n",
       "      <td>50135262</td>\n",
       "      <td>0</td>\n",
       "      <td>2007-02-08</td>\n",
       "      <td>2007-02-12</td>\n",
       "      <td>2007-02-11</td>\n",
       "      <td>4 days</td>\n",
       "      <td>2</td>\n",
       "      <td>172 days</td>\n",
       "      <td>0</td>\n",
       "    </tr>\n",
       "    <tr>\n",
       "      <th>4</th>\n",
       "      <td>50135262</td>\n",
       "      <td>0</td>\n",
       "      <td>2007-02-08</td>\n",
       "      <td>2007-02-12</td>\n",
       "      <td>2007-02-12</td>\n",
       "      <td>4 days</td>\n",
       "      <td>2</td>\n",
       "      <td>172 days</td>\n",
       "      <td>0</td>\n",
       "    </tr>\n",
       "  </tbody>\n",
       "</table>\n",
       "</div>"
      ],
      "text/plain": [
       "       ruid  visit_id admit_date discharge_date hospital_day stay_length  \\\n",
       "0  50135262         0 2007-02-08     2007-02-12   2007-02-08      4 days   \n",
       "1  50135262         0 2007-02-08     2007-02-12   2007-02-09      4 days   \n",
       "2  50135262         0 2007-02-08     2007-02-12   2007-02-10      4 days   \n",
       "3  50135262         0 2007-02-08     2007-02-12   2007-02-11      4 days   \n",
       "4  50135262         0 2007-02-08     2007-02-12   2007-02-12      4 days   \n",
       "\n",
       "   n_transfers readmit_time  readmit_30d  \n",
       "0            2     172 days            0  \n",
       "1            2     172 days            0  \n",
       "2            2     172 days            0  \n",
       "3            2     172 days            0  \n",
       "4            2     172 days            0  "
      ]
     },
     "execution_count": 18,
     "metadata": {},
     "output_type": "execute_result"
    }
   ],
   "source": [
    "base_table.head()"
   ]
  },
  {
   "cell_type": "code",
   "execution_count": 19,
   "metadata": {},
   "outputs": [
    {
     "data": {
      "text/html": [
       "<div>\n",
       "<style scoped>\n",
       "    .dataframe tbody tr th:only-of-type {\n",
       "        vertical-align: middle;\n",
       "    }\n",
       "\n",
       "    .dataframe tbody tr th {\n",
       "        vertical-align: top;\n",
       "    }\n",
       "\n",
       "    .dataframe thead th {\n",
       "        text-align: right;\n",
       "    }\n",
       "</style>\n",
       "<table border=\"1\" class=\"dataframe\">\n",
       "  <thead>\n",
       "    <tr style=\"text-align: right;\">\n",
       "      <th></th>\n",
       "      <th>ruid</th>\n",
       "      <th>visit_id</th>\n",
       "      <th>hospital_day</th>\n",
       "    </tr>\n",
       "  </thead>\n",
       "  <tbody>\n",
       "    <tr>\n",
       "      <th>0</th>\n",
       "      <td>50135262</td>\n",
       "      <td>0</td>\n",
       "      <td>2007-02-08</td>\n",
       "    </tr>\n",
       "    <tr>\n",
       "      <th>1</th>\n",
       "      <td>50135262</td>\n",
       "      <td>0</td>\n",
       "      <td>2007-02-09</td>\n",
       "    </tr>\n",
       "    <tr>\n",
       "      <th>2</th>\n",
       "      <td>50135262</td>\n",
       "      <td>0</td>\n",
       "      <td>2007-02-10</td>\n",
       "    </tr>\n",
       "    <tr>\n",
       "      <th>3</th>\n",
       "      <td>50135262</td>\n",
       "      <td>0</td>\n",
       "      <td>2007-02-11</td>\n",
       "    </tr>\n",
       "    <tr>\n",
       "      <th>4</th>\n",
       "      <td>50135262</td>\n",
       "      <td>0</td>\n",
       "      <td>2007-02-12</td>\n",
       "    </tr>\n",
       "  </tbody>\n",
       "</table>\n",
       "</div>"
      ],
      "text/plain": [
       "       ruid  visit_id hospital_day\n",
       "0  50135262         0   2007-02-08\n",
       "1  50135262         0   2007-02-09\n",
       "2  50135262         0   2007-02-10\n",
       "3  50135262         0   2007-02-11\n",
       "4  50135262         0   2007-02-12"
      ]
     },
     "execution_count": 19,
     "metadata": {},
     "output_type": "execute_result"
    }
   ],
   "source": [
    "base_table = base_table[['ruid','visit_id','hospital_day']]\n",
    "base_table.head()"
   ]
  },
  {
   "cell_type": "code",
   "execution_count": 20,
   "metadata": {},
   "outputs": [],
   "source": [
    "top_pt_labs3 = top_pt_labs2.copy()\n",
    "top_pt_labs3['lab_date'] = pd.to_datetime(top_pt_labs3['lab_date'], infer_datetime_format=True)"
   ]
  },
  {
   "cell_type": "code",
   "execution_count": 21,
   "metadata": {},
   "outputs": [],
   "source": [
    "labs_merged = stat_values_labs(top_pt_labs3, base_table)"
   ]
  },
  {
   "cell_type": "code",
   "execution_count": 22,
   "metadata": {},
   "outputs": [
    {
     "data": {
      "text/plain": [
       "GluBed    195640\n",
       "K         105807\n",
       "Creat     101488\n",
       "Na         99744\n",
       "Gluc       99521\n",
       "PCV        98626\n",
       "CO2        98172\n",
       "Cl         97929\n",
       "BUN        97509\n",
       "AN-GAP     97319\n",
       "Plt-Ct     94594\n",
       "WBC        91173\n",
       "RBC        90898\n",
       "Hgb        90570\n",
       "MCHC       90423\n",
       "MCH        90151\n",
       "RDW        89502\n",
       "MCV        88022\n",
       "Ca         83371\n",
       "Name: lab_name, dtype: int64"
      ]
     },
     "execution_count": 22,
     "metadata": {},
     "output_type": "execute_result"
    }
   ],
   "source": [
    "labs_merged['lab_name'].value_counts()"
   ]
  },
  {
   "cell_type": "markdown",
   "metadata": {},
   "source": [
    "## Aim #2: clean labs"
   ]
  },
  {
   "cell_type": "markdown",
   "metadata": {},
   "source": [
    "1) convert outliers in GluBed to NaN "
   ]
  },
  {
   "cell_type": "code",
   "execution_count": 23,
   "metadata": {},
   "outputs": [
    {
     "name": "stdout",
     "output_type": "stream",
     "text": [
      "99% percentile for  GluBed : \n"
     ]
    },
    {
     "name": "stderr",
     "output_type": "stream",
     "text": [
      "/anaconda3/envs/bios8366/lib/python3.6/site-packages/numpy/lib/histograms.py:754: RuntimeWarning: invalid value encountered in greater_equal\n",
      "  keep = (tmp_a >= first_edge)\n",
      "/anaconda3/envs/bios8366/lib/python3.6/site-packages/numpy/lib/histograms.py:755: RuntimeWarning: invalid value encountered in less_equal\n",
      "  keep &= (tmp_a <= last_edge)\n"
     ]
    },
    {
     "data": {
      "text/plain": [
       "(422.0, 54.0)"
      ]
     },
     "execution_count": 23,
     "metadata": {},
     "output_type": "execute_result"
    },
    {
     "data": {
      "image/png": "[encoded data removed]",
      "text/plain": [
       "<Figure size 432x288 with 1 Axes>"
      ]
     },
     "metadata": {
      "needs_background": "light"
     },
     "output_type": "display_data"
    }
   ],
   "source": [
    "outlier_detection(labs_merged, 'GluBed')"
   ]
  },
  {
   "cell_type": "markdown",
   "metadata": {},
   "source": [
    "so convert values <50 and >400 to NaN"
   ]
  },
  {
   "cell_type": "code",
   "execution_count": 24,
   "metadata": {},
   "outputs": [],
   "source": [
    "# create initial pandas dataframe to which I will concat additional modified dataframes for the other labs\n",
    "\n",
    "# get all GluBed records from labs_merged df\n",
    "labs = labs_merged[labs_merged.lab_name=='GluBed']"
   ]
  },
  {
   "cell_type": "code",
   "execution_count": 25,
   "metadata": {},
   "outputs": [
    {
     "data": {
      "text/plain": [
       "ruid              0\n",
       "lab_name          0\n",
       "lab_date          0\n",
       "lab_value       729\n",
       "visit_id          0\n",
       "hospital_day      0\n",
       "dtype: int64"
      ]
     },
     "execution_count": 25,
     "metadata": {},
     "output_type": "execute_result"
    }
   ],
   "source": [
    "labs.isna().sum()"
   ]
  },
  {
   "cell_type": "code",
   "execution_count": 26,
   "metadata": {},
   "outputs": [
    {
     "name": "stderr",
     "output_type": "stream",
     "text": [
      "/anaconda3/envs/bios8366/lib/python3.6/site-packages/ipykernel_launcher.py:2: SettingWithCopyWarning: \n",
      "A value is trying to be set on a copy of a slice from a DataFrame\n",
      "\n",
      "See the caveats in the documentation: http://pandas.pydata.org/pandas-docs/stable/indexing.html#indexing-view-versus-copy\n",
      "  \n",
      "/anaconda3/envs/bios8366/lib/python3.6/site-packages/pandas/core/generic.py:7626: SettingWithCopyWarning: \n",
      "A value is trying to be set on a copy of a slice from a DataFrame\n",
      "\n",
      "See the caveats in the documentation: http://pandas.pydata.org/pandas-docs/stable/indexing.html#indexing-view-versus-copy\n",
      "  self._update_inplace(new_data)\n",
      "/anaconda3/envs/bios8366/lib/python3.6/site-packages/IPython/core/interactiveshell.py:3267: SettingWithCopyWarning: \n",
      "A value is trying to be set on a copy of a slice from a DataFrame\n",
      "\n",
      "See the caveats in the documentation: http://pandas.pydata.org/pandas-docs/stable/indexing.html#indexing-view-versus-copy\n",
      "  exec(code_obj, self.user_global_ns, self.user_ns)\n",
      "/anaconda3/envs/bios8366/lib/python3.6/site-packages/ipykernel_launcher.py:5: SettingWithCopyWarning: \n",
      "A value is trying to be set on a copy of a slice from a DataFrame\n",
      "\n",
      "See the caveats in the documentation: http://pandas.pydata.org/pandas-docs/stable/indexing.html#indexing-view-versus-copy\n",
      "  \"\"\"\n"
     ]
    },
    {
     "data": {
      "text/plain": [
       "ruid               0\n",
       "lab_name           0\n",
       "lab_date           0\n",
       "lab_value       4787\n",
       "visit_id           0\n",
       "hospital_day       0\n",
       "dtype: int64"
      ]
     },
     "execution_count": 26,
     "metadata": {},
     "output_type": "execute_result"
    }
   ],
   "source": [
    "# convert GluBed values >400 to NaN\n",
    "labs['lab_value'][labs['lab_value']>400] = np.nan\n",
    "\n",
    "# convert GluBed values <60 to NaN\n",
    "labs['lab_value'][labs['lab_value']<50] = np.nan\n",
    "\n",
    "labs.isna().sum()"
   ]
  },
  {
   "cell_type": "code",
   "execution_count": 27,
   "metadata": {},
   "outputs": [
    {
     "data": {
      "text/html": [
       "<div>\n",
       "<style scoped>\n",
       "    .dataframe tbody tr th:only-of-type {\n",
       "        vertical-align: middle;\n",
       "    }\n",
       "\n",
       "    .dataframe tbody tr th {\n",
       "        vertical-align: top;\n",
       "    }\n",
       "\n",
       "    .dataframe thead th {\n",
       "        text-align: right;\n",
       "    }\n",
       "</style>\n",
       "<table border=\"1\" class=\"dataframe\">\n",
       "  <thead>\n",
       "    <tr style=\"text-align: right;\">\n",
       "      <th></th>\n",
       "      <th>lab_value</th>\n",
       "      <th>visit_id</th>\n",
       "    </tr>\n",
       "  </thead>\n",
       "  <tbody>\n",
       "    <tr>\n",
       "      <th>count</th>\n",
       "      <td>190853.000000</td>\n",
       "      <td>195640.000000</td>\n",
       "    </tr>\n",
       "    <tr>\n",
       "      <th>mean</th>\n",
       "      <td>157.404227</td>\n",
       "      <td>4.268094</td>\n",
       "    </tr>\n",
       "    <tr>\n",
       "      <th>std</th>\n",
       "      <td>62.622005</td>\n",
       "      <td>6.172680</td>\n",
       "    </tr>\n",
       "    <tr>\n",
       "      <th>min</th>\n",
       "      <td>50.000000</td>\n",
       "      <td>0.000000</td>\n",
       "    </tr>\n",
       "    <tr>\n",
       "      <th>25%</th>\n",
       "      <td>114.000000</td>\n",
       "      <td>0.000000</td>\n",
       "    </tr>\n",
       "    <tr>\n",
       "      <th>50%</th>\n",
       "      <td>142.000000</td>\n",
       "      <td>2.000000</td>\n",
       "    </tr>\n",
       "    <tr>\n",
       "      <th>75%</th>\n",
       "      <td>186.000000</td>\n",
       "      <td>6.000000</td>\n",
       "    </tr>\n",
       "    <tr>\n",
       "      <th>max</th>\n",
       "      <td>400.000000</td>\n",
       "      <td>55.000000</td>\n",
       "    </tr>\n",
       "  </tbody>\n",
       "</table>\n",
       "</div>"
      ],
      "text/plain": [
       "           lab_value       visit_id\n",
       "count  190853.000000  195640.000000\n",
       "mean      157.404227       4.268094\n",
       "std        62.622005       6.172680\n",
       "min        50.000000       0.000000\n",
       "25%       114.000000       0.000000\n",
       "50%       142.000000       2.000000\n",
       "75%       186.000000       6.000000\n",
       "max       400.000000      55.000000"
      ]
     },
     "execution_count": 27,
     "metadata": {},
     "output_type": "execute_result"
    }
   ],
   "source": [
    "labs.describe()"
   ]
  },
  {
   "cell_type": "markdown",
   "metadata": {},
   "source": [
    "2) convert outliers in `K` to NaN"
   ]
  },
  {
   "cell_type": "code",
   "execution_count": 28,
   "metadata": {},
   "outputs": [
    {
     "name": "stdout",
     "output_type": "stream",
     "text": [
      "99% percentile for  K : \n"
     ]
    },
    {
     "data": {
      "text/plain": [
       "(6.0, 2.7)"
      ]
     },
     "execution_count": 28,
     "metadata": {},
     "output_type": "execute_result"
    },
    {
     "data": {
      "image/png": "[encoded data removed]",
      "text/plain": [
       "<Figure size 432x288 with 1 Axes>"
      ]
     },
     "metadata": {
      "needs_background": "light"
     },
     "output_type": "display_data"
    }
   ],
   "source": [
    "outlier_detection(labs_merged, 'K')"
   ]
  },
  {
   "cell_type": "markdown",
   "metadata": {},
   "source": [
    "so convert `K` values >6.0 or <2.0 to NaN"
   ]
  },
  {
   "cell_type": "code",
   "execution_count": 29,
   "metadata": {},
   "outputs": [],
   "source": [
    "labs_k = labs_merged[labs_merged.lab_name=='K']"
   ]
  },
  {
   "cell_type": "code",
   "execution_count": 30,
   "metadata": {},
   "outputs": [
    {
     "data": {
      "text/html": [
       "<div>\n",
       "<style scoped>\n",
       "    .dataframe tbody tr th:only-of-type {\n",
       "        vertical-align: middle;\n",
       "    }\n",
       "\n",
       "    .dataframe tbody tr th {\n",
       "        vertical-align: top;\n",
       "    }\n",
       "\n",
       "    .dataframe thead th {\n",
       "        text-align: right;\n",
       "    }\n",
       "</style>\n",
       "<table border=\"1\" class=\"dataframe\">\n",
       "  <thead>\n",
       "    <tr style=\"text-align: right;\">\n",
       "      <th></th>\n",
       "      <th>lab_value</th>\n",
       "      <th>visit_id</th>\n",
       "    </tr>\n",
       "  </thead>\n",
       "  <tbody>\n",
       "    <tr>\n",
       "      <th>count</th>\n",
       "      <td>105405.000000</td>\n",
       "      <td>105807.000000</td>\n",
       "    </tr>\n",
       "    <tr>\n",
       "      <th>mean</th>\n",
       "      <td>4.000900</td>\n",
       "      <td>5.303137</td>\n",
       "    </tr>\n",
       "    <tr>\n",
       "      <th>std</th>\n",
       "      <td>0.660934</td>\n",
       "      <td>8.928306</td>\n",
       "    </tr>\n",
       "    <tr>\n",
       "      <th>min</th>\n",
       "      <td>1.000000</td>\n",
       "      <td>0.000000</td>\n",
       "    </tr>\n",
       "    <tr>\n",
       "      <th>25%</th>\n",
       "      <td>3.600000</td>\n",
       "      <td>0.000000</td>\n",
       "    </tr>\n",
       "    <tr>\n",
       "      <th>50%</th>\n",
       "      <td>3.900000</td>\n",
       "      <td>2.000000</td>\n",
       "    </tr>\n",
       "    <tr>\n",
       "      <th>75%</th>\n",
       "      <td>4.300000</td>\n",
       "      <td>6.000000</td>\n",
       "    </tr>\n",
       "    <tr>\n",
       "      <th>max</th>\n",
       "      <td>13.100000</td>\n",
       "      <td>100.000000</td>\n",
       "    </tr>\n",
       "  </tbody>\n",
       "</table>\n",
       "</div>"
      ],
      "text/plain": [
       "           lab_value       visit_id\n",
       "count  105405.000000  105807.000000\n",
       "mean        4.000900       5.303137\n",
       "std         0.660934       8.928306\n",
       "min         1.000000       0.000000\n",
       "25%         3.600000       0.000000\n",
       "50%         3.900000       2.000000\n",
       "75%         4.300000       6.000000\n",
       "max        13.100000     100.000000"
      ]
     },
     "execution_count": 30,
     "metadata": {},
     "output_type": "execute_result"
    }
   ],
   "source": [
    "labs_k.describe()"
   ]
  },
  {
   "cell_type": "markdown",
   "metadata": {},
   "source": [
    "for efficiency purposes, create new `outlier_conversion` function "
   ]
  },
  {
   "cell_type": "code",
   "execution_count": 31,
   "metadata": {},
   "outputs": [],
   "source": [
    "def outlier_conversion(df, labs, low_cutoff, high_cutoff):\n",
    "    \n",
    "    \"\"\"\n",
    "    This function takes in subset from labs_merged df and outputs converted df with upper and lower cut-offs converted to NaN\n",
    "    \n",
    "    Input\n",
    "    :param df = labs dataframe subset\n",
    "    :param labs = base labs table with outliers removed\n",
    "    :param low_cutoff = lower boundary cut-off for transformation to NaN\n",
    "    :param high_cutoff = upper boundary cut-off for transformation to NaN \n",
    "    \n",
    "    Output\n",
    "    :variable df_lab = same dataframe with selected lab_values transformed to NaN\n",
    "    :variable labs = df_lab concatenated to base labs dataframe that has outliers removed\n",
    "    \"\"\"\n",
    "    \n",
    "    df_lab = df.copy()\n",
    "    \n",
    "    # convert lab values >high_cutoff to NaN\n",
    "    df_lab['lab_value'][df_lab['lab_value']>high_cutoff] = np.nan\n",
    "\n",
    "    # convert lab values <low_cutoff to NaN\n",
    "    df_lab['lab_value'][df_lab['lab_value']<low_cutoff] = np.nan\n",
    "    \n",
    "    # concatenates to base lab dataframe\n",
    "    labs = pd.concat([df_lab,labs])\n",
    "\n",
    "    return df_lab, labs"
   ]
  },
  {
   "cell_type": "code",
   "execution_count": 32,
   "metadata": {},
   "outputs": [
    {
     "name": "stderr",
     "output_type": "stream",
     "text": [
      "/anaconda3/envs/bios8366/lib/python3.6/site-packages/ipykernel_launcher.py:20: SettingWithCopyWarning: \n",
      "A value is trying to be set on a copy of a slice from a DataFrame\n",
      "\n",
      "See the caveats in the documentation: http://pandas.pydata.org/pandas-docs/stable/indexing.html#indexing-view-versus-copy\n",
      "/anaconda3/envs/bios8366/lib/python3.6/site-packages/ipykernel_launcher.py:23: SettingWithCopyWarning: \n",
      "A value is trying to be set on a copy of a slice from a DataFrame\n",
      "\n",
      "See the caveats in the documentation: http://pandas.pydata.org/pandas-docs/stable/indexing.html#indexing-view-versus-copy\n"
     ]
    }
   ],
   "source": [
    "labs_k, labs = outlier_conversion(labs_k,labs,2,6)"
   ]
  },
  {
   "cell_type": "code",
   "execution_count": 33,
   "metadata": {},
   "outputs": [
    {
     "data": {
      "text/html": [
       "<div>\n",
       "<style scoped>\n",
       "    .dataframe tbody tr th:only-of-type {\n",
       "        vertical-align: middle;\n",
       "    }\n",
       "\n",
       "    .dataframe tbody tr th {\n",
       "        vertical-align: top;\n",
       "    }\n",
       "\n",
       "    .dataframe thead th {\n",
       "        text-align: right;\n",
       "    }\n",
       "</style>\n",
       "<table border=\"1\" class=\"dataframe\">\n",
       "  <thead>\n",
       "    <tr style=\"text-align: right;\">\n",
       "      <th></th>\n",
       "      <th>lab_value</th>\n",
       "      <th>visit_id</th>\n",
       "    </tr>\n",
       "  </thead>\n",
       "  <tbody>\n",
       "    <tr>\n",
       "      <th>count</th>\n",
       "      <td>104327.000000</td>\n",
       "      <td>105807.000000</td>\n",
       "    </tr>\n",
       "    <tr>\n",
       "      <th>mean</th>\n",
       "      <td>3.975162</td>\n",
       "      <td>5.303137</td>\n",
       "    </tr>\n",
       "    <tr>\n",
       "      <th>std</th>\n",
       "      <td>0.600100</td>\n",
       "      <td>8.928306</td>\n",
       "    </tr>\n",
       "    <tr>\n",
       "      <th>min</th>\n",
       "      <td>2.000000</td>\n",
       "      <td>0.000000</td>\n",
       "    </tr>\n",
       "    <tr>\n",
       "      <th>25%</th>\n",
       "      <td>3.600000</td>\n",
       "      <td>0.000000</td>\n",
       "    </tr>\n",
       "    <tr>\n",
       "      <th>50%</th>\n",
       "      <td>3.900000</td>\n",
       "      <td>2.000000</td>\n",
       "    </tr>\n",
       "    <tr>\n",
       "      <th>75%</th>\n",
       "      <td>4.300000</td>\n",
       "      <td>6.000000</td>\n",
       "    </tr>\n",
       "    <tr>\n",
       "      <th>max</th>\n",
       "      <td>6.000000</td>\n",
       "      <td>100.000000</td>\n",
       "    </tr>\n",
       "  </tbody>\n",
       "</table>\n",
       "</div>"
      ],
      "text/plain": [
       "           lab_value       visit_id\n",
       "count  104327.000000  105807.000000\n",
       "mean        3.975162       5.303137\n",
       "std         0.600100       8.928306\n",
       "min         2.000000       0.000000\n",
       "25%         3.600000       0.000000\n",
       "50%         3.900000       2.000000\n",
       "75%         4.300000       6.000000\n",
       "max         6.000000     100.000000"
      ]
     },
     "execution_count": 33,
     "metadata": {},
     "output_type": "execute_result"
    }
   ],
   "source": [
    "labs_k.describe()"
   ]
  },
  {
   "cell_type": "code",
   "execution_count": 34,
   "metadata": {},
   "outputs": [
    {
     "data": {
      "text/html": [
       "<div>\n",
       "<style scoped>\n",
       "    .dataframe tbody tr th:only-of-type {\n",
       "        vertical-align: middle;\n",
       "    }\n",
       "\n",
       "    .dataframe tbody tr th {\n",
       "        vertical-align: top;\n",
       "    }\n",
       "\n",
       "    .dataframe thead th {\n",
       "        text-align: right;\n",
       "    }\n",
       "</style>\n",
       "<table border=\"1\" class=\"dataframe\">\n",
       "  <thead>\n",
       "    <tr style=\"text-align: right;\">\n",
       "      <th></th>\n",
       "      <th>ruid</th>\n",
       "      <th>lab_name</th>\n",
       "      <th>lab_date</th>\n",
       "      <th>lab_value</th>\n",
       "      <th>visit_id</th>\n",
       "      <th>hospital_day</th>\n",
       "    </tr>\n",
       "  </thead>\n",
       "  <tbody>\n",
       "    <tr>\n",
       "      <th>18</th>\n",
       "      <td>53732537</td>\n",
       "      <td>K</td>\n",
       "      <td>2015-04-25</td>\n",
       "      <td>3.9</td>\n",
       "      <td>5</td>\n",
       "      <td>2015-04-25</td>\n",
       "    </tr>\n",
       "    <tr>\n",
       "      <th>52</th>\n",
       "      <td>53728342</td>\n",
       "      <td>K</td>\n",
       "      <td>2014-05-26</td>\n",
       "      <td>NaN</td>\n",
       "      <td>9</td>\n",
       "      <td>2014-05-26</td>\n",
       "    </tr>\n",
       "    <tr>\n",
       "      <th>63</th>\n",
       "      <td>53728342</td>\n",
       "      <td>K</td>\n",
       "      <td>2014-05-26</td>\n",
       "      <td>4.2</td>\n",
       "      <td>9</td>\n",
       "      <td>2014-05-26</td>\n",
       "    </tr>\n",
       "    <tr>\n",
       "      <th>70</th>\n",
       "      <td>53728342</td>\n",
       "      <td>K</td>\n",
       "      <td>2014-05-26</td>\n",
       "      <td>3.5</td>\n",
       "      <td>9</td>\n",
       "      <td>2014-05-26</td>\n",
       "    </tr>\n",
       "    <tr>\n",
       "      <th>96</th>\n",
       "      <td>53735977</td>\n",
       "      <td>K</td>\n",
       "      <td>2014-03-15</td>\n",
       "      <td>3.4</td>\n",
       "      <td>3</td>\n",
       "      <td>2014-03-15</td>\n",
       "    </tr>\n",
       "  </tbody>\n",
       "</table>\n",
       "</div>"
      ],
      "text/plain": [
       "        ruid lab_name   lab_date  lab_value  visit_id hospital_day\n",
       "18  53732537        K 2015-04-25        3.9         5   2015-04-25\n",
       "52  53728342        K 2014-05-26        NaN         9   2014-05-26\n",
       "63  53728342        K 2014-05-26        4.2         9   2014-05-26\n",
       "70  53728342        K 2014-05-26        3.5         9   2014-05-26\n",
       "96  53735977        K 2014-03-15        3.4         3   2014-03-15"
      ]
     },
     "execution_count": 34,
     "metadata": {},
     "output_type": "execute_result"
    }
   ],
   "source": [
    "labs.head()"
   ]
  },
  {
   "cell_type": "code",
   "execution_count": 35,
   "metadata": {},
   "outputs": [
    {
     "data": {
      "text/plain": [
       "array(['K', 'GluBed'], dtype=object)"
      ]
     },
     "execution_count": 35,
     "metadata": {},
     "output_type": "execute_result"
    }
   ],
   "source": [
    "labs['lab_name'].unique()"
   ]
  },
  {
   "cell_type": "markdown",
   "metadata": {},
   "source": [
    "3) convert outliers in `Creat` to NaN, normal values = 0.7-1.3"
   ]
  },
  {
   "cell_type": "code",
   "execution_count": 36,
   "metadata": {},
   "outputs": [
    {
     "name": "stdout",
     "output_type": "stream",
     "text": [
      "99% percentile for  Creat : \n"
     ]
    },
    {
     "data": {
      "text/plain": [
       "(9.2, 0.38)"
      ]
     },
     "execution_count": 36,
     "metadata": {},
     "output_type": "execute_result"
    },
    {
     "data": {
      "image/png": "[encoded data removed]",
      "text/plain": [
       "<Figure size 432x288 with 1 Axes>"
      ]
     },
     "metadata": {
      "needs_background": "light"
     },
     "output_type": "display_data"
    }
   ],
   "source": [
    "outlier_detection(labs_merged, 'Creat')"
   ]
  },
  {
   "cell_type": "code",
   "execution_count": 37,
   "metadata": {},
   "outputs": [],
   "source": [
    "labs_creat = labs_merged[labs_merged.lab_name=='Creat']"
   ]
  },
  {
   "cell_type": "code",
   "execution_count": 38,
   "metadata": {},
   "outputs": [
    {
     "data": {
      "text/html": [
       "<div>\n",
       "<style scoped>\n",
       "    .dataframe tbody tr th:only-of-type {\n",
       "        vertical-align: middle;\n",
       "    }\n",
       "\n",
       "    .dataframe tbody tr th {\n",
       "        vertical-align: top;\n",
       "    }\n",
       "\n",
       "    .dataframe thead th {\n",
       "        text-align: right;\n",
       "    }\n",
       "</style>\n",
       "<table border=\"1\" class=\"dataframe\">\n",
       "  <thead>\n",
       "    <tr style=\"text-align: right;\">\n",
       "      <th></th>\n",
       "      <th>ruid</th>\n",
       "      <th>lab_name</th>\n",
       "      <th>lab_date</th>\n",
       "      <th>lab_value</th>\n",
       "      <th>visit_id</th>\n",
       "      <th>hospital_day</th>\n",
       "    </tr>\n",
       "  </thead>\n",
       "  <tbody>\n",
       "    <tr>\n",
       "      <th>16</th>\n",
       "      <td>53732537</td>\n",
       "      <td>Creat</td>\n",
       "      <td>2015-04-25</td>\n",
       "      <td>4.20</td>\n",
       "      <td>5</td>\n",
       "      <td>2015-04-25</td>\n",
       "    </tr>\n",
       "    <tr>\n",
       "      <th>51</th>\n",
       "      <td>53728342</td>\n",
       "      <td>Creat</td>\n",
       "      <td>2014-05-26</td>\n",
       "      <td>NaN</td>\n",
       "      <td>9</td>\n",
       "      <td>2014-05-26</td>\n",
       "    </tr>\n",
       "    <tr>\n",
       "      <th>64</th>\n",
       "      <td>53728342</td>\n",
       "      <td>Creat</td>\n",
       "      <td>2014-05-26</td>\n",
       "      <td>4.19</td>\n",
       "      <td>9</td>\n",
       "      <td>2014-05-26</td>\n",
       "    </tr>\n",
       "    <tr>\n",
       "      <th>84</th>\n",
       "      <td>53728342</td>\n",
       "      <td>Creat</td>\n",
       "      <td>2014-05-26</td>\n",
       "      <td>0.79</td>\n",
       "      <td>9</td>\n",
       "      <td>2014-05-26</td>\n",
       "    </tr>\n",
       "    <tr>\n",
       "      <th>107</th>\n",
       "      <td>53735977</td>\n",
       "      <td>Creat</td>\n",
       "      <td>2014-03-15</td>\n",
       "      <td>0.78</td>\n",
       "      <td>3</td>\n",
       "      <td>2014-03-15</td>\n",
       "    </tr>\n",
       "  </tbody>\n",
       "</table>\n",
       "</div>"
      ],
      "text/plain": [
       "         ruid lab_name   lab_date  lab_value  visit_id hospital_day\n",
       "16   53732537    Creat 2015-04-25       4.20         5   2015-04-25\n",
       "51   53728342    Creat 2014-05-26        NaN         9   2014-05-26\n",
       "64   53728342    Creat 2014-05-26       4.19         9   2014-05-26\n",
       "84   53728342    Creat 2014-05-26       0.79         9   2014-05-26\n",
       "107  53735977    Creat 2014-03-15       0.78         3   2014-03-15"
      ]
     },
     "execution_count": 38,
     "metadata": {},
     "output_type": "execute_result"
    }
   ],
   "source": [
    "labs_creat.head()"
   ]
  },
  {
   "cell_type": "code",
   "execution_count": 39,
   "metadata": {},
   "outputs": [
    {
     "data": {
      "text/html": [
       "<div>\n",
       "<style scoped>\n",
       "    .dataframe tbody tr th:only-of-type {\n",
       "        vertical-align: middle;\n",
       "    }\n",
       "\n",
       "    .dataframe tbody tr th {\n",
       "        vertical-align: top;\n",
       "    }\n",
       "\n",
       "    .dataframe thead th {\n",
       "        text-align: right;\n",
       "    }\n",
       "</style>\n",
       "<table border=\"1\" class=\"dataframe\">\n",
       "  <thead>\n",
       "    <tr style=\"text-align: right;\">\n",
       "      <th></th>\n",
       "      <th>lab_value</th>\n",
       "      <th>visit_id</th>\n",
       "    </tr>\n",
       "  </thead>\n",
       "  <tbody>\n",
       "    <tr>\n",
       "      <th>count</th>\n",
       "      <td>101149.000000</td>\n",
       "      <td>101488.000000</td>\n",
       "    </tr>\n",
       "    <tr>\n",
       "      <th>mean</th>\n",
       "      <td>1.593544</td>\n",
       "      <td>5.392460</td>\n",
       "    </tr>\n",
       "    <tr>\n",
       "      <th>std</th>\n",
       "      <td>1.720670</td>\n",
       "      <td>9.082819</td>\n",
       "    </tr>\n",
       "    <tr>\n",
       "      <th>min</th>\n",
       "      <td>0.100000</td>\n",
       "      <td>0.000000</td>\n",
       "    </tr>\n",
       "    <tr>\n",
       "      <th>25%</th>\n",
       "      <td>0.730000</td>\n",
       "      <td>0.000000</td>\n",
       "    </tr>\n",
       "    <tr>\n",
       "      <th>50%</th>\n",
       "      <td>1.000000</td>\n",
       "      <td>2.000000</td>\n",
       "    </tr>\n",
       "    <tr>\n",
       "      <th>75%</th>\n",
       "      <td>1.640000</td>\n",
       "      <td>7.000000</td>\n",
       "    </tr>\n",
       "    <tr>\n",
       "      <th>max</th>\n",
       "      <td>23.840000</td>\n",
       "      <td>100.000000</td>\n",
       "    </tr>\n",
       "  </tbody>\n",
       "</table>\n",
       "</div>"
      ],
      "text/plain": [
       "           lab_value       visit_id\n",
       "count  101149.000000  101488.000000\n",
       "mean        1.593544       5.392460\n",
       "std         1.720670       9.082819\n",
       "min         0.100000       0.000000\n",
       "25%         0.730000       0.000000\n",
       "50%         1.000000       2.000000\n",
       "75%         1.640000       7.000000\n",
       "max        23.840000     100.000000"
      ]
     },
     "execution_count": 39,
     "metadata": {},
     "output_type": "execute_result"
    }
   ],
   "source": [
    "labs_creat.describe()"
   ]
  },
  {
   "cell_type": "code",
   "execution_count": 40,
   "metadata": {},
   "outputs": [
    {
     "name": "stderr",
     "output_type": "stream",
     "text": [
      "/anaconda3/envs/bios8366/lib/python3.6/site-packages/ipykernel_launcher.py:20: SettingWithCopyWarning: \n",
      "A value is trying to be set on a copy of a slice from a DataFrame\n",
      "\n",
      "See the caveats in the documentation: http://pandas.pydata.org/pandas-docs/stable/indexing.html#indexing-view-versus-copy\n",
      "/anaconda3/envs/bios8366/lib/python3.6/site-packages/ipykernel_launcher.py:23: SettingWithCopyWarning: \n",
      "A value is trying to be set on a copy of a slice from a DataFrame\n",
      "\n",
      "See the caveats in the documentation: http://pandas.pydata.org/pandas-docs/stable/indexing.html#indexing-view-versus-copy\n"
     ]
    }
   ],
   "source": [
    "labs_creat, labs = outlier_conversion(labs_creat,labs,0.37,8)"
   ]
  },
  {
   "cell_type": "code",
   "execution_count": 41,
   "metadata": {},
   "outputs": [
    {
     "data": {
      "text/html": [
       "<div>\n",
       "<style scoped>\n",
       "    .dataframe tbody tr th:only-of-type {\n",
       "        vertical-align: middle;\n",
       "    }\n",
       "\n",
       "    .dataframe tbody tr th {\n",
       "        vertical-align: top;\n",
       "    }\n",
       "\n",
       "    .dataframe thead th {\n",
       "        text-align: right;\n",
       "    }\n",
       "</style>\n",
       "<table border=\"1\" class=\"dataframe\">\n",
       "  <thead>\n",
       "    <tr style=\"text-align: right;\">\n",
       "      <th></th>\n",
       "      <th>ruid</th>\n",
       "      <th>lab_name</th>\n",
       "      <th>lab_date</th>\n",
       "      <th>lab_value</th>\n",
       "      <th>visit_id</th>\n",
       "      <th>hospital_day</th>\n",
       "    </tr>\n",
       "  </thead>\n",
       "  <tbody>\n",
       "    <tr>\n",
       "      <th>16</th>\n",
       "      <td>53732537</td>\n",
       "      <td>Creat</td>\n",
       "      <td>2015-04-25</td>\n",
       "      <td>4.20</td>\n",
       "      <td>5</td>\n",
       "      <td>2015-04-25</td>\n",
       "    </tr>\n",
       "    <tr>\n",
       "      <th>51</th>\n",
       "      <td>53728342</td>\n",
       "      <td>Creat</td>\n",
       "      <td>2014-05-26</td>\n",
       "      <td>NaN</td>\n",
       "      <td>9</td>\n",
       "      <td>2014-05-26</td>\n",
       "    </tr>\n",
       "    <tr>\n",
       "      <th>64</th>\n",
       "      <td>53728342</td>\n",
       "      <td>Creat</td>\n",
       "      <td>2014-05-26</td>\n",
       "      <td>4.19</td>\n",
       "      <td>9</td>\n",
       "      <td>2014-05-26</td>\n",
       "    </tr>\n",
       "    <tr>\n",
       "      <th>84</th>\n",
       "      <td>53728342</td>\n",
       "      <td>Creat</td>\n",
       "      <td>2014-05-26</td>\n",
       "      <td>0.79</td>\n",
       "      <td>9</td>\n",
       "      <td>2014-05-26</td>\n",
       "    </tr>\n",
       "    <tr>\n",
       "      <th>107</th>\n",
       "      <td>53735977</td>\n",
       "      <td>Creat</td>\n",
       "      <td>2014-03-15</td>\n",
       "      <td>0.78</td>\n",
       "      <td>3</td>\n",
       "      <td>2014-03-15</td>\n",
       "    </tr>\n",
       "  </tbody>\n",
       "</table>\n",
       "</div>"
      ],
      "text/plain": [
       "         ruid lab_name   lab_date  lab_value  visit_id hospital_day\n",
       "16   53732537    Creat 2015-04-25       4.20         5   2015-04-25\n",
       "51   53728342    Creat 2014-05-26        NaN         9   2014-05-26\n",
       "64   53728342    Creat 2014-05-26       4.19         9   2014-05-26\n",
       "84   53728342    Creat 2014-05-26       0.79         9   2014-05-26\n",
       "107  53735977    Creat 2014-03-15       0.78         3   2014-03-15"
      ]
     },
     "execution_count": 41,
     "metadata": {},
     "output_type": "execute_result"
    }
   ],
   "source": [
    "labs_creat.head()"
   ]
  },
  {
   "cell_type": "code",
   "execution_count": 42,
   "metadata": {},
   "outputs": [
    {
     "data": {
      "text/html": [
       "<div>\n",
       "<style scoped>\n",
       "    .dataframe tbody tr th:only-of-type {\n",
       "        vertical-align: middle;\n",
       "    }\n",
       "\n",
       "    .dataframe tbody tr th {\n",
       "        vertical-align: top;\n",
       "    }\n",
       "\n",
       "    .dataframe thead th {\n",
       "        text-align: right;\n",
       "    }\n",
       "</style>\n",
       "<table border=\"1\" class=\"dataframe\">\n",
       "  <thead>\n",
       "    <tr style=\"text-align: right;\">\n",
       "      <th></th>\n",
       "      <th>lab_value</th>\n",
       "      <th>visit_id</th>\n",
       "    </tr>\n",
       "  </thead>\n",
       "  <tbody>\n",
       "    <tr>\n",
       "      <th>count</th>\n",
       "      <td>98639.000000</td>\n",
       "      <td>101488.000000</td>\n",
       "    </tr>\n",
       "    <tr>\n",
       "      <th>mean</th>\n",
       "      <td>1.458610</td>\n",
       "      <td>5.392460</td>\n",
       "    </tr>\n",
       "    <tr>\n",
       "      <th>std</th>\n",
       "      <td>1.261744</td>\n",
       "      <td>9.082819</td>\n",
       "    </tr>\n",
       "    <tr>\n",
       "      <th>min</th>\n",
       "      <td>0.370000</td>\n",
       "      <td>0.000000</td>\n",
       "    </tr>\n",
       "    <tr>\n",
       "      <th>25%</th>\n",
       "      <td>0.730000</td>\n",
       "      <td>0.000000</td>\n",
       "    </tr>\n",
       "    <tr>\n",
       "      <th>50%</th>\n",
       "      <td>1.000000</td>\n",
       "      <td>2.000000</td>\n",
       "    </tr>\n",
       "    <tr>\n",
       "      <th>75%</th>\n",
       "      <td>1.600000</td>\n",
       "      <td>7.000000</td>\n",
       "    </tr>\n",
       "    <tr>\n",
       "      <th>max</th>\n",
       "      <td>8.000000</td>\n",
       "      <td>100.000000</td>\n",
       "    </tr>\n",
       "  </tbody>\n",
       "</table>\n",
       "</div>"
      ],
      "text/plain": [
       "          lab_value       visit_id\n",
       "count  98639.000000  101488.000000\n",
       "mean       1.458610       5.392460\n",
       "std        1.261744       9.082819\n",
       "min        0.370000       0.000000\n",
       "25%        0.730000       0.000000\n",
       "50%        1.000000       2.000000\n",
       "75%        1.600000       7.000000\n",
       "max        8.000000     100.000000"
      ]
     },
     "execution_count": 42,
     "metadata": {},
     "output_type": "execute_result"
    }
   ],
   "source": [
    "labs_creat.describe()"
   ]
  },
  {
   "cell_type": "code",
   "execution_count": 43,
   "metadata": {},
   "outputs": [
    {
     "data": {
      "text/plain": [
       "ruid               0\n",
       "lab_name           0\n",
       "lab_date           0\n",
       "lab_value       2849\n",
       "visit_id           0\n",
       "hospital_day       0\n",
       "dtype: int64"
      ]
     },
     "execution_count": 43,
     "metadata": {},
     "output_type": "execute_result"
    }
   ],
   "source": [
    "labs_creat.isna().sum()"
   ]
  },
  {
   "cell_type": "code",
   "execution_count": 44,
   "metadata": {},
   "outputs": [
    {
     "data": {
      "text/plain": [
       "array(['Creat', 'K', 'GluBed'], dtype=object)"
      ]
     },
     "execution_count": 44,
     "metadata": {},
     "output_type": "execute_result"
    }
   ],
   "source": [
    "labs.lab_name.unique()"
   ]
  },
  {
   "cell_type": "code",
   "execution_count": 45,
   "metadata": {},
   "outputs": [
    {
     "data": {
      "text/plain": [
       "(402935, 6)"
      ]
     },
     "execution_count": 45,
     "metadata": {},
     "output_type": "execute_result"
    }
   ],
   "source": [
    "labs.shape"
   ]
  },
  {
   "cell_type": "markdown",
   "metadata": {},
   "source": [
    "4) convert outliers in `Na` to NaN, normal values = 136-145"
   ]
  },
  {
   "cell_type": "code",
   "execution_count": 46,
   "metadata": {},
   "outputs": [
    {
     "name": "stdout",
     "output_type": "stream",
     "text": [
      "99% percentile for  Na : \n"
     ]
    },
    {
     "data": {
      "text/plain": [
       "(150.0, 125.0)"
      ]
     },
     "execution_count": 46,
     "metadata": {},
     "output_type": "execute_result"
    },
    {
     "data": {
      "image/png": "[encoded data removed]",
      "text/plain": [
       "<Figure size 432x288 with 1 Axes>"
      ]
     },
     "metadata": {
      "needs_background": "light"
     },
     "output_type": "display_data"
    }
   ],
   "source": [
    "outlier_detection(labs_merged, 'Na')"
   ]
  },
  {
   "cell_type": "code",
   "execution_count": 47,
   "metadata": {},
   "outputs": [],
   "source": [
    "labs_na = labs_merged[labs_merged.lab_name=='Na']"
   ]
  },
  {
   "cell_type": "code",
   "execution_count": 48,
   "metadata": {},
   "outputs": [
    {
     "data": {
      "text/html": [
       "<div>\n",
       "<style scoped>\n",
       "    .dataframe tbody tr th:only-of-type {\n",
       "        vertical-align: middle;\n",
       "    }\n",
       "\n",
       "    .dataframe tbody tr th {\n",
       "        vertical-align: top;\n",
       "    }\n",
       "\n",
       "    .dataframe thead th {\n",
       "        text-align: right;\n",
       "    }\n",
       "</style>\n",
       "<table border=\"1\" class=\"dataframe\">\n",
       "  <thead>\n",
       "    <tr style=\"text-align: right;\">\n",
       "      <th></th>\n",
       "      <th>ruid</th>\n",
       "      <th>lab_name</th>\n",
       "      <th>lab_date</th>\n",
       "      <th>lab_value</th>\n",
       "      <th>visit_id</th>\n",
       "      <th>hospital_day</th>\n",
       "    </tr>\n",
       "  </thead>\n",
       "  <tbody>\n",
       "    <tr>\n",
       "      <th>29</th>\n",
       "      <td>53732537</td>\n",
       "      <td>Na</td>\n",
       "      <td>2015-04-25</td>\n",
       "      <td>130.0</td>\n",
       "      <td>5</td>\n",
       "      <td>2015-04-25</td>\n",
       "    </tr>\n",
       "    <tr>\n",
       "      <th>54</th>\n",
       "      <td>53728342</td>\n",
       "      <td>Na</td>\n",
       "      <td>2014-05-26</td>\n",
       "      <td>NaN</td>\n",
       "      <td>9</td>\n",
       "      <td>2014-05-26</td>\n",
       "    </tr>\n",
       "    <tr>\n",
       "      <th>77</th>\n",
       "      <td>53728342</td>\n",
       "      <td>Na</td>\n",
       "      <td>2014-05-26</td>\n",
       "      <td>146.0</td>\n",
       "      <td>9</td>\n",
       "      <td>2014-05-26</td>\n",
       "    </tr>\n",
       "    <tr>\n",
       "      <th>78</th>\n",
       "      <td>53728342</td>\n",
       "      <td>Na</td>\n",
       "      <td>2014-05-26</td>\n",
       "      <td>142.0</td>\n",
       "      <td>9</td>\n",
       "      <td>2014-05-26</td>\n",
       "    </tr>\n",
       "    <tr>\n",
       "      <th>102</th>\n",
       "      <td>53735977</td>\n",
       "      <td>Na</td>\n",
       "      <td>2014-03-15</td>\n",
       "      <td>138.0</td>\n",
       "      <td>3</td>\n",
       "      <td>2014-03-15</td>\n",
       "    </tr>\n",
       "  </tbody>\n",
       "</table>\n",
       "</div>"
      ],
      "text/plain": [
       "         ruid lab_name   lab_date  lab_value  visit_id hospital_day\n",
       "29   53732537       Na 2015-04-25      130.0         5   2015-04-25\n",
       "54   53728342       Na 2014-05-26        NaN         9   2014-05-26\n",
       "77   53728342       Na 2014-05-26      146.0         9   2014-05-26\n",
       "78   53728342       Na 2014-05-26      142.0         9   2014-05-26\n",
       "102  53735977       Na 2014-03-15      138.0         3   2014-03-15"
      ]
     },
     "execution_count": 48,
     "metadata": {},
     "output_type": "execute_result"
    }
   ],
   "source": [
    "labs_na.head()"
   ]
  },
  {
   "cell_type": "code",
   "execution_count": 49,
   "metadata": {},
   "outputs": [
    {
     "data": {
      "text/html": [
       "<div>\n",
       "<style scoped>\n",
       "    .dataframe tbody tr th:only-of-type {\n",
       "        vertical-align: middle;\n",
       "    }\n",
       "\n",
       "    .dataframe tbody tr th {\n",
       "        vertical-align: top;\n",
       "    }\n",
       "\n",
       "    .dataframe thead th {\n",
       "        text-align: right;\n",
       "    }\n",
       "</style>\n",
       "<table border=\"1\" class=\"dataframe\">\n",
       "  <thead>\n",
       "    <tr style=\"text-align: right;\">\n",
       "      <th></th>\n",
       "      <th>lab_value</th>\n",
       "      <th>visit_id</th>\n",
       "    </tr>\n",
       "  </thead>\n",
       "  <tbody>\n",
       "    <tr>\n",
       "      <th>count</th>\n",
       "      <td>99111.000000</td>\n",
       "      <td>99744.000000</td>\n",
       "    </tr>\n",
       "    <tr>\n",
       "      <th>mean</th>\n",
       "      <td>137.564730</td>\n",
       "      <td>5.371712</td>\n",
       "    </tr>\n",
       "    <tr>\n",
       "      <th>std</th>\n",
       "      <td>4.583072</td>\n",
       "      <td>9.068976</td>\n",
       "    </tr>\n",
       "    <tr>\n",
       "      <th>min</th>\n",
       "      <td>101.000000</td>\n",
       "      <td>0.000000</td>\n",
       "    </tr>\n",
       "    <tr>\n",
       "      <th>25%</th>\n",
       "      <td>135.000000</td>\n",
       "      <td>0.000000</td>\n",
       "    </tr>\n",
       "    <tr>\n",
       "      <th>50%</th>\n",
       "      <td>138.000000</td>\n",
       "      <td>2.000000</td>\n",
       "    </tr>\n",
       "    <tr>\n",
       "      <th>75%</th>\n",
       "      <td>140.000000</td>\n",
       "      <td>6.000000</td>\n",
       "    </tr>\n",
       "    <tr>\n",
       "      <th>max</th>\n",
       "      <td>183.000000</td>\n",
       "      <td>100.000000</td>\n",
       "    </tr>\n",
       "  </tbody>\n",
       "</table>\n",
       "</div>"
      ],
      "text/plain": [
       "          lab_value      visit_id\n",
       "count  99111.000000  99744.000000\n",
       "mean     137.564730      5.371712\n",
       "std        4.583072      9.068976\n",
       "min      101.000000      0.000000\n",
       "25%      135.000000      0.000000\n",
       "50%      138.000000      2.000000\n",
       "75%      140.000000      6.000000\n",
       "max      183.000000    100.000000"
      ]
     },
     "execution_count": 49,
     "metadata": {},
     "output_type": "execute_result"
    }
   ],
   "source": [
    "labs_na.describe()"
   ]
  },
  {
   "cell_type": "code",
   "execution_count": 50,
   "metadata": {},
   "outputs": [
    {
     "name": "stderr",
     "output_type": "stream",
     "text": [
      "/anaconda3/envs/bios8366/lib/python3.6/site-packages/ipykernel_launcher.py:20: SettingWithCopyWarning: \n",
      "A value is trying to be set on a copy of a slice from a DataFrame\n",
      "\n",
      "See the caveats in the documentation: http://pandas.pydata.org/pandas-docs/stable/indexing.html#indexing-view-versus-copy\n",
      "/anaconda3/envs/bios8366/lib/python3.6/site-packages/ipykernel_launcher.py:23: SettingWithCopyWarning: \n",
      "A value is trying to be set on a copy of a slice from a DataFrame\n",
      "\n",
      "See the caveats in the documentation: http://pandas.pydata.org/pandas-docs/stable/indexing.html#indexing-view-versus-copy\n"
     ]
    }
   ],
   "source": [
    "labs_na, labs = outlier_conversion(labs_na,labs,125,150)"
   ]
  },
  {
   "cell_type": "code",
   "execution_count": 51,
   "metadata": {},
   "outputs": [
    {
     "data": {
      "text/html": [
       "<div>\n",
       "<style scoped>\n",
       "    .dataframe tbody tr th:only-of-type {\n",
       "        vertical-align: middle;\n",
       "    }\n",
       "\n",
       "    .dataframe tbody tr th {\n",
       "        vertical-align: top;\n",
       "    }\n",
       "\n",
       "    .dataframe thead th {\n",
       "        text-align: right;\n",
       "    }\n",
       "</style>\n",
       "<table border=\"1\" class=\"dataframe\">\n",
       "  <thead>\n",
       "    <tr style=\"text-align: right;\">\n",
       "      <th></th>\n",
       "      <th>ruid</th>\n",
       "      <th>lab_name</th>\n",
       "      <th>lab_date</th>\n",
       "      <th>lab_value</th>\n",
       "      <th>visit_id</th>\n",
       "      <th>hospital_day</th>\n",
       "    </tr>\n",
       "  </thead>\n",
       "  <tbody>\n",
       "    <tr>\n",
       "      <th>29</th>\n",
       "      <td>53732537</td>\n",
       "      <td>Na</td>\n",
       "      <td>2015-04-25</td>\n",
       "      <td>130.0</td>\n",
       "      <td>5</td>\n",
       "      <td>2015-04-25</td>\n",
       "    </tr>\n",
       "    <tr>\n",
       "      <th>54</th>\n",
       "      <td>53728342</td>\n",
       "      <td>Na</td>\n",
       "      <td>2014-05-26</td>\n",
       "      <td>NaN</td>\n",
       "      <td>9</td>\n",
       "      <td>2014-05-26</td>\n",
       "    </tr>\n",
       "    <tr>\n",
       "      <th>77</th>\n",
       "      <td>53728342</td>\n",
       "      <td>Na</td>\n",
       "      <td>2014-05-26</td>\n",
       "      <td>146.0</td>\n",
       "      <td>9</td>\n",
       "      <td>2014-05-26</td>\n",
       "    </tr>\n",
       "    <tr>\n",
       "      <th>78</th>\n",
       "      <td>53728342</td>\n",
       "      <td>Na</td>\n",
       "      <td>2014-05-26</td>\n",
       "      <td>142.0</td>\n",
       "      <td>9</td>\n",
       "      <td>2014-05-26</td>\n",
       "    </tr>\n",
       "    <tr>\n",
       "      <th>102</th>\n",
       "      <td>53735977</td>\n",
       "      <td>Na</td>\n",
       "      <td>2014-03-15</td>\n",
       "      <td>138.0</td>\n",
       "      <td>3</td>\n",
       "      <td>2014-03-15</td>\n",
       "    </tr>\n",
       "  </tbody>\n",
       "</table>\n",
       "</div>"
      ],
      "text/plain": [
       "         ruid lab_name   lab_date  lab_value  visit_id hospital_day\n",
       "29   53732537       Na 2015-04-25      130.0         5   2015-04-25\n",
       "54   53728342       Na 2014-05-26        NaN         9   2014-05-26\n",
       "77   53728342       Na 2014-05-26      146.0         9   2014-05-26\n",
       "78   53728342       Na 2014-05-26      142.0         9   2014-05-26\n",
       "102  53735977       Na 2014-03-15      138.0         3   2014-03-15"
      ]
     },
     "execution_count": 51,
     "metadata": {},
     "output_type": "execute_result"
    }
   ],
   "source": [
    "labs_na.head()"
   ]
  },
  {
   "cell_type": "code",
   "execution_count": 52,
   "metadata": {},
   "outputs": [
    {
     "data": {
      "text/html": [
       "<div>\n",
       "<style scoped>\n",
       "    .dataframe tbody tr th:only-of-type {\n",
       "        vertical-align: middle;\n",
       "    }\n",
       "\n",
       "    .dataframe tbody tr th {\n",
       "        vertical-align: top;\n",
       "    }\n",
       "\n",
       "    .dataframe thead th {\n",
       "        text-align: right;\n",
       "    }\n",
       "</style>\n",
       "<table border=\"1\" class=\"dataframe\">\n",
       "  <thead>\n",
       "    <tr style=\"text-align: right;\">\n",
       "      <th></th>\n",
       "      <th>lab_value</th>\n",
       "      <th>visit_id</th>\n",
       "    </tr>\n",
       "  </thead>\n",
       "  <tbody>\n",
       "    <tr>\n",
       "      <th>count</th>\n",
       "      <td>97304.000000</td>\n",
       "      <td>99744.000000</td>\n",
       "    </tr>\n",
       "    <tr>\n",
       "      <th>mean</th>\n",
       "      <td>137.557346</td>\n",
       "      <td>5.371712</td>\n",
       "    </tr>\n",
       "    <tr>\n",
       "      <th>std</th>\n",
       "      <td>3.940998</td>\n",
       "      <td>9.068976</td>\n",
       "    </tr>\n",
       "    <tr>\n",
       "      <th>min</th>\n",
       "      <td>125.000000</td>\n",
       "      <td>0.000000</td>\n",
       "    </tr>\n",
       "    <tr>\n",
       "      <th>25%</th>\n",
       "      <td>135.000000</td>\n",
       "      <td>0.000000</td>\n",
       "    </tr>\n",
       "    <tr>\n",
       "      <th>50%</th>\n",
       "      <td>138.000000</td>\n",
       "      <td>2.000000</td>\n",
       "    </tr>\n",
       "    <tr>\n",
       "      <th>75%</th>\n",
       "      <td>140.000000</td>\n",
       "      <td>6.000000</td>\n",
       "    </tr>\n",
       "    <tr>\n",
       "      <th>max</th>\n",
       "      <td>150.000000</td>\n",
       "      <td>100.000000</td>\n",
       "    </tr>\n",
       "  </tbody>\n",
       "</table>\n",
       "</div>"
      ],
      "text/plain": [
       "          lab_value      visit_id\n",
       "count  97304.000000  99744.000000\n",
       "mean     137.557346      5.371712\n",
       "std        3.940998      9.068976\n",
       "min      125.000000      0.000000\n",
       "25%      135.000000      0.000000\n",
       "50%      138.000000      2.000000\n",
       "75%      140.000000      6.000000\n",
       "max      150.000000    100.000000"
      ]
     },
     "execution_count": 52,
     "metadata": {},
     "output_type": "execute_result"
    }
   ],
   "source": [
    "labs_na.describe()"
   ]
  },
  {
   "cell_type": "code",
   "execution_count": 53,
   "metadata": {},
   "outputs": [
    {
     "data": {
      "text/plain": [
       "ruid               0\n",
       "lab_name           0\n",
       "lab_date           0\n",
       "lab_value       2440\n",
       "visit_id           0\n",
       "hospital_day       0\n",
       "dtype: int64"
      ]
     },
     "execution_count": 53,
     "metadata": {},
     "output_type": "execute_result"
    }
   ],
   "source": [
    "labs_na.isna().sum()"
   ]
  },
  {
   "cell_type": "code",
   "execution_count": 54,
   "metadata": {},
   "outputs": [
    {
     "data": {
      "text/plain": [
       "array(['Na', 'Creat', 'K', 'GluBed'], dtype=object)"
      ]
     },
     "execution_count": 54,
     "metadata": {},
     "output_type": "execute_result"
    }
   ],
   "source": [
    "labs.lab_name.unique()"
   ]
  },
  {
   "cell_type": "code",
   "execution_count": 55,
   "metadata": {},
   "outputs": [
    {
     "data": {
      "text/plain": [
       "(502679, 6)"
      ]
     },
     "execution_count": 55,
     "metadata": {},
     "output_type": "execute_result"
    }
   ],
   "source": [
    "labs.shape"
   ]
  },
  {
   "cell_type": "markdown",
   "metadata": {},
   "source": [
    "5) convert outliers in `PCV` to NaN, normal values = 38.8-50 (Males), 34.9-44.5 (Females)"
   ]
  },
  {
   "cell_type": "code",
   "execution_count": 56,
   "metadata": {},
   "outputs": [
    {
     "name": "stdout",
     "output_type": "stream",
     "text": [
      "99% percentile for  PCV : \n"
     ]
    },
    {
     "data": {
      "text/plain": [
       "(47.0, 19.0)"
      ]
     },
     "execution_count": 56,
     "metadata": {},
     "output_type": "execute_result"
    },
    {
     "data": {
      "image/png": "[encoded data removed]",
      "text/plain": [
       "<Figure size 432x288 with 1 Axes>"
      ]
     },
     "metadata": {
      "needs_background": "light"
     },
     "output_type": "display_data"
    }
   ],
   "source": [
    "outlier_detection(labs_merged, 'PCV')"
   ]
  },
  {
   "cell_type": "code",
   "execution_count": 57,
   "metadata": {},
   "outputs": [],
   "source": [
    "labs_pcv = labs_merged[labs_merged.lab_name=='PCV']"
   ]
  },
  {
   "cell_type": "code",
   "execution_count": 58,
   "metadata": {},
   "outputs": [
    {
     "data": {
      "text/html": [
       "<div>\n",
       "<style scoped>\n",
       "    .dataframe tbody tr th:only-of-type {\n",
       "        vertical-align: middle;\n",
       "    }\n",
       "\n",
       "    .dataframe tbody tr th {\n",
       "        vertical-align: top;\n",
       "    }\n",
       "\n",
       "    .dataframe thead th {\n",
       "        text-align: right;\n",
       "    }\n",
       "</style>\n",
       "<table border=\"1\" class=\"dataframe\">\n",
       "  <thead>\n",
       "    <tr style=\"text-align: right;\">\n",
       "      <th></th>\n",
       "      <th>ruid</th>\n",
       "      <th>lab_name</th>\n",
       "      <th>lab_date</th>\n",
       "      <th>lab_value</th>\n",
       "      <th>visit_id</th>\n",
       "      <th>hospital_day</th>\n",
       "    </tr>\n",
       "  </thead>\n",
       "  <tbody>\n",
       "    <tr>\n",
       "      <th>0</th>\n",
       "      <td>53732537</td>\n",
       "      <td>PCV</td>\n",
       "      <td>2015-04-25</td>\n",
       "      <td>NaN</td>\n",
       "      <td>5</td>\n",
       "      <td>2015-04-25</td>\n",
       "    </tr>\n",
       "    <tr>\n",
       "      <th>21</th>\n",
       "      <td>53732537</td>\n",
       "      <td>PCV</td>\n",
       "      <td>2015-04-25</td>\n",
       "      <td>22.0</td>\n",
       "      <td>5</td>\n",
       "      <td>2015-04-25</td>\n",
       "    </tr>\n",
       "    <tr>\n",
       "      <th>40</th>\n",
       "      <td>53732537</td>\n",
       "      <td>PCV</td>\n",
       "      <td>2015-04-25</td>\n",
       "      <td>NaN</td>\n",
       "      <td>5</td>\n",
       "      <td>2015-04-25</td>\n",
       "    </tr>\n",
       "    <tr>\n",
       "      <th>46</th>\n",
       "      <td>53728342</td>\n",
       "      <td>PCV</td>\n",
       "      <td>2014-05-26</td>\n",
       "      <td>NaN</td>\n",
       "      <td>9</td>\n",
       "      <td>2014-05-26</td>\n",
       "    </tr>\n",
       "    <tr>\n",
       "      <th>61</th>\n",
       "      <td>53728342</td>\n",
       "      <td>PCV</td>\n",
       "      <td>2014-05-26</td>\n",
       "      <td>44.0</td>\n",
       "      <td>9</td>\n",
       "      <td>2014-05-26</td>\n",
       "    </tr>\n",
       "  </tbody>\n",
       "</table>\n",
       "</div>"
      ],
      "text/plain": [
       "        ruid lab_name   lab_date  lab_value  visit_id hospital_day\n",
       "0   53732537      PCV 2015-04-25        NaN         5   2015-04-25\n",
       "21  53732537      PCV 2015-04-25       22.0         5   2015-04-25\n",
       "40  53732537      PCV 2015-04-25        NaN         5   2015-04-25\n",
       "46  53728342      PCV 2014-05-26        NaN         9   2014-05-26\n",
       "61  53728342      PCV 2014-05-26       44.0         9   2014-05-26"
      ]
     },
     "execution_count": 58,
     "metadata": {},
     "output_type": "execute_result"
    }
   ],
   "source": [
    "labs_pcv.head()"
   ]
  },
  {
   "cell_type": "code",
   "execution_count": 59,
   "metadata": {},
   "outputs": [
    {
     "data": {
      "text/plain": [
       "count    98397.000000\n",
       "mean        31.230283\n",
       "std          6.150949\n",
       "min          1.000000\n",
       "25%         27.000000\n",
       "50%         31.000000\n",
       "75%         35.000000\n",
       "max         62.000000\n",
       "Name: lab_value, dtype: float64"
      ]
     },
     "execution_count": 59,
     "metadata": {},
     "output_type": "execute_result"
    }
   ],
   "source": [
    "labs_pcv['lab_value'].describe()"
   ]
  },
  {
   "cell_type": "code",
   "execution_count": 60,
   "metadata": {},
   "outputs": [
    {
     "name": "stderr",
     "output_type": "stream",
     "text": [
      "/anaconda3/envs/bios8366/lib/python3.6/site-packages/ipykernel_launcher.py:20: SettingWithCopyWarning: \n",
      "A value is trying to be set on a copy of a slice from a DataFrame\n",
      "\n",
      "See the caveats in the documentation: http://pandas.pydata.org/pandas-docs/stable/indexing.html#indexing-view-versus-copy\n",
      "/anaconda3/envs/bios8366/lib/python3.6/site-packages/ipykernel_launcher.py:23: SettingWithCopyWarning: \n",
      "A value is trying to be set on a copy of a slice from a DataFrame\n",
      "\n",
      "See the caveats in the documentation: http://pandas.pydata.org/pandas-docs/stable/indexing.html#indexing-view-versus-copy\n"
     ]
    }
   ],
   "source": [
    "# note that since max normal range PCV for males is 50, will keep all upper values\n",
    "labs_pcv, labs = outlier_conversion(labs_pcv,labs,19,65)"
   ]
  },
  {
   "cell_type": "code",
   "execution_count": 61,
   "metadata": {},
   "outputs": [
    {
     "data": {
      "text/html": [
       "<div>\n",
       "<style scoped>\n",
       "    .dataframe tbody tr th:only-of-type {\n",
       "        vertical-align: middle;\n",
       "    }\n",
       "\n",
       "    .dataframe tbody tr th {\n",
       "        vertical-align: top;\n",
       "    }\n",
       "\n",
       "    .dataframe thead th {\n",
       "        text-align: right;\n",
       "    }\n",
       "</style>\n",
       "<table border=\"1\" class=\"dataframe\">\n",
       "  <thead>\n",
       "    <tr style=\"text-align: right;\">\n",
       "      <th></th>\n",
       "      <th>ruid</th>\n",
       "      <th>lab_name</th>\n",
       "      <th>lab_date</th>\n",
       "      <th>lab_value</th>\n",
       "      <th>visit_id</th>\n",
       "      <th>hospital_day</th>\n",
       "    </tr>\n",
       "  </thead>\n",
       "  <tbody>\n",
       "    <tr>\n",
       "      <th>0</th>\n",
       "      <td>53732537</td>\n",
       "      <td>PCV</td>\n",
       "      <td>2015-04-25</td>\n",
       "      <td>NaN</td>\n",
       "      <td>5</td>\n",
       "      <td>2015-04-25</td>\n",
       "    </tr>\n",
       "    <tr>\n",
       "      <th>21</th>\n",
       "      <td>53732537</td>\n",
       "      <td>PCV</td>\n",
       "      <td>2015-04-25</td>\n",
       "      <td>22.0</td>\n",
       "      <td>5</td>\n",
       "      <td>2015-04-25</td>\n",
       "    </tr>\n",
       "    <tr>\n",
       "      <th>40</th>\n",
       "      <td>53732537</td>\n",
       "      <td>PCV</td>\n",
       "      <td>2015-04-25</td>\n",
       "      <td>NaN</td>\n",
       "      <td>5</td>\n",
       "      <td>2015-04-25</td>\n",
       "    </tr>\n",
       "    <tr>\n",
       "      <th>46</th>\n",
       "      <td>53728342</td>\n",
       "      <td>PCV</td>\n",
       "      <td>2014-05-26</td>\n",
       "      <td>NaN</td>\n",
       "      <td>9</td>\n",
       "      <td>2014-05-26</td>\n",
       "    </tr>\n",
       "    <tr>\n",
       "      <th>61</th>\n",
       "      <td>53728342</td>\n",
       "      <td>PCV</td>\n",
       "      <td>2014-05-26</td>\n",
       "      <td>44.0</td>\n",
       "      <td>9</td>\n",
       "      <td>2014-05-26</td>\n",
       "    </tr>\n",
       "  </tbody>\n",
       "</table>\n",
       "</div>"
      ],
      "text/plain": [
       "        ruid lab_name   lab_date  lab_value  visit_id hospital_day\n",
       "0   53732537      PCV 2015-04-25        NaN         5   2015-04-25\n",
       "21  53732537      PCV 2015-04-25       22.0         5   2015-04-25\n",
       "40  53732537      PCV 2015-04-25        NaN         5   2015-04-25\n",
       "46  53728342      PCV 2014-05-26        NaN         9   2014-05-26\n",
       "61  53728342      PCV 2014-05-26       44.0         9   2014-05-26"
      ]
     },
     "execution_count": 61,
     "metadata": {},
     "output_type": "execute_result"
    }
   ],
   "source": [
    "labs_pcv.head()"
   ]
  },
  {
   "cell_type": "code",
   "execution_count": 62,
   "metadata": {},
   "outputs": [
    {
     "data": {
      "text/html": [
       "<div>\n",
       "<style scoped>\n",
       "    .dataframe tbody tr th:only-of-type {\n",
       "        vertical-align: middle;\n",
       "    }\n",
       "\n",
       "    .dataframe tbody tr th {\n",
       "        vertical-align: top;\n",
       "    }\n",
       "\n",
       "    .dataframe thead th {\n",
       "        text-align: right;\n",
       "    }\n",
       "</style>\n",
       "<table border=\"1\" class=\"dataframe\">\n",
       "  <thead>\n",
       "    <tr style=\"text-align: right;\">\n",
       "      <th></th>\n",
       "      <th>lab_value</th>\n",
       "      <th>visit_id</th>\n",
       "    </tr>\n",
       "  </thead>\n",
       "  <tbody>\n",
       "    <tr>\n",
       "      <th>count</th>\n",
       "      <td>97664.000000</td>\n",
       "      <td>98626.000000</td>\n",
       "    </tr>\n",
       "    <tr>\n",
       "      <th>mean</th>\n",
       "      <td>31.352824</td>\n",
       "      <td>5.325786</td>\n",
       "    </tr>\n",
       "    <tr>\n",
       "      <th>std</th>\n",
       "      <td>5.994504</td>\n",
       "      <td>9.358813</td>\n",
       "    </tr>\n",
       "    <tr>\n",
       "      <th>min</th>\n",
       "      <td>19.000000</td>\n",
       "      <td>0.000000</td>\n",
       "    </tr>\n",
       "    <tr>\n",
       "      <th>25%</th>\n",
       "      <td>27.000000</td>\n",
       "      <td>0.000000</td>\n",
       "    </tr>\n",
       "    <tr>\n",
       "      <th>50%</th>\n",
       "      <td>31.000000</td>\n",
       "      <td>2.000000</td>\n",
       "    </tr>\n",
       "    <tr>\n",
       "      <th>75%</th>\n",
       "      <td>35.000000</td>\n",
       "      <td>6.000000</td>\n",
       "    </tr>\n",
       "    <tr>\n",
       "      <th>max</th>\n",
       "      <td>62.000000</td>\n",
       "      <td>100.000000</td>\n",
       "    </tr>\n",
       "  </tbody>\n",
       "</table>\n",
       "</div>"
      ],
      "text/plain": [
       "          lab_value      visit_id\n",
       "count  97664.000000  98626.000000\n",
       "mean      31.352824      5.325786\n",
       "std        5.994504      9.358813\n",
       "min       19.000000      0.000000\n",
       "25%       27.000000      0.000000\n",
       "50%       31.000000      2.000000\n",
       "75%       35.000000      6.000000\n",
       "max       62.000000    100.000000"
      ]
     },
     "execution_count": 62,
     "metadata": {},
     "output_type": "execute_result"
    }
   ],
   "source": [
    "labs_pcv.describe()"
   ]
  },
  {
   "cell_type": "code",
   "execution_count": 63,
   "metadata": {},
   "outputs": [
    {
     "data": {
      "text/plain": [
       "ruid              0\n",
       "lab_name          0\n",
       "lab_date          0\n",
       "lab_value       962\n",
       "visit_id          0\n",
       "hospital_day      0\n",
       "dtype: int64"
      ]
     },
     "execution_count": 63,
     "metadata": {},
     "output_type": "execute_result"
    }
   ],
   "source": [
    "labs_pcv.isna().sum()"
   ]
  },
  {
   "cell_type": "code",
   "execution_count": 64,
   "metadata": {},
   "outputs": [
    {
     "data": {
      "text/plain": [
       "array(['PCV', 'Na', 'Creat', 'K', 'GluBed'], dtype=object)"
      ]
     },
     "execution_count": 64,
     "metadata": {},
     "output_type": "execute_result"
    }
   ],
   "source": [
    "labs.lab_name.unique()"
   ]
  },
  {
   "cell_type": "code",
   "execution_count": 65,
   "metadata": {},
   "outputs": [
    {
     "data": {
      "text/plain": [
       "(601305, 6)"
      ]
     },
     "execution_count": 65,
     "metadata": {},
     "output_type": "execute_result"
    }
   ],
   "source": [
    "labs.shape"
   ]
  },
  {
   "cell_type": "markdown",
   "metadata": {},
   "source": [
    "6) convert outliers in `BUN` to NaN, normal values = 6-20"
   ]
  },
  {
   "cell_type": "code",
   "execution_count": 66,
   "metadata": {},
   "outputs": [
    {
     "name": "stdout",
     "output_type": "stream",
     "text": [
      "99% percentile for  BUN : \n"
     ]
    },
    {
     "data": {
      "text/plain": [
       "(111.0, 2.0)"
      ]
     },
     "execution_count": 66,
     "metadata": {},
     "output_type": "execute_result"
    },
    {
     "data": {
      "image/png": "[encoded data removed]",
      "text/plain": [
       "<Figure size 432x288 with 1 Axes>"
      ]
     },
     "metadata": {
      "needs_background": "light"
     },
     "output_type": "display_data"
    }
   ],
   "source": [
    "outlier_detection(labs_merged, 'BUN')"
   ]
  },
  {
   "cell_type": "code",
   "execution_count": 67,
   "metadata": {},
   "outputs": [],
   "source": [
    "labs_bun = labs_merged[labs_merged.lab_name=='BUN']"
   ]
  },
  {
   "cell_type": "code",
   "execution_count": 68,
   "metadata": {},
   "outputs": [
    {
     "data": {
      "text/html": [
       "<div>\n",
       "<style scoped>\n",
       "    .dataframe tbody tr th:only-of-type {\n",
       "        vertical-align: middle;\n",
       "    }\n",
       "\n",
       "    .dataframe tbody tr th {\n",
       "        vertical-align: top;\n",
       "    }\n",
       "\n",
       "    .dataframe thead th {\n",
       "        text-align: right;\n",
       "    }\n",
       "</style>\n",
       "<table border=\"1\" class=\"dataframe\">\n",
       "  <thead>\n",
       "    <tr style=\"text-align: right;\">\n",
       "      <th></th>\n",
       "      <th>ruid</th>\n",
       "      <th>lab_name</th>\n",
       "      <th>lab_date</th>\n",
       "      <th>lab_value</th>\n",
       "      <th>visit_id</th>\n",
       "      <th>hospital_day</th>\n",
       "    </tr>\n",
       "  </thead>\n",
       "  <tbody>\n",
       "    <tr>\n",
       "      <th>15</th>\n",
       "      <td>53732537</td>\n",
       "      <td>BUN</td>\n",
       "      <td>2015-04-25</td>\n",
       "      <td>50.0</td>\n",
       "      <td>5</td>\n",
       "      <td>2015-04-25</td>\n",
       "    </tr>\n",
       "    <tr>\n",
       "      <th>106</th>\n",
       "      <td>53735977</td>\n",
       "      <td>BUN</td>\n",
       "      <td>2014-03-15</td>\n",
       "      <td>10.0</td>\n",
       "      <td>3</td>\n",
       "      <td>2014-03-15</td>\n",
       "    </tr>\n",
       "    <tr>\n",
       "      <th>127</th>\n",
       "      <td>53735233</td>\n",
       "      <td>BUN</td>\n",
       "      <td>2014-09-06</td>\n",
       "      <td>21.0</td>\n",
       "      <td>1</td>\n",
       "      <td>2014-09-06</td>\n",
       "    </tr>\n",
       "    <tr>\n",
       "      <th>129</th>\n",
       "      <td>53735233</td>\n",
       "      <td>BUN</td>\n",
       "      <td>2014-09-06</td>\n",
       "      <td>20.0</td>\n",
       "      <td>1</td>\n",
       "      <td>2014-09-06</td>\n",
       "    </tr>\n",
       "    <tr>\n",
       "      <th>133</th>\n",
       "      <td>53735233</td>\n",
       "      <td>BUN</td>\n",
       "      <td>2014-09-06</td>\n",
       "      <td>19.0</td>\n",
       "      <td>1</td>\n",
       "      <td>2014-09-06</td>\n",
       "    </tr>\n",
       "  </tbody>\n",
       "</table>\n",
       "</div>"
      ],
      "text/plain": [
       "         ruid lab_name   lab_date  lab_value  visit_id hospital_day\n",
       "15   53732537      BUN 2015-04-25       50.0         5   2015-04-25\n",
       "106  53735977      BUN 2014-03-15       10.0         3   2014-03-15\n",
       "127  53735233      BUN 2014-09-06       21.0         1   2014-09-06\n",
       "129  53735233      BUN 2014-09-06       20.0         1   2014-09-06\n",
       "133  53735233      BUN 2014-09-06       19.0         1   2014-09-06"
      ]
     },
     "execution_count": 68,
     "metadata": {},
     "output_type": "execute_result"
    }
   ],
   "source": [
    "labs_bun.head()"
   ]
  },
  {
   "cell_type": "code",
   "execution_count": 69,
   "metadata": {},
   "outputs": [
    {
     "data": {
      "text/plain": [
       "count    97032.000000\n",
       "mean        24.620630\n",
       "std         22.558807\n",
       "min          1.000000\n",
       "25%         10.000000\n",
       "50%         17.000000\n",
       "75%         31.000000\n",
       "max        260.000000\n",
       "Name: lab_value, dtype: float64"
      ]
     },
     "execution_count": 69,
     "metadata": {},
     "output_type": "execute_result"
    }
   ],
   "source": [
    "labs_bun['lab_value'].describe()"
   ]
  },
  {
   "cell_type": "code",
   "execution_count": 70,
   "metadata": {},
   "outputs": [
    {
     "name": "stderr",
     "output_type": "stream",
     "text": [
      "/anaconda3/envs/bios8366/lib/python3.6/site-packages/ipykernel_launcher.py:20: SettingWithCopyWarning: \n",
      "A value is trying to be set on a copy of a slice from a DataFrame\n",
      "\n",
      "See the caveats in the documentation: http://pandas.pydata.org/pandas-docs/stable/indexing.html#indexing-view-versus-copy\n",
      "/anaconda3/envs/bios8366/lib/python3.6/site-packages/ipykernel_launcher.py:23: SettingWithCopyWarning: \n",
      "A value is trying to be set on a copy of a slice from a DataFrame\n",
      "\n",
      "See the caveats in the documentation: http://pandas.pydata.org/pandas-docs/stable/indexing.html#indexing-view-versus-copy\n"
     ]
    }
   ],
   "source": [
    "labs_bun, labs = outlier_conversion(labs_bun,labs,2,100)"
   ]
  },
  {
   "cell_type": "code",
   "execution_count": 71,
   "metadata": {},
   "outputs": [
    {
     "data": {
      "text/html": [
       "<div>\n",
       "<style scoped>\n",
       "    .dataframe tbody tr th:only-of-type {\n",
       "        vertical-align: middle;\n",
       "    }\n",
       "\n",
       "    .dataframe tbody tr th {\n",
       "        vertical-align: top;\n",
       "    }\n",
       "\n",
       "    .dataframe thead th {\n",
       "        text-align: right;\n",
       "    }\n",
       "</style>\n",
       "<table border=\"1\" class=\"dataframe\">\n",
       "  <thead>\n",
       "    <tr style=\"text-align: right;\">\n",
       "      <th></th>\n",
       "      <th>ruid</th>\n",
       "      <th>lab_name</th>\n",
       "      <th>lab_date</th>\n",
       "      <th>lab_value</th>\n",
       "      <th>visit_id</th>\n",
       "      <th>hospital_day</th>\n",
       "    </tr>\n",
       "  </thead>\n",
       "  <tbody>\n",
       "    <tr>\n",
       "      <th>15</th>\n",
       "      <td>53732537</td>\n",
       "      <td>BUN</td>\n",
       "      <td>2015-04-25</td>\n",
       "      <td>50.0</td>\n",
       "      <td>5</td>\n",
       "      <td>2015-04-25</td>\n",
       "    </tr>\n",
       "    <tr>\n",
       "      <th>106</th>\n",
       "      <td>53735977</td>\n",
       "      <td>BUN</td>\n",
       "      <td>2014-03-15</td>\n",
       "      <td>10.0</td>\n",
       "      <td>3</td>\n",
       "      <td>2014-03-15</td>\n",
       "    </tr>\n",
       "    <tr>\n",
       "      <th>127</th>\n",
       "      <td>53735233</td>\n",
       "      <td>BUN</td>\n",
       "      <td>2014-09-06</td>\n",
       "      <td>21.0</td>\n",
       "      <td>1</td>\n",
       "      <td>2014-09-06</td>\n",
       "    </tr>\n",
       "    <tr>\n",
       "      <th>129</th>\n",
       "      <td>53735233</td>\n",
       "      <td>BUN</td>\n",
       "      <td>2014-09-06</td>\n",
       "      <td>20.0</td>\n",
       "      <td>1</td>\n",
       "      <td>2014-09-06</td>\n",
       "    </tr>\n",
       "    <tr>\n",
       "      <th>133</th>\n",
       "      <td>53735233</td>\n",
       "      <td>BUN</td>\n",
       "      <td>2014-09-06</td>\n",
       "      <td>19.0</td>\n",
       "      <td>1</td>\n",
       "      <td>2014-09-06</td>\n",
       "    </tr>\n",
       "  </tbody>\n",
       "</table>\n",
       "</div>"
      ],
      "text/plain": [
       "         ruid lab_name   lab_date  lab_value  visit_id hospital_day\n",
       "15   53732537      BUN 2015-04-25       50.0         5   2015-04-25\n",
       "106  53735977      BUN 2014-03-15       10.0         3   2014-03-15\n",
       "127  53735233      BUN 2014-09-06       21.0         1   2014-09-06\n",
       "129  53735233      BUN 2014-09-06       20.0         1   2014-09-06\n",
       "133  53735233      BUN 2014-09-06       19.0         1   2014-09-06"
      ]
     },
     "execution_count": 71,
     "metadata": {},
     "output_type": "execute_result"
    }
   ],
   "source": [
    "labs_bun.head()"
   ]
  },
  {
   "cell_type": "code",
   "execution_count": 72,
   "metadata": {},
   "outputs": [
    {
     "data": {
      "text/html": [
       "<div>\n",
       "<style scoped>\n",
       "    .dataframe tbody tr th:only-of-type {\n",
       "        vertical-align: middle;\n",
       "    }\n",
       "\n",
       "    .dataframe tbody tr th {\n",
       "        vertical-align: top;\n",
       "    }\n",
       "\n",
       "    .dataframe thead th {\n",
       "        text-align: right;\n",
       "    }\n",
       "</style>\n",
       "<table border=\"1\" class=\"dataframe\">\n",
       "  <thead>\n",
       "    <tr style=\"text-align: right;\">\n",
       "      <th></th>\n",
       "      <th>lab_value</th>\n",
       "      <th>visit_id</th>\n",
       "    </tr>\n",
       "  </thead>\n",
       "  <tbody>\n",
       "    <tr>\n",
       "      <th>count</th>\n",
       "      <td>95210.000000</td>\n",
       "      <td>97509.000000</td>\n",
       "    </tr>\n",
       "    <tr>\n",
       "      <th>mean</th>\n",
       "      <td>23.201943</td>\n",
       "      <td>5.432883</td>\n",
       "    </tr>\n",
       "    <tr>\n",
       "      <th>std</th>\n",
       "      <td>18.821791</td>\n",
       "      <td>9.144858</td>\n",
       "    </tr>\n",
       "    <tr>\n",
       "      <th>min</th>\n",
       "      <td>2.000000</td>\n",
       "      <td>0.000000</td>\n",
       "    </tr>\n",
       "    <tr>\n",
       "      <th>25%</th>\n",
       "      <td>10.000000</td>\n",
       "      <td>0.000000</td>\n",
       "    </tr>\n",
       "    <tr>\n",
       "      <th>50%</th>\n",
       "      <td>17.000000</td>\n",
       "      <td>2.000000</td>\n",
       "    </tr>\n",
       "    <tr>\n",
       "      <th>75%</th>\n",
       "      <td>30.000000</td>\n",
       "      <td>7.000000</td>\n",
       "    </tr>\n",
       "    <tr>\n",
       "      <th>max</th>\n",
       "      <td>100.000000</td>\n",
       "      <td>100.000000</td>\n",
       "    </tr>\n",
       "  </tbody>\n",
       "</table>\n",
       "</div>"
      ],
      "text/plain": [
       "          lab_value      visit_id\n",
       "count  95210.000000  97509.000000\n",
       "mean      23.201943      5.432883\n",
       "std       18.821791      9.144858\n",
       "min        2.000000      0.000000\n",
       "25%       10.000000      0.000000\n",
       "50%       17.000000      2.000000\n",
       "75%       30.000000      7.000000\n",
       "max      100.000000    100.000000"
      ]
     },
     "execution_count": 72,
     "metadata": {},
     "output_type": "execute_result"
    }
   ],
   "source": [
    "labs_bun.describe()"
   ]
  },
  {
   "cell_type": "code",
   "execution_count": 73,
   "metadata": {},
   "outputs": [
    {
     "data": {
      "text/plain": [
       "ruid               0\n",
       "lab_name           0\n",
       "lab_date           0\n",
       "lab_value       2299\n",
       "visit_id           0\n",
       "hospital_day       0\n",
       "dtype: int64"
      ]
     },
     "execution_count": 73,
     "metadata": {},
     "output_type": "execute_result"
    }
   ],
   "source": [
    "labs_bun.isna().sum()"
   ]
  },
  {
   "cell_type": "code",
   "execution_count": 74,
   "metadata": {},
   "outputs": [
    {
     "data": {
      "text/plain": [
       "array(['BUN', 'PCV', 'Na', 'Creat', 'K', 'GluBed'], dtype=object)"
      ]
     },
     "execution_count": 74,
     "metadata": {},
     "output_type": "execute_result"
    }
   ],
   "source": [
    "labs.lab_name.unique()"
   ]
  },
  {
   "cell_type": "code",
   "execution_count": 75,
   "metadata": {},
   "outputs": [
    {
     "data": {
      "text/plain": [
       "(698814, 6)"
      ]
     },
     "execution_count": 75,
     "metadata": {},
     "output_type": "execute_result"
    }
   ],
   "source": [
    "labs.shape"
   ]
  },
  {
   "cell_type": "markdown",
   "metadata": {},
   "source": [
    "7) convert outliers in `Gluc` to NaN, normal values = 70-100"
   ]
  },
  {
   "cell_type": "code",
   "execution_count": 76,
   "metadata": {},
   "outputs": [
    {
     "name": "stdout",
     "output_type": "stream",
     "text": [
      "99% percentile for  Gluc : \n"
     ]
    },
    {
     "data": {
      "text/plain": [
       "(404.0, 57.0)"
      ]
     },
     "execution_count": 76,
     "metadata": {},
     "output_type": "execute_result"
    },
    {
     "data": {
      "image/png": "[encoded data removed]",
      "text/plain": [
       "<Figure size 432x288 with 1 Axes>"
      ]
     },
     "metadata": {
      "needs_background": "light"
     },
     "output_type": "display_data"
    }
   ],
   "source": [
    "outlier_detection(labs_merged, 'Gluc')"
   ]
  },
  {
   "cell_type": "code",
   "execution_count": 77,
   "metadata": {},
   "outputs": [],
   "source": [
    "labs_gluc = labs_merged[labs_merged.lab_name=='Gluc']"
   ]
  },
  {
   "cell_type": "code",
   "execution_count": 78,
   "metadata": {},
   "outputs": [
    {
     "data": {
      "text/html": [
       "<div>\n",
       "<style scoped>\n",
       "    .dataframe tbody tr th:only-of-type {\n",
       "        vertical-align: middle;\n",
       "    }\n",
       "\n",
       "    .dataframe tbody tr th {\n",
       "        vertical-align: top;\n",
       "    }\n",
       "\n",
       "    .dataframe thead th {\n",
       "        text-align: right;\n",
       "    }\n",
       "</style>\n",
       "<table border=\"1\" class=\"dataframe\">\n",
       "  <thead>\n",
       "    <tr style=\"text-align: right;\">\n",
       "      <th></th>\n",
       "      <th>ruid</th>\n",
       "      <th>lab_name</th>\n",
       "      <th>lab_date</th>\n",
       "      <th>lab_value</th>\n",
       "      <th>visit_id</th>\n",
       "      <th>hospital_day</th>\n",
       "    </tr>\n",
       "  </thead>\n",
       "  <tbody>\n",
       "    <tr>\n",
       "      <th>33</th>\n",
       "      <td>53732537</td>\n",
       "      <td>Gluc</td>\n",
       "      <td>2015-04-25</td>\n",
       "      <td>110.0</td>\n",
       "      <td>5</td>\n",
       "      <td>2015-04-25</td>\n",
       "    </tr>\n",
       "    <tr>\n",
       "      <th>104</th>\n",
       "      <td>53735977</td>\n",
       "      <td>Gluc</td>\n",
       "      <td>2014-03-15</td>\n",
       "      <td>114.0</td>\n",
       "      <td>3</td>\n",
       "      <td>2014-03-15</td>\n",
       "    </tr>\n",
       "    <tr>\n",
       "      <th>124</th>\n",
       "      <td>53735233</td>\n",
       "      <td>Gluc</td>\n",
       "      <td>2014-09-06</td>\n",
       "      <td>235.0</td>\n",
       "      <td>1</td>\n",
       "      <td>2014-09-06</td>\n",
       "    </tr>\n",
       "    <tr>\n",
       "      <th>131</th>\n",
       "      <td>53735233</td>\n",
       "      <td>Gluc</td>\n",
       "      <td>2014-09-06</td>\n",
       "      <td>196.0</td>\n",
       "      <td>1</td>\n",
       "      <td>2014-09-06</td>\n",
       "    </tr>\n",
       "    <tr>\n",
       "      <th>132</th>\n",
       "      <td>53735233</td>\n",
       "      <td>Gluc</td>\n",
       "      <td>2014-09-06</td>\n",
       "      <td>194.0</td>\n",
       "      <td>1</td>\n",
       "      <td>2014-09-06</td>\n",
       "    </tr>\n",
       "  </tbody>\n",
       "</table>\n",
       "</div>"
      ],
      "text/plain": [
       "         ruid lab_name   lab_date  lab_value  visit_id hospital_day\n",
       "33   53732537     Gluc 2015-04-25      110.0         5   2015-04-25\n",
       "104  53735977     Gluc 2014-03-15      114.0         3   2014-03-15\n",
       "124  53735233     Gluc 2014-09-06      235.0         1   2014-09-06\n",
       "131  53735233     Gluc 2014-09-06      196.0         1   2014-09-06\n",
       "132  53735233     Gluc 2014-09-06      194.0         1   2014-09-06"
      ]
     },
     "execution_count": 78,
     "metadata": {},
     "output_type": "execute_result"
    }
   ],
   "source": [
    "labs_gluc.head()"
   ]
  },
  {
   "cell_type": "code",
   "execution_count": 79,
   "metadata": {},
   "outputs": [
    {
     "data": {
      "text/plain": [
       "count    99221.000000\n",
       "mean       128.994437\n",
       "std         68.272490\n",
       "min          6.000000\n",
       "25%         94.000000\n",
       "50%        111.000000\n",
       "75%        141.000000\n",
       "max       1525.000000\n",
       "Name: lab_value, dtype: float64"
      ]
     },
     "execution_count": 79,
     "metadata": {},
     "output_type": "execute_result"
    }
   ],
   "source": [
    "labs_gluc['lab_value'].describe()"
   ]
  },
  {
   "cell_type": "code",
   "execution_count": 80,
   "metadata": {},
   "outputs": [
    {
     "name": "stderr",
     "output_type": "stream",
     "text": [
      "/anaconda3/envs/bios8366/lib/python3.6/site-packages/ipykernel_launcher.py:20: SettingWithCopyWarning: \n",
      "A value is trying to be set on a copy of a slice from a DataFrame\n",
      "\n",
      "See the caveats in the documentation: http://pandas.pydata.org/pandas-docs/stable/indexing.html#indexing-view-versus-copy\n",
      "/anaconda3/envs/bios8366/lib/python3.6/site-packages/ipykernel_launcher.py:23: SettingWithCopyWarning: \n",
      "A value is trying to be set on a copy of a slice from a DataFrame\n",
      "\n",
      "See the caveats in the documentation: http://pandas.pydata.org/pandas-docs/stable/indexing.html#indexing-view-versus-copy\n"
     ]
    }
   ],
   "source": [
    "labs_gluc, labs = outlier_conversion(labs_gluc,labs,40,400)"
   ]
  },
  {
   "cell_type": "code",
   "execution_count": 81,
   "metadata": {},
   "outputs": [
    {
     "data": {
      "text/html": [
       "<div>\n",
       "<style scoped>\n",
       "    .dataframe tbody tr th:only-of-type {\n",
       "        vertical-align: middle;\n",
       "    }\n",
       "\n",
       "    .dataframe tbody tr th {\n",
       "        vertical-align: top;\n",
       "    }\n",
       "\n",
       "    .dataframe thead th {\n",
       "        text-align: right;\n",
       "    }\n",
       "</style>\n",
       "<table border=\"1\" class=\"dataframe\">\n",
       "  <thead>\n",
       "    <tr style=\"text-align: right;\">\n",
       "      <th></th>\n",
       "      <th>ruid</th>\n",
       "      <th>lab_name</th>\n",
       "      <th>lab_date</th>\n",
       "      <th>lab_value</th>\n",
       "      <th>visit_id</th>\n",
       "      <th>hospital_day</th>\n",
       "    </tr>\n",
       "  </thead>\n",
       "  <tbody>\n",
       "    <tr>\n",
       "      <th>33</th>\n",
       "      <td>53732537</td>\n",
       "      <td>Gluc</td>\n",
       "      <td>2015-04-25</td>\n",
       "      <td>110.0</td>\n",
       "      <td>5</td>\n",
       "      <td>2015-04-25</td>\n",
       "    </tr>\n",
       "    <tr>\n",
       "      <th>104</th>\n",
       "      <td>53735977</td>\n",
       "      <td>Gluc</td>\n",
       "      <td>2014-03-15</td>\n",
       "      <td>114.0</td>\n",
       "      <td>3</td>\n",
       "      <td>2014-03-15</td>\n",
       "    </tr>\n",
       "    <tr>\n",
       "      <th>124</th>\n",
       "      <td>53735233</td>\n",
       "      <td>Gluc</td>\n",
       "      <td>2014-09-06</td>\n",
       "      <td>235.0</td>\n",
       "      <td>1</td>\n",
       "      <td>2014-09-06</td>\n",
       "    </tr>\n",
       "    <tr>\n",
       "      <th>131</th>\n",
       "      <td>53735233</td>\n",
       "      <td>Gluc</td>\n",
       "      <td>2014-09-06</td>\n",
       "      <td>196.0</td>\n",
       "      <td>1</td>\n",
       "      <td>2014-09-06</td>\n",
       "    </tr>\n",
       "    <tr>\n",
       "      <th>132</th>\n",
       "      <td>53735233</td>\n",
       "      <td>Gluc</td>\n",
       "      <td>2014-09-06</td>\n",
       "      <td>194.0</td>\n",
       "      <td>1</td>\n",
       "      <td>2014-09-06</td>\n",
       "    </tr>\n",
       "  </tbody>\n",
       "</table>\n",
       "</div>"
      ],
      "text/plain": [
       "         ruid lab_name   lab_date  lab_value  visit_id hospital_day\n",
       "33   53732537     Gluc 2015-04-25      110.0         5   2015-04-25\n",
       "104  53735977     Gluc 2014-03-15      114.0         3   2014-03-15\n",
       "124  53735233     Gluc 2014-09-06      235.0         1   2014-09-06\n",
       "131  53735233     Gluc 2014-09-06      196.0         1   2014-09-06\n",
       "132  53735233     Gluc 2014-09-06      194.0         1   2014-09-06"
      ]
     },
     "execution_count": 81,
     "metadata": {},
     "output_type": "execute_result"
    }
   ],
   "source": [
    "labs_gluc.head()"
   ]
  },
  {
   "cell_type": "code",
   "execution_count": 82,
   "metadata": {},
   "outputs": [
    {
     "data": {
      "text/html": [
       "<div>\n",
       "<style scoped>\n",
       "    .dataframe tbody tr th:only-of-type {\n",
       "        vertical-align: middle;\n",
       "    }\n",
       "\n",
       "    .dataframe tbody tr th {\n",
       "        vertical-align: top;\n",
       "    }\n",
       "\n",
       "    .dataframe thead th {\n",
       "        text-align: right;\n",
       "    }\n",
       "</style>\n",
       "<table border=\"1\" class=\"dataframe\">\n",
       "  <thead>\n",
       "    <tr style=\"text-align: right;\">\n",
       "      <th></th>\n",
       "      <th>lab_value</th>\n",
       "      <th>visit_id</th>\n",
       "    </tr>\n",
       "  </thead>\n",
       "  <tbody>\n",
       "    <tr>\n",
       "      <th>count</th>\n",
       "      <td>98027.000000</td>\n",
       "      <td>99521.000000</td>\n",
       "    </tr>\n",
       "    <tr>\n",
       "      <th>mean</th>\n",
       "      <td>124.755363</td>\n",
       "      <td>5.395153</td>\n",
       "    </tr>\n",
       "    <tr>\n",
       "      <th>std</th>\n",
       "      <td>49.987419</td>\n",
       "      <td>9.044776</td>\n",
       "    </tr>\n",
       "    <tr>\n",
       "      <th>min</th>\n",
       "      <td>40.000000</td>\n",
       "      <td>0.000000</td>\n",
       "    </tr>\n",
       "    <tr>\n",
       "      <th>25%</th>\n",
       "      <td>93.000000</td>\n",
       "      <td>0.000000</td>\n",
       "    </tr>\n",
       "    <tr>\n",
       "      <th>50%</th>\n",
       "      <td>111.000000</td>\n",
       "      <td>2.000000</td>\n",
       "    </tr>\n",
       "    <tr>\n",
       "      <th>75%</th>\n",
       "      <td>140.000000</td>\n",
       "      <td>7.000000</td>\n",
       "    </tr>\n",
       "    <tr>\n",
       "      <th>max</th>\n",
       "      <td>400.000000</td>\n",
       "      <td>100.000000</td>\n",
       "    </tr>\n",
       "  </tbody>\n",
       "</table>\n",
       "</div>"
      ],
      "text/plain": [
       "          lab_value      visit_id\n",
       "count  98027.000000  99521.000000\n",
       "mean     124.755363      5.395153\n",
       "std       49.987419      9.044776\n",
       "min       40.000000      0.000000\n",
       "25%       93.000000      0.000000\n",
       "50%      111.000000      2.000000\n",
       "75%      140.000000      7.000000\n",
       "max      400.000000    100.000000"
      ]
     },
     "execution_count": 82,
     "metadata": {},
     "output_type": "execute_result"
    }
   ],
   "source": [
    "labs_gluc.describe()"
   ]
  },
  {
   "cell_type": "code",
   "execution_count": 83,
   "metadata": {},
   "outputs": [
    {
     "data": {
      "text/plain": [
       "ruid               0\n",
       "lab_name           0\n",
       "lab_date           0\n",
       "lab_value       1494\n",
       "visit_id           0\n",
       "hospital_day       0\n",
       "dtype: int64"
      ]
     },
     "execution_count": 83,
     "metadata": {},
     "output_type": "execute_result"
    }
   ],
   "source": [
    "labs_gluc.isna().sum()"
   ]
  },
  {
   "cell_type": "code",
   "execution_count": 84,
   "metadata": {},
   "outputs": [
    {
     "data": {
      "text/plain": [
       "array(['Gluc', 'BUN', 'PCV', 'Na', 'Creat', 'K', 'GluBed'], dtype=object)"
      ]
     },
     "execution_count": 84,
     "metadata": {},
     "output_type": "execute_result"
    }
   ],
   "source": [
    "labs.lab_name.unique()"
   ]
  },
  {
   "cell_type": "code",
   "execution_count": 85,
   "metadata": {},
   "outputs": [
    {
     "data": {
      "text/plain": [
       "(798335, 6)"
      ]
     },
     "execution_count": 85,
     "metadata": {},
     "output_type": "execute_result"
    }
   ],
   "source": [
    "labs.shape"
   ]
  },
  {
   "cell_type": "markdown",
   "metadata": {},
   "source": [
    "8) convert outliers in `CO2` to NaN, normal values = 23-29"
   ]
  },
  {
   "cell_type": "code",
   "execution_count": 86,
   "metadata": {},
   "outputs": [
    {
     "name": "stdout",
     "output_type": "stream",
     "text": [
      "99% percentile for  CO2 : \n"
     ]
    },
    {
     "data": {
      "text/plain": [
       "(36.0, 14.0)"
      ]
     },
     "execution_count": 86,
     "metadata": {},
     "output_type": "execute_result"
    },
    {
     "data": {
      "image/png": "[encoded data removed]",
      "text/plain": [
       "<Figure size 432x288 with 1 Axes>"
      ]
     },
     "metadata": {
      "needs_background": "light"
     },
     "output_type": "display_data"
    }
   ],
   "source": [
    "outlier_detection(labs_merged, 'CO2')"
   ]
  },
  {
   "cell_type": "code",
   "execution_count": 87,
   "metadata": {},
   "outputs": [],
   "source": [
    "labs_co2 = labs_merged[labs_merged.lab_name=='CO2']"
   ]
  },
  {
   "cell_type": "code",
   "execution_count": 88,
   "metadata": {},
   "outputs": [
    {
     "data": {
      "text/html": [
       "<div>\n",
       "<style scoped>\n",
       "    .dataframe tbody tr th:only-of-type {\n",
       "        vertical-align: middle;\n",
       "    }\n",
       "\n",
       "    .dataframe tbody tr th {\n",
       "        vertical-align: top;\n",
       "    }\n",
       "\n",
       "    .dataframe thead th {\n",
       "        text-align: right;\n",
       "    }\n",
       "</style>\n",
       "<table border=\"1\" class=\"dataframe\">\n",
       "  <thead>\n",
       "    <tr style=\"text-align: right;\">\n",
       "      <th></th>\n",
       "      <th>ruid</th>\n",
       "      <th>lab_name</th>\n",
       "      <th>lab_date</th>\n",
       "      <th>lab_value</th>\n",
       "      <th>visit_id</th>\n",
       "      <th>hospital_day</th>\n",
       "    </tr>\n",
       "  </thead>\n",
       "  <tbody>\n",
       "    <tr>\n",
       "      <th>25</th>\n",
       "      <td>53732537</td>\n",
       "      <td>CO2</td>\n",
       "      <td>2015-04-25</td>\n",
       "      <td>17.0</td>\n",
       "      <td>5</td>\n",
       "      <td>2015-04-25</td>\n",
       "    </tr>\n",
       "    <tr>\n",
       "      <th>53</th>\n",
       "      <td>53728342</td>\n",
       "      <td>CO2</td>\n",
       "      <td>2014-05-26</td>\n",
       "      <td>NaN</td>\n",
       "      <td>9</td>\n",
       "      <td>2014-05-26</td>\n",
       "    </tr>\n",
       "    <tr>\n",
       "      <th>69</th>\n",
       "      <td>53728342</td>\n",
       "      <td>CO2</td>\n",
       "      <td>2014-05-26</td>\n",
       "      <td>30.0</td>\n",
       "      <td>9</td>\n",
       "      <td>2014-05-26</td>\n",
       "    </tr>\n",
       "    <tr>\n",
       "      <th>72</th>\n",
       "      <td>53728342</td>\n",
       "      <td>CO2</td>\n",
       "      <td>2014-05-26</td>\n",
       "      <td>22.0</td>\n",
       "      <td>9</td>\n",
       "      <td>2014-05-26</td>\n",
       "    </tr>\n",
       "    <tr>\n",
       "      <th>99</th>\n",
       "      <td>53735977</td>\n",
       "      <td>CO2</td>\n",
       "      <td>2014-03-15</td>\n",
       "      <td>24.0</td>\n",
       "      <td>3</td>\n",
       "      <td>2014-03-15</td>\n",
       "    </tr>\n",
       "  </tbody>\n",
       "</table>\n",
       "</div>"
      ],
      "text/plain": [
       "        ruid lab_name   lab_date  lab_value  visit_id hospital_day\n",
       "25  53732537      CO2 2015-04-25       17.0         5   2015-04-25\n",
       "53  53728342      CO2 2014-05-26        NaN         9   2014-05-26\n",
       "69  53728342      CO2 2014-05-26       30.0         9   2014-05-26\n",
       "72  53728342      CO2 2014-05-26       22.0         9   2014-05-26\n",
       "99  53735977      CO2 2014-03-15       24.0         3   2014-03-15"
      ]
     },
     "execution_count": 88,
     "metadata": {},
     "output_type": "execute_result"
    }
   ],
   "source": [
    "labs_co2.head()"
   ]
  },
  {
   "cell_type": "code",
   "execution_count": 89,
   "metadata": {},
   "outputs": [
    {
     "data": {
      "text/plain": [
       "count    97866.000000\n",
       "mean        24.857378\n",
       "std          4.462933\n",
       "min          5.000000\n",
       "25%         22.000000\n",
       "50%         25.000000\n",
       "75%         28.000000\n",
       "max         54.000000\n",
       "Name: lab_value, dtype: float64"
      ]
     },
     "execution_count": 89,
     "metadata": {},
     "output_type": "execute_result"
    }
   ],
   "source": [
    "labs_co2['lab_value'].describe()"
   ]
  },
  {
   "cell_type": "code",
   "execution_count": 90,
   "metadata": {},
   "outputs": [
    {
     "name": "stderr",
     "output_type": "stream",
     "text": [
      "/anaconda3/envs/bios8366/lib/python3.6/site-packages/ipykernel_launcher.py:20: SettingWithCopyWarning: \n",
      "A value is trying to be set on a copy of a slice from a DataFrame\n",
      "\n",
      "See the caveats in the documentation: http://pandas.pydata.org/pandas-docs/stable/indexing.html#indexing-view-versus-copy\n",
      "/anaconda3/envs/bios8366/lib/python3.6/site-packages/ipykernel_launcher.py:23: SettingWithCopyWarning: \n",
      "A value is trying to be set on a copy of a slice from a DataFrame\n",
      "\n",
      "See the caveats in the documentation: http://pandas.pydata.org/pandas-docs/stable/indexing.html#indexing-view-versus-copy\n"
     ]
    }
   ],
   "source": [
    "labs_co2, labs = outlier_conversion(labs_co2,labs,14,36)"
   ]
  },
  {
   "cell_type": "code",
   "execution_count": 91,
   "metadata": {},
   "outputs": [
    {
     "data": {
      "text/html": [
       "<div>\n",
       "<style scoped>\n",
       "    .dataframe tbody tr th:only-of-type {\n",
       "        vertical-align: middle;\n",
       "    }\n",
       "\n",
       "    .dataframe tbody tr th {\n",
       "        vertical-align: top;\n",
       "    }\n",
       "\n",
       "    .dataframe thead th {\n",
       "        text-align: right;\n",
       "    }\n",
       "</style>\n",
       "<table border=\"1\" class=\"dataframe\">\n",
       "  <thead>\n",
       "    <tr style=\"text-align: right;\">\n",
       "      <th></th>\n",
       "      <th>ruid</th>\n",
       "      <th>lab_name</th>\n",
       "      <th>lab_date</th>\n",
       "      <th>lab_value</th>\n",
       "      <th>visit_id</th>\n",
       "      <th>hospital_day</th>\n",
       "    </tr>\n",
       "  </thead>\n",
       "  <tbody>\n",
       "    <tr>\n",
       "      <th>25</th>\n",
       "      <td>53732537</td>\n",
       "      <td>CO2</td>\n",
       "      <td>2015-04-25</td>\n",
       "      <td>17.0</td>\n",
       "      <td>5</td>\n",
       "      <td>2015-04-25</td>\n",
       "    </tr>\n",
       "    <tr>\n",
       "      <th>53</th>\n",
       "      <td>53728342</td>\n",
       "      <td>CO2</td>\n",
       "      <td>2014-05-26</td>\n",
       "      <td>NaN</td>\n",
       "      <td>9</td>\n",
       "      <td>2014-05-26</td>\n",
       "    </tr>\n",
       "    <tr>\n",
       "      <th>69</th>\n",
       "      <td>53728342</td>\n",
       "      <td>CO2</td>\n",
       "      <td>2014-05-26</td>\n",
       "      <td>30.0</td>\n",
       "      <td>9</td>\n",
       "      <td>2014-05-26</td>\n",
       "    </tr>\n",
       "    <tr>\n",
       "      <th>72</th>\n",
       "      <td>53728342</td>\n",
       "      <td>CO2</td>\n",
       "      <td>2014-05-26</td>\n",
       "      <td>22.0</td>\n",
       "      <td>9</td>\n",
       "      <td>2014-05-26</td>\n",
       "    </tr>\n",
       "    <tr>\n",
       "      <th>99</th>\n",
       "      <td>53735977</td>\n",
       "      <td>CO2</td>\n",
       "      <td>2014-03-15</td>\n",
       "      <td>24.0</td>\n",
       "      <td>3</td>\n",
       "      <td>2014-03-15</td>\n",
       "    </tr>\n",
       "  </tbody>\n",
       "</table>\n",
       "</div>"
      ],
      "text/plain": [
       "        ruid lab_name   lab_date  lab_value  visit_id hospital_day\n",
       "25  53732537      CO2 2015-04-25       17.0         5   2015-04-25\n",
       "53  53728342      CO2 2014-05-26        NaN         9   2014-05-26\n",
       "69  53728342      CO2 2014-05-26       30.0         9   2014-05-26\n",
       "72  53728342      CO2 2014-05-26       22.0         9   2014-05-26\n",
       "99  53735977      CO2 2014-03-15       24.0         3   2014-03-15"
      ]
     },
     "execution_count": 91,
     "metadata": {},
     "output_type": "execute_result"
    }
   ],
   "source": [
    "labs_co2.head()"
   ]
  },
  {
   "cell_type": "code",
   "execution_count": 92,
   "metadata": {},
   "outputs": [
    {
     "data": {
      "text/html": [
       "<div>\n",
       "<style scoped>\n",
       "    .dataframe tbody tr th:only-of-type {\n",
       "        vertical-align: middle;\n",
       "    }\n",
       "\n",
       "    .dataframe tbody tr th {\n",
       "        vertical-align: top;\n",
       "    }\n",
       "\n",
       "    .dataframe thead th {\n",
       "        text-align: right;\n",
       "    }\n",
       "</style>\n",
       "<table border=\"1\" class=\"dataframe\">\n",
       "  <thead>\n",
       "    <tr style=\"text-align: right;\">\n",
       "      <th></th>\n",
       "      <th>lab_value</th>\n",
       "      <th>visit_id</th>\n",
       "    </tr>\n",
       "  </thead>\n",
       "  <tbody>\n",
       "    <tr>\n",
       "      <th>count</th>\n",
       "      <td>95938.000000</td>\n",
       "      <td>98172.000000</td>\n",
       "    </tr>\n",
       "    <tr>\n",
       "      <th>mean</th>\n",
       "      <td>24.856330</td>\n",
       "      <td>5.418103</td>\n",
       "    </tr>\n",
       "    <tr>\n",
       "      <th>std</th>\n",
       "      <td>4.020049</td>\n",
       "      <td>9.103099</td>\n",
       "    </tr>\n",
       "    <tr>\n",
       "      <th>min</th>\n",
       "      <td>14.000000</td>\n",
       "      <td>0.000000</td>\n",
       "    </tr>\n",
       "    <tr>\n",
       "      <th>25%</th>\n",
       "      <td>22.000000</td>\n",
       "      <td>0.000000</td>\n",
       "    </tr>\n",
       "    <tr>\n",
       "      <th>50%</th>\n",
       "      <td>25.000000</td>\n",
       "      <td>2.000000</td>\n",
       "    </tr>\n",
       "    <tr>\n",
       "      <th>75%</th>\n",
       "      <td>27.000000</td>\n",
       "      <td>7.000000</td>\n",
       "    </tr>\n",
       "    <tr>\n",
       "      <th>max</th>\n",
       "      <td>36.000000</td>\n",
       "      <td>100.000000</td>\n",
       "    </tr>\n",
       "  </tbody>\n",
       "</table>\n",
       "</div>"
      ],
      "text/plain": [
       "          lab_value      visit_id\n",
       "count  95938.000000  98172.000000\n",
       "mean      24.856330      5.418103\n",
       "std        4.020049      9.103099\n",
       "min       14.000000      0.000000\n",
       "25%       22.000000      0.000000\n",
       "50%       25.000000      2.000000\n",
       "75%       27.000000      7.000000\n",
       "max       36.000000    100.000000"
      ]
     },
     "execution_count": 92,
     "metadata": {},
     "output_type": "execute_result"
    }
   ],
   "source": [
    "labs_co2.describe()"
   ]
  },
  {
   "cell_type": "code",
   "execution_count": 93,
   "metadata": {},
   "outputs": [
    {
     "data": {
      "text/plain": [
       "ruid               0\n",
       "lab_name           0\n",
       "lab_date           0\n",
       "lab_value       2234\n",
       "visit_id           0\n",
       "hospital_day       0\n",
       "dtype: int64"
      ]
     },
     "execution_count": 93,
     "metadata": {},
     "output_type": "execute_result"
    }
   ],
   "source": [
    "labs_co2.isna().sum()"
   ]
  },
  {
   "cell_type": "code",
   "execution_count": 94,
   "metadata": {},
   "outputs": [
    {
     "data": {
      "text/plain": [
       "array(['CO2', 'Gluc', 'BUN', 'PCV', 'Na', 'Creat', 'K', 'GluBed'],\n",
       "      dtype=object)"
      ]
     },
     "execution_count": 94,
     "metadata": {},
     "output_type": "execute_result"
    }
   ],
   "source": [
    "labs.lab_name.unique()"
   ]
  },
  {
   "cell_type": "code",
   "execution_count": 95,
   "metadata": {},
   "outputs": [
    {
     "data": {
      "text/plain": [
       "(896507, 6)"
      ]
     },
     "execution_count": 95,
     "metadata": {},
     "output_type": "execute_result"
    }
   ],
   "source": [
    "labs.shape"
   ]
  },
  {
   "cell_type": "markdown",
   "metadata": {},
   "source": [
    "9) convert outliers in `Cl` to NaN, normal values = 96-106"
   ]
  },
  {
   "cell_type": "code",
   "execution_count": 96,
   "metadata": {},
   "outputs": [
    {
     "name": "stdout",
     "output_type": "stream",
     "text": [
      "99% percentile for  Cl : \n"
     ]
    },
    {
     "data": {
      "text/plain": [
       "(119.0, 87.0)"
      ]
     },
     "execution_count": 96,
     "metadata": {},
     "output_type": "execute_result"
    },
    {
     "data": {
      "image/png": "[encoded data removed]",
      "text/plain": [
       "<Figure size 432x288 with 1 Axes>"
      ]
     },
     "metadata": {
      "needs_background": "light"
     },
     "output_type": "display_data"
    }
   ],
   "source": [
    "outlier_detection(labs_merged, 'Cl')"
   ]
  },
  {
   "cell_type": "code",
   "execution_count": 97,
   "metadata": {},
   "outputs": [],
   "source": [
    "labs_cl = labs_merged[labs_merged.lab_name=='Cl']"
   ]
  },
  {
   "cell_type": "code",
   "execution_count": 98,
   "metadata": {},
   "outputs": [
    {
     "data": {
      "text/html": [
       "<div>\n",
       "<style scoped>\n",
       "    .dataframe tbody tr th:only-of-type {\n",
       "        vertical-align: middle;\n",
       "    }\n",
       "\n",
       "    .dataframe tbody tr th {\n",
       "        vertical-align: top;\n",
       "    }\n",
       "\n",
       "    .dataframe thead th {\n",
       "        text-align: right;\n",
       "    }\n",
       "</style>\n",
       "<table border=\"1\" class=\"dataframe\">\n",
       "  <thead>\n",
       "    <tr style=\"text-align: right;\">\n",
       "      <th></th>\n",
       "      <th>ruid</th>\n",
       "      <th>lab_name</th>\n",
       "      <th>lab_date</th>\n",
       "      <th>lab_value</th>\n",
       "      <th>visit_id</th>\n",
       "      <th>hospital_day</th>\n",
       "    </tr>\n",
       "  </thead>\n",
       "  <tbody>\n",
       "    <tr>\n",
       "      <th>34</th>\n",
       "      <td>53732537</td>\n",
       "      <td>Cl</td>\n",
       "      <td>2015-04-25</td>\n",
       "      <td>100.0</td>\n",
       "      <td>5</td>\n",
       "      <td>2015-04-25</td>\n",
       "    </tr>\n",
       "    <tr>\n",
       "      <th>105</th>\n",
       "      <td>53735977</td>\n",
       "      <td>Cl</td>\n",
       "      <td>2014-03-15</td>\n",
       "      <td>108.0</td>\n",
       "      <td>3</td>\n",
       "      <td>2014-03-15</td>\n",
       "    </tr>\n",
       "    <tr>\n",
       "      <th>145</th>\n",
       "      <td>53735233</td>\n",
       "      <td>Cl</td>\n",
       "      <td>2014-09-06</td>\n",
       "      <td>114.0</td>\n",
       "      <td>1</td>\n",
       "      <td>2014-09-06</td>\n",
       "    </tr>\n",
       "    <tr>\n",
       "      <th>146</th>\n",
       "      <td>53735233</td>\n",
       "      <td>Cl</td>\n",
       "      <td>2014-09-06</td>\n",
       "      <td>110.0</td>\n",
       "      <td>1</td>\n",
       "      <td>2014-09-06</td>\n",
       "    </tr>\n",
       "    <tr>\n",
       "      <th>147</th>\n",
       "      <td>53735233</td>\n",
       "      <td>Cl</td>\n",
       "      <td>2014-09-06</td>\n",
       "      <td>109.0</td>\n",
       "      <td>1</td>\n",
       "      <td>2014-09-06</td>\n",
       "    </tr>\n",
       "  </tbody>\n",
       "</table>\n",
       "</div>"
      ],
      "text/plain": [
       "         ruid lab_name   lab_date  lab_value  visit_id hospital_day\n",
       "34   53732537       Cl 2015-04-25      100.0         5   2015-04-25\n",
       "105  53735977       Cl 2014-03-15      108.0         3   2014-03-15\n",
       "145  53735233       Cl 2014-09-06      114.0         1   2014-09-06\n",
       "146  53735233       Cl 2014-09-06      110.0         1   2014-09-06\n",
       "147  53735233       Cl 2014-09-06      109.0         1   2014-09-06"
      ]
     },
     "execution_count": 98,
     "metadata": {},
     "output_type": "execute_result"
    }
   ],
   "source": [
    "labs_cl.head()"
   ]
  },
  {
   "cell_type": "code",
   "execution_count": 99,
   "metadata": {},
   "outputs": [
    {
     "data": {
      "text/plain": [
       "count    97637.000000\n",
       "mean       104.144474\n",
       "std          6.236027\n",
       "min          0.000000\n",
       "25%        101.000000\n",
       "50%        104.000000\n",
       "75%        108.000000\n",
       "max        154.000000\n",
       "Name: lab_value, dtype: float64"
      ]
     },
     "execution_count": 99,
     "metadata": {},
     "output_type": "execute_result"
    }
   ],
   "source": [
    "labs_cl['lab_value'].describe()"
   ]
  },
  {
   "cell_type": "code",
   "execution_count": 100,
   "metadata": {},
   "outputs": [
    {
     "name": "stderr",
     "output_type": "stream",
     "text": [
      "/anaconda3/envs/bios8366/lib/python3.6/site-packages/ipykernel_launcher.py:20: SettingWithCopyWarning: \n",
      "A value is trying to be set on a copy of a slice from a DataFrame\n",
      "\n",
      "See the caveats in the documentation: http://pandas.pydata.org/pandas-docs/stable/indexing.html#indexing-view-versus-copy\n",
      "/anaconda3/envs/bios8366/lib/python3.6/site-packages/ipykernel_launcher.py:23: SettingWithCopyWarning: \n",
      "A value is trying to be set on a copy of a slice from a DataFrame\n",
      "\n",
      "See the caveats in the documentation: http://pandas.pydata.org/pandas-docs/stable/indexing.html#indexing-view-versus-copy\n"
     ]
    }
   ],
   "source": [
    "labs_cl, labs = outlier_conversion(labs_cl,labs,87,119)"
   ]
  },
  {
   "cell_type": "code",
   "execution_count": 101,
   "metadata": {},
   "outputs": [
    {
     "data": {
      "text/plain": [
       "array(['Cl'], dtype=object)"
      ]
     },
     "execution_count": 101,
     "metadata": {},
     "output_type": "execute_result"
    }
   ],
   "source": [
    "labs_cl.lab_name.unique()"
   ]
  },
  {
   "cell_type": "code",
   "execution_count": 102,
   "metadata": {},
   "outputs": [
    {
     "data": {
      "text/html": [
       "<div>\n",
       "<style scoped>\n",
       "    .dataframe tbody tr th:only-of-type {\n",
       "        vertical-align: middle;\n",
       "    }\n",
       "\n",
       "    .dataframe tbody tr th {\n",
       "        vertical-align: top;\n",
       "    }\n",
       "\n",
       "    .dataframe thead th {\n",
       "        text-align: right;\n",
       "    }\n",
       "</style>\n",
       "<table border=\"1\" class=\"dataframe\">\n",
       "  <thead>\n",
       "    <tr style=\"text-align: right;\">\n",
       "      <th></th>\n",
       "      <th>lab_value</th>\n",
       "      <th>visit_id</th>\n",
       "    </tr>\n",
       "  </thead>\n",
       "  <tbody>\n",
       "    <tr>\n",
       "      <th>count</th>\n",
       "      <td>95902.000000</td>\n",
       "      <td>97929.000000</td>\n",
       "    </tr>\n",
       "    <tr>\n",
       "      <th>mean</th>\n",
       "      <td>104.124961</td>\n",
       "      <td>5.422092</td>\n",
       "    </tr>\n",
       "    <tr>\n",
       "      <th>std</th>\n",
       "      <td>5.613041</td>\n",
       "      <td>9.114513</td>\n",
       "    </tr>\n",
       "    <tr>\n",
       "      <th>min</th>\n",
       "      <td>87.000000</td>\n",
       "      <td>0.000000</td>\n",
       "    </tr>\n",
       "    <tr>\n",
       "      <th>25%</th>\n",
       "      <td>101.000000</td>\n",
       "      <td>0.000000</td>\n",
       "    </tr>\n",
       "    <tr>\n",
       "      <th>50%</th>\n",
       "      <td>104.000000</td>\n",
       "      <td>2.000000</td>\n",
       "    </tr>\n",
       "    <tr>\n",
       "      <th>75%</th>\n",
       "      <td>108.000000</td>\n",
       "      <td>7.000000</td>\n",
       "    </tr>\n",
       "    <tr>\n",
       "      <th>max</th>\n",
       "      <td>119.000000</td>\n",
       "      <td>100.000000</td>\n",
       "    </tr>\n",
       "  </tbody>\n",
       "</table>\n",
       "</div>"
      ],
      "text/plain": [
       "          lab_value      visit_id\n",
       "count  95902.000000  97929.000000\n",
       "mean     104.124961      5.422092\n",
       "std        5.613041      9.114513\n",
       "min       87.000000      0.000000\n",
       "25%      101.000000      0.000000\n",
       "50%      104.000000      2.000000\n",
       "75%      108.000000      7.000000\n",
       "max      119.000000    100.000000"
      ]
     },
     "execution_count": 102,
     "metadata": {},
     "output_type": "execute_result"
    }
   ],
   "source": [
    "labs_cl.describe()"
   ]
  },
  {
   "cell_type": "code",
   "execution_count": 103,
   "metadata": {},
   "outputs": [
    {
     "data": {
      "text/plain": [
       "ruid               0\n",
       "lab_name           0\n",
       "lab_date           0\n",
       "lab_value       2027\n",
       "visit_id           0\n",
       "hospital_day       0\n",
       "dtype: int64"
      ]
     },
     "execution_count": 103,
     "metadata": {},
     "output_type": "execute_result"
    }
   ],
   "source": [
    "labs_cl.isna().sum()"
   ]
  },
  {
   "cell_type": "code",
   "execution_count": 104,
   "metadata": {},
   "outputs": [
    {
     "data": {
      "text/plain": [
       "array(['Cl', 'CO2', 'Gluc', 'BUN', 'PCV', 'Na', 'Creat', 'K', 'GluBed'],\n",
       "      dtype=object)"
      ]
     },
     "execution_count": 104,
     "metadata": {},
     "output_type": "execute_result"
    }
   ],
   "source": [
    "labs.lab_name.unique()"
   ]
  },
  {
   "cell_type": "code",
   "execution_count": 105,
   "metadata": {},
   "outputs": [
    {
     "data": {
      "text/plain": [
       "(994436, 6)"
      ]
     },
     "execution_count": 105,
     "metadata": {},
     "output_type": "execute_result"
    }
   ],
   "source": [
    "labs.shape"
   ]
  },
  {
   "cell_type": "markdown",
   "metadata": {},
   "source": [
    "10) convert outliers in `Plt-Ct` to NaN, normal values = 150-450"
   ]
  },
  {
   "cell_type": "code",
   "execution_count": 106,
   "metadata": {},
   "outputs": [
    {
     "name": "stdout",
     "output_type": "stream",
     "text": [
      "99% percentile for  Plt-Ct : \n"
     ]
    },
    {
     "data": {
      "text/plain": [
       "(677.0, 13.0)"
      ]
     },
     "execution_count": 106,
     "metadata": {},
     "output_type": "execute_result"
    },
    {
     "data": {
      "image/png": "[encoded data removed]",
      "text/plain": [
       "<Figure size 432x288 with 1 Axes>"
      ]
     },
     "metadata": {
      "needs_background": "light"
     },
     "output_type": "display_data"
    }
   ],
   "source": [
    "outlier_detection(labs_merged, 'Plt-Ct')"
   ]
  },
  {
   "cell_type": "code",
   "execution_count": 107,
   "metadata": {},
   "outputs": [],
   "source": [
    "labs_plt = labs_merged[labs_merged.lab_name=='Plt-Ct']"
   ]
  },
  {
   "cell_type": "code",
   "execution_count": 108,
   "metadata": {},
   "outputs": [
    {
     "data": {
      "image/png": "[encoded data removed]",
      "text/plain": [
       "<Figure size 432x288 with 1 Axes>"
      ]
     },
     "metadata": {
      "needs_background": "light"
     },
     "output_type": "display_data"
    }
   ],
   "source": [
    "# want to take a look at log transformed histogram\n",
    "fig, ax = plt.subplots()\n",
    "\n",
    "n_bins=50\n",
    "\n",
    "_=ax.hist(labs_plt.lab_value, bins=n_bins)\n",
    "\n",
    "ax.set_xscale('log', basex=10)"
   ]
  },
  {
   "cell_type": "code",
   "execution_count": 109,
   "metadata": {},
   "outputs": [
    {
     "data": {
      "text/plain": [
       "count    93776.000000\n",
       "mean       223.114187\n",
       "std        141.654463\n",
       "min          5.000000\n",
       "25%        130.000000\n",
       "50%        204.000000\n",
       "75%        290.000000\n",
       "max       2334.000000\n",
       "Name: lab_value, dtype: float64"
      ]
     },
     "execution_count": 109,
     "metadata": {},
     "output_type": "execute_result"
    }
   ],
   "source": [
    "labs_plt['lab_value'].describe()"
   ]
  },
  {
   "cell_type": "code",
   "execution_count": 110,
   "metadata": {},
   "outputs": [
    {
     "name": "stderr",
     "output_type": "stream",
     "text": [
      "/anaconda3/envs/bios8366/lib/python3.6/site-packages/ipykernel_launcher.py:20: SettingWithCopyWarning: \n",
      "A value is trying to be set on a copy of a slice from a DataFrame\n",
      "\n",
      "See the caveats in the documentation: http://pandas.pydata.org/pandas-docs/stable/indexing.html#indexing-view-versus-copy\n",
      "/anaconda3/envs/bios8366/lib/python3.6/site-packages/ipykernel_launcher.py:23: SettingWithCopyWarning: \n",
      "A value is trying to be set on a copy of a slice from a DataFrame\n",
      "\n",
      "See the caveats in the documentation: http://pandas.pydata.org/pandas-docs/stable/indexing.html#indexing-view-versus-copy\n"
     ]
    }
   ],
   "source": [
    "labs_plt, labs = outlier_conversion(labs_plt,labs,20,1000)"
   ]
  },
  {
   "cell_type": "code",
   "execution_count": 111,
   "metadata": {},
   "outputs": [
    {
     "data": {
      "text/html": [
       "<div>\n",
       "<style scoped>\n",
       "    .dataframe tbody tr th:only-of-type {\n",
       "        vertical-align: middle;\n",
       "    }\n",
       "\n",
       "    .dataframe tbody tr th {\n",
       "        vertical-align: top;\n",
       "    }\n",
       "\n",
       "    .dataframe thead th {\n",
       "        text-align: right;\n",
       "    }\n",
       "</style>\n",
       "<table border=\"1\" class=\"dataframe\">\n",
       "  <thead>\n",
       "    <tr style=\"text-align: right;\">\n",
       "      <th></th>\n",
       "      <th>ruid</th>\n",
       "      <th>lab_name</th>\n",
       "      <th>lab_date</th>\n",
       "      <th>lab_value</th>\n",
       "      <th>visit_id</th>\n",
       "      <th>hospital_day</th>\n",
       "    </tr>\n",
       "  </thead>\n",
       "  <tbody>\n",
       "    <tr>\n",
       "      <th>1</th>\n",
       "      <td>53732537</td>\n",
       "      <td>Plt-Ct</td>\n",
       "      <td>2015-04-25</td>\n",
       "      <td>NaN</td>\n",
       "      <td>5</td>\n",
       "      <td>2015-04-25</td>\n",
       "    </tr>\n",
       "    <tr>\n",
       "      <th>9</th>\n",
       "      <td>53732537</td>\n",
       "      <td>Plt-Ct</td>\n",
       "      <td>2015-04-25</td>\n",
       "      <td>NaN</td>\n",
       "      <td>5</td>\n",
       "      <td>2015-04-25</td>\n",
       "    </tr>\n",
       "    <tr>\n",
       "      <th>19</th>\n",
       "      <td>53732537</td>\n",
       "      <td>Plt-Ct</td>\n",
       "      <td>2015-04-25</td>\n",
       "      <td>271.0</td>\n",
       "      <td>5</td>\n",
       "      <td>2015-04-25</td>\n",
       "    </tr>\n",
       "    <tr>\n",
       "      <th>45</th>\n",
       "      <td>53728342</td>\n",
       "      <td>Plt-Ct</td>\n",
       "      <td>2014-05-26</td>\n",
       "      <td>NaN</td>\n",
       "      <td>9</td>\n",
       "      <td>2014-05-26</td>\n",
       "    </tr>\n",
       "    <tr>\n",
       "      <th>59</th>\n",
       "      <td>53728342</td>\n",
       "      <td>Plt-Ct</td>\n",
       "      <td>2014-05-26</td>\n",
       "      <td>60.0</td>\n",
       "      <td>9</td>\n",
       "      <td>2014-05-26</td>\n",
       "    </tr>\n",
       "  </tbody>\n",
       "</table>\n",
       "</div>"
      ],
      "text/plain": [
       "        ruid lab_name   lab_date  lab_value  visit_id hospital_day\n",
       "1   53732537   Plt-Ct 2015-04-25        NaN         5   2015-04-25\n",
       "9   53732537   Plt-Ct 2015-04-25        NaN         5   2015-04-25\n",
       "19  53732537   Plt-Ct 2015-04-25      271.0         5   2015-04-25\n",
       "45  53728342   Plt-Ct 2014-05-26        NaN         9   2014-05-26\n",
       "59  53728342   Plt-Ct 2014-05-26       60.0         9   2014-05-26"
      ]
     },
     "execution_count": 111,
     "metadata": {},
     "output_type": "execute_result"
    }
   ],
   "source": [
    "labs_plt.head()"
   ]
  },
  {
   "cell_type": "code",
   "execution_count": 112,
   "metadata": {},
   "outputs": [
    {
     "data": {
      "text/html": [
       "<div>\n",
       "<style scoped>\n",
       "    .dataframe tbody tr th:only-of-type {\n",
       "        vertical-align: middle;\n",
       "    }\n",
       "\n",
       "    .dataframe tbody tr th {\n",
       "        vertical-align: top;\n",
       "    }\n",
       "\n",
       "    .dataframe thead th {\n",
       "        text-align: right;\n",
       "    }\n",
       "</style>\n",
       "<table border=\"1\" class=\"dataframe\">\n",
       "  <thead>\n",
       "    <tr style=\"text-align: right;\">\n",
       "      <th></th>\n",
       "      <th>lab_value</th>\n",
       "      <th>visit_id</th>\n",
       "    </tr>\n",
       "  </thead>\n",
       "  <tbody>\n",
       "    <tr>\n",
       "      <th>count</th>\n",
       "      <td>91157.000000</td>\n",
       "      <td>94594.000000</td>\n",
       "    </tr>\n",
       "    <tr>\n",
       "      <th>mean</th>\n",
       "      <td>227.300778</td>\n",
       "      <td>5.500888</td>\n",
       "    </tr>\n",
       "    <tr>\n",
       "      <th>std</th>\n",
       "      <td>133.521809</td>\n",
       "      <td>9.571813</td>\n",
       "    </tr>\n",
       "    <tr>\n",
       "      <th>min</th>\n",
       "      <td>20.000000</td>\n",
       "      <td>0.000000</td>\n",
       "    </tr>\n",
       "    <tr>\n",
       "      <th>25%</th>\n",
       "      <td>137.000000</td>\n",
       "      <td>0.000000</td>\n",
       "    </tr>\n",
       "    <tr>\n",
       "      <th>50%</th>\n",
       "      <td>208.000000</td>\n",
       "      <td>2.000000</td>\n",
       "    </tr>\n",
       "    <tr>\n",
       "      <th>75%</th>\n",
       "      <td>292.000000</td>\n",
       "      <td>7.000000</td>\n",
       "    </tr>\n",
       "    <tr>\n",
       "      <th>max</th>\n",
       "      <td>1000.000000</td>\n",
       "      <td>100.000000</td>\n",
       "    </tr>\n",
       "  </tbody>\n",
       "</table>\n",
       "</div>"
      ],
      "text/plain": [
       "          lab_value      visit_id\n",
       "count  91157.000000  94594.000000\n",
       "mean     227.300778      5.500888\n",
       "std      133.521809      9.571813\n",
       "min       20.000000      0.000000\n",
       "25%      137.000000      0.000000\n",
       "50%      208.000000      2.000000\n",
       "75%      292.000000      7.000000\n",
       "max     1000.000000    100.000000"
      ]
     },
     "execution_count": 112,
     "metadata": {},
     "output_type": "execute_result"
    }
   ],
   "source": [
    "labs_plt.describe()"
   ]
  },
  {
   "cell_type": "code",
   "execution_count": 113,
   "metadata": {},
   "outputs": [
    {
     "data": {
      "text/plain": [
       "ruid               0\n",
       "lab_name           0\n",
       "lab_date           0\n",
       "lab_value       3437\n",
       "visit_id           0\n",
       "hospital_day       0\n",
       "dtype: int64"
      ]
     },
     "execution_count": 113,
     "metadata": {},
     "output_type": "execute_result"
    }
   ],
   "source": [
    "labs_plt.isna().sum()"
   ]
  },
  {
   "cell_type": "code",
   "execution_count": 114,
   "metadata": {},
   "outputs": [
    {
     "data": {
      "text/plain": [
       "array(['Plt-Ct', 'Cl', 'CO2', 'Gluc', 'BUN', 'PCV', 'Na', 'Creat', 'K',\n",
       "       'GluBed'], dtype=object)"
      ]
     },
     "execution_count": 114,
     "metadata": {},
     "output_type": "execute_result"
    }
   ],
   "source": [
    "labs.lab_name.unique()"
   ]
  },
  {
   "cell_type": "code",
   "execution_count": 115,
   "metadata": {},
   "outputs": [
    {
     "data": {
      "text/plain": [
       "(1089030, 6)"
      ]
     },
     "execution_count": 115,
     "metadata": {},
     "output_type": "execute_result"
    }
   ],
   "source": [
    "labs.shape"
   ]
  },
  {
   "cell_type": "markdown",
   "metadata": {},
   "source": [
    "11) convert outliers in `WBC` to NaN, normal values = 3.5-10.5"
   ]
  },
  {
   "cell_type": "code",
   "execution_count": 116,
   "metadata": {},
   "outputs": [
    {
     "name": "stdout",
     "output_type": "stream",
     "text": [
      "99% percentile for  WBC : \n"
     ]
    },
    {
     "data": {
      "text/plain": [
       "(31.6, 0.2)"
      ]
     },
     "execution_count": 116,
     "metadata": {},
     "output_type": "execute_result"
    },
    {
     "data": {
      "image/png": "[encoded data removed]",
      "text/plain": [
       "<Figure size 432x288 with 1 Axes>"
      ]
     },
     "metadata": {
      "needs_background": "light"
     },
     "output_type": "display_data"
    }
   ],
   "source": [
    "outlier_detection(labs_merged, 'WBC')"
   ]
  },
  {
   "cell_type": "code",
   "execution_count": 117,
   "metadata": {},
   "outputs": [],
   "source": [
    "labs_wbc = labs_merged[labs_merged.lab_name=='WBC']"
   ]
  },
  {
   "cell_type": "code",
   "execution_count": 118,
   "metadata": {},
   "outputs": [
    {
     "data": {
      "text/html": [
       "<div>\n",
       "<style scoped>\n",
       "    .dataframe tbody tr th:only-of-type {\n",
       "        vertical-align: middle;\n",
       "    }\n",
       "\n",
       "    .dataframe tbody tr th {\n",
       "        vertical-align: top;\n",
       "    }\n",
       "\n",
       "    .dataframe thead th {\n",
       "        text-align: right;\n",
       "    }\n",
       "</style>\n",
       "<table border=\"1\" class=\"dataframe\">\n",
       "  <thead>\n",
       "    <tr style=\"text-align: right;\">\n",
       "      <th></th>\n",
       "      <th>ruid</th>\n",
       "      <th>lab_name</th>\n",
       "      <th>lab_date</th>\n",
       "      <th>lab_value</th>\n",
       "      <th>visit_id</th>\n",
       "      <th>hospital_day</th>\n",
       "    </tr>\n",
       "  </thead>\n",
       "  <tbody>\n",
       "    <tr>\n",
       "      <th>3</th>\n",
       "      <td>53732537</td>\n",
       "      <td>WBC</td>\n",
       "      <td>2015-04-25</td>\n",
       "      <td>NaN</td>\n",
       "      <td>5</td>\n",
       "      <td>2015-04-25</td>\n",
       "    </tr>\n",
       "    <tr>\n",
       "      <th>32</th>\n",
       "      <td>53732537</td>\n",
       "      <td>WBC</td>\n",
       "      <td>2015-04-25</td>\n",
       "      <td>12.3</td>\n",
       "      <td>5</td>\n",
       "      <td>2015-04-25</td>\n",
       "    </tr>\n",
       "    <tr>\n",
       "      <th>36</th>\n",
       "      <td>53732537</td>\n",
       "      <td>WBC</td>\n",
       "      <td>2015-04-25</td>\n",
       "      <td>NaN</td>\n",
       "      <td>5</td>\n",
       "      <td>2015-04-25</td>\n",
       "    </tr>\n",
       "    <tr>\n",
       "      <th>42</th>\n",
       "      <td>53728342</td>\n",
       "      <td>WBC</td>\n",
       "      <td>2014-05-26</td>\n",
       "      <td>NaN</td>\n",
       "      <td>9</td>\n",
       "      <td>2014-05-26</td>\n",
       "    </tr>\n",
       "    <tr>\n",
       "      <th>60</th>\n",
       "      <td>53728342</td>\n",
       "      <td>WBC</td>\n",
       "      <td>2014-05-26</td>\n",
       "      <td>6.2</td>\n",
       "      <td>9</td>\n",
       "      <td>2014-05-26</td>\n",
       "    </tr>\n",
       "  </tbody>\n",
       "</table>\n",
       "</div>"
      ],
      "text/plain": [
       "        ruid lab_name   lab_date  lab_value  visit_id hospital_day\n",
       "3   53732537      WBC 2015-04-25        NaN         5   2015-04-25\n",
       "32  53732537      WBC 2015-04-25       12.3         5   2015-04-25\n",
       "36  53732537      WBC 2015-04-25        NaN         5   2015-04-25\n",
       "42  53728342      WBC 2014-05-26        NaN         9   2014-05-26\n",
       "60  53728342      WBC 2014-05-26        6.2         9   2014-05-26"
      ]
     },
     "execution_count": 118,
     "metadata": {},
     "output_type": "execute_result"
    }
   ],
   "source": [
    "labs_wbc.head()"
   ]
  },
  {
   "cell_type": "code",
   "execution_count": 119,
   "metadata": {},
   "outputs": [
    {
     "data": {
      "text/plain": [
       "count    90303.000000\n",
       "mean         9.553975\n",
       "std          8.035340\n",
       "min          0.100000\n",
       "25%          5.600000\n",
       "50%          8.400000\n",
       "75%         12.000000\n",
       "max        902.000000\n",
       "Name: lab_value, dtype: float64"
      ]
     },
     "execution_count": 119,
     "metadata": {},
     "output_type": "execute_result"
    }
   ],
   "source": [
    "labs_wbc['lab_value'].describe()"
   ]
  },
  {
   "cell_type": "code",
   "execution_count": 120,
   "metadata": {},
   "outputs": [
    {
     "name": "stderr",
     "output_type": "stream",
     "text": [
      "/anaconda3/envs/bios8366/lib/python3.6/site-packages/ipykernel_launcher.py:20: SettingWithCopyWarning: \n",
      "A value is trying to be set on a copy of a slice from a DataFrame\n",
      "\n",
      "See the caveats in the documentation: http://pandas.pydata.org/pandas-docs/stable/indexing.html#indexing-view-versus-copy\n",
      "/anaconda3/envs/bios8366/lib/python3.6/site-packages/ipykernel_launcher.py:23: SettingWithCopyWarning: \n",
      "A value is trying to be set on a copy of a slice from a DataFrame\n",
      "\n",
      "See the caveats in the documentation: http://pandas.pydata.org/pandas-docs/stable/indexing.html#indexing-view-versus-copy\n"
     ]
    }
   ],
   "source": [
    "labs_wbc, labs = outlier_conversion(labs_wbc,labs,0.2,32)"
   ]
  },
  {
   "cell_type": "code",
   "execution_count": 121,
   "metadata": {},
   "outputs": [
    {
     "data": {
      "text/html": [
       "<div>\n",
       "<style scoped>\n",
       "    .dataframe tbody tr th:only-of-type {\n",
       "        vertical-align: middle;\n",
       "    }\n",
       "\n",
       "    .dataframe tbody tr th {\n",
       "        vertical-align: top;\n",
       "    }\n",
       "\n",
       "    .dataframe thead th {\n",
       "        text-align: right;\n",
       "    }\n",
       "</style>\n",
       "<table border=\"1\" class=\"dataframe\">\n",
       "  <thead>\n",
       "    <tr style=\"text-align: right;\">\n",
       "      <th></th>\n",
       "      <th>ruid</th>\n",
       "      <th>lab_name</th>\n",
       "      <th>lab_date</th>\n",
       "      <th>lab_value</th>\n",
       "      <th>visit_id</th>\n",
       "      <th>hospital_day</th>\n",
       "    </tr>\n",
       "  </thead>\n",
       "  <tbody>\n",
       "    <tr>\n",
       "      <th>3</th>\n",
       "      <td>53732537</td>\n",
       "      <td>WBC</td>\n",
       "      <td>2015-04-25</td>\n",
       "      <td>NaN</td>\n",
       "      <td>5</td>\n",
       "      <td>2015-04-25</td>\n",
       "    </tr>\n",
       "    <tr>\n",
       "      <th>32</th>\n",
       "      <td>53732537</td>\n",
       "      <td>WBC</td>\n",
       "      <td>2015-04-25</td>\n",
       "      <td>12.3</td>\n",
       "      <td>5</td>\n",
       "      <td>2015-04-25</td>\n",
       "    </tr>\n",
       "    <tr>\n",
       "      <th>36</th>\n",
       "      <td>53732537</td>\n",
       "      <td>WBC</td>\n",
       "      <td>2015-04-25</td>\n",
       "      <td>NaN</td>\n",
       "      <td>5</td>\n",
       "      <td>2015-04-25</td>\n",
       "    </tr>\n",
       "    <tr>\n",
       "      <th>42</th>\n",
       "      <td>53728342</td>\n",
       "      <td>WBC</td>\n",
       "      <td>2014-05-26</td>\n",
       "      <td>NaN</td>\n",
       "      <td>9</td>\n",
       "      <td>2014-05-26</td>\n",
       "    </tr>\n",
       "    <tr>\n",
       "      <th>60</th>\n",
       "      <td>53728342</td>\n",
       "      <td>WBC</td>\n",
       "      <td>2014-05-26</td>\n",
       "      <td>6.2</td>\n",
       "      <td>9</td>\n",
       "      <td>2014-05-26</td>\n",
       "    </tr>\n",
       "  </tbody>\n",
       "</table>\n",
       "</div>"
      ],
      "text/plain": [
       "        ruid lab_name   lab_date  lab_value  visit_id hospital_day\n",
       "3   53732537      WBC 2015-04-25        NaN         5   2015-04-25\n",
       "32  53732537      WBC 2015-04-25       12.3         5   2015-04-25\n",
       "36  53732537      WBC 2015-04-25        NaN         5   2015-04-25\n",
       "42  53728342      WBC 2014-05-26        NaN         9   2014-05-26\n",
       "60  53728342      WBC 2014-05-26        6.2         9   2014-05-26"
      ]
     },
     "execution_count": 121,
     "metadata": {},
     "output_type": "execute_result"
    }
   ],
   "source": [
    "labs_wbc.head()"
   ]
  },
  {
   "cell_type": "code",
   "execution_count": 122,
   "metadata": {},
   "outputs": [
    {
     "data": {
      "text/html": [
       "<div>\n",
       "<style scoped>\n",
       "    .dataframe tbody tr th:only-of-type {\n",
       "        vertical-align: middle;\n",
       "    }\n",
       "\n",
       "    .dataframe tbody tr th {\n",
       "        vertical-align: top;\n",
       "    }\n",
       "\n",
       "    .dataframe thead th {\n",
       "        text-align: right;\n",
       "    }\n",
       "</style>\n",
       "<table border=\"1\" class=\"dataframe\">\n",
       "  <thead>\n",
       "    <tr style=\"text-align: right;\">\n",
       "      <th></th>\n",
       "      <th>lab_value</th>\n",
       "      <th>visit_id</th>\n",
       "    </tr>\n",
       "  </thead>\n",
       "  <tbody>\n",
       "    <tr>\n",
       "      <th>count</th>\n",
       "      <td>88623.000000</td>\n",
       "      <td>91173.000000</td>\n",
       "    </tr>\n",
       "    <tr>\n",
       "      <th>mean</th>\n",
       "      <td>9.240726</td>\n",
       "      <td>5.540171</td>\n",
       "    </tr>\n",
       "    <tr>\n",
       "      <th>std</th>\n",
       "      <td>5.263929</td>\n",
       "      <td>9.615497</td>\n",
       "    </tr>\n",
       "    <tr>\n",
       "      <th>min</th>\n",
       "      <td>0.200000</td>\n",
       "      <td>0.000000</td>\n",
       "    </tr>\n",
       "    <tr>\n",
       "      <th>25%</th>\n",
       "      <td>5.700000</td>\n",
       "      <td>0.000000</td>\n",
       "    </tr>\n",
       "    <tr>\n",
       "      <th>50%</th>\n",
       "      <td>8.400000</td>\n",
       "      <td>2.000000</td>\n",
       "    </tr>\n",
       "    <tr>\n",
       "      <th>75%</th>\n",
       "      <td>11.900000</td>\n",
       "      <td>7.000000</td>\n",
       "    </tr>\n",
       "    <tr>\n",
       "      <th>max</th>\n",
       "      <td>32.000000</td>\n",
       "      <td>100.000000</td>\n",
       "    </tr>\n",
       "  </tbody>\n",
       "</table>\n",
       "</div>"
      ],
      "text/plain": [
       "          lab_value      visit_id\n",
       "count  88623.000000  91173.000000\n",
       "mean       9.240726      5.540171\n",
       "std        5.263929      9.615497\n",
       "min        0.200000      0.000000\n",
       "25%        5.700000      0.000000\n",
       "50%        8.400000      2.000000\n",
       "75%       11.900000      7.000000\n",
       "max       32.000000    100.000000"
      ]
     },
     "execution_count": 122,
     "metadata": {},
     "output_type": "execute_result"
    }
   ],
   "source": [
    "labs_wbc.describe()"
   ]
  },
  {
   "cell_type": "code",
   "execution_count": 123,
   "metadata": {},
   "outputs": [
    {
     "data": {
      "image/png": "[encoded data removed]",
      "text/plain": [
       "<Figure size 432x288 with 1 Axes>"
      ]
     },
     "metadata": {
      "needs_background": "light"
     },
     "output_type": "display_data"
    }
   ],
   "source": [
    "# want to see histogram of cleaned wbc data\n",
    "fig, ax = plt.subplots()\n",
    "\n",
    "_=ax.hist(labs_wbc.lab_value)"
   ]
  },
  {
   "cell_type": "code",
   "execution_count": 124,
   "metadata": {},
   "outputs": [
    {
     "data": {
      "text/plain": [
       "ruid               0\n",
       "lab_name           0\n",
       "lab_date           0\n",
       "lab_value       2550\n",
       "visit_id           0\n",
       "hospital_day       0\n",
       "dtype: int64"
      ]
     },
     "execution_count": 124,
     "metadata": {},
     "output_type": "execute_result"
    }
   ],
   "source": [
    "labs_wbc.isna().sum()"
   ]
  },
  {
   "cell_type": "code",
   "execution_count": 125,
   "metadata": {},
   "outputs": [
    {
     "data": {
      "text/plain": [
       "array(['WBC', 'Plt-Ct', 'Cl', 'CO2', 'Gluc', 'BUN', 'PCV', 'Na', 'Creat',\n",
       "       'K', 'GluBed'], dtype=object)"
      ]
     },
     "execution_count": 125,
     "metadata": {},
     "output_type": "execute_result"
    }
   ],
   "source": [
    "labs.lab_name.unique()"
   ]
  },
  {
   "cell_type": "code",
   "execution_count": 126,
   "metadata": {},
   "outputs": [
    {
     "data": {
      "text/plain": [
       "(1180203, 6)"
      ]
     },
     "execution_count": 126,
     "metadata": {},
     "output_type": "execute_result"
    }
   ],
   "source": [
    "labs.shape"
   ]
  },
  {
   "cell_type": "markdown",
   "metadata": {},
   "source": [
    "12) convert outliers in `Hgb` to NaN, normal values = 13.5-17.5 (males), 12.0-15.5 (females)"
   ]
  },
  {
   "cell_type": "code",
   "execution_count": 127,
   "metadata": {},
   "outputs": [
    {
     "name": "stdout",
     "output_type": "stream",
     "text": [
      "99% percentile for  Hgb : \n"
     ]
    },
    {
     "data": {
      "text/plain": [
       "(15.9, 6.3)"
      ]
     },
     "execution_count": 127,
     "metadata": {},
     "output_type": "execute_result"
    },
    {
     "data": {
      "image/png": "[encoded data removed]",
      "text/plain": [
       "<Figure size 432x288 with 1 Axes>"
      ]
     },
     "metadata": {
      "needs_background": "light"
     },
     "output_type": "display_data"
    }
   ],
   "source": [
    "outlier_detection(labs_merged, 'Hgb')"
   ]
  },
  {
   "cell_type": "code",
   "execution_count": 128,
   "metadata": {},
   "outputs": [],
   "source": [
    "labs_hgb = labs_merged[labs_merged.lab_name=='Hgb']"
   ]
  },
  {
   "cell_type": "code",
   "execution_count": 129,
   "metadata": {},
   "outputs": [
    {
     "data": {
      "text/html": [
       "<div>\n",
       "<style scoped>\n",
       "    .dataframe tbody tr th:only-of-type {\n",
       "        vertical-align: middle;\n",
       "    }\n",
       "\n",
       "    .dataframe tbody tr th {\n",
       "        vertical-align: top;\n",
       "    }\n",
       "\n",
       "    .dataframe thead th {\n",
       "        text-align: right;\n",
       "    }\n",
       "</style>\n",
       "<table border=\"1\" class=\"dataframe\">\n",
       "  <thead>\n",
       "    <tr style=\"text-align: right;\">\n",
       "      <th></th>\n",
       "      <th>ruid</th>\n",
       "      <th>lab_name</th>\n",
       "      <th>lab_date</th>\n",
       "      <th>lab_value</th>\n",
       "      <th>visit_id</th>\n",
       "      <th>hospital_day</th>\n",
       "    </tr>\n",
       "  </thead>\n",
       "  <tbody>\n",
       "    <tr>\n",
       "      <th>6</th>\n",
       "      <td>53732537</td>\n",
       "      <td>Hgb</td>\n",
       "      <td>2015-04-25</td>\n",
       "      <td>NaN</td>\n",
       "      <td>5</td>\n",
       "      <td>2015-04-25</td>\n",
       "    </tr>\n",
       "    <tr>\n",
       "      <th>14</th>\n",
       "      <td>53732537</td>\n",
       "      <td>Hgb</td>\n",
       "      <td>2015-04-25</td>\n",
       "      <td>6.9</td>\n",
       "      <td>5</td>\n",
       "      <td>2015-04-25</td>\n",
       "    </tr>\n",
       "    <tr>\n",
       "      <th>37</th>\n",
       "      <td>53732537</td>\n",
       "      <td>Hgb</td>\n",
       "      <td>2015-04-25</td>\n",
       "      <td>NaN</td>\n",
       "      <td>5</td>\n",
       "      <td>2015-04-25</td>\n",
       "    </tr>\n",
       "    <tr>\n",
       "      <th>44</th>\n",
       "      <td>53728342</td>\n",
       "      <td>Hgb</td>\n",
       "      <td>2014-05-26</td>\n",
       "      <td>NaN</td>\n",
       "      <td>9</td>\n",
       "      <td>2014-05-26</td>\n",
       "    </tr>\n",
       "    <tr>\n",
       "      <th>57</th>\n",
       "      <td>53728342</td>\n",
       "      <td>Hgb</td>\n",
       "      <td>2014-05-26</td>\n",
       "      <td>7.1</td>\n",
       "      <td>9</td>\n",
       "      <td>2014-05-26</td>\n",
       "    </tr>\n",
       "  </tbody>\n",
       "</table>\n",
       "</div>"
      ],
      "text/plain": [
       "        ruid lab_name   lab_date  lab_value  visit_id hospital_day\n",
       "6   53732537      Hgb 2015-04-25        NaN         5   2015-04-25\n",
       "14  53732537      Hgb 2015-04-25        6.9         5   2015-04-25\n",
       "37  53732537      Hgb 2015-04-25        NaN         5   2015-04-25\n",
       "44  53728342      Hgb 2014-05-26        NaN         9   2014-05-26\n",
       "57  53728342      Hgb 2014-05-26        7.1         9   2014-05-26"
      ]
     },
     "execution_count": 129,
     "metadata": {},
     "output_type": "execute_result"
    }
   ],
   "source": [
    "labs_hgb.head()"
   ]
  },
  {
   "cell_type": "code",
   "execution_count": 130,
   "metadata": {},
   "outputs": [
    {
     "data": {
      "text/plain": [
       "count    90367.000000\n",
       "mean        10.270862\n",
       "std          2.089365\n",
       "min          0.200000\n",
       "25%          8.800000\n",
       "50%         10.000000\n",
       "75%         11.600000\n",
       "max         21.500000\n",
       "Name: lab_value, dtype: float64"
      ]
     },
     "execution_count": 130,
     "metadata": {},
     "output_type": "execute_result"
    }
   ],
   "source": [
    "labs_hgb['lab_value'].describe()"
   ]
  },
  {
   "cell_type": "code",
   "execution_count": 131,
   "metadata": {},
   "outputs": [
    {
     "name": "stderr",
     "output_type": "stream",
     "text": [
      "/anaconda3/envs/bios8366/lib/python3.6/site-packages/ipykernel_launcher.py:20: SettingWithCopyWarning: \n",
      "A value is trying to be set on a copy of a slice from a DataFrame\n",
      "\n",
      "See the caveats in the documentation: http://pandas.pydata.org/pandas-docs/stable/indexing.html#indexing-view-versus-copy\n",
      "/anaconda3/envs/bios8366/lib/python3.6/site-packages/ipykernel_launcher.py:23: SettingWithCopyWarning: \n",
      "A value is trying to be set on a copy of a slice from a DataFrame\n",
      "\n",
      "See the caveats in the documentation: http://pandas.pydata.org/pandas-docs/stable/indexing.html#indexing-view-versus-copy\n"
     ]
    }
   ],
   "source": [
    "# note that i won't convert larger values here since max is close to max normal range of 17.5 in males\n",
    "labs_hgb, labs = outlier_conversion(labs_hgb,labs,5,25)"
   ]
  },
  {
   "cell_type": "code",
   "execution_count": 132,
   "metadata": {},
   "outputs": [
    {
     "data": {
      "text/html": [
       "<div>\n",
       "<style scoped>\n",
       "    .dataframe tbody tr th:only-of-type {\n",
       "        vertical-align: middle;\n",
       "    }\n",
       "\n",
       "    .dataframe tbody tr th {\n",
       "        vertical-align: top;\n",
       "    }\n",
       "\n",
       "    .dataframe thead th {\n",
       "        text-align: right;\n",
       "    }\n",
       "</style>\n",
       "<table border=\"1\" class=\"dataframe\">\n",
       "  <thead>\n",
       "    <tr style=\"text-align: right;\">\n",
       "      <th></th>\n",
       "      <th>ruid</th>\n",
       "      <th>lab_name</th>\n",
       "      <th>lab_date</th>\n",
       "      <th>lab_value</th>\n",
       "      <th>visit_id</th>\n",
       "      <th>hospital_day</th>\n",
       "    </tr>\n",
       "  </thead>\n",
       "  <tbody>\n",
       "    <tr>\n",
       "      <th>6</th>\n",
       "      <td>53732537</td>\n",
       "      <td>Hgb</td>\n",
       "      <td>2015-04-25</td>\n",
       "      <td>NaN</td>\n",
       "      <td>5</td>\n",
       "      <td>2015-04-25</td>\n",
       "    </tr>\n",
       "    <tr>\n",
       "      <th>14</th>\n",
       "      <td>53732537</td>\n",
       "      <td>Hgb</td>\n",
       "      <td>2015-04-25</td>\n",
       "      <td>6.9</td>\n",
       "      <td>5</td>\n",
       "      <td>2015-04-25</td>\n",
       "    </tr>\n",
       "    <tr>\n",
       "      <th>37</th>\n",
       "      <td>53732537</td>\n",
       "      <td>Hgb</td>\n",
       "      <td>2015-04-25</td>\n",
       "      <td>NaN</td>\n",
       "      <td>5</td>\n",
       "      <td>2015-04-25</td>\n",
       "    </tr>\n",
       "    <tr>\n",
       "      <th>44</th>\n",
       "      <td>53728342</td>\n",
       "      <td>Hgb</td>\n",
       "      <td>2014-05-26</td>\n",
       "      <td>NaN</td>\n",
       "      <td>9</td>\n",
       "      <td>2014-05-26</td>\n",
       "    </tr>\n",
       "    <tr>\n",
       "      <th>57</th>\n",
       "      <td>53728342</td>\n",
       "      <td>Hgb</td>\n",
       "      <td>2014-05-26</td>\n",
       "      <td>7.1</td>\n",
       "      <td>9</td>\n",
       "      <td>2014-05-26</td>\n",
       "    </tr>\n",
       "  </tbody>\n",
       "</table>\n",
       "</div>"
      ],
      "text/plain": [
       "        ruid lab_name   lab_date  lab_value  visit_id hospital_day\n",
       "6   53732537      Hgb 2015-04-25        NaN         5   2015-04-25\n",
       "14  53732537      Hgb 2015-04-25        6.9         5   2015-04-25\n",
       "37  53732537      Hgb 2015-04-25        NaN         5   2015-04-25\n",
       "44  53728342      Hgb 2014-05-26        NaN         9   2014-05-26\n",
       "57  53728342      Hgb 2014-05-26        7.1         9   2014-05-26"
      ]
     },
     "execution_count": 132,
     "metadata": {},
     "output_type": "execute_result"
    }
   ],
   "source": [
    "labs_hgb.head()"
   ]
  },
  {
   "cell_type": "code",
   "execution_count": 133,
   "metadata": {},
   "outputs": [
    {
     "data": {
      "text/html": [
       "<div>\n",
       "<style scoped>\n",
       "    .dataframe tbody tr th:only-of-type {\n",
       "        vertical-align: middle;\n",
       "    }\n",
       "\n",
       "    .dataframe tbody tr th {\n",
       "        vertical-align: top;\n",
       "    }\n",
       "\n",
       "    .dataframe thead th {\n",
       "        text-align: right;\n",
       "    }\n",
       "</style>\n",
       "<table border=\"1\" class=\"dataframe\">\n",
       "  <thead>\n",
       "    <tr style=\"text-align: right;\">\n",
       "      <th></th>\n",
       "      <th>lab_value</th>\n",
       "      <th>visit_id</th>\n",
       "    </tr>\n",
       "  </thead>\n",
       "  <tbody>\n",
       "    <tr>\n",
       "      <th>count</th>\n",
       "      <td>90232.000000</td>\n",
       "      <td>90570.000000</td>\n",
       "    </tr>\n",
       "    <tr>\n",
       "      <th>mean</th>\n",
       "      <td>10.280059</td>\n",
       "      <td>5.534371</td>\n",
       "    </tr>\n",
       "    <tr>\n",
       "      <th>std</th>\n",
       "      <td>2.077098</td>\n",
       "      <td>9.615115</td>\n",
       "    </tr>\n",
       "    <tr>\n",
       "      <th>min</th>\n",
       "      <td>5.000000</td>\n",
       "      <td>0.000000</td>\n",
       "    </tr>\n",
       "    <tr>\n",
       "      <th>25%</th>\n",
       "      <td>8.800000</td>\n",
       "      <td>0.000000</td>\n",
       "    </tr>\n",
       "    <tr>\n",
       "      <th>50%</th>\n",
       "      <td>10.000000</td>\n",
       "      <td>2.000000</td>\n",
       "    </tr>\n",
       "    <tr>\n",
       "      <th>75%</th>\n",
       "      <td>11.600000</td>\n",
       "      <td>7.000000</td>\n",
       "    </tr>\n",
       "    <tr>\n",
       "      <th>max</th>\n",
       "      <td>21.500000</td>\n",
       "      <td>100.000000</td>\n",
       "    </tr>\n",
       "  </tbody>\n",
       "</table>\n",
       "</div>"
      ],
      "text/plain": [
       "          lab_value      visit_id\n",
       "count  90232.000000  90570.000000\n",
       "mean      10.280059      5.534371\n",
       "std        2.077098      9.615115\n",
       "min        5.000000      0.000000\n",
       "25%        8.800000      0.000000\n",
       "50%       10.000000      2.000000\n",
       "75%       11.600000      7.000000\n",
       "max       21.500000    100.000000"
      ]
     },
     "execution_count": 133,
     "metadata": {},
     "output_type": "execute_result"
    }
   ],
   "source": [
    "labs_hgb.describe()"
   ]
  },
  {
   "cell_type": "code",
   "execution_count": 134,
   "metadata": {},
   "outputs": [
    {
     "data": {
      "text/plain": [
       "ruid              0\n",
       "lab_name          0\n",
       "lab_date          0\n",
       "lab_value       338\n",
       "visit_id          0\n",
       "hospital_day      0\n",
       "dtype: int64"
      ]
     },
     "execution_count": 134,
     "metadata": {},
     "output_type": "execute_result"
    }
   ],
   "source": [
    "labs_hgb.isna().sum()"
   ]
  },
  {
   "cell_type": "code",
   "execution_count": 135,
   "metadata": {},
   "outputs": [
    {
     "data": {
      "text/plain": [
       "array(['Hgb', 'WBC', 'Plt-Ct', 'Cl', 'CO2', 'Gluc', 'BUN', 'PCV', 'Na',\n",
       "       'Creat', 'K', 'GluBed'], dtype=object)"
      ]
     },
     "execution_count": 135,
     "metadata": {},
     "output_type": "execute_result"
    }
   ],
   "source": [
    "labs.lab_name.unique()"
   ]
  },
  {
   "cell_type": "code",
   "execution_count": 136,
   "metadata": {},
   "outputs": [
    {
     "data": {
      "text/plain": [
       "(1270773, 6)"
      ]
     },
     "execution_count": 136,
     "metadata": {},
     "output_type": "execute_result"
    }
   ],
   "source": [
    "labs.shape"
   ]
  },
  {
   "cell_type": "markdown",
   "metadata": {},
   "source": [
    "13) convert outliers in `RBC` to NaN, normal values = 4.32-5.72 (males), 3.90-5.03 (females)"
   ]
  },
  {
   "cell_type": "code",
   "execution_count": 137,
   "metadata": {},
   "outputs": [
    {
     "name": "stdout",
     "output_type": "stream",
     "text": [
      "99% percentile for  RBC : \n"
     ]
    },
    {
     "data": {
      "text/plain": [
       "(5.42, 2.1)"
      ]
     },
     "execution_count": 137,
     "metadata": {},
     "output_type": "execute_result"
    },
    {
     "data": {
      "image/png": "[encoded data removed]",
      "text/plain": [
       "<Figure size 432x288 with 1 Axes>"
      ]
     },
     "metadata": {
      "needs_background": "light"
     },
     "output_type": "display_data"
    }
   ],
   "source": [
    "outlier_detection(labs_merged, 'RBC')"
   ]
  },
  {
   "cell_type": "code",
   "execution_count": 138,
   "metadata": {},
   "outputs": [],
   "source": [
    "labs_rbc = labs_merged[labs_merged.lab_name=='RBC']"
   ]
  },
  {
   "cell_type": "code",
   "execution_count": 139,
   "metadata": {},
   "outputs": [
    {
     "data": {
      "text/html": [
       "<div>\n",
       "<style scoped>\n",
       "    .dataframe tbody tr th:only-of-type {\n",
       "        vertical-align: middle;\n",
       "    }\n",
       "\n",
       "    .dataframe tbody tr th {\n",
       "        vertical-align: top;\n",
       "    }\n",
       "\n",
       "    .dataframe thead th {\n",
       "        text-align: right;\n",
       "    }\n",
       "</style>\n",
       "<table border=\"1\" class=\"dataframe\">\n",
       "  <thead>\n",
       "    <tr style=\"text-align: right;\">\n",
       "      <th></th>\n",
       "      <th>ruid</th>\n",
       "      <th>lab_name</th>\n",
       "      <th>lab_date</th>\n",
       "      <th>lab_value</th>\n",
       "      <th>visit_id</th>\n",
       "      <th>hospital_day</th>\n",
       "    </tr>\n",
       "  </thead>\n",
       "  <tbody>\n",
       "    <tr>\n",
       "      <th>2</th>\n",
       "      <td>53732537</td>\n",
       "      <td>RBC</td>\n",
       "      <td>2015-04-25</td>\n",
       "      <td>NaN</td>\n",
       "      <td>5</td>\n",
       "      <td>2015-04-25</td>\n",
       "    </tr>\n",
       "    <tr>\n",
       "      <th>22</th>\n",
       "      <td>53732537</td>\n",
       "      <td>RBC</td>\n",
       "      <td>2015-04-25</td>\n",
       "      <td>2.74</td>\n",
       "      <td>5</td>\n",
       "      <td>2015-04-25</td>\n",
       "    </tr>\n",
       "    <tr>\n",
       "      <th>38</th>\n",
       "      <td>53732537</td>\n",
       "      <td>RBC</td>\n",
       "      <td>2015-04-25</td>\n",
       "      <td>NaN</td>\n",
       "      <td>5</td>\n",
       "      <td>2015-04-25</td>\n",
       "    </tr>\n",
       "    <tr>\n",
       "      <th>49</th>\n",
       "      <td>53728342</td>\n",
       "      <td>RBC</td>\n",
       "      <td>2014-05-26</td>\n",
       "      <td>NaN</td>\n",
       "      <td>9</td>\n",
       "      <td>2014-05-26</td>\n",
       "    </tr>\n",
       "    <tr>\n",
       "      <th>62</th>\n",
       "      <td>53728342</td>\n",
       "      <td>RBC</td>\n",
       "      <td>2014-05-26</td>\n",
       "      <td>4.24</td>\n",
       "      <td>9</td>\n",
       "      <td>2014-05-26</td>\n",
       "    </tr>\n",
       "  </tbody>\n",
       "</table>\n",
       "</div>"
      ],
      "text/plain": [
       "        ruid lab_name   lab_date  lab_value  visit_id hospital_day\n",
       "2   53732537      RBC 2015-04-25        NaN         5   2015-04-25\n",
       "22  53732537      RBC 2015-04-25       2.74         5   2015-04-25\n",
       "38  53732537      RBC 2015-04-25        NaN         5   2015-04-25\n",
       "49  53728342      RBC 2014-05-26        NaN         9   2014-05-26\n",
       "62  53728342      RBC 2014-05-26       4.24         9   2014-05-26"
      ]
     },
     "execution_count": 139,
     "metadata": {},
     "output_type": "execute_result"
    }
   ],
   "source": [
    "labs_rbc.head()"
   ]
  },
  {
   "cell_type": "code",
   "execution_count": 140,
   "metadata": {},
   "outputs": [
    {
     "data": {
      "text/plain": [
       "count    90685.000000\n",
       "mean         3.543625\n",
       "std          1.121429\n",
       "min          0.140000\n",
       "25%          3.010000\n",
       "50%          3.470000\n",
       "75%          4.020000\n",
       "max        258.000000\n",
       "Name: lab_value, dtype: float64"
      ]
     },
     "execution_count": 140,
     "metadata": {},
     "output_type": "execute_result"
    }
   ],
   "source": [
    "labs_rbc['lab_value'].describe()"
   ]
  },
  {
   "cell_type": "code",
   "execution_count": 141,
   "metadata": {},
   "outputs": [
    {
     "name": "stderr",
     "output_type": "stream",
     "text": [
      "/anaconda3/envs/bios8366/lib/python3.6/site-packages/ipykernel_launcher.py:20: SettingWithCopyWarning: \n",
      "A value is trying to be set on a copy of a slice from a DataFrame\n",
      "\n",
      "See the caveats in the documentation: http://pandas.pydata.org/pandas-docs/stable/indexing.html#indexing-view-versus-copy\n",
      "/anaconda3/envs/bios8366/lib/python3.6/site-packages/ipykernel_launcher.py:23: SettingWithCopyWarning: \n",
      "A value is trying to be set on a copy of a slice from a DataFrame\n",
      "\n",
      "See the caveats in the documentation: http://pandas.pydata.org/pandas-docs/stable/indexing.html#indexing-view-versus-copy\n"
     ]
    }
   ],
   "source": [
    "labs_rbc, labs = outlier_conversion(labs_rbc,labs,2,10)"
   ]
  },
  {
   "cell_type": "code",
   "execution_count": 142,
   "metadata": {},
   "outputs": [
    {
     "data": {
      "text/html": [
       "<div>\n",
       "<style scoped>\n",
       "    .dataframe tbody tr th:only-of-type {\n",
       "        vertical-align: middle;\n",
       "    }\n",
       "\n",
       "    .dataframe tbody tr th {\n",
       "        vertical-align: top;\n",
       "    }\n",
       "\n",
       "    .dataframe thead th {\n",
       "        text-align: right;\n",
       "    }\n",
       "</style>\n",
       "<table border=\"1\" class=\"dataframe\">\n",
       "  <thead>\n",
       "    <tr style=\"text-align: right;\">\n",
       "      <th></th>\n",
       "      <th>ruid</th>\n",
       "      <th>lab_name</th>\n",
       "      <th>lab_date</th>\n",
       "      <th>lab_value</th>\n",
       "      <th>visit_id</th>\n",
       "      <th>hospital_day</th>\n",
       "    </tr>\n",
       "  </thead>\n",
       "  <tbody>\n",
       "    <tr>\n",
       "      <th>2</th>\n",
       "      <td>53732537</td>\n",
       "      <td>RBC</td>\n",
       "      <td>2015-04-25</td>\n",
       "      <td>NaN</td>\n",
       "      <td>5</td>\n",
       "      <td>2015-04-25</td>\n",
       "    </tr>\n",
       "    <tr>\n",
       "      <th>22</th>\n",
       "      <td>53732537</td>\n",
       "      <td>RBC</td>\n",
       "      <td>2015-04-25</td>\n",
       "      <td>2.74</td>\n",
       "      <td>5</td>\n",
       "      <td>2015-04-25</td>\n",
       "    </tr>\n",
       "    <tr>\n",
       "      <th>38</th>\n",
       "      <td>53732537</td>\n",
       "      <td>RBC</td>\n",
       "      <td>2015-04-25</td>\n",
       "      <td>NaN</td>\n",
       "      <td>5</td>\n",
       "      <td>2015-04-25</td>\n",
       "    </tr>\n",
       "    <tr>\n",
       "      <th>49</th>\n",
       "      <td>53728342</td>\n",
       "      <td>RBC</td>\n",
       "      <td>2014-05-26</td>\n",
       "      <td>NaN</td>\n",
       "      <td>9</td>\n",
       "      <td>2014-05-26</td>\n",
       "    </tr>\n",
       "    <tr>\n",
       "      <th>62</th>\n",
       "      <td>53728342</td>\n",
       "      <td>RBC</td>\n",
       "      <td>2014-05-26</td>\n",
       "      <td>4.24</td>\n",
       "      <td>9</td>\n",
       "      <td>2014-05-26</td>\n",
       "    </tr>\n",
       "  </tbody>\n",
       "</table>\n",
       "</div>"
      ],
      "text/plain": [
       "        ruid lab_name   lab_date  lab_value  visit_id hospital_day\n",
       "2   53732537      RBC 2015-04-25        NaN         5   2015-04-25\n",
       "22  53732537      RBC 2015-04-25       2.74         5   2015-04-25\n",
       "38  53732537      RBC 2015-04-25        NaN         5   2015-04-25\n",
       "49  53728342      RBC 2014-05-26        NaN         9   2014-05-26\n",
       "62  53728342      RBC 2014-05-26       4.24         9   2014-05-26"
      ]
     },
     "execution_count": 142,
     "metadata": {},
     "output_type": "execute_result"
    }
   ],
   "source": [
    "labs_rbc.head()"
   ]
  },
  {
   "cell_type": "code",
   "execution_count": 143,
   "metadata": {},
   "outputs": [
    {
     "data": {
      "text/html": [
       "<div>\n",
       "<style scoped>\n",
       "    .dataframe tbody tr th:only-of-type {\n",
       "        vertical-align: middle;\n",
       "    }\n",
       "\n",
       "    .dataframe tbody tr th {\n",
       "        vertical-align: top;\n",
       "    }\n",
       "\n",
       "    .dataframe thead th {\n",
       "        text-align: right;\n",
       "    }\n",
       "</style>\n",
       "<table border=\"1\" class=\"dataframe\">\n",
       "  <thead>\n",
       "    <tr style=\"text-align: right;\">\n",
       "      <th></th>\n",
       "      <th>lab_value</th>\n",
       "      <th>visit_id</th>\n",
       "    </tr>\n",
       "  </thead>\n",
       "  <tbody>\n",
       "    <tr>\n",
       "      <th>count</th>\n",
       "      <td>90116.000000</td>\n",
       "      <td>90898.000000</td>\n",
       "    </tr>\n",
       "    <tr>\n",
       "      <th>mean</th>\n",
       "      <td>3.552078</td>\n",
       "      <td>5.530650</td>\n",
       "    </tr>\n",
       "    <tr>\n",
       "      <th>std</th>\n",
       "      <td>0.725544</td>\n",
       "      <td>9.611853</td>\n",
       "    </tr>\n",
       "    <tr>\n",
       "      <th>min</th>\n",
       "      <td>2.000000</td>\n",
       "      <td>0.000000</td>\n",
       "    </tr>\n",
       "    <tr>\n",
       "      <th>25%</th>\n",
       "      <td>3.020000</td>\n",
       "      <td>0.000000</td>\n",
       "    </tr>\n",
       "    <tr>\n",
       "      <th>50%</th>\n",
       "      <td>3.480000</td>\n",
       "      <td>2.000000</td>\n",
       "    </tr>\n",
       "    <tr>\n",
       "      <th>75%</th>\n",
       "      <td>4.030000</td>\n",
       "      <td>7.000000</td>\n",
       "    </tr>\n",
       "    <tr>\n",
       "      <th>max</th>\n",
       "      <td>9.590000</td>\n",
       "      <td>100.000000</td>\n",
       "    </tr>\n",
       "  </tbody>\n",
       "</table>\n",
       "</div>"
      ],
      "text/plain": [
       "          lab_value      visit_id\n",
       "count  90116.000000  90898.000000\n",
       "mean       3.552078      5.530650\n",
       "std        0.725544      9.611853\n",
       "min        2.000000      0.000000\n",
       "25%        3.020000      0.000000\n",
       "50%        3.480000      2.000000\n",
       "75%        4.030000      7.000000\n",
       "max        9.590000    100.000000"
      ]
     },
     "execution_count": 143,
     "metadata": {},
     "output_type": "execute_result"
    }
   ],
   "source": [
    "labs_rbc.describe()"
   ]
  },
  {
   "cell_type": "code",
   "execution_count": 144,
   "metadata": {},
   "outputs": [
    {
     "data": {
      "text/plain": [
       "ruid              0\n",
       "lab_name          0\n",
       "lab_date          0\n",
       "lab_value       782\n",
       "visit_id          0\n",
       "hospital_day      0\n",
       "dtype: int64"
      ]
     },
     "execution_count": 144,
     "metadata": {},
     "output_type": "execute_result"
    }
   ],
   "source": [
    "labs_rbc.isna().sum()"
   ]
  },
  {
   "cell_type": "code",
   "execution_count": 145,
   "metadata": {},
   "outputs": [
    {
     "data": {
      "text/plain": [
       "array(['RBC', 'Hgb', 'WBC', 'Plt-Ct', 'Cl', 'CO2', 'Gluc', 'BUN', 'PCV',\n",
       "       'Na', 'Creat', 'K', 'GluBed'], dtype=object)"
      ]
     },
     "execution_count": 145,
     "metadata": {},
     "output_type": "execute_result"
    }
   ],
   "source": [
    "labs.lab_name.unique()"
   ]
  },
  {
   "cell_type": "code",
   "execution_count": 146,
   "metadata": {},
   "outputs": [
    {
     "data": {
      "image/png": "[encoded data removed]",
      "text/plain": [
       "<Figure size 432x288 with 1 Axes>"
      ]
     },
     "metadata": {
      "needs_background": "light"
     },
     "output_type": "display_data"
    }
   ],
   "source": [
    "fig, ax = plt.subplots()\n",
    "_=ax.hist(labs_rbc.lab_value)"
   ]
  },
  {
   "cell_type": "code",
   "execution_count": 147,
   "metadata": {},
   "outputs": [
    {
     "data": {
      "text/plain": [
       "(1361671, 6)"
      ]
     },
     "execution_count": 147,
     "metadata": {},
     "output_type": "execute_result"
    }
   ],
   "source": [
    "labs.shape"
   ]
  },
  {
   "cell_type": "markdown",
   "metadata": {},
   "source": [
    "14) convert outliers in `MCHC` to NaN, normal values = 33-36"
   ]
  },
  {
   "cell_type": "code",
   "execution_count": 148,
   "metadata": {},
   "outputs": [
    {
     "name": "stdout",
     "output_type": "stream",
     "text": [
      "99% percentile for  MCHC : \n"
     ]
    },
    {
     "data": {
      "text/plain": [
       "(36.2, 28.7)"
      ]
     },
     "execution_count": 148,
     "metadata": {},
     "output_type": "execute_result"
    },
    {
     "data": {
      "image/png": "[encoded data removed]",
      "text/plain": [
       "<Figure size 432x288 with 1 Axes>"
      ]
     },
     "metadata": {
      "needs_background": "light"
     },
     "output_type": "display_data"
    }
   ],
   "source": [
    "outlier_detection(labs_merged, 'MCHC')"
   ]
  },
  {
   "cell_type": "code",
   "execution_count": 149,
   "metadata": {},
   "outputs": [],
   "source": [
    "labs_mchc = labs_merged[labs_merged.lab_name=='MCHC']"
   ]
  },
  {
   "cell_type": "code",
   "execution_count": 150,
   "metadata": {},
   "outputs": [
    {
     "data": {
      "text/html": [
       "<div>\n",
       "<style scoped>\n",
       "    .dataframe tbody tr th:only-of-type {\n",
       "        vertical-align: middle;\n",
       "    }\n",
       "\n",
       "    .dataframe tbody tr th {\n",
       "        vertical-align: top;\n",
       "    }\n",
       "\n",
       "    .dataframe thead th {\n",
       "        text-align: right;\n",
       "    }\n",
       "</style>\n",
       "<table border=\"1\" class=\"dataframe\">\n",
       "  <thead>\n",
       "    <tr style=\"text-align: right;\">\n",
       "      <th></th>\n",
       "      <th>ruid</th>\n",
       "      <th>lab_name</th>\n",
       "      <th>lab_date</th>\n",
       "      <th>lab_value</th>\n",
       "      <th>visit_id</th>\n",
       "      <th>hospital_day</th>\n",
       "    </tr>\n",
       "  </thead>\n",
       "  <tbody>\n",
       "    <tr>\n",
       "      <th>8</th>\n",
       "      <td>53732537</td>\n",
       "      <td>MCHC</td>\n",
       "      <td>2015-04-25</td>\n",
       "      <td>NaN</td>\n",
       "      <td>5</td>\n",
       "      <td>2015-04-25</td>\n",
       "    </tr>\n",
       "    <tr>\n",
       "      <th>17</th>\n",
       "      <td>53732537</td>\n",
       "      <td>MCHC</td>\n",
       "      <td>2015-04-25</td>\n",
       "      <td>31.5</td>\n",
       "      <td>5</td>\n",
       "      <td>2015-04-25</td>\n",
       "    </tr>\n",
       "    <tr>\n",
       "      <th>39</th>\n",
       "      <td>53732537</td>\n",
       "      <td>MCHC</td>\n",
       "      <td>2015-04-25</td>\n",
       "      <td>NaN</td>\n",
       "      <td>5</td>\n",
       "      <td>2015-04-25</td>\n",
       "    </tr>\n",
       "    <tr>\n",
       "      <th>50</th>\n",
       "      <td>53728342</td>\n",
       "      <td>MCHC</td>\n",
       "      <td>2014-05-26</td>\n",
       "      <td>NaN</td>\n",
       "      <td>9</td>\n",
       "      <td>2014-05-26</td>\n",
       "    </tr>\n",
       "    <tr>\n",
       "      <th>67</th>\n",
       "      <td>53728342</td>\n",
       "      <td>MCHC</td>\n",
       "      <td>2014-05-26</td>\n",
       "      <td>33.3</td>\n",
       "      <td>9</td>\n",
       "      <td>2014-05-26</td>\n",
       "    </tr>\n",
       "  </tbody>\n",
       "</table>\n",
       "</div>"
      ],
      "text/plain": [
       "        ruid lab_name   lab_date  lab_value  visit_id hospital_day\n",
       "8   53732537     MCHC 2015-04-25        NaN         5   2015-04-25\n",
       "17  53732537     MCHC 2015-04-25       31.5         5   2015-04-25\n",
       "39  53732537     MCHC 2015-04-25        NaN         5   2015-04-25\n",
       "50  53728342     MCHC 2014-05-26        NaN         9   2014-05-26\n",
       "67  53728342     MCHC 2014-05-26       33.3         9   2014-05-26"
      ]
     },
     "execution_count": 150,
     "metadata": {},
     "output_type": "execute_result"
    }
   ],
   "source": [
    "labs_mchc.head()"
   ]
  },
  {
   "cell_type": "code",
   "execution_count": 151,
   "metadata": {},
   "outputs": [
    {
     "data": {
      "text/plain": [
       "count    90229.000000\n",
       "mean        32.776071\n",
       "std          1.598843\n",
       "min          1.900000\n",
       "25%         31.800000\n",
       "50%         32.800000\n",
       "75%         33.900000\n",
       "max         45.400000\n",
       "Name: lab_value, dtype: float64"
      ]
     },
     "execution_count": 151,
     "metadata": {},
     "output_type": "execute_result"
    }
   ],
   "source": [
    "labs_mchc['lab_value'].describe()"
   ]
  },
  {
   "cell_type": "code",
   "execution_count": 152,
   "metadata": {},
   "outputs": [
    {
     "name": "stderr",
     "output_type": "stream",
     "text": [
      "/anaconda3/envs/bios8366/lib/python3.6/site-packages/ipykernel_launcher.py:20: SettingWithCopyWarning: \n",
      "A value is trying to be set on a copy of a slice from a DataFrame\n",
      "\n",
      "See the caveats in the documentation: http://pandas.pydata.org/pandas-docs/stable/indexing.html#indexing-view-versus-copy\n",
      "/anaconda3/envs/bios8366/lib/python3.6/site-packages/ipykernel_launcher.py:23: SettingWithCopyWarning: \n",
      "A value is trying to be set on a copy of a slice from a DataFrame\n",
      "\n",
      "See the caveats in the documentation: http://pandas.pydata.org/pandas-docs/stable/indexing.html#indexing-view-versus-copy\n"
     ]
    }
   ],
   "source": [
    "labs_mchc, labs = outlier_conversion(labs_mchc,labs,28,40)"
   ]
  },
  {
   "cell_type": "code",
   "execution_count": 153,
   "metadata": {},
   "outputs": [
    {
     "data": {
      "text/html": [
       "<div>\n",
       "<style scoped>\n",
       "    .dataframe tbody tr th:only-of-type {\n",
       "        vertical-align: middle;\n",
       "    }\n",
       "\n",
       "    .dataframe tbody tr th {\n",
       "        vertical-align: top;\n",
       "    }\n",
       "\n",
       "    .dataframe thead th {\n",
       "        text-align: right;\n",
       "    }\n",
       "</style>\n",
       "<table border=\"1\" class=\"dataframe\">\n",
       "  <thead>\n",
       "    <tr style=\"text-align: right;\">\n",
       "      <th></th>\n",
       "      <th>ruid</th>\n",
       "      <th>lab_name</th>\n",
       "      <th>lab_date</th>\n",
       "      <th>lab_value</th>\n",
       "      <th>visit_id</th>\n",
       "      <th>hospital_day</th>\n",
       "    </tr>\n",
       "  </thead>\n",
       "  <tbody>\n",
       "    <tr>\n",
       "      <th>8</th>\n",
       "      <td>53732537</td>\n",
       "      <td>MCHC</td>\n",
       "      <td>2015-04-25</td>\n",
       "      <td>NaN</td>\n",
       "      <td>5</td>\n",
       "      <td>2015-04-25</td>\n",
       "    </tr>\n",
       "    <tr>\n",
       "      <th>17</th>\n",
       "      <td>53732537</td>\n",
       "      <td>MCHC</td>\n",
       "      <td>2015-04-25</td>\n",
       "      <td>31.5</td>\n",
       "      <td>5</td>\n",
       "      <td>2015-04-25</td>\n",
       "    </tr>\n",
       "    <tr>\n",
       "      <th>39</th>\n",
       "      <td>53732537</td>\n",
       "      <td>MCHC</td>\n",
       "      <td>2015-04-25</td>\n",
       "      <td>NaN</td>\n",
       "      <td>5</td>\n",
       "      <td>2015-04-25</td>\n",
       "    </tr>\n",
       "    <tr>\n",
       "      <th>50</th>\n",
       "      <td>53728342</td>\n",
       "      <td>MCHC</td>\n",
       "      <td>2014-05-26</td>\n",
       "      <td>NaN</td>\n",
       "      <td>9</td>\n",
       "      <td>2014-05-26</td>\n",
       "    </tr>\n",
       "    <tr>\n",
       "      <th>67</th>\n",
       "      <td>53728342</td>\n",
       "      <td>MCHC</td>\n",
       "      <td>2014-05-26</td>\n",
       "      <td>33.3</td>\n",
       "      <td>9</td>\n",
       "      <td>2014-05-26</td>\n",
       "    </tr>\n",
       "  </tbody>\n",
       "</table>\n",
       "</div>"
      ],
      "text/plain": [
       "        ruid lab_name   lab_date  lab_value  visit_id hospital_day\n",
       "8   53732537     MCHC 2015-04-25        NaN         5   2015-04-25\n",
       "17  53732537     MCHC 2015-04-25       31.5         5   2015-04-25\n",
       "39  53732537     MCHC 2015-04-25        NaN         5   2015-04-25\n",
       "50  53728342     MCHC 2014-05-26        NaN         9   2014-05-26\n",
       "67  53728342     MCHC 2014-05-26       33.3         9   2014-05-26"
      ]
     },
     "execution_count": 153,
     "metadata": {},
     "output_type": "execute_result"
    }
   ],
   "source": [
    "labs_mchc.head()"
   ]
  },
  {
   "cell_type": "code",
   "execution_count": 154,
   "metadata": {},
   "outputs": [
    {
     "data": {
      "text/html": [
       "<div>\n",
       "<style scoped>\n",
       "    .dataframe tbody tr th:only-of-type {\n",
       "        vertical-align: middle;\n",
       "    }\n",
       "\n",
       "    .dataframe tbody tr th {\n",
       "        vertical-align: top;\n",
       "    }\n",
       "\n",
       "    .dataframe thead th {\n",
       "        text-align: right;\n",
       "    }\n",
       "</style>\n",
       "<table border=\"1\" class=\"dataframe\">\n",
       "  <thead>\n",
       "    <tr style=\"text-align: right;\">\n",
       "      <th></th>\n",
       "      <th>lab_value</th>\n",
       "      <th>visit_id</th>\n",
       "    </tr>\n",
       "  </thead>\n",
       "  <tbody>\n",
       "    <tr>\n",
       "      <th>count</th>\n",
       "      <td>89825.000000</td>\n",
       "      <td>90423.000000</td>\n",
       "    </tr>\n",
       "    <tr>\n",
       "      <th>mean</th>\n",
       "      <td>32.802021</td>\n",
       "      <td>5.536456</td>\n",
       "    </tr>\n",
       "    <tr>\n",
       "      <th>std</th>\n",
       "      <td>1.546169</td>\n",
       "      <td>9.619425</td>\n",
       "    </tr>\n",
       "    <tr>\n",
       "      <th>min</th>\n",
       "      <td>28.000000</td>\n",
       "      <td>0.000000</td>\n",
       "    </tr>\n",
       "    <tr>\n",
       "      <th>25%</th>\n",
       "      <td>31.800000</td>\n",
       "      <td>0.000000</td>\n",
       "    </tr>\n",
       "    <tr>\n",
       "      <th>50%</th>\n",
       "      <td>32.800000</td>\n",
       "      <td>2.000000</td>\n",
       "    </tr>\n",
       "    <tr>\n",
       "      <th>75%</th>\n",
       "      <td>33.900000</td>\n",
       "      <td>7.000000</td>\n",
       "    </tr>\n",
       "    <tr>\n",
       "      <th>max</th>\n",
       "      <td>40.000000</td>\n",
       "      <td>100.000000</td>\n",
       "    </tr>\n",
       "  </tbody>\n",
       "</table>\n",
       "</div>"
      ],
      "text/plain": [
       "          lab_value      visit_id\n",
       "count  89825.000000  90423.000000\n",
       "mean      32.802021      5.536456\n",
       "std        1.546169      9.619425\n",
       "min       28.000000      0.000000\n",
       "25%       31.800000      0.000000\n",
       "50%       32.800000      2.000000\n",
       "75%       33.900000      7.000000\n",
       "max       40.000000    100.000000"
      ]
     },
     "execution_count": 154,
     "metadata": {},
     "output_type": "execute_result"
    }
   ],
   "source": [
    "labs_mchc.describe()"
   ]
  },
  {
   "cell_type": "code",
   "execution_count": 155,
   "metadata": {},
   "outputs": [
    {
     "data": {
      "image/png": "[encoded data removed]",
      "text/plain": [
       "<Figure size 432x288 with 1 Axes>"
      ]
     },
     "metadata": {
      "needs_background": "light"
     },
     "output_type": "display_data"
    }
   ],
   "source": [
    "fig, ax = plt.subplots()\n",
    "_=ax.hist(labs_mchc.lab_value)"
   ]
  },
  {
   "cell_type": "code",
   "execution_count": 156,
   "metadata": {},
   "outputs": [
    {
     "data": {
      "text/plain": [
       "ruid              0\n",
       "lab_name          0\n",
       "lab_date          0\n",
       "lab_value       598\n",
       "visit_id          0\n",
       "hospital_day      0\n",
       "dtype: int64"
      ]
     },
     "execution_count": 156,
     "metadata": {},
     "output_type": "execute_result"
    }
   ],
   "source": [
    "labs_mchc.isna().sum()"
   ]
  },
  {
   "cell_type": "code",
   "execution_count": 157,
   "metadata": {},
   "outputs": [
    {
     "data": {
      "text/plain": [
       "array(['MCHC', 'RBC', 'Hgb', 'WBC', 'Plt-Ct', 'Cl', 'CO2', 'Gluc', 'BUN',\n",
       "       'PCV', 'Na', 'Creat', 'K', 'GluBed'], dtype=object)"
      ]
     },
     "execution_count": 157,
     "metadata": {},
     "output_type": "execute_result"
    }
   ],
   "source": [
    "labs.lab_name.unique()"
   ]
  },
  {
   "cell_type": "code",
   "execution_count": 158,
   "metadata": {},
   "outputs": [
    {
     "data": {
      "text/plain": [
       "(1452094, 6)"
      ]
     },
     "execution_count": 158,
     "metadata": {},
     "output_type": "execute_result"
    }
   ],
   "source": [
    "labs.shape"
   ]
  },
  {
   "cell_type": "markdown",
   "metadata": {},
   "source": [
    "15) convert outliers in `MCH` to NaN, normal values = 27-33"
   ]
  },
  {
   "cell_type": "code",
   "execution_count": 159,
   "metadata": {},
   "outputs": [
    {
     "name": "stdout",
     "output_type": "stream",
     "text": [
      "99% percentile for  MCH : \n"
     ]
    },
    {
     "data": {
      "text/plain": [
       "(35.7, 21.2)"
      ]
     },
     "execution_count": 159,
     "metadata": {},
     "output_type": "execute_result"
    },
    {
     "data": {
      "image/png": "[encoded data removed]",
      "text/plain": [
       "<Figure size 432x288 with 1 Axes>"
      ]
     },
     "metadata": {
      "needs_background": "light"
     },
     "output_type": "display_data"
    }
   ],
   "source": [
    "outlier_detection(labs_merged, 'MCH')"
   ]
  },
  {
   "cell_type": "code",
   "execution_count": 160,
   "metadata": {},
   "outputs": [],
   "source": [
    "labs_mch = labs_merged[labs_merged.lab_name=='MCH']"
   ]
  },
  {
   "cell_type": "code",
   "execution_count": 161,
   "metadata": {},
   "outputs": [
    {
     "data": {
      "text/html": [
       "<div>\n",
       "<style scoped>\n",
       "    .dataframe tbody tr th:only-of-type {\n",
       "        vertical-align: middle;\n",
       "    }\n",
       "\n",
       "    .dataframe tbody tr th {\n",
       "        vertical-align: top;\n",
       "    }\n",
       "\n",
       "    .dataframe thead th {\n",
       "        text-align: right;\n",
       "    }\n",
       "</style>\n",
       "<table border=\"1\" class=\"dataframe\">\n",
       "  <thead>\n",
       "    <tr style=\"text-align: right;\">\n",
       "      <th></th>\n",
       "      <th>ruid</th>\n",
       "      <th>lab_name</th>\n",
       "      <th>lab_date</th>\n",
       "      <th>lab_value</th>\n",
       "      <th>visit_id</th>\n",
       "      <th>hospital_day</th>\n",
       "    </tr>\n",
       "  </thead>\n",
       "  <tbody>\n",
       "    <tr>\n",
       "      <th>7</th>\n",
       "      <td>53732537</td>\n",
       "      <td>MCH</td>\n",
       "      <td>2015-04-25</td>\n",
       "      <td>NaN</td>\n",
       "      <td>5</td>\n",
       "      <td>2015-04-25</td>\n",
       "    </tr>\n",
       "    <tr>\n",
       "      <th>20</th>\n",
       "      <td>53732537</td>\n",
       "      <td>MCH</td>\n",
       "      <td>2015-04-25</td>\n",
       "      <td>25.2</td>\n",
       "      <td>5</td>\n",
       "      <td>2015-04-25</td>\n",
       "    </tr>\n",
       "    <tr>\n",
       "      <th>35</th>\n",
       "      <td>53732537</td>\n",
       "      <td>MCH</td>\n",
       "      <td>2015-04-25</td>\n",
       "      <td>NaN</td>\n",
       "      <td>5</td>\n",
       "      <td>2015-04-25</td>\n",
       "    </tr>\n",
       "    <tr>\n",
       "      <th>47</th>\n",
       "      <td>53728342</td>\n",
       "      <td>MCH</td>\n",
       "      <td>2014-05-26</td>\n",
       "      <td>NaN</td>\n",
       "      <td>9</td>\n",
       "      <td>2014-05-26</td>\n",
       "    </tr>\n",
       "    <tr>\n",
       "      <th>66</th>\n",
       "      <td>53728342</td>\n",
       "      <td>MCH</td>\n",
       "      <td>2014-05-26</td>\n",
       "      <td>34.4</td>\n",
       "      <td>9</td>\n",
       "      <td>2014-05-26</td>\n",
       "    </tr>\n",
       "  </tbody>\n",
       "</table>\n",
       "</div>"
      ],
      "text/plain": [
       "        ruid lab_name   lab_date  lab_value  visit_id hospital_day\n",
       "7   53732537      MCH 2015-04-25        NaN         5   2015-04-25\n",
       "20  53732537      MCH 2015-04-25       25.2         5   2015-04-25\n",
       "35  53732537      MCH 2015-04-25        NaN         5   2015-04-25\n",
       "47  53728342      MCH 2014-05-26        NaN         9   2014-05-26\n",
       "66  53728342      MCH 2014-05-26       34.4         9   2014-05-26"
      ]
     },
     "execution_count": 161,
     "metadata": {},
     "output_type": "execute_result"
    }
   ],
   "source": [
    "labs_mch.head()"
   ]
  },
  {
   "cell_type": "code",
   "execution_count": 162,
   "metadata": {},
   "outputs": [
    {
     "data": {
      "text/plain": [
       "count    89957.000000\n",
       "mean        29.179418\n",
       "std          2.809424\n",
       "min          0.000000\n",
       "25%         27.800000\n",
       "50%         29.400000\n",
       "75%         30.800000\n",
       "max        111.100000\n",
       "Name: lab_value, dtype: float64"
      ]
     },
     "execution_count": 162,
     "metadata": {},
     "output_type": "execute_result"
    }
   ],
   "source": [
    "labs_mch['lab_value'].describe()"
   ]
  },
  {
   "cell_type": "code",
   "execution_count": 163,
   "metadata": {},
   "outputs": [
    {
     "name": "stderr",
     "output_type": "stream",
     "text": [
      "/anaconda3/envs/bios8366/lib/python3.6/site-packages/ipykernel_launcher.py:20: SettingWithCopyWarning: \n",
      "A value is trying to be set on a copy of a slice from a DataFrame\n",
      "\n",
      "See the caveats in the documentation: http://pandas.pydata.org/pandas-docs/stable/indexing.html#indexing-view-versus-copy\n",
      "/anaconda3/envs/bios8366/lib/python3.6/site-packages/ipykernel_launcher.py:23: SettingWithCopyWarning: \n",
      "A value is trying to be set on a copy of a slice from a DataFrame\n",
      "\n",
      "See the caveats in the documentation: http://pandas.pydata.org/pandas-docs/stable/indexing.html#indexing-view-versus-copy\n"
     ]
    }
   ],
   "source": [
    "labs_mch, labs = outlier_conversion(labs_mch,labs,21,36)"
   ]
  },
  {
   "cell_type": "code",
   "execution_count": 164,
   "metadata": {},
   "outputs": [
    {
     "data": {
      "image/png": "[encoded data removed]",
      "text/plain": [
       "<Figure size 432x288 with 1 Axes>"
      ]
     },
     "metadata": {
      "needs_background": "light"
     },
     "output_type": "display_data"
    }
   ],
   "source": [
    "fig, ax = plt.subplots()\n",
    "_=ax.hist(labs_mch.lab_value)"
   ]
  },
  {
   "cell_type": "code",
   "execution_count": 165,
   "metadata": {},
   "outputs": [
    {
     "data": {
      "text/plain": [
       "array(['MCH', 'MCHC', 'RBC', 'Hgb', 'WBC', 'Plt-Ct', 'Cl', 'CO2', 'Gluc',\n",
       "       'BUN', 'PCV', 'Na', 'Creat', 'K', 'GluBed'], dtype=object)"
      ]
     },
     "execution_count": 165,
     "metadata": {},
     "output_type": "execute_result"
    }
   ],
   "source": [
    "labs.lab_name.unique()"
   ]
  },
  {
   "cell_type": "code",
   "execution_count": 166,
   "metadata": {},
   "outputs": [
    {
     "data": {
      "text/plain": [
       "(1542245, 6)"
      ]
     },
     "execution_count": 166,
     "metadata": {},
     "output_type": "execute_result"
    }
   ],
   "source": [
    "labs.shape"
   ]
  },
  {
   "cell_type": "markdown",
   "metadata": {},
   "source": [
    "16) convert outliers in `MCV` to NaN, nl range = 80-96"
   ]
  },
  {
   "cell_type": "code",
   "execution_count": 167,
   "metadata": {},
   "outputs": [
    {
     "name": "stdout",
     "output_type": "stream",
     "text": [
      "99% percentile for  MCV : \n"
     ]
    },
    {
     "data": {
      "text/plain": [
       "(107.0, 69.0)"
      ]
     },
     "execution_count": 167,
     "metadata": {},
     "output_type": "execute_result"
    },
    {
     "data": {
      "image/png": "[encoded data removed]",
      "text/plain": [
       "<Figure size 432x288 with 1 Axes>"
      ]
     },
     "metadata": {
      "needs_background": "light"
     },
     "output_type": "display_data"
    }
   ],
   "source": [
    "outlier_detection(labs_merged, 'MCV')"
   ]
  },
  {
   "cell_type": "code",
   "execution_count": 168,
   "metadata": {},
   "outputs": [],
   "source": [
    "labs_mcv = labs_merged[labs_merged.lab_name=='MCV']"
   ]
  },
  {
   "cell_type": "code",
   "execution_count": 169,
   "metadata": {},
   "outputs": [
    {
     "data": {
      "text/html": [
       "<div>\n",
       "<style scoped>\n",
       "    .dataframe tbody tr th:only-of-type {\n",
       "        vertical-align: middle;\n",
       "    }\n",
       "\n",
       "    .dataframe tbody tr th {\n",
       "        vertical-align: top;\n",
       "    }\n",
       "\n",
       "    .dataframe thead th {\n",
       "        text-align: right;\n",
       "    }\n",
       "</style>\n",
       "<table border=\"1\" class=\"dataframe\">\n",
       "  <thead>\n",
       "    <tr style=\"text-align: right;\">\n",
       "      <th></th>\n",
       "      <th>ruid</th>\n",
       "      <th>lab_name</th>\n",
       "      <th>lab_date</th>\n",
       "      <th>lab_value</th>\n",
       "      <th>visit_id</th>\n",
       "      <th>hospital_day</th>\n",
       "    </tr>\n",
       "  </thead>\n",
       "  <tbody>\n",
       "    <tr>\n",
       "      <th>5</th>\n",
       "      <td>53732537</td>\n",
       "      <td>MCV</td>\n",
       "      <td>2015-04-25</td>\n",
       "      <td>NaN</td>\n",
       "      <td>5</td>\n",
       "      <td>2015-04-25</td>\n",
       "    </tr>\n",
       "    <tr>\n",
       "      <th>12</th>\n",
       "      <td>53732537</td>\n",
       "      <td>MCV</td>\n",
       "      <td>2015-04-25</td>\n",
       "      <td>80.0</td>\n",
       "      <td>5</td>\n",
       "      <td>2015-04-25</td>\n",
       "    </tr>\n",
       "    <tr>\n",
       "      <th>41</th>\n",
       "      <td>53732537</td>\n",
       "      <td>MCV</td>\n",
       "      <td>2015-04-25</td>\n",
       "      <td>NaN</td>\n",
       "      <td>5</td>\n",
       "      <td>2015-04-25</td>\n",
       "    </tr>\n",
       "    <tr>\n",
       "      <th>43</th>\n",
       "      <td>53728342</td>\n",
       "      <td>MCV</td>\n",
       "      <td>2014-05-26</td>\n",
       "      <td>NaN</td>\n",
       "      <td>9</td>\n",
       "      <td>2014-05-26</td>\n",
       "    </tr>\n",
       "    <tr>\n",
       "      <th>55</th>\n",
       "      <td>53728342</td>\n",
       "      <td>MCV</td>\n",
       "      <td>2014-05-26</td>\n",
       "      <td>90.0</td>\n",
       "      <td>9</td>\n",
       "      <td>2014-05-26</td>\n",
       "    </tr>\n",
       "  </tbody>\n",
       "</table>\n",
       "</div>"
      ],
      "text/plain": [
       "        ruid lab_name   lab_date  lab_value  visit_id hospital_day\n",
       "5   53732537      MCV 2015-04-25        NaN         5   2015-04-25\n",
       "12  53732537      MCV 2015-04-25       80.0         5   2015-04-25\n",
       "41  53732537      MCV 2015-04-25        NaN         5   2015-04-25\n",
       "43  53728342      MCV 2014-05-26        NaN         9   2014-05-26\n",
       "55  53728342      MCV 2014-05-26       90.0         9   2014-05-26"
      ]
     },
     "execution_count": 169,
     "metadata": {},
     "output_type": "execute_result"
    }
   ],
   "source": [
    "labs_mcv.head()"
   ]
  },
  {
   "cell_type": "code",
   "execution_count": 170,
   "metadata": {},
   "outputs": [
    {
     "data": {
      "text/plain": [
       "count    87830.000000\n",
       "mean        89.063481\n",
       "std          7.269603\n",
       "min         39.000000\n",
       "25%         85.000000\n",
       "50%         89.000000\n",
       "75%         93.000000\n",
       "max        146.000000\n",
       "Name: lab_value, dtype: float64"
      ]
     },
     "execution_count": 170,
     "metadata": {},
     "output_type": "execute_result"
    }
   ],
   "source": [
    "labs_mcv['lab_value'].describe()"
   ]
  },
  {
   "cell_type": "code",
   "execution_count": 171,
   "metadata": {},
   "outputs": [
    {
     "name": "stderr",
     "output_type": "stream",
     "text": [
      "/anaconda3/envs/bios8366/lib/python3.6/site-packages/ipykernel_launcher.py:20: SettingWithCopyWarning: \n",
      "A value is trying to be set on a copy of a slice from a DataFrame\n",
      "\n",
      "See the caveats in the documentation: http://pandas.pydata.org/pandas-docs/stable/indexing.html#indexing-view-versus-copy\n",
      "/anaconda3/envs/bios8366/lib/python3.6/site-packages/ipykernel_launcher.py:23: SettingWithCopyWarning: \n",
      "A value is trying to be set on a copy of a slice from a DataFrame\n",
      "\n",
      "See the caveats in the documentation: http://pandas.pydata.org/pandas-docs/stable/indexing.html#indexing-view-versus-copy\n"
     ]
    }
   ],
   "source": [
    "labs_mcv, labs = outlier_conversion(labs_mcv,labs,69,107)"
   ]
  },
  {
   "cell_type": "code",
   "execution_count": 172,
   "metadata": {},
   "outputs": [
    {
     "data": {
      "image/png": "[encoded data removed]",
      "text/plain": [
       "<Figure size 432x288 with 1 Axes>"
      ]
     },
     "metadata": {
      "needs_background": "light"
     },
     "output_type": "display_data"
    }
   ],
   "source": [
    "fig, ax = plt.subplots()\n",
    "_=ax.hist(labs_mcv.lab_value)"
   ]
  },
  {
   "cell_type": "code",
   "execution_count": 173,
   "metadata": {},
   "outputs": [
    {
     "data": {
      "text/plain": [
       "array(['MCV', 'MCH', 'MCHC', 'RBC', 'Hgb', 'WBC', 'Plt-Ct', 'Cl', 'CO2',\n",
       "       'Gluc', 'BUN', 'PCV', 'Na', 'Creat', 'K', 'GluBed'], dtype=object)"
      ]
     },
     "execution_count": 173,
     "metadata": {},
     "output_type": "execute_result"
    }
   ],
   "source": [
    "labs.lab_name.unique()"
   ]
  },
  {
   "cell_type": "code",
   "execution_count": 174,
   "metadata": {},
   "outputs": [
    {
     "data": {
      "text/plain": [
       "(1630267, 6)"
      ]
     },
     "execution_count": 174,
     "metadata": {},
     "output_type": "execute_result"
    }
   ],
   "source": [
    "labs.shape"
   ]
  },
  {
   "cell_type": "markdown",
   "metadata": {},
   "source": [
    "17) convert outliers in `RDW` to NaN, normal values = 11.6-14.6 (if this is RDW-CV)"
   ]
  },
  {
   "cell_type": "code",
   "execution_count": 175,
   "metadata": {},
   "outputs": [
    {
     "name": "stdout",
     "output_type": "stream",
     "text": [
      "99% percentile for  RDW : \n"
     ]
    },
    {
     "data": {
      "text/plain": [
       "(24.5, 12.2)"
      ]
     },
     "execution_count": 175,
     "metadata": {},
     "output_type": "execute_result"
    },
    {
     "data": {
      "image/png": "[encoded data removed]",
      "text/plain": [
       "<Figure size 432x288 with 1 Axes>"
      ]
     },
     "metadata": {
      "needs_background": "light"
     },
     "output_type": "display_data"
    }
   ],
   "source": [
    "outlier_detection(labs_merged, 'RDW')"
   ]
  },
  {
   "cell_type": "code",
   "execution_count": 176,
   "metadata": {},
   "outputs": [],
   "source": [
    "labs_rdw = labs_merged[labs_merged.lab_name=='RDW']"
   ]
  },
  {
   "cell_type": "code",
   "execution_count": 177,
   "metadata": {},
   "outputs": [
    {
     "data": {
      "text/html": [
       "<div>\n",
       "<style scoped>\n",
       "    .dataframe tbody tr th:only-of-type {\n",
       "        vertical-align: middle;\n",
       "    }\n",
       "\n",
       "    .dataframe tbody tr th {\n",
       "        vertical-align: top;\n",
       "    }\n",
       "\n",
       "    .dataframe thead th {\n",
       "        text-align: right;\n",
       "    }\n",
       "</style>\n",
       "<table border=\"1\" class=\"dataframe\">\n",
       "  <thead>\n",
       "    <tr style=\"text-align: right;\">\n",
       "      <th></th>\n",
       "      <th>ruid</th>\n",
       "      <th>lab_name</th>\n",
       "      <th>lab_date</th>\n",
       "      <th>lab_value</th>\n",
       "      <th>visit_id</th>\n",
       "      <th>hospital_day</th>\n",
       "    </tr>\n",
       "  </thead>\n",
       "  <tbody>\n",
       "    <tr>\n",
       "      <th>4</th>\n",
       "      <td>53732537</td>\n",
       "      <td>RDW</td>\n",
       "      <td>2015-04-25</td>\n",
       "      <td>NaN</td>\n",
       "      <td>5</td>\n",
       "      <td>2015-04-25</td>\n",
       "    </tr>\n",
       "    <tr>\n",
       "      <th>10</th>\n",
       "      <td>53732537</td>\n",
       "      <td>RDW</td>\n",
       "      <td>2015-04-25</td>\n",
       "      <td>NaN</td>\n",
       "      <td>5</td>\n",
       "      <td>2015-04-25</td>\n",
       "    </tr>\n",
       "    <tr>\n",
       "      <th>26</th>\n",
       "      <td>53732537</td>\n",
       "      <td>RDW</td>\n",
       "      <td>2015-04-25</td>\n",
       "      <td>14.3</td>\n",
       "      <td>5</td>\n",
       "      <td>2015-04-25</td>\n",
       "    </tr>\n",
       "    <tr>\n",
       "      <th>48</th>\n",
       "      <td>53728342</td>\n",
       "      <td>RDW</td>\n",
       "      <td>2014-05-26</td>\n",
       "      <td>NaN</td>\n",
       "      <td>9</td>\n",
       "      <td>2014-05-26</td>\n",
       "    </tr>\n",
       "    <tr>\n",
       "      <th>79</th>\n",
       "      <td>53728342</td>\n",
       "      <td>RDW</td>\n",
       "      <td>2014-05-26</td>\n",
       "      <td>14.8</td>\n",
       "      <td>9</td>\n",
       "      <td>2014-05-26</td>\n",
       "    </tr>\n",
       "  </tbody>\n",
       "</table>\n",
       "</div>"
      ],
      "text/plain": [
       "        ruid lab_name   lab_date  lab_value  visit_id hospital_day\n",
       "4   53732537      RDW 2015-04-25        NaN         5   2015-04-25\n",
       "10  53732537      RDW 2015-04-25        NaN         5   2015-04-25\n",
       "26  53732537      RDW 2015-04-25       14.3         5   2015-04-25\n",
       "48  53728342      RDW 2014-05-26        NaN         9   2014-05-26\n",
       "79  53728342      RDW 2014-05-26       14.8         9   2014-05-26"
      ]
     },
     "execution_count": 177,
     "metadata": {},
     "output_type": "execute_result"
    }
   ],
   "source": [
    "labs_rdw.head()"
   ]
  },
  {
   "cell_type": "code",
   "execution_count": 178,
   "metadata": {},
   "outputs": [
    {
     "data": {
      "text/plain": [
       "count    89287.000000\n",
       "mean        16.038718\n",
       "std          2.642581\n",
       "min         10.900000\n",
       "25%         14.100000\n",
       "50%         15.500000\n",
       "75%         17.400000\n",
       "max         62.000000\n",
       "Name: lab_value, dtype: float64"
      ]
     },
     "execution_count": 178,
     "metadata": {},
     "output_type": "execute_result"
    }
   ],
   "source": [
    "labs_rdw['lab_value'].describe()"
   ]
  },
  {
   "cell_type": "code",
   "execution_count": 179,
   "metadata": {},
   "outputs": [
    {
     "name": "stderr",
     "output_type": "stream",
     "text": [
      "/anaconda3/envs/bios8366/lib/python3.6/site-packages/ipykernel_launcher.py:20: SettingWithCopyWarning: \n",
      "A value is trying to be set on a copy of a slice from a DataFrame\n",
      "\n",
      "See the caveats in the documentation: http://pandas.pydata.org/pandas-docs/stable/indexing.html#indexing-view-versus-copy\n",
      "/anaconda3/envs/bios8366/lib/python3.6/site-packages/ipykernel_launcher.py:23: SettingWithCopyWarning: \n",
      "A value is trying to be set on a copy of a slice from a DataFrame\n",
      "\n",
      "See the caveats in the documentation: http://pandas.pydata.org/pandas-docs/stable/indexing.html#indexing-view-versus-copy\n"
     ]
    }
   ],
   "source": [
    "# note: going to keep outliers for lower-bound because its close to smaller number in range\n",
    "labs_rdw, labs = outlier_conversion(labs_rdw,labs,5,24.5)"
   ]
  },
  {
   "cell_type": "code",
   "execution_count": 180,
   "metadata": {},
   "outputs": [
    {
     "data": {
      "image/png": "[encoded data removed]",
      "text/plain": [
       "<Figure size 432x288 with 1 Axes>"
      ]
     },
     "metadata": {
      "needs_background": "light"
     },
     "output_type": "display_data"
    }
   ],
   "source": [
    "fig, ax = plt.subplots()\n",
    "_=ax.hist(labs_rdw.lab_value)"
   ]
  },
  {
   "cell_type": "code",
   "execution_count": 181,
   "metadata": {},
   "outputs": [
    {
     "data": {
      "text/plain": [
       "array(['RDW', 'MCV', 'MCH', 'MCHC', 'RBC', 'Hgb', 'WBC', 'Plt-Ct', 'Cl',\n",
       "       'CO2', 'Gluc', 'BUN', 'PCV', 'Na', 'Creat', 'K', 'GluBed'],\n",
       "      dtype=object)"
      ]
     },
     "execution_count": 181,
     "metadata": {},
     "output_type": "execute_result"
    }
   ],
   "source": [
    "labs.lab_name.unique()"
   ]
  },
  {
   "cell_type": "code",
   "execution_count": 182,
   "metadata": {},
   "outputs": [
    {
     "data": {
      "text/plain": [
       "(1719769, 6)"
      ]
     },
     "execution_count": 182,
     "metadata": {},
     "output_type": "execute_result"
    }
   ],
   "source": [
    "labs.shape"
   ]
  },
  {
   "cell_type": "markdown",
   "metadata": {},
   "source": [
    "18) convert outliers in `AN-GAP` to NaN, nl range = 4-12 (newer technique), 8-16 (older technique)"
   ]
  },
  {
   "cell_type": "code",
   "execution_count": 183,
   "metadata": {},
   "outputs": [
    {
     "name": "stdout",
     "output_type": "stream",
     "text": [
      "99% percentile for  AN-GAP : \n"
     ]
    },
    {
     "data": {
      "text/plain": [
       "(19.0, 2.0)"
      ]
     },
     "execution_count": 183,
     "metadata": {},
     "output_type": "execute_result"
    },
    {
     "data": {
      "image/png": "[encoded data removed]",
      "text/plain": [
       "<Figure size 432x288 with 1 Axes>"
      ]
     },
     "metadata": {
      "needs_background": "light"
     },
     "output_type": "display_data"
    }
   ],
   "source": [
    "outlier_detection(labs_merged, 'AN-GAP')"
   ]
  },
  {
   "cell_type": "code",
   "execution_count": 184,
   "metadata": {},
   "outputs": [],
   "source": [
    "labs_angap = labs_merged[labs_merged.lab_name=='AN-GAP']"
   ]
  },
  {
   "cell_type": "code",
   "execution_count": 185,
   "metadata": {},
   "outputs": [
    {
     "data": {
      "text/html": [
       "<div>\n",
       "<style scoped>\n",
       "    .dataframe tbody tr th:only-of-type {\n",
       "        vertical-align: middle;\n",
       "    }\n",
       "\n",
       "    .dataframe tbody tr th {\n",
       "        vertical-align: top;\n",
       "    }\n",
       "\n",
       "    .dataframe thead th {\n",
       "        text-align: right;\n",
       "    }\n",
       "</style>\n",
       "<table border=\"1\" class=\"dataframe\">\n",
       "  <thead>\n",
       "    <tr style=\"text-align: right;\">\n",
       "      <th></th>\n",
       "      <th>ruid</th>\n",
       "      <th>lab_name</th>\n",
       "      <th>lab_date</th>\n",
       "      <th>lab_value</th>\n",
       "      <th>visit_id</th>\n",
       "      <th>hospital_day</th>\n",
       "    </tr>\n",
       "  </thead>\n",
       "  <tbody>\n",
       "    <tr>\n",
       "      <th>30</th>\n",
       "      <td>53732537</td>\n",
       "      <td>AN-GAP</td>\n",
       "      <td>2015-04-25</td>\n",
       "      <td>13.0</td>\n",
       "      <td>5</td>\n",
       "      <td>2015-04-25</td>\n",
       "    </tr>\n",
       "    <tr>\n",
       "      <th>93</th>\n",
       "      <td>53735977</td>\n",
       "      <td>AN-GAP</td>\n",
       "      <td>2014-03-15</td>\n",
       "      <td>6.0</td>\n",
       "      <td>3</td>\n",
       "      <td>2014-03-15</td>\n",
       "    </tr>\n",
       "    <tr>\n",
       "      <th>111</th>\n",
       "      <td>53735233</td>\n",
       "      <td>AN-GAP</td>\n",
       "      <td>2014-09-06</td>\n",
       "      <td>8.0</td>\n",
       "      <td>1</td>\n",
       "      <td>2014-09-06</td>\n",
       "    </tr>\n",
       "    <tr>\n",
       "      <th>139</th>\n",
       "      <td>53735233</td>\n",
       "      <td>AN-GAP</td>\n",
       "      <td>2014-09-06</td>\n",
       "      <td>14.0</td>\n",
       "      <td>1</td>\n",
       "      <td>2014-09-06</td>\n",
       "    </tr>\n",
       "    <tr>\n",
       "      <th>144</th>\n",
       "      <td>53735233</td>\n",
       "      <td>AN-GAP</td>\n",
       "      <td>2014-09-06</td>\n",
       "      <td>12.0</td>\n",
       "      <td>1</td>\n",
       "      <td>2014-09-06</td>\n",
       "    </tr>\n",
       "  </tbody>\n",
       "</table>\n",
       "</div>"
      ],
      "text/plain": [
       "         ruid lab_name   lab_date  lab_value  visit_id hospital_day\n",
       "30   53732537   AN-GAP 2015-04-25       13.0         5   2015-04-25\n",
       "93   53735977   AN-GAP 2014-03-15        6.0         3   2014-03-15\n",
       "111  53735233   AN-GAP 2014-09-06        8.0         1   2014-09-06\n",
       "139  53735233   AN-GAP 2014-09-06       14.0         1   2014-09-06\n",
       "144  53735233   AN-GAP 2014-09-06       12.0         1   2014-09-06"
      ]
     },
     "execution_count": 185,
     "metadata": {},
     "output_type": "execute_result"
    }
   ],
   "source": [
    "labs_angap.head()"
   ]
  },
  {
   "cell_type": "code",
   "execution_count": 186,
   "metadata": {},
   "outputs": [
    {
     "data": {
      "text/plain": [
       "count    97287.00000\n",
       "mean         8.53410\n",
       "std          3.51002\n",
       "min        -22.00000\n",
       "25%          6.00000\n",
       "50%          8.00000\n",
       "75%         10.00000\n",
       "max        103.00000\n",
       "Name: lab_value, dtype: float64"
      ]
     },
     "execution_count": 186,
     "metadata": {},
     "output_type": "execute_result"
    }
   ],
   "source": [
    "labs_angap['lab_value'].describe()"
   ]
  },
  {
   "cell_type": "code",
   "execution_count": 187,
   "metadata": {},
   "outputs": [
    {
     "name": "stderr",
     "output_type": "stream",
     "text": [
      "/anaconda3/envs/bios8366/lib/python3.6/site-packages/ipykernel_launcher.py:20: SettingWithCopyWarning: \n",
      "A value is trying to be set on a copy of a slice from a DataFrame\n",
      "\n",
      "See the caveats in the documentation: http://pandas.pydata.org/pandas-docs/stable/indexing.html#indexing-view-versus-copy\n",
      "/anaconda3/envs/bios8366/lib/python3.6/site-packages/ipykernel_launcher.py:23: SettingWithCopyWarning: \n",
      "A value is trying to be set on a copy of a slice from a DataFrame\n",
      "\n",
      "See the caveats in the documentation: http://pandas.pydata.org/pandas-docs/stable/indexing.html#indexing-view-versus-copy\n"
     ]
    }
   ],
   "source": [
    "labs_angap, labs = outlier_conversion(labs_angap,labs,2,19)"
   ]
  },
  {
   "cell_type": "code",
   "execution_count": 188,
   "metadata": {},
   "outputs": [
    {
     "data": {
      "image/png": "[encoded data removed]",
      "text/plain": [
       "<Figure size 432x288 with 1 Axes>"
      ]
     },
     "metadata": {
      "needs_background": "light"
     },
     "output_type": "display_data"
    }
   ],
   "source": [
    "fig, ax = plt.subplots()\n",
    "_=ax.hist(labs_angap.lab_value)"
   ]
  },
  {
   "cell_type": "code",
   "execution_count": 189,
   "metadata": {},
   "outputs": [
    {
     "data": {
      "text/plain": [
       "array(['AN-GAP', 'RDW', 'MCV', 'MCH', 'MCHC', 'RBC', 'Hgb', 'WBC',\n",
       "       'Plt-Ct', 'Cl', 'CO2', 'Gluc', 'BUN', 'PCV', 'Na', 'Creat', 'K',\n",
       "       'GluBed'], dtype=object)"
      ]
     },
     "execution_count": 189,
     "metadata": {},
     "output_type": "execute_result"
    }
   ],
   "source": [
    "labs.lab_name.unique()"
   ]
  },
  {
   "cell_type": "code",
   "execution_count": 190,
   "metadata": {},
   "outputs": [
    {
     "data": {
      "text/plain": [
       "(1817088, 6)"
      ]
     },
     "execution_count": 190,
     "metadata": {},
     "output_type": "execute_result"
    }
   ],
   "source": [
    "labs.shape"
   ]
  },
  {
   "cell_type": "markdown",
   "metadata": {},
   "source": [
    "19) convert outliers in `Ca` to NaN, nl range = 8.5-10.2"
   ]
  },
  {
   "cell_type": "code",
   "execution_count": 191,
   "metadata": {},
   "outputs": [
    {
     "name": "stdout",
     "output_type": "stream",
     "text": [
      "99% percentile for  Ca : \n"
     ]
    },
    {
     "data": {
      "text/plain": [
       "(10.4, 6.5)"
      ]
     },
     "execution_count": 191,
     "metadata": {},
     "output_type": "execute_result"
    },
    {
     "data": {
      "image/png": "[encoded data removed]",
      "text/plain": [
       "<Figure size 432x288 with 1 Axes>"
      ]
     },
     "metadata": {
      "needs_background": "light"
     },
     "output_type": "display_data"
    }
   ],
   "source": [
    "outlier_detection(labs_merged, 'Ca')"
   ]
  },
  {
   "cell_type": "code",
   "execution_count": 192,
   "metadata": {},
   "outputs": [],
   "source": [
    "labs_ca = labs_merged[labs_merged.lab_name=='Ca']"
   ]
  },
  {
   "cell_type": "code",
   "execution_count": 193,
   "metadata": {},
   "outputs": [
    {
     "data": {
      "text/html": [
       "<div>\n",
       "<style scoped>\n",
       "    .dataframe tbody tr th:only-of-type {\n",
       "        vertical-align: middle;\n",
       "    }\n",
       "\n",
       "    .dataframe tbody tr th {\n",
       "        vertical-align: top;\n",
       "    }\n",
       "\n",
       "    .dataframe thead th {\n",
       "        text-align: right;\n",
       "    }\n",
       "</style>\n",
       "<table border=\"1\" class=\"dataframe\">\n",
       "  <thead>\n",
       "    <tr style=\"text-align: right;\">\n",
       "      <th></th>\n",
       "      <th>ruid</th>\n",
       "      <th>lab_name</th>\n",
       "      <th>lab_date</th>\n",
       "      <th>lab_value</th>\n",
       "      <th>visit_id</th>\n",
       "      <th>hospital_day</th>\n",
       "    </tr>\n",
       "  </thead>\n",
       "  <tbody>\n",
       "    <tr>\n",
       "      <th>11</th>\n",
       "      <td>53732537</td>\n",
       "      <td>Ca</td>\n",
       "      <td>2015-04-25</td>\n",
       "      <td>9.4</td>\n",
       "      <td>5</td>\n",
       "      <td>2015-04-25</td>\n",
       "    </tr>\n",
       "    <tr>\n",
       "      <th>88</th>\n",
       "      <td>53735977</td>\n",
       "      <td>Ca</td>\n",
       "      <td>2014-03-15</td>\n",
       "      <td>8.5</td>\n",
       "      <td>3</td>\n",
       "      <td>2014-03-15</td>\n",
       "    </tr>\n",
       "    <tr>\n",
       "      <th>155</th>\n",
       "      <td>53733675</td>\n",
       "      <td>Ca</td>\n",
       "      <td>2014-02-09</td>\n",
       "      <td>9.8</td>\n",
       "      <td>5</td>\n",
       "      <td>2014-02-09</td>\n",
       "    </tr>\n",
       "    <tr>\n",
       "      <th>184</th>\n",
       "      <td>53728759</td>\n",
       "      <td>Ca</td>\n",
       "      <td>2013-05-30</td>\n",
       "      <td>8.1</td>\n",
       "      <td>4</td>\n",
       "      <td>2013-05-30</td>\n",
       "    </tr>\n",
       "    <tr>\n",
       "      <th>223</th>\n",
       "      <td>53735479</td>\n",
       "      <td>Ca</td>\n",
       "      <td>2013-12-30</td>\n",
       "      <td>8.0</td>\n",
       "      <td>1</td>\n",
       "      <td>2013-12-30</td>\n",
       "    </tr>\n",
       "  </tbody>\n",
       "</table>\n",
       "</div>"
      ],
      "text/plain": [
       "         ruid lab_name   lab_date  lab_value  visit_id hospital_day\n",
       "11   53732537       Ca 2015-04-25        9.4         5   2015-04-25\n",
       "88   53735977       Ca 2014-03-15        8.5         3   2014-03-15\n",
       "155  53733675       Ca 2014-02-09        9.8         5   2014-02-09\n",
       "184  53728759       Ca 2013-05-30        8.1         4   2013-05-30\n",
       "223  53735479       Ca 2013-12-30        8.0         1   2013-12-30"
      ]
     },
     "execution_count": 193,
     "metadata": {},
     "output_type": "execute_result"
    }
   ],
   "source": [
    "labs_ca.head()"
   ]
  },
  {
   "cell_type": "code",
   "execution_count": 194,
   "metadata": {},
   "outputs": [
    {
     "data": {
      "text/plain": [
       "count    83160.000000\n",
       "mean         8.523585\n",
       "std          0.786102\n",
       "min          1.700000\n",
       "25%          8.100000\n",
       "50%          8.500000\n",
       "75%          9.000000\n",
       "max         23.200000\n",
       "Name: lab_value, dtype: float64"
      ]
     },
     "execution_count": 194,
     "metadata": {},
     "output_type": "execute_result"
    }
   ],
   "source": [
    "labs_ca['lab_value'].describe()"
   ]
  },
  {
   "cell_type": "code",
   "execution_count": 195,
   "metadata": {},
   "outputs": [
    {
     "name": "stderr",
     "output_type": "stream",
     "text": [
      "/anaconda3/envs/bios8366/lib/python3.6/site-packages/ipykernel_launcher.py:20: SettingWithCopyWarning: \n",
      "A value is trying to be set on a copy of a slice from a DataFrame\n",
      "\n",
      "See the caveats in the documentation: http://pandas.pydata.org/pandas-docs/stable/indexing.html#indexing-view-versus-copy\n",
      "/anaconda3/envs/bios8366/lib/python3.6/site-packages/ipykernel_launcher.py:23: SettingWithCopyWarning: \n",
      "A value is trying to be set on a copy of a slice from a DataFrame\n",
      "\n",
      "See the caveats in the documentation: http://pandas.pydata.org/pandas-docs/stable/indexing.html#indexing-view-versus-copy\n"
     ]
    }
   ],
   "source": [
    "labs_ca, labs = outlier_conversion(labs_ca,labs,6.5,15)"
   ]
  },
  {
   "cell_type": "code",
   "execution_count": 196,
   "metadata": {},
   "outputs": [
    {
     "data": {
      "image/png": "[encoded data removed]",
      "text/plain": [
       "<Figure size 432x288 with 1 Axes>"
      ]
     },
     "metadata": {
      "needs_background": "light"
     },
     "output_type": "display_data"
    }
   ],
   "source": [
    "fig, ax = plt.subplots()\n",
    "_=ax.hist(labs_ca.lab_value)"
   ]
  },
  {
   "cell_type": "code",
   "execution_count": 197,
   "metadata": {},
   "outputs": [
    {
     "data": {
      "text/plain": [
       "array(['Ca', 'AN-GAP', 'RDW', 'MCV', 'MCH', 'MCHC', 'RBC', 'Hgb', 'WBC',\n",
       "       'Plt-Ct', 'Cl', 'CO2', 'Gluc', 'BUN', 'PCV', 'Na', 'Creat', 'K',\n",
       "       'GluBed'], dtype=object)"
      ]
     },
     "execution_count": 197,
     "metadata": {},
     "output_type": "execute_result"
    }
   ],
   "source": [
    "labs.lab_name.unique()"
   ]
  },
  {
   "cell_type": "code",
   "execution_count": 198,
   "metadata": {},
   "outputs": [
    {
     "data": {
      "text/plain": [
       "(1900459, 6)"
      ]
     },
     "execution_count": 198,
     "metadata": {},
     "output_type": "execute_result"
    }
   ],
   "source": [
    "labs.shape"
   ]
  },
  {
   "cell_type": "code",
   "execution_count": 200,
   "metadata": {},
   "outputs": [],
   "source": [
    "# export labs to csv\n",
    "labs.to_csv(dir+'labs_cleaned.csv', index=False)"
   ]
  }
 ],
 "metadata": {
  "kernelspec": {
   "display_name": "Python 3",
   "language": "python",
   "name": "python3"
  },
  "language_info": {
   "codemirror_mode": {
    "name": "ipython",
    "version": 3
   },
   "file_extension": ".py",
   "mimetype": "text/x-python",
   "name": "python",
   "nbconvert_exporter": "python",
   "pygments_lexer": "ipython3",
   "version": "3.6.7"
  }
 },
 "nbformat": 4,
 "nbformat_minor": 2
}
