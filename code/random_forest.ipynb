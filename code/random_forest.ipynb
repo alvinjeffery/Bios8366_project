{
 "cells": [
  {
   "cell_type": "markdown",
   "metadata": {},
   "source": [
    "# Analysis \n",
    "## Random Forest "
   ]
  },
  {
   "cell_type": "code",
   "execution_count": 153,
   "metadata": {},
   "outputs": [],
   "source": [
    "%matplotlib inline\n",
    "import numpy as np\n",
    "import pandas as pd\n",
    "import matplotlib.pyplot as plt\n",
    "import seaborn as sns\n",
    "sns.set()\n",
    "\n",
    "from sklearn import preprocessing, model_selection\n",
    "from sklearn.impute import SimpleImputer\n",
    "from sklearn.ensemble import RandomForestClassifier\n",
    "from sklearn.metrics import make_scorer, confusion_matrix, f1_score, roc_auc_score"
   ]
  },
  {
   "cell_type": "code",
   "execution_count": 184,
   "metadata": {},
   "outputs": [],
   "source": [
    "df = pd.read_csv('../data/merged.csv')"
   ]
  },
  {
   "cell_type": "code",
   "execution_count": 185,
   "metadata": {},
   "outputs": [
    {
     "data": {
      "text/plain": [
       "(21041, 66)"
      ]
     },
     "execution_count": 185,
     "metadata": {},
     "output_type": "execute_result"
    }
   ],
   "source": [
    "df.shape"
   ]
  },
  {
   "cell_type": "code",
   "execution_count": 186,
   "metadata": {},
   "outputs": [
    {
     "data": {
      "text/plain": [
       "5623"
      ]
     },
     "execution_count": 186,
     "metadata": {},
     "output_type": "execute_result"
    }
   ],
   "source": [
    "len(np.unique(df.ruid))"
   ]
  },
  {
   "cell_type": "code",
   "execution_count": 187,
   "metadata": {},
   "outputs": [
    {
     "data": {
      "text/html": [
       "<div>\n",
       "<style scoped>\n",
       "    .dataframe tbody tr th:only-of-type {\n",
       "        vertical-align: middle;\n",
       "    }\n",
       "\n",
       "    .dataframe tbody tr th {\n",
       "        vertical-align: top;\n",
       "    }\n",
       "\n",
       "    .dataframe thead th {\n",
       "        text-align: right;\n",
       "    }\n",
       "</style>\n",
       "<table border=\"1\" class=\"dataframe\">\n",
       "  <thead>\n",
       "    <tr style=\"text-align: right;\">\n",
       "      <th></th>\n",
       "      <th>ruid</th>\n",
       "      <th>visit_id</th>\n",
       "      <th>admit_date</th>\n",
       "      <th>discharge_date</th>\n",
       "      <th>stay_length</th>\n",
       "      <th>n_transfers</th>\n",
       "      <th>readmit_time</th>\n",
       "      <th>readmit_30d</th>\n",
       "      <th>sex</th>\n",
       "      <th>dob</th>\n",
       "      <th>...</th>\n",
       "      <th>gluc</th>\n",
       "      <th>k</th>\n",
       "      <th>na</th>\n",
       "      <th>pcv</th>\n",
       "      <th>plt-ct</th>\n",
       "      <th>systolic</th>\n",
       "      <th>diastolic</th>\n",
       "      <th>bmi</th>\n",
       "      <th>pregnancy_indicator</th>\n",
       "      <th>egfr</th>\n",
       "    </tr>\n",
       "  </thead>\n",
       "  <tbody>\n",
       "    <tr>\n",
       "      <th>0</th>\n",
       "      <td>50135262</td>\n",
       "      <td>0</td>\n",
       "      <td>2007-02-08</td>\n",
       "      <td>2007-02-12</td>\n",
       "      <td>4 days 00:00:00.000000000</td>\n",
       "      <td>2</td>\n",
       "      <td>172 days 00:00:00.000000000</td>\n",
       "      <td>0</td>\n",
       "      <td>F</td>\n",
       "      <td>1949-09-20</td>\n",
       "      <td>...</td>\n",
       "      <td>138.0</td>\n",
       "      <td>4.40</td>\n",
       "      <td>136.0</td>\n",
       "      <td>32.0</td>\n",
       "      <td>334.0</td>\n",
       "      <td>140.0</td>\n",
       "      <td>58.0</td>\n",
       "      <td>44.710</td>\n",
       "      <td>0.0</td>\n",
       "      <td>123.677830</td>\n",
       "    </tr>\n",
       "    <tr>\n",
       "      <th>1</th>\n",
       "      <td>50135262</td>\n",
       "      <td>1</td>\n",
       "      <td>2007-08-03</td>\n",
       "      <td>2007-08-06</td>\n",
       "      <td>3 days 00:00:00.000000000</td>\n",
       "      <td>3</td>\n",
       "      <td>22 days 00:00:00.000000000</td>\n",
       "      <td>1</td>\n",
       "      <td>F</td>\n",
       "      <td>1949-09-20</td>\n",
       "      <td>...</td>\n",
       "      <td>213.5</td>\n",
       "      <td>4.45</td>\n",
       "      <td>135.0</td>\n",
       "      <td>39.0</td>\n",
       "      <td>291.5</td>\n",
       "      <td>121.0</td>\n",
       "      <td>61.0</td>\n",
       "      <td>45.025</td>\n",
       "      <td>0.0</td>\n",
       "      <td>89.505000</td>\n",
       "    </tr>\n",
       "    <tr>\n",
       "      <th>2</th>\n",
       "      <td>50135262</td>\n",
       "      <td>2</td>\n",
       "      <td>2007-08-28</td>\n",
       "      <td>2007-08-29</td>\n",
       "      <td>1 days 00:00:00.000000000</td>\n",
       "      <td>1</td>\n",
       "      <td>179 days 00:00:00.000000000</td>\n",
       "      <td>0</td>\n",
       "      <td>F</td>\n",
       "      <td>1949-09-20</td>\n",
       "      <td>...</td>\n",
       "      <td>266.0</td>\n",
       "      <td>3.90</td>\n",
       "      <td>139.0</td>\n",
       "      <td>38.0</td>\n",
       "      <td>308.0</td>\n",
       "      <td>131.0</td>\n",
       "      <td>60.0</td>\n",
       "      <td>46.230</td>\n",
       "      <td>0.0</td>\n",
       "      <td>107.450000</td>\n",
       "    </tr>\n",
       "    <tr>\n",
       "      <th>3</th>\n",
       "      <td>50135262</td>\n",
       "      <td>3</td>\n",
       "      <td>2008-02-24</td>\n",
       "      <td>2008-02-28</td>\n",
       "      <td>4 days 00:00:00.000000000</td>\n",
       "      <td>2</td>\n",
       "      <td>44 days 00:00:00.000000000</td>\n",
       "      <td>0</td>\n",
       "      <td>F</td>\n",
       "      <td>1949-09-20</td>\n",
       "      <td>...</td>\n",
       "      <td>230.0</td>\n",
       "      <td>4.00</td>\n",
       "      <td>135.0</td>\n",
       "      <td>38.0</td>\n",
       "      <td>274.0</td>\n",
       "      <td>151.0</td>\n",
       "      <td>74.0</td>\n",
       "      <td>47.140</td>\n",
       "      <td>0.0</td>\n",
       "      <td>73.010770</td>\n",
       "    </tr>\n",
       "    <tr>\n",
       "      <th>4</th>\n",
       "      <td>50135262</td>\n",
       "      <td>4</td>\n",
       "      <td>2008-04-12</td>\n",
       "      <td>2008-04-13</td>\n",
       "      <td>1 days 00:00:00.000000000</td>\n",
       "      <td>1</td>\n",
       "      <td>928 days 00:00:00.000000000</td>\n",
       "      <td>0</td>\n",
       "      <td>F</td>\n",
       "      <td>1949-09-20</td>\n",
       "      <td>...</td>\n",
       "      <td>162.0</td>\n",
       "      <td>4.10</td>\n",
       "      <td>139.0</td>\n",
       "      <td>36.0</td>\n",
       "      <td>330.0</td>\n",
       "      <td>134.0</td>\n",
       "      <td>66.0</td>\n",
       "      <td>47.360</td>\n",
       "      <td>0.0</td>\n",
       "      <td>84.358415</td>\n",
       "    </tr>\n",
       "  </tbody>\n",
       "</table>\n",
       "<p>5 rows × 66 columns</p>\n",
       "</div>"
      ],
      "text/plain": [
       "       ruid  visit_id  admit_date discharge_date                stay_length  \\\n",
       "0  50135262         0  2007-02-08     2007-02-12  4 days 00:00:00.000000000   \n",
       "1  50135262         1  2007-08-03     2007-08-06  3 days 00:00:00.000000000   \n",
       "2  50135262         2  2007-08-28     2007-08-29  1 days 00:00:00.000000000   \n",
       "3  50135262         3  2008-02-24     2008-02-28  4 days 00:00:00.000000000   \n",
       "4  50135262         4  2008-04-12     2008-04-13  1 days 00:00:00.000000000   \n",
       "\n",
       "   n_transfers                 readmit_time  readmit_30d sex         dob  \\\n",
       "0            2  172 days 00:00:00.000000000            0   F  1949-09-20   \n",
       "1            3   22 days 00:00:00.000000000            1   F  1949-09-20   \n",
       "2            1  179 days 00:00:00.000000000            0   F  1949-09-20   \n",
       "3            2   44 days 00:00:00.000000000            0   F  1949-09-20   \n",
       "4            1  928 days 00:00:00.000000000            0   F  1949-09-20   \n",
       "\n",
       "      ...       gluc     k     na   pcv  plt-ct  systolic  diastolic     bmi  \\\n",
       "0     ...      138.0  4.40  136.0  32.0   334.0     140.0       58.0  44.710   \n",
       "1     ...      213.5  4.45  135.0  39.0   291.5     121.0       61.0  45.025   \n",
       "2     ...      266.0  3.90  139.0  38.0   308.0     131.0       60.0  46.230   \n",
       "3     ...      230.0  4.00  135.0  38.0   274.0     151.0       74.0  47.140   \n",
       "4     ...      162.0  4.10  139.0  36.0   330.0     134.0       66.0  47.360   \n",
       "\n",
       "   pregnancy_indicator        egfr  \n",
       "0                  0.0  123.677830  \n",
       "1                  0.0   89.505000  \n",
       "2                  0.0  107.450000  \n",
       "3                  0.0   73.010770  \n",
       "4                  0.0   84.358415  \n",
       "\n",
       "[5 rows x 66 columns]"
      ]
     },
     "execution_count": 187,
     "metadata": {},
     "output_type": "execute_result"
    }
   ],
   "source": [
    "df.head()"
   ]
  },
  {
   "cell_type": "code",
   "execution_count": 234,
   "metadata": {},
   "outputs": [],
   "source": [
    "df['age'] = pd.to_datetime(df['admit_date']) - pd.to_datetime(df['dob'])"
   ]
  },
  {
   "cell_type": "code",
   "execution_count": 235,
   "metadata": {},
   "outputs": [],
   "source": [
    "df['age'] = df['age'].apply(lambda x: pd.to_timedelta(x).days/365.25)"
   ]
  },
  {
   "cell_type": "code",
   "execution_count": 236,
   "metadata": {},
   "outputs": [
    {
     "data": {
      "text/html": [
       "<div>\n",
       "<style scoped>\n",
       "    .dataframe tbody tr th:only-of-type {\n",
       "        vertical-align: middle;\n",
       "    }\n",
       "\n",
       "    .dataframe tbody tr th {\n",
       "        vertical-align: top;\n",
       "    }\n",
       "\n",
       "    .dataframe thead th {\n",
       "        text-align: right;\n",
       "    }\n",
       "</style>\n",
       "<table border=\"1\" class=\"dataframe\">\n",
       "  <thead>\n",
       "    <tr style=\"text-align: right;\">\n",
       "      <th></th>\n",
       "      <th>ruid</th>\n",
       "      <th>visit_id</th>\n",
       "      <th>admit_date</th>\n",
       "      <th>discharge_date</th>\n",
       "      <th>stay_length</th>\n",
       "      <th>n_transfers</th>\n",
       "      <th>readmit_time</th>\n",
       "      <th>readmit_30d</th>\n",
       "      <th>sex</th>\n",
       "      <th>dob</th>\n",
       "      <th>...</th>\n",
       "      <th>k</th>\n",
       "      <th>na</th>\n",
       "      <th>pcv</th>\n",
       "      <th>plt-ct</th>\n",
       "      <th>systolic</th>\n",
       "      <th>diastolic</th>\n",
       "      <th>bmi</th>\n",
       "      <th>pregnancy_indicator</th>\n",
       "      <th>egfr</th>\n",
       "      <th>age</th>\n",
       "    </tr>\n",
       "  </thead>\n",
       "  <tbody>\n",
       "    <tr>\n",
       "      <th>0</th>\n",
       "      <td>50135262</td>\n",
       "      <td>0</td>\n",
       "      <td>2007-02-08</td>\n",
       "      <td>2007-02-12</td>\n",
       "      <td>4 days 00:00:00.000000000</td>\n",
       "      <td>2</td>\n",
       "      <td>172 days 00:00:00.000000000</td>\n",
       "      <td>0</td>\n",
       "      <td>F</td>\n",
       "      <td>1949-09-20</td>\n",
       "      <td>...</td>\n",
       "      <td>4.40</td>\n",
       "      <td>136.0</td>\n",
       "      <td>32.0</td>\n",
       "      <td>334.0</td>\n",
       "      <td>140.0</td>\n",
       "      <td>58.0</td>\n",
       "      <td>44.710</td>\n",
       "      <td>0.0</td>\n",
       "      <td>123.677830</td>\n",
       "      <td>57.385352</td>\n",
       "    </tr>\n",
       "    <tr>\n",
       "      <th>1</th>\n",
       "      <td>50135262</td>\n",
       "      <td>1</td>\n",
       "      <td>2007-08-03</td>\n",
       "      <td>2007-08-06</td>\n",
       "      <td>3 days 00:00:00.000000000</td>\n",
       "      <td>3</td>\n",
       "      <td>22 days 00:00:00.000000000</td>\n",
       "      <td>1</td>\n",
       "      <td>F</td>\n",
       "      <td>1949-09-20</td>\n",
       "      <td>...</td>\n",
       "      <td>4.45</td>\n",
       "      <td>135.0</td>\n",
       "      <td>39.0</td>\n",
       "      <td>291.5</td>\n",
       "      <td>121.0</td>\n",
       "      <td>61.0</td>\n",
       "      <td>45.025</td>\n",
       "      <td>0.0</td>\n",
       "      <td>89.505000</td>\n",
       "      <td>57.867214</td>\n",
       "    </tr>\n",
       "    <tr>\n",
       "      <th>2</th>\n",
       "      <td>50135262</td>\n",
       "      <td>2</td>\n",
       "      <td>2007-08-28</td>\n",
       "      <td>2007-08-29</td>\n",
       "      <td>1 days 00:00:00.000000000</td>\n",
       "      <td>1</td>\n",
       "      <td>179 days 00:00:00.000000000</td>\n",
       "      <td>0</td>\n",
       "      <td>F</td>\n",
       "      <td>1949-09-20</td>\n",
       "      <td>...</td>\n",
       "      <td>3.90</td>\n",
       "      <td>139.0</td>\n",
       "      <td>38.0</td>\n",
       "      <td>308.0</td>\n",
       "      <td>131.0</td>\n",
       "      <td>60.0</td>\n",
       "      <td>46.230</td>\n",
       "      <td>0.0</td>\n",
       "      <td>107.450000</td>\n",
       "      <td>57.935661</td>\n",
       "    </tr>\n",
       "    <tr>\n",
       "      <th>3</th>\n",
       "      <td>50135262</td>\n",
       "      <td>3</td>\n",
       "      <td>2008-02-24</td>\n",
       "      <td>2008-02-28</td>\n",
       "      <td>4 days 00:00:00.000000000</td>\n",
       "      <td>2</td>\n",
       "      <td>44 days 00:00:00.000000000</td>\n",
       "      <td>0</td>\n",
       "      <td>F</td>\n",
       "      <td>1949-09-20</td>\n",
       "      <td>...</td>\n",
       "      <td>4.00</td>\n",
       "      <td>135.0</td>\n",
       "      <td>38.0</td>\n",
       "      <td>274.0</td>\n",
       "      <td>151.0</td>\n",
       "      <td>74.0</td>\n",
       "      <td>47.140</td>\n",
       "      <td>0.0</td>\n",
       "      <td>73.010770</td>\n",
       "      <td>58.428474</td>\n",
       "    </tr>\n",
       "    <tr>\n",
       "      <th>4</th>\n",
       "      <td>50135262</td>\n",
       "      <td>4</td>\n",
       "      <td>2008-04-12</td>\n",
       "      <td>2008-04-13</td>\n",
       "      <td>1 days 00:00:00.000000000</td>\n",
       "      <td>1</td>\n",
       "      <td>928 days 00:00:00.000000000</td>\n",
       "      <td>0</td>\n",
       "      <td>F</td>\n",
       "      <td>1949-09-20</td>\n",
       "      <td>...</td>\n",
       "      <td>4.10</td>\n",
       "      <td>139.0</td>\n",
       "      <td>36.0</td>\n",
       "      <td>330.0</td>\n",
       "      <td>134.0</td>\n",
       "      <td>66.0</td>\n",
       "      <td>47.360</td>\n",
       "      <td>0.0</td>\n",
       "      <td>84.358415</td>\n",
       "      <td>58.559890</td>\n",
       "    </tr>\n",
       "  </tbody>\n",
       "</table>\n",
       "<p>5 rows × 67 columns</p>\n",
       "</div>"
      ],
      "text/plain": [
       "       ruid  visit_id  admit_date discharge_date                stay_length  \\\n",
       "0  50135262         0  2007-02-08     2007-02-12  4 days 00:00:00.000000000   \n",
       "1  50135262         1  2007-08-03     2007-08-06  3 days 00:00:00.000000000   \n",
       "2  50135262         2  2007-08-28     2007-08-29  1 days 00:00:00.000000000   \n",
       "3  50135262         3  2008-02-24     2008-02-28  4 days 00:00:00.000000000   \n",
       "4  50135262         4  2008-04-12     2008-04-13  1 days 00:00:00.000000000   \n",
       "\n",
       "   n_transfers                 readmit_time  readmit_30d sex         dob  \\\n",
       "0            2  172 days 00:00:00.000000000            0   F  1949-09-20   \n",
       "1            3   22 days 00:00:00.000000000            1   F  1949-09-20   \n",
       "2            1  179 days 00:00:00.000000000            0   F  1949-09-20   \n",
       "3            2   44 days 00:00:00.000000000            0   F  1949-09-20   \n",
       "4            1  928 days 00:00:00.000000000            0   F  1949-09-20   \n",
       "\n",
       "     ...         k     na   pcv  plt-ct  systolic  diastolic     bmi  \\\n",
       "0    ...      4.40  136.0  32.0   334.0     140.0       58.0  44.710   \n",
       "1    ...      4.45  135.0  39.0   291.5     121.0       61.0  45.025   \n",
       "2    ...      3.90  139.0  38.0   308.0     131.0       60.0  46.230   \n",
       "3    ...      4.00  135.0  38.0   274.0     151.0       74.0  47.140   \n",
       "4    ...      4.10  139.0  36.0   330.0     134.0       66.0  47.360   \n",
       "\n",
       "   pregnancy_indicator        egfr        age  \n",
       "0                  0.0  123.677830  57.385352  \n",
       "1                  0.0   89.505000  57.867214  \n",
       "2                  0.0  107.450000  57.935661  \n",
       "3                  0.0   73.010770  58.428474  \n",
       "4                  0.0   84.358415  58.559890  \n",
       "\n",
       "[5 rows x 67 columns]"
      ]
     },
     "execution_count": 236,
     "metadata": {},
     "output_type": "execute_result"
    }
   ],
   "source": [
    "df.head()"
   ]
  },
  {
   "cell_type": "code",
   "execution_count": 238,
   "metadata": {},
   "outputs": [],
   "source": [
    "y = df.pop('readmit_30d')\n",
    "X = df.drop(columns=['visit_id', 'admit_date', 'discharge_date', 'readmit_time',\n",
    "                    'dob', 'dod'])"
   ]
  },
  {
   "cell_type": "markdown",
   "metadata": {},
   "source": [
    "## Imputation"
   ]
  },
  {
   "cell_type": "code",
   "execution_count": 239,
   "metadata": {},
   "outputs": [
    {
     "data": {
      "text/plain": [
       "ruid                                              0\n",
       "stay_length                                       0\n",
       "n_transfers                                       0\n",
       "sex                                               0\n",
       "race                                              0\n",
       "cpt_anesthesia                                    0\n",
       "cpt_eval_manage                                   0\n",
       "cpt_expired                                       0\n",
       "cpt_medicine                                      0\n",
       "cpt_modifier                                      0\n",
       "cpt_path_lab                                      0\n",
       "cpt_radiology                                     0\n",
       "cpt_surgery                                       0\n",
       "cpt_unknown                                       0\n",
       "icd_dx_blood                                      0\n",
       "icd_dx_circulatory                                0\n",
       "icd_dx_congenital                                 0\n",
       "icd_dx_digestive                                  0\n",
       "icd_dx_endocrine                                  0\n",
       "icd_dx_external                                   0\n",
       "icd_dx_gu                                         0\n",
       "icd_dx_infection                                  0\n",
       "icd_dx_injury                                     0\n",
       "icd_dx_mental                                     0\n",
       "icd_dx_muscskel                                   0\n",
       "icd_dx_neoplasm                                   0\n",
       "icd_dx_nervous                                    0\n",
       "icd_dx_obstetric                                  0\n",
       "icd_dx_perinatal                                  0\n",
       "icd_dx_respiratory                                0\n",
       "icd_dx_skin                                       0\n",
       "icd_dx_symptoms                                   0\n",
       "icd_proc                                          0\n",
       "icd_visit                                         0\n",
       "med_Antihypertensive Agents                       0\n",
       "med_Analgesics, Opioid                            0\n",
       "med_Narcotics                                     0\n",
       "med_Antipyretics                                  0\n",
       "med_Anti-Bacterial Agents                         0\n",
       "med_Anti-Inflammatory Agents, Non-Steroidal       0\n",
       "med_Analgesics, Non-Narcotic                      0\n",
       "med_Antiemetics                                   0\n",
       "med_Diuretics                                     0\n",
       "med_Anti-Arrhythmia Agents                        0\n",
       "bun                                            2237\n",
       "co2                                            2237\n",
       "cl                                             2237\n",
       "creat                                          2237\n",
       "glubed                                         2237\n",
       "gluc                                           2237\n",
       "k                                              2237\n",
       "na                                             2237\n",
       "pcv                                            2237\n",
       "plt-ct                                         2237\n",
       "systolic                                       2237\n",
       "diastolic                                      2237\n",
       "bmi                                            2237\n",
       "pregnancy_indicator                            2237\n",
       "egfr                                           2237\n",
       "age                                               0\n",
       "dtype: int64"
      ]
     },
     "execution_count": 239,
     "metadata": {},
     "output_type": "execute_result"
    }
   ],
   "source": [
    "X.isnull().sum()"
   ]
  },
  {
   "cell_type": "markdown",
   "metadata": {},
   "source": [
    "***Simple imputation to start"
   ]
  },
  {
   "cell_type": "code",
   "execution_count": 240,
   "metadata": {},
   "outputs": [],
   "source": [
    "X_imputed = X.fillna(X.mean())"
   ]
  },
  {
   "cell_type": "code",
   "execution_count": null,
   "metadata": {},
   "outputs": [],
   "source": []
  },
  {
   "cell_type": "markdown",
   "metadata": {},
   "source": [
    "## Coerce Stay Length"
   ]
  },
  {
   "cell_type": "code",
   "execution_count": 241,
   "metadata": {},
   "outputs": [],
   "source": [
    "X_imputed['stay_length'] = X_imputed['stay_length'].apply(lambda x: pd.to_timedelta(x).days)"
   ]
  },
  {
   "cell_type": "code",
   "execution_count": 242,
   "metadata": {},
   "outputs": [
    {
     "data": {
      "text/html": [
       "<div>\n",
       "<style scoped>\n",
       "    .dataframe tbody tr th:only-of-type {\n",
       "        vertical-align: middle;\n",
       "    }\n",
       "\n",
       "    .dataframe tbody tr th {\n",
       "        vertical-align: top;\n",
       "    }\n",
       "\n",
       "    .dataframe thead th {\n",
       "        text-align: right;\n",
       "    }\n",
       "</style>\n",
       "<table border=\"1\" class=\"dataframe\">\n",
       "  <thead>\n",
       "    <tr style=\"text-align: right;\">\n",
       "      <th></th>\n",
       "      <th>ruid</th>\n",
       "      <th>stay_length</th>\n",
       "      <th>n_transfers</th>\n",
       "      <th>sex</th>\n",
       "      <th>race</th>\n",
       "      <th>cpt_anesthesia</th>\n",
       "      <th>cpt_eval_manage</th>\n",
       "      <th>cpt_expired</th>\n",
       "      <th>cpt_medicine</th>\n",
       "      <th>cpt_modifier</th>\n",
       "      <th>...</th>\n",
       "      <th>k</th>\n",
       "      <th>na</th>\n",
       "      <th>pcv</th>\n",
       "      <th>plt-ct</th>\n",
       "      <th>systolic</th>\n",
       "      <th>diastolic</th>\n",
       "      <th>bmi</th>\n",
       "      <th>pregnancy_indicator</th>\n",
       "      <th>egfr</th>\n",
       "      <th>age</th>\n",
       "    </tr>\n",
       "  </thead>\n",
       "  <tbody>\n",
       "    <tr>\n",
       "      <th>0</th>\n",
       "      <td>50135262</td>\n",
       "      <td>4</td>\n",
       "      <td>2</td>\n",
       "      <td>F</td>\n",
       "      <td>W</td>\n",
       "      <td>0.0</td>\n",
       "      <td>6.0</td>\n",
       "      <td>4.0</td>\n",
       "      <td>16.0</td>\n",
       "      <td>9.0</td>\n",
       "      <td>...</td>\n",
       "      <td>4.40</td>\n",
       "      <td>136.0</td>\n",
       "      <td>32.0</td>\n",
       "      <td>334.0</td>\n",
       "      <td>140.0</td>\n",
       "      <td>58.0</td>\n",
       "      <td>44.710</td>\n",
       "      <td>0.0</td>\n",
       "      <td>123.677830</td>\n",
       "      <td>57.385352</td>\n",
       "    </tr>\n",
       "    <tr>\n",
       "      <th>1</th>\n",
       "      <td>50135262</td>\n",
       "      <td>3</td>\n",
       "      <td>3</td>\n",
       "      <td>F</td>\n",
       "      <td>W</td>\n",
       "      <td>0.0</td>\n",
       "      <td>2.0</td>\n",
       "      <td>1.0</td>\n",
       "      <td>16.0</td>\n",
       "      <td>15.0</td>\n",
       "      <td>...</td>\n",
       "      <td>4.45</td>\n",
       "      <td>135.0</td>\n",
       "      <td>39.0</td>\n",
       "      <td>291.5</td>\n",
       "      <td>121.0</td>\n",
       "      <td>61.0</td>\n",
       "      <td>45.025</td>\n",
       "      <td>0.0</td>\n",
       "      <td>89.505000</td>\n",
       "      <td>57.867214</td>\n",
       "    </tr>\n",
       "    <tr>\n",
       "      <th>2</th>\n",
       "      <td>50135262</td>\n",
       "      <td>1</td>\n",
       "      <td>1</td>\n",
       "      <td>F</td>\n",
       "      <td>W</td>\n",
       "      <td>0.0</td>\n",
       "      <td>3.0</td>\n",
       "      <td>0.0</td>\n",
       "      <td>7.0</td>\n",
       "      <td>4.0</td>\n",
       "      <td>...</td>\n",
       "      <td>3.90</td>\n",
       "      <td>139.0</td>\n",
       "      <td>38.0</td>\n",
       "      <td>308.0</td>\n",
       "      <td>131.0</td>\n",
       "      <td>60.0</td>\n",
       "      <td>46.230</td>\n",
       "      <td>0.0</td>\n",
       "      <td>107.450000</td>\n",
       "      <td>57.935661</td>\n",
       "    </tr>\n",
       "    <tr>\n",
       "      <th>3</th>\n",
       "      <td>50135262</td>\n",
       "      <td>4</td>\n",
       "      <td>2</td>\n",
       "      <td>F</td>\n",
       "      <td>W</td>\n",
       "      <td>0.0</td>\n",
       "      <td>6.0</td>\n",
       "      <td>1.0</td>\n",
       "      <td>4.0</td>\n",
       "      <td>8.0</td>\n",
       "      <td>...</td>\n",
       "      <td>4.00</td>\n",
       "      <td>135.0</td>\n",
       "      <td>38.0</td>\n",
       "      <td>274.0</td>\n",
       "      <td>151.0</td>\n",
       "      <td>74.0</td>\n",
       "      <td>47.140</td>\n",
       "      <td>0.0</td>\n",
       "      <td>73.010770</td>\n",
       "      <td>58.428474</td>\n",
       "    </tr>\n",
       "    <tr>\n",
       "      <th>4</th>\n",
       "      <td>50135262</td>\n",
       "      <td>1</td>\n",
       "      <td>1</td>\n",
       "      <td>F</td>\n",
       "      <td>W</td>\n",
       "      <td>0.0</td>\n",
       "      <td>1.0</td>\n",
       "      <td>1.0</td>\n",
       "      <td>2.0</td>\n",
       "      <td>3.0</td>\n",
       "      <td>...</td>\n",
       "      <td>4.10</td>\n",
       "      <td>139.0</td>\n",
       "      <td>36.0</td>\n",
       "      <td>330.0</td>\n",
       "      <td>134.0</td>\n",
       "      <td>66.0</td>\n",
       "      <td>47.360</td>\n",
       "      <td>0.0</td>\n",
       "      <td>84.358415</td>\n",
       "      <td>58.559890</td>\n",
       "    </tr>\n",
       "  </tbody>\n",
       "</table>\n",
       "<p>5 rows × 60 columns</p>\n",
       "</div>"
      ],
      "text/plain": [
       "       ruid  stay_length  n_transfers sex race  cpt_anesthesia  \\\n",
       "0  50135262            4            2   F    W             0.0   \n",
       "1  50135262            3            3   F    W             0.0   \n",
       "2  50135262            1            1   F    W             0.0   \n",
       "3  50135262            4            2   F    W             0.0   \n",
       "4  50135262            1            1   F    W             0.0   \n",
       "\n",
       "   cpt_eval_manage  cpt_expired  cpt_medicine  cpt_modifier    ...         k  \\\n",
       "0              6.0          4.0          16.0           9.0    ...      4.40   \n",
       "1              2.0          1.0          16.0          15.0    ...      4.45   \n",
       "2              3.0          0.0           7.0           4.0    ...      3.90   \n",
       "3              6.0          1.0           4.0           8.0    ...      4.00   \n",
       "4              1.0          1.0           2.0           3.0    ...      4.10   \n",
       "\n",
       "      na   pcv  plt-ct  systolic  diastolic     bmi  pregnancy_indicator  \\\n",
       "0  136.0  32.0   334.0     140.0       58.0  44.710                  0.0   \n",
       "1  135.0  39.0   291.5     121.0       61.0  45.025                  0.0   \n",
       "2  139.0  38.0   308.0     131.0       60.0  46.230                  0.0   \n",
       "3  135.0  38.0   274.0     151.0       74.0  47.140                  0.0   \n",
       "4  139.0  36.0   330.0     134.0       66.0  47.360                  0.0   \n",
       "\n",
       "         egfr        age  \n",
       "0  123.677830  57.385352  \n",
       "1   89.505000  57.867214  \n",
       "2  107.450000  57.935661  \n",
       "3   73.010770  58.428474  \n",
       "4   84.358415  58.559890  \n",
       "\n",
       "[5 rows x 60 columns]"
      ]
     },
     "execution_count": 242,
     "metadata": {},
     "output_type": "execute_result"
    }
   ],
   "source": [
    "X_imputed.head()"
   ]
  },
  {
   "cell_type": "code",
   "execution_count": null,
   "metadata": {},
   "outputs": [],
   "source": []
  },
  {
   "cell_type": "markdown",
   "metadata": {},
   "source": [
    "## Coerce Categories"
   ]
  },
  {
   "cell_type": "code",
   "execution_count": 243,
   "metadata": {},
   "outputs": [
    {
     "data": {
      "text/html": [
       "<div>\n",
       "<style scoped>\n",
       "    .dataframe tbody tr th:only-of-type {\n",
       "        vertical-align: middle;\n",
       "    }\n",
       "\n",
       "    .dataframe tbody tr th {\n",
       "        vertical-align: top;\n",
       "    }\n",
       "\n",
       "    .dataframe thead th {\n",
       "        text-align: right;\n",
       "    }\n",
       "</style>\n",
       "<table border=\"1\" class=\"dataframe\">\n",
       "  <thead>\n",
       "    <tr style=\"text-align: right;\">\n",
       "      <th></th>\n",
       "      <th>stay_length</th>\n",
       "      <th>n_transfers</th>\n",
       "      <th>cpt_anesthesia</th>\n",
       "      <th>cpt_eval_manage</th>\n",
       "      <th>cpt_expired</th>\n",
       "      <th>cpt_medicine</th>\n",
       "      <th>cpt_modifier</th>\n",
       "      <th>cpt_path_lab</th>\n",
       "      <th>cpt_radiology</th>\n",
       "      <th>cpt_surgery</th>\n",
       "      <th>...</th>\n",
       "      <th>sex_F</th>\n",
       "      <th>sex_M</th>\n",
       "      <th>sex_U</th>\n",
       "      <th>race_A</th>\n",
       "      <th>race_B</th>\n",
       "      <th>race_H</th>\n",
       "      <th>race_I</th>\n",
       "      <th>race_N</th>\n",
       "      <th>race_U</th>\n",
       "      <th>race_W</th>\n",
       "    </tr>\n",
       "  </thead>\n",
       "  <tbody>\n",
       "    <tr>\n",
       "      <th>0</th>\n",
       "      <td>4</td>\n",
       "      <td>2</td>\n",
       "      <td>0.0</td>\n",
       "      <td>6.0</td>\n",
       "      <td>4.0</td>\n",
       "      <td>16.0</td>\n",
       "      <td>9.0</td>\n",
       "      <td>24.0</td>\n",
       "      <td>9.0</td>\n",
       "      <td>2.0</td>\n",
       "      <td>...</td>\n",
       "      <td>1</td>\n",
       "      <td>0</td>\n",
       "      <td>0</td>\n",
       "      <td>0</td>\n",
       "      <td>0</td>\n",
       "      <td>0</td>\n",
       "      <td>0</td>\n",
       "      <td>0</td>\n",
       "      <td>0</td>\n",
       "      <td>1</td>\n",
       "    </tr>\n",
       "    <tr>\n",
       "      <th>1</th>\n",
       "      <td>3</td>\n",
       "      <td>3</td>\n",
       "      <td>0.0</td>\n",
       "      <td>2.0</td>\n",
       "      <td>1.0</td>\n",
       "      <td>16.0</td>\n",
       "      <td>15.0</td>\n",
       "      <td>39.0</td>\n",
       "      <td>1.0</td>\n",
       "      <td>0.0</td>\n",
       "      <td>...</td>\n",
       "      <td>1</td>\n",
       "      <td>0</td>\n",
       "      <td>0</td>\n",
       "      <td>0</td>\n",
       "      <td>0</td>\n",
       "      <td>0</td>\n",
       "      <td>0</td>\n",
       "      <td>0</td>\n",
       "      <td>0</td>\n",
       "      <td>1</td>\n",
       "    </tr>\n",
       "    <tr>\n",
       "      <th>2</th>\n",
       "      <td>1</td>\n",
       "      <td>1</td>\n",
       "      <td>0.0</td>\n",
       "      <td>3.0</td>\n",
       "      <td>0.0</td>\n",
       "      <td>7.0</td>\n",
       "      <td>4.0</td>\n",
       "      <td>13.0</td>\n",
       "      <td>1.0</td>\n",
       "      <td>0.0</td>\n",
       "      <td>...</td>\n",
       "      <td>1</td>\n",
       "      <td>0</td>\n",
       "      <td>0</td>\n",
       "      <td>0</td>\n",
       "      <td>0</td>\n",
       "      <td>0</td>\n",
       "      <td>0</td>\n",
       "      <td>0</td>\n",
       "      <td>0</td>\n",
       "      <td>1</td>\n",
       "    </tr>\n",
       "    <tr>\n",
       "      <th>3</th>\n",
       "      <td>4</td>\n",
       "      <td>2</td>\n",
       "      <td>0.0</td>\n",
       "      <td>6.0</td>\n",
       "      <td>1.0</td>\n",
       "      <td>4.0</td>\n",
       "      <td>8.0</td>\n",
       "      <td>47.0</td>\n",
       "      <td>2.0</td>\n",
       "      <td>2.0</td>\n",
       "      <td>...</td>\n",
       "      <td>1</td>\n",
       "      <td>0</td>\n",
       "      <td>0</td>\n",
       "      <td>0</td>\n",
       "      <td>0</td>\n",
       "      <td>0</td>\n",
       "      <td>0</td>\n",
       "      <td>0</td>\n",
       "      <td>0</td>\n",
       "      <td>1</td>\n",
       "    </tr>\n",
       "    <tr>\n",
       "      <th>4</th>\n",
       "      <td>1</td>\n",
       "      <td>1</td>\n",
       "      <td>0.0</td>\n",
       "      <td>1.0</td>\n",
       "      <td>1.0</td>\n",
       "      <td>2.0</td>\n",
       "      <td>3.0</td>\n",
       "      <td>21.0</td>\n",
       "      <td>1.0</td>\n",
       "      <td>0.0</td>\n",
       "      <td>...</td>\n",
       "      <td>1</td>\n",
       "      <td>0</td>\n",
       "      <td>0</td>\n",
       "      <td>0</td>\n",
       "      <td>0</td>\n",
       "      <td>0</td>\n",
       "      <td>0</td>\n",
       "      <td>0</td>\n",
       "      <td>0</td>\n",
       "      <td>1</td>\n",
       "    </tr>\n",
       "  </tbody>\n",
       "</table>\n",
       "<p>5 rows × 67 columns</p>\n",
       "</div>"
      ],
      "text/plain": [
       "   stay_length  n_transfers  cpt_anesthesia  cpt_eval_manage  cpt_expired  \\\n",
       "0            4            2             0.0              6.0          4.0   \n",
       "1            3            3             0.0              2.0          1.0   \n",
       "2            1            1             0.0              3.0          0.0   \n",
       "3            4            2             0.0              6.0          1.0   \n",
       "4            1            1             0.0              1.0          1.0   \n",
       "\n",
       "   cpt_medicine  cpt_modifier  cpt_path_lab  cpt_radiology  cpt_surgery  \\\n",
       "0          16.0           9.0          24.0            9.0          2.0   \n",
       "1          16.0          15.0          39.0            1.0          0.0   \n",
       "2           7.0           4.0          13.0            1.0          0.0   \n",
       "3           4.0           8.0          47.0            2.0          2.0   \n",
       "4           2.0           3.0          21.0            1.0          0.0   \n",
       "\n",
       "    ...    sex_F  sex_M  sex_U  race_A  race_B  race_H  race_I  race_N  \\\n",
       "0   ...        1      0      0       0       0       0       0       0   \n",
       "1   ...        1      0      0       0       0       0       0       0   \n",
       "2   ...        1      0      0       0       0       0       0       0   \n",
       "3   ...        1      0      0       0       0       0       0       0   \n",
       "4   ...        1      0      0       0       0       0       0       0   \n",
       "\n",
       "   race_U  race_W  \n",
       "0       0       1  \n",
       "1       0       1  \n",
       "2       0       1  \n",
       "3       0       1  \n",
       "4       0       1  \n",
       "\n",
       "[5 rows x 67 columns]"
      ]
     },
     "execution_count": 243,
     "metadata": {},
     "output_type": "execute_result"
    }
   ],
   "source": [
    "X_dummy = pd.get_dummies(X_imputed)\n",
    "X_dummy.drop(columns='ruid', inplace=True)\n",
    "X_dummy.head()"
   ]
  },
  {
   "cell_type": "code",
   "execution_count": null,
   "metadata": {},
   "outputs": [],
   "source": []
  },
  {
   "cell_type": "code",
   "execution_count": null,
   "metadata": {},
   "outputs": [],
   "source": []
  },
  {
   "cell_type": "markdown",
   "metadata": {},
   "source": [
    "## Train-Validation-Test Split"
   ]
  },
  {
   "cell_type": "code",
   "execution_count": 244,
   "metadata": {},
   "outputs": [
    {
     "data": {
      "text/plain": [
       "((16832, 67), (16832,), (4209, 67), (4209,))"
      ]
     },
     "execution_count": 244,
     "metadata": {},
     "output_type": "execute_result"
    }
   ],
   "source": [
    "# 80% train/validation, 20% testing\n",
    "X_train_val, X_test, y_train_val, y_test = model_selection.train_test_split(\n",
    "                                            X_dummy, y, test_size=0.2, random_state=42)\n",
    "\n",
    "X_train_val.shape, y_train_val.shape, X_test.shape, y_test.shape"
   ]
  },
  {
   "cell_type": "code",
   "execution_count": 245,
   "metadata": {},
   "outputs": [
    {
     "data": {
      "text/plain": [
       "((12624, 67), (12624,), (4208, 67), (4208,))"
      ]
     },
     "execution_count": 245,
     "metadata": {},
     "output_type": "execute_result"
    }
   ],
   "source": [
    "# 60% training, 20% validation (which would be 75%/25% of previously created X_train/y_train)\n",
    "X_train, X_valid, y_train, y_valid = model_selection.train_test_split(\n",
    "                                    X_train_val, y_train_val, test_size=0.25, random_state=42)\n",
    "\n",
    "X_train.shape, y_train.shape, X_valid.shape, y_valid.shape"
   ]
  },
  {
   "cell_type": "code",
   "execution_count": 246,
   "metadata": {},
   "outputs": [
    {
     "data": {
      "text/plain": [
       "0    0.730909\n",
       "1    0.269091\n",
       "Name: readmit_30d, dtype: float64"
      ]
     },
     "execution_count": 246,
     "metadata": {},
     "output_type": "execute_result"
    }
   ],
   "source": [
    "y_train.value_counts()/y_train.shape[0]"
   ]
  },
  {
   "cell_type": "code",
   "execution_count": 247,
   "metadata": {},
   "outputs": [
    {
     "data": {
      "text/plain": [
       "0    0.731226\n",
       "1    0.268774\n",
       "Name: readmit_30d, dtype: float64"
      ]
     },
     "execution_count": 247,
     "metadata": {},
     "output_type": "execute_result"
    }
   ],
   "source": [
    "y_valid.value_counts()/y_valid.shape[0]"
   ]
  },
  {
   "cell_type": "code",
   "execution_count": 248,
   "metadata": {},
   "outputs": [
    {
     "data": {
      "text/plain": [
       "0    0.730577\n",
       "1    0.269423\n",
       "Name: readmit_30d, dtype: float64"
      ]
     },
     "execution_count": 248,
     "metadata": {},
     "output_type": "execute_result"
    }
   ],
   "source": [
    "y_test.value_counts()/y_test.shape[0]"
   ]
  },
  {
   "cell_type": "markdown",
   "metadata": {},
   "source": [
    "## Preliminary Model"
   ]
  },
  {
   "cell_type": "code",
   "execution_count": 249,
   "metadata": {},
   "outputs": [],
   "source": [
    "scorer = {'f1': make_scorer(f1_score)}\n",
    "\n",
    "rf = RandomForestClassifier()"
   ]
  },
  {
   "cell_type": "code",
   "execution_count": 250,
   "metadata": {},
   "outputs": [],
   "source": [
    "max_features = [5, 8, 10, 12, 15]\n",
    "n_estimators = [25, 50, 100]\n",
    "\n",
    "# Create the grid\n",
    "parameter_grid = {'max_features': max_features, \n",
    "                  'n_estimators': n_estimators}"
   ]
  },
  {
   "cell_type": "code",
   "execution_count": 148,
   "metadata": {},
   "outputs": [
    {
     "data": {
      "text/plain": [
       "GridSearchCV(cv=5, error_score='raise-deprecating',\n",
       "       estimator=RandomForestClassifier(bootstrap=True, class_weight=None, criterion='gini',\n",
       "            max_depth=None, max_features='auto', max_leaf_nodes=None,\n",
       "            min_impurity_decrease=0.0, min_impurity_split=None,\n",
       "            min_samples_leaf=1, min_samples_split=2,\n",
       "            min_weight_fraction_leaf=0.0, n_estimators='warn', n_jobs=None,\n",
       "            oob_score=False, random_state=None, verbose=0,\n",
       "            warm_start=False),\n",
       "       fit_params=None, iid='warn', n_jobs=3,\n",
       "       param_grid={'max_features': [5, 8, 10, 12, 15], 'n_estimators': [25, 50, 100]},\n",
       "       pre_dispatch='2*n_jobs', refit='f1', return_train_score='warn',\n",
       "       scoring={'f1': make_scorer(f1_score)}, verbose=0)"
      ]
     },
     "execution_count": 148,
     "metadata": {},
     "output_type": "execute_result"
    }
   ],
   "source": [
    "rf_cv = model_selection.GridSearchCV(estimator=rf, cv=5, n_jobs=3, param_grid=parameter_grid,\n",
    "                                     scoring=scorer, refit='f1')\n",
    "\n",
    "rf_cv.fit(X_train, y_train)"
   ]
  },
  {
   "cell_type": "code",
   "execution_count": 149,
   "metadata": {},
   "outputs": [
    {
     "data": {
      "text/plain": [
       "{'bootstrap': True,\n",
       " 'class_weight': None,\n",
       " 'criterion': 'gini',\n",
       " 'max_depth': None,\n",
       " 'max_features': 15,\n",
       " 'max_leaf_nodes': None,\n",
       " 'min_impurity_decrease': 0.0,\n",
       " 'min_impurity_split': None,\n",
       " 'min_samples_leaf': 1,\n",
       " 'min_samples_split': 2,\n",
       " 'min_weight_fraction_leaf': 0.0,\n",
       " 'n_estimators': 25,\n",
       " 'n_jobs': None,\n",
       " 'oob_score': False,\n",
       " 'random_state': None,\n",
       " 'verbose': 0,\n",
       " 'warm_start': False}"
      ]
     },
     "execution_count": 149,
     "metadata": {},
     "output_type": "execute_result"
    }
   ],
   "source": [
    "rf_cv.best_estimator_.get_params()"
   ]
  },
  {
   "cell_type": "code",
   "execution_count": 150,
   "metadata": {},
   "outputs": [
    {
     "data": {
      "text/plain": [
       "0.26410995813795013"
      ]
     },
     "execution_count": 150,
     "metadata": {},
     "output_type": "execute_result"
    }
   ],
   "source": [
    "rf_cv.best_score_"
   ]
  },
  {
   "cell_type": "code",
   "execution_count": 151,
   "metadata": {},
   "outputs": [
    {
     "data": {
      "text/plain": [
       "0.2774490466798159"
      ]
     },
     "execution_count": 151,
     "metadata": {},
     "output_type": "execute_result"
    }
   ],
   "source": [
    "predictions = rf_cv.best_estimator_.predict(X_valid)\n",
    "f1_score(y_valid, predictions)"
   ]
  },
  {
   "cell_type": "code",
   "execution_count": 154,
   "metadata": {},
   "outputs": [
    {
     "data": {
      "text/plain": [
       "0.5641935101047761"
      ]
     },
     "execution_count": 154,
     "metadata": {},
     "output_type": "execute_result"
    }
   ],
   "source": [
    "roc_auc_score(y_valid, predictions)"
   ]
  },
  {
   "cell_type": "code",
   "execution_count": 152,
   "metadata": {},
   "outputs": [
    {
     "data": {
      "text/plain": [
       "array([[2898,  179],\n",
       "       [ 920,  211]])"
      ]
     },
     "execution_count": 152,
     "metadata": {},
     "output_type": "execute_result"
    }
   ],
   "source": [
    "confusion_matrix(y_valid, predictions)"
   ]
  },
  {
   "cell_type": "code",
   "execution_count": null,
   "metadata": {},
   "outputs": [],
   "source": []
  },
  {
   "cell_type": "code",
   "execution_count": 251,
   "metadata": {},
   "outputs": [
    {
     "data": {
      "text/plain": [
       "RandomForestClassifier(bootstrap=True, class_weight=None, criterion='gini',\n",
       "            max_depth=None, max_features=20, max_leaf_nodes=None,\n",
       "            min_impurity_decrease=0.0, min_impurity_split=None,\n",
       "            min_samples_leaf=1, min_samples_split=2,\n",
       "            min_weight_fraction_leaf=0.0, n_estimators=500, n_jobs=None,\n",
       "            oob_score=False, random_state=None, verbose=0,\n",
       "            warm_start=False)"
      ]
     },
     "execution_count": 251,
     "metadata": {},
     "output_type": "execute_result"
    }
   ],
   "source": [
    "rf = RandomForestClassifier(n_estimators=500, max_features=20)\n",
    "rf.fit(X_train, y_train)"
   ]
  },
  {
   "cell_type": "code",
   "execution_count": 252,
   "metadata": {},
   "outputs": [
    {
     "data": {
      "text/plain": [
       "0.2575107296137339"
      ]
     },
     "execution_count": 252,
     "metadata": {},
     "output_type": "execute_result"
    }
   ],
   "source": [
    "predictions = rf.predict(X_valid)\n",
    "f1_score(y_valid, predictions)"
   ]
  },
  {
   "cell_type": "code",
   "execution_count": 253,
   "metadata": {},
   "outputs": [
    {
     "data": {
      "text/plain": [
       "0.5654384502456404"
      ]
     },
     "execution_count": 253,
     "metadata": {},
     "output_type": "execute_result"
    }
   ],
   "source": [
    "roc_auc_score(y_valid, predictions)"
   ]
  },
  {
   "cell_type": "code",
   "execution_count": 254,
   "metadata": {},
   "outputs": [],
   "source": [
    "def feature_importance(rf, train, pred_cols):\n",
    "    importances = rf.feature_importances_\n",
    "    std = np.std([tree.feature_importances_ for tree in rf.estimators_],\n",
    "                 axis=0)\n",
    "    indices = np.argsort(importances)[::-1]\n",
    "    predictors = train[pred_cols].columns\n",
    "    X = train[pred_cols]\n",
    "\n",
    "    # Print the feature ranking\n",
    "    print(\"Feature ranking:\")\n",
    "    #for f in range(X.shape[1]): # all features\n",
    "    for f in range(5): # top 5 only\n",
    "        print(\"%d. %s (%f)\" % (f + 1, predictors[indices[f]], importances[indices[f]]))\n",
    "    \n",
    "    return X, importances, std, predictors, indices"
   ]
  },
  {
   "cell_type": "code",
   "execution_count": 255,
   "metadata": {},
   "outputs": [
    {
     "name": "stdout",
     "output_type": "stream",
     "text": [
      "Feature ranking:\n",
      "1. age (0.047420)\n",
      "2. bmi (0.034783)\n",
      "3. plt-ct (0.033671)\n",
      "4. glubed (0.031773)\n",
      "5. med_Antiemetics (0.031670)\n"
     ]
    },
    {
     "data": {
      "image/png": "[encoded data removed]",
      "text/plain": [
       "<Figure size 1440x720 with 1 Axes>"
      ]
     },
     "metadata": {},
     "output_type": "display_data"
    }
   ],
   "source": [
    "x, importances, std, predictors, indices = feature_importance(rf=rf, \n",
    "                                                                              train=X_train, \n",
    "                                                                              pred_cols=X_train.columns)\n",
    "\n",
    "plt.figure(figsize=(20,10)); plt.title(\"Feature importances\")\n",
    "plt.bar(range(x.shape[1]), importances[indices], color=\"r\", yerr=std[indices], align=\"center\")\n",
    "plt.xticks(range(x.shape[1]), predictors[indices], rotation=80); plt.xlim([-1, x.shape[1]])\n",
    "plt.show()"
   ]
  },
  {
   "cell_type": "code",
   "execution_count": null,
   "metadata": {},
   "outputs": [],
   "source": []
  }
 ],
 "metadata": {
  "kernelspec": {
   "display_name": "Python 3",
   "language": "python",
   "name": "python3"
  },
  "language_info": {
   "codemirror_mode": {
    "name": "ipython",
    "version": 3
   },
   "file_extension": ".py",
   "mimetype": "text/x-python",
   "name": "python",
   "nbconvert_exporter": "python",
   "pygments_lexer": "ipython3",
   "version": "3.6.7"
  }
 },
 "nbformat": 4,
 "nbformat_minor": 2
}
