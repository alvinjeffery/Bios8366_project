{
 "cells": [
  {
   "cell_type": "markdown",
   "metadata": {},
   "source": [
    "## To Do\n",
    "\n",
    "- Should we remove patients with a missing Date of Birth? \n",
    "- Additional manual, spot-checking of ICD & CPT code category cuts. \n",
    "- Re-run RxNav API calls by using \"drug_strength\" if \"StrengthText\" missing or if \"drug_strength\" contains a \"mg\"\n",
    "    - Consider whether we want to expand on \"mg\" to things like \"mcg\" etc."
   ]
  },
  {
   "cell_type": "code",
   "execution_count": 1,
   "metadata": {
    "colab": {},
    "colab_type": "code",
    "id": "1GELVPMhXicS"
   },
   "outputs": [],
   "source": [
    "import pandas as pd\n",
    "import numpy as np\n",
    "import matplotlib.pyplot as plt\n",
    "%matplotlib inline"
   ]
  },
  {
   "cell_type": "code",
   "execution_count": 2,
   "metadata": {
    "colab": {},
    "colab_type": "code",
    "id": "_dqvRezM6r8T"
   },
   "outputs": [],
   "source": [
    "import config\n",
    "import api_rxnorm\n",
    "import DatasetCreation\n",
    "import helper as hlpr"
   ]
  },
  {
   "cell_type": "markdown",
   "metadata": {
    "colab_type": "text",
    "id": "TGRbzSHB6UuZ"
   },
   "source": [
    "# Load Data"
   ]
  },
  {
   "cell_type": "code",
   "execution_count": 3,
   "metadata": {
    "colab": {},
    "colab_type": "code",
    "id": "rZqj41lcZfPV"
   },
   "outputs": [],
   "source": [
    "dir = '../data/'\n",
    "prefix = 'FONNESBECK_'\n",
    "suffix = '_20151202.csv'"
   ]
  },
  {
   "cell_type": "code",
   "execution_count": 4,
   "metadata": {
    "colab": {
     "base_uri": "https://localhost:8080/",
     "height": 204
    },
    "colab_type": "code",
    "id": "xTdo1SpiaKVj",
    "outputId": "241e215e-e375-4188-ac16-848681c619d4"
   },
   "outputs": [
    {
     "data": {
      "text/html": [
       "<div>\n",
       "<style scoped>\n",
       "    .dataframe tbody tr th:only-of-type {\n",
       "        vertical-align: middle;\n",
       "    }\n",
       "\n",
       "    .dataframe tbody tr th {\n",
       "        vertical-align: top;\n",
       "    }\n",
       "\n",
       "    .dataframe thead th {\n",
       "        text-align: right;\n",
       "    }\n",
       "</style>\n",
       "<table border=\"1\" class=\"dataframe\">\n",
       "  <thead>\n",
       "    <tr style=\"text-align: right;\">\n",
       "      <th></th>\n",
       "      <th>ruid</th>\n",
       "      <th>event</th>\n",
       "      <th>admission_date</th>\n",
       "      <th>event_date</th>\n",
       "      <th>srv_code</th>\n",
       "      <th>chief_complaint</th>\n",
       "      <th>discharge_date</th>\n",
       "    </tr>\n",
       "  </thead>\n",
       "  <tbody>\n",
       "    <tr>\n",
       "      <th>0</th>\n",
       "      <td>50135262</td>\n",
       "      <td>Admit</td>\n",
       "      <td>02/08/2007</td>\n",
       "      <td>02/08/2007</td>\n",
       "      <td>ORT</td>\n",
       "      <td>R FEMUR FX</td>\n",
       "      <td>02/12/2007</td>\n",
       "    </tr>\n",
       "    <tr>\n",
       "      <th>1</th>\n",
       "      <td>50135262</td>\n",
       "      <td>Transfer</td>\n",
       "      <td>02/08/2007</td>\n",
       "      <td>02/08/2007</td>\n",
       "      <td>ORT</td>\n",
       "      <td>R FEMUR FX</td>\n",
       "      <td>02/12/2007</td>\n",
       "    </tr>\n",
       "    <tr>\n",
       "      <th>2</th>\n",
       "      <td>50135262</td>\n",
       "      <td>Transfer</td>\n",
       "      <td>02/08/2007</td>\n",
       "      <td>02/09/2007</td>\n",
       "      <td>ORT</td>\n",
       "      <td>R FEMUR FX</td>\n",
       "      <td>02/12/2007</td>\n",
       "    </tr>\n",
       "    <tr>\n",
       "      <th>3</th>\n",
       "      <td>50135262</td>\n",
       "      <td>Discharge</td>\n",
       "      <td>02/08/2007</td>\n",
       "      <td>02/12/2007</td>\n",
       "      <td>ORT</td>\n",
       "      <td>R FEMUR FX</td>\n",
       "      <td>02/12/2007</td>\n",
       "    </tr>\n",
       "    <tr>\n",
       "      <th>4</th>\n",
       "      <td>50135262</td>\n",
       "      <td>Transfer</td>\n",
       "      <td>02/11/2011</td>\n",
       "      <td>02/11/2011</td>\n",
       "      <td>NEU</td>\n",
       "      <td>SEIZURES;HYPERGLYCEMIA</td>\n",
       "      <td>02/23/2011</td>\n",
       "    </tr>\n",
       "  </tbody>\n",
       "</table>\n",
       "</div>"
      ],
      "text/plain": [
       "       ruid      event admission_date  event_date srv_code  \\\n",
       "0  50135262      Admit     02/08/2007  02/08/2007      ORT   \n",
       "1  50135262   Transfer     02/08/2007  02/08/2007      ORT   \n",
       "2  50135262   Transfer     02/08/2007  02/09/2007      ORT   \n",
       "3  50135262  Discharge     02/08/2007  02/12/2007      ORT   \n",
       "4  50135262   Transfer     02/11/2011  02/11/2011      NEU   \n",
       "\n",
       "          chief_complaint discharge_date  \n",
       "0              R FEMUR FX     02/12/2007  \n",
       "1              R FEMUR FX     02/12/2007  \n",
       "2              R FEMUR FX     02/12/2007  \n",
       "3              R FEMUR FX     02/12/2007  \n",
       "4  SEIZURES;HYPERGLYCEMIA     02/23/2011  "
      ]
     },
     "execution_count": 4,
     "metadata": {},
     "output_type": "execute_result"
    }
   ],
   "source": [
    "adt = pd.read_csv(dir + prefix + 'ADT' + suffix, encoding='latin1')\n",
    "adt.columns = adt.columns.str.lower()\n",
    "adt.head()"
   ]
  },
  {
   "cell_type": "code",
   "execution_count": 5,
   "metadata": {},
   "outputs": [
    {
     "data": {
      "text/html": [
       "<div>\n",
       "<style scoped>\n",
       "    .dataframe tbody tr th:only-of-type {\n",
       "        vertical-align: middle;\n",
       "    }\n",
       "\n",
       "    .dataframe tbody tr th {\n",
       "        vertical-align: top;\n",
       "    }\n",
       "\n",
       "    .dataframe thead th {\n",
       "        text-align: right;\n",
       "    }\n",
       "</style>\n",
       "<table border=\"1\" class=\"dataframe\">\n",
       "  <thead>\n",
       "    <tr style=\"text-align: right;\">\n",
       "      <th></th>\n",
       "      <th>ruid</th>\n",
       "      <th>visit_id</th>\n",
       "      <th>admit_date</th>\n",
       "      <th>discharge_date</th>\n",
       "      <th>hospital_day</th>\n",
       "      <th>stay_length</th>\n",
       "      <th>n_transfers</th>\n",
       "      <th>readmit_time</th>\n",
       "      <th>readmit_30d</th>\n",
       "    </tr>\n",
       "  </thead>\n",
       "  <tbody>\n",
       "    <tr>\n",
       "      <th>0</th>\n",
       "      <td>50135262</td>\n",
       "      <td>0</td>\n",
       "      <td>2007-02-08</td>\n",
       "      <td>2007-02-12</td>\n",
       "      <td>2007-02-08</td>\n",
       "      <td>4 days</td>\n",
       "      <td>2</td>\n",
       "      <td>NaT</td>\n",
       "      <td>0</td>\n",
       "    </tr>\n",
       "    <tr>\n",
       "      <th>1</th>\n",
       "      <td>50135262</td>\n",
       "      <td>0</td>\n",
       "      <td>2007-02-08</td>\n",
       "      <td>2007-02-12</td>\n",
       "      <td>2007-02-09</td>\n",
       "      <td>4 days</td>\n",
       "      <td>2</td>\n",
       "      <td>NaT</td>\n",
       "      <td>0</td>\n",
       "    </tr>\n",
       "    <tr>\n",
       "      <th>2</th>\n",
       "      <td>50135262</td>\n",
       "      <td>0</td>\n",
       "      <td>2007-02-08</td>\n",
       "      <td>2007-02-12</td>\n",
       "      <td>2007-02-10</td>\n",
       "      <td>4 days</td>\n",
       "      <td>2</td>\n",
       "      <td>NaT</td>\n",
       "      <td>0</td>\n",
       "    </tr>\n",
       "    <tr>\n",
       "      <th>3</th>\n",
       "      <td>50135262</td>\n",
       "      <td>0</td>\n",
       "      <td>2007-02-08</td>\n",
       "      <td>2007-02-12</td>\n",
       "      <td>2007-02-11</td>\n",
       "      <td>4 days</td>\n",
       "      <td>2</td>\n",
       "      <td>NaT</td>\n",
       "      <td>0</td>\n",
       "    </tr>\n",
       "    <tr>\n",
       "      <th>4</th>\n",
       "      <td>50135262</td>\n",
       "      <td>0</td>\n",
       "      <td>2007-02-08</td>\n",
       "      <td>2007-02-12</td>\n",
       "      <td>2007-02-12</td>\n",
       "      <td>4 days</td>\n",
       "      <td>2</td>\n",
       "      <td>NaT</td>\n",
       "      <td>0</td>\n",
       "    </tr>\n",
       "  </tbody>\n",
       "</table>\n",
       "</div>"
      ],
      "text/plain": [
       "       ruid  visit_id admit_date discharge_date hospital_day stay_length  \\\n",
       "0  50135262         0 2007-02-08     2007-02-12   2007-02-08      4 days   \n",
       "1  50135262         0 2007-02-08     2007-02-12   2007-02-09      4 days   \n",
       "2  50135262         0 2007-02-08     2007-02-12   2007-02-10      4 days   \n",
       "3  50135262         0 2007-02-08     2007-02-12   2007-02-11      4 days   \n",
       "4  50135262         0 2007-02-08     2007-02-12   2007-02-12      4 days   \n",
       "\n",
       "   n_transfers readmit_time  readmit_30d  \n",
       "0            2          NaT            0  \n",
       "1            2          NaT            0  \n",
       "2            2          NaT            0  \n",
       "3            2          NaT            0  \n",
       "4            2          NaT            0  "
      ]
     },
     "execution_count": 5,
     "metadata": {},
     "output_type": "execute_result"
    }
   ],
   "source": [
    "adt_cms_final = pd.read_pickle(dir + './adt_cms_final.pkl')\n",
    "adt_cms_final.head()"
   ]
  },
  {
   "cell_type": "code",
   "execution_count": 6,
   "metadata": {},
   "outputs": [
    {
     "data": {
      "text/html": [
       "<div>\n",
       "<style scoped>\n",
       "    .dataframe tbody tr th:only-of-type {\n",
       "        vertical-align: middle;\n",
       "    }\n",
       "\n",
       "    .dataframe tbody tr th {\n",
       "        vertical-align: top;\n",
       "    }\n",
       "\n",
       "    .dataframe thead th {\n",
       "        text-align: right;\n",
       "    }\n",
       "</style>\n",
       "<table border=\"1\" class=\"dataframe\">\n",
       "  <thead>\n",
       "    <tr style=\"text-align: right;\">\n",
       "      <th></th>\n",
       "      <th>ruid</th>\n",
       "      <th>cpt_code</th>\n",
       "      <th>event_date</th>\n",
       "    </tr>\n",
       "  </thead>\n",
       "  <tbody>\n",
       "    <tr>\n",
       "      <th>0</th>\n",
       "      <td>50135262</td>\n",
       "      <td>00001</td>\n",
       "      <td>11/28/2004</td>\n",
       "    </tr>\n",
       "    <tr>\n",
       "      <th>1</th>\n",
       "      <td>50135262</td>\n",
       "      <td>00005</td>\n",
       "      <td>05/03/2012</td>\n",
       "    </tr>\n",
       "    <tr>\n",
       "      <th>2</th>\n",
       "      <td>50135262</td>\n",
       "      <td>00025</td>\n",
       "      <td>02/08/2007</td>\n",
       "    </tr>\n",
       "    <tr>\n",
       "      <th>3</th>\n",
       "      <td>50135262</td>\n",
       "      <td>00025</td>\n",
       "      <td>11/16/2004</td>\n",
       "    </tr>\n",
       "    <tr>\n",
       "      <th>4</th>\n",
       "      <td>50135262</td>\n",
       "      <td>00030</td>\n",
       "      <td>02/08/2007</td>\n",
       "    </tr>\n",
       "  </tbody>\n",
       "</table>\n",
       "</div>"
      ],
      "text/plain": [
       "       ruid cpt_code  event_date\n",
       "0  50135262    00001  11/28/2004\n",
       "1  50135262    00005  05/03/2012\n",
       "2  50135262    00025  02/08/2007\n",
       "3  50135262    00025  11/16/2004\n",
       "4  50135262    00030  02/08/2007"
      ]
     },
     "execution_count": 6,
     "metadata": {},
     "output_type": "execute_result"
    }
   ],
   "source": [
    "cpt = pd.read_csv(dir + prefix + 'CPT' + suffix)\n",
    "cpt.columns = cpt.columns.str.lower()\n",
    "cpt.head()"
   ]
  },
  {
   "cell_type": "code",
   "execution_count": 7,
   "metadata": {
    "colab": {
     "base_uri": "https://localhost:8080/",
     "height": 204
    },
    "colab_type": "code",
    "id": "dcAaUwReZPk4",
    "outputId": "2ad74e80-4200-4479-df87-e40e0f9c97aa"
   },
   "outputs": [
    {
     "data": {
      "text/html": [
       "<div>\n",
       "<style scoped>\n",
       "    .dataframe tbody tr th:only-of-type {\n",
       "        vertical-align: middle;\n",
       "    }\n",
       "\n",
       "    .dataframe tbody tr th {\n",
       "        vertical-align: top;\n",
       "    }\n",
       "\n",
       "    .dataframe thead th {\n",
       "        text-align: right;\n",
       "    }\n",
       "</style>\n",
       "<table border=\"1\" class=\"dataframe\">\n",
       "  <thead>\n",
       "    <tr style=\"text-align: right;\">\n",
       "      <th></th>\n",
       "      <th>ruid</th>\n",
       "      <th>icd9_code</th>\n",
       "      <th>event_date</th>\n",
       "    </tr>\n",
       "  </thead>\n",
       "  <tbody>\n",
       "    <tr>\n",
       "      <th>0</th>\n",
       "      <td>50135262</td>\n",
       "      <td>00.40</td>\n",
       "      <td>08/04/2007</td>\n",
       "    </tr>\n",
       "    <tr>\n",
       "      <th>1</th>\n",
       "      <td>50135262</td>\n",
       "      <td>00.46</td>\n",
       "      <td>08/04/2007</td>\n",
       "    </tr>\n",
       "    <tr>\n",
       "      <th>2</th>\n",
       "      <td>50135262</td>\n",
       "      <td>00.66</td>\n",
       "      <td>08/04/2007</td>\n",
       "    </tr>\n",
       "    <tr>\n",
       "      <th>3</th>\n",
       "      <td>50135262</td>\n",
       "      <td>00.81</td>\n",
       "      <td>09/17/2012</td>\n",
       "    </tr>\n",
       "    <tr>\n",
       "      <th>4</th>\n",
       "      <td>50135262</td>\n",
       "      <td>00.82</td>\n",
       "      <td>09/17/2012</td>\n",
       "    </tr>\n",
       "  </tbody>\n",
       "</table>\n",
       "</div>"
      ],
      "text/plain": [
       "       ruid icd9_code  event_date\n",
       "0  50135262     00.40  08/04/2007\n",
       "1  50135262     00.46  08/04/2007\n",
       "2  50135262     00.66  08/04/2007\n",
       "3  50135262     00.81  09/17/2012\n",
       "4  50135262     00.82  09/17/2012"
      ]
     },
     "execution_count": 7,
     "metadata": {},
     "output_type": "execute_result"
    }
   ],
   "source": [
    "icd = pd.read_csv(dir + prefix + 'ICD9' + suffix)\n",
    "icd.columns = icd.columns.str.lower()\n",
    "icd.head()"
   ]
  },
  {
   "cell_type": "code",
   "execution_count": 8,
   "metadata": {
    "colab": {},
    "colab_type": "code",
    "id": "ucsdMbBuT-9d"
   },
   "outputs": [],
   "source": [
    "# can't get this to work (Alvin)\n",
    "#lab = pd.read_csv(dir + prefix + 'LAB' + suffix) # engine='python' produces a different error\n",
    "#lab.head()\n",
    "\n",
    "# I have no trouble opening it in R\n",
    "#library(data.table)\n",
    "#df <- fread('/Volumes/AlvinSD/Bios8366/data/FONNESBECK_LAB_20151202.csv')\n",
    "#write.csv(df, file = '/Volumes/AlvinSD/Bios8366/data/FONNESBECK_LAB2_20151202.csv')"
   ]
  },
  {
   "cell_type": "code",
   "execution_count": 9,
   "metadata": {
    "colab": {
     "base_uri": "https://localhost:8080/",
     "height": 204
    },
    "colab_type": "code",
    "id": "PznmfK3DZv-0",
    "outputId": "fa682cdf-b784-4e04-89b3-f792fa84e4d4"
   },
   "outputs": [
    {
     "data": {
      "text/html": [
       "<div>\n",
       "<style scoped>\n",
       "    .dataframe tbody tr th:only-of-type {\n",
       "        vertical-align: middle;\n",
       "    }\n",
       "\n",
       "    .dataframe tbody tr th {\n",
       "        vertical-align: top;\n",
       "    }\n",
       "\n",
       "    .dataframe thead th {\n",
       "        text-align: right;\n",
       "    }\n",
       "</style>\n",
       "<table border=\"1\" class=\"dataframe\">\n",
       "  <thead>\n",
       "    <tr style=\"text-align: right;\">\n",
       "      <th></th>\n",
       "      <th>ruid</th>\n",
       "      <th>entry_date</th>\n",
       "      <th>drug_name</th>\n",
       "      <th>drug_form</th>\n",
       "      <th>drug_strength</th>\n",
       "      <th>route</th>\n",
       "      <th>dose_amt</th>\n",
       "      <th>drug_freq</th>\n",
       "      <th>duration</th>\n",
       "    </tr>\n",
       "  </thead>\n",
       "  <tbody>\n",
       "    <tr>\n",
       "      <th>1402</th>\n",
       "      <td>50135262</td>\n",
       "      <td>01/09/2005</td>\n",
       "      <td>abilify</td>\n",
       "      <td>pill</td>\n",
       "      <td>15mg</td>\n",
       "      <td>po</td>\n",
       "      <td>1/2 tab</td>\n",
       "      <td>nightly</td>\n",
       "      <td>NaN</td>\n",
       "    </tr>\n",
       "    <tr>\n",
       "      <th>1403</th>\n",
       "      <td>50135262</td>\n",
       "      <td>01/09/2005</td>\n",
       "      <td>abilify</td>\n",
       "      <td>NaN</td>\n",
       "      <td>15mg</td>\n",
       "      <td>po</td>\n",
       "      <td>1/2 tab</td>\n",
       "      <td>nightly</td>\n",
       "      <td>NaN</td>\n",
       "    </tr>\n",
       "    <tr>\n",
       "      <th>1599</th>\n",
       "      <td>50135262</td>\n",
       "      <td>01/09/2005</td>\n",
       "      <td>amantadine</td>\n",
       "      <td>NaN</td>\n",
       "      <td>100mg</td>\n",
       "      <td>po</td>\n",
       "      <td>NaN</td>\n",
       "      <td>twice daily</td>\n",
       "      <td>NaN</td>\n",
       "    </tr>\n",
       "    <tr>\n",
       "      <th>1609</th>\n",
       "      <td>50135262</td>\n",
       "      <td>01/09/2005</td>\n",
       "      <td>amoxicillin</td>\n",
       "      <td>NaN</td>\n",
       "      <td>500mg</td>\n",
       "      <td>po</td>\n",
       "      <td>1 cap</td>\n",
       "      <td>three times daily</td>\n",
       "      <td>NaN</td>\n",
       "    </tr>\n",
       "    <tr>\n",
       "      <th>1665</th>\n",
       "      <td>50135262</td>\n",
       "      <td>01/09/2005</td>\n",
       "      <td>asa</td>\n",
       "      <td>NaN</td>\n",
       "      <td>81mg</td>\n",
       "      <td>po</td>\n",
       "      <td>NaN</td>\n",
       "      <td>daily</td>\n",
       "      <td>NaN</td>\n",
       "    </tr>\n",
       "  </tbody>\n",
       "</table>\n",
       "</div>"
      ],
      "text/plain": [
       "          ruid  entry_date    drug_name drug_form drug_strength route  \\\n",
       "1402  50135262  01/09/2005      abilify      pill          15mg    po   \n",
       "1403  50135262  01/09/2005      abilify       NaN          15mg    po   \n",
       "1599  50135262  01/09/2005   amantadine       NaN         100mg    po   \n",
       "1609  50135262  01/09/2005  amoxicillin       NaN         500mg    po   \n",
       "1665  50135262  01/09/2005          asa       NaN          81mg    po   \n",
       "\n",
       "     dose_amt          drug_freq duration  \n",
       "1402  1/2 tab            nightly      NaN  \n",
       "1403  1/2 tab            nightly      NaN  \n",
       "1599      NaN        twice daily      NaN  \n",
       "1609    1 cap  three times daily      NaN  \n",
       "1665      NaN              daily      NaN  "
      ]
     },
     "execution_count": 9,
     "metadata": {},
     "output_type": "execute_result"
    }
   ],
   "source": [
    "med = pd.read_csv(dir + prefix + 'MED' + suffix)\n",
    "med.columns = med.columns.str.lower()\n",
    "\n",
    "# sort values to assist with duplicate removal later\n",
    "med.sort_values(by=['ruid', 'entry_date', 'drug_name', 'dose_amt'], inplace=True)\n",
    "med.head()"
   ]
  },
  {
   "cell_type": "code",
   "execution_count": 10,
   "metadata": {
    "colab": {
     "base_uri": "https://localhost:8080/",
     "height": 204
    },
    "colab_type": "code",
    "id": "cAX_qabfavaz",
    "outputId": "7e29b14a-64e6-44fa-c95d-f116cae4a060"
   },
   "outputs": [
    {
     "data": {
      "text/html": [
       "<div>\n",
       "<style scoped>\n",
       "    .dataframe tbody tr th:only-of-type {\n",
       "        vertical-align: middle;\n",
       "    }\n",
       "\n",
       "    .dataframe tbody tr th {\n",
       "        vertical-align: top;\n",
       "    }\n",
       "\n",
       "    .dataframe thead th {\n",
       "        text-align: right;\n",
       "    }\n",
       "</style>\n",
       "<table border=\"1\" class=\"dataframe\">\n",
       "  <thead>\n",
       "    <tr style=\"text-align: right;\">\n",
       "      <th></th>\n",
       "      <th>ruid</th>\n",
       "      <th>sex</th>\n",
       "      <th>dob</th>\n",
       "      <th>dod</th>\n",
       "      <th>race</th>\n",
       "    </tr>\n",
       "  </thead>\n",
       "  <tbody>\n",
       "    <tr>\n",
       "      <th>0</th>\n",
       "      <td>50135262</td>\n",
       "      <td>F</td>\n",
       "      <td>1949-09-20</td>\n",
       "      <td>NaT</td>\n",
       "      <td>W</td>\n",
       "    </tr>\n",
       "    <tr>\n",
       "      <th>1</th>\n",
       "      <td>50135361</td>\n",
       "      <td>M</td>\n",
       "      <td>1932-02-15</td>\n",
       "      <td>2012-09-09</td>\n",
       "      <td>W</td>\n",
       "    </tr>\n",
       "    <tr>\n",
       "      <th>2</th>\n",
       "      <td>50135369</td>\n",
       "      <td>M</td>\n",
       "      <td>1958-05-04</td>\n",
       "      <td>2012-01-23</td>\n",
       "      <td>W</td>\n",
       "    </tr>\n",
       "    <tr>\n",
       "      <th>3</th>\n",
       "      <td>50135375</td>\n",
       "      <td>M</td>\n",
       "      <td>1943-05-01</td>\n",
       "      <td>2011-08-18</td>\n",
       "      <td>B</td>\n",
       "    </tr>\n",
       "    <tr>\n",
       "      <th>4</th>\n",
       "      <td>50135425</td>\n",
       "      <td>F</td>\n",
       "      <td>1946-10-02</td>\n",
       "      <td>NaT</td>\n",
       "      <td>W</td>\n",
       "    </tr>\n",
       "  </tbody>\n",
       "</table>\n",
       "</div>"
      ],
      "text/plain": [
       "       ruid sex        dob        dod race\n",
       "0  50135262   F 1949-09-20        NaT    W\n",
       "1  50135361   M 1932-02-15 2012-09-09    W\n",
       "2  50135369   M 1958-05-04 2012-01-23    W\n",
       "3  50135375   M 1943-05-01 2011-08-18    B\n",
       "4  50135425   F 1946-10-02        NaT    W"
      ]
     },
     "execution_count": 10,
     "metadata": {},
     "output_type": "execute_result"
    }
   ],
   "source": [
    "phenotype = pd.read_csv(dir + prefix + 'phenotype' + suffix, parse_dates=['DOB', 'DOD'])\n",
    "phenotype.columns = phenotype.columns.str.lower()\n",
    "phenotype.head()"
   ]
  },
  {
   "cell_type": "markdown",
   "metadata": {
    "colab_type": "text",
    "id": "JPl36nsFjshD"
   },
   "source": [
    "# Phenotype"
   ]
  },
  {
   "cell_type": "code",
   "execution_count": 11,
   "metadata": {
    "colab": {
     "base_uri": "https://localhost:8080/",
     "height": 452
    },
    "colab_type": "code",
    "id": "YkzaWbyWj10E",
    "outputId": "ff9d0f4b-153a-4c3d-f78e-aa0907e06256"
   },
   "outputs": [
    {
     "data": {
      "text/html": [
       "<div>\n",
       "<style scoped>\n",
       "    .dataframe tbody tr th:only-of-type {\n",
       "        vertical-align: middle;\n",
       "    }\n",
       "\n",
       "    .dataframe tbody tr th {\n",
       "        vertical-align: top;\n",
       "    }\n",
       "\n",
       "    .dataframe thead th {\n",
       "        text-align: right;\n",
       "    }\n",
       "</style>\n",
       "<table border=\"1\" class=\"dataframe\">\n",
       "  <thead>\n",
       "    <tr style=\"text-align: right;\">\n",
       "      <th></th>\n",
       "      <th>ruid</th>\n",
       "      <th>sex</th>\n",
       "      <th>dob</th>\n",
       "      <th>dod</th>\n",
       "      <th>race</th>\n",
       "    </tr>\n",
       "  </thead>\n",
       "  <tbody>\n",
       "    <tr>\n",
       "      <th>count</th>\n",
       "      <td>8.000000e+03</td>\n",
       "      <td>7957</td>\n",
       "      <td>7957</td>\n",
       "      <td>1358</td>\n",
       "      <td>8000</td>\n",
       "    </tr>\n",
       "    <tr>\n",
       "      <th>unique</th>\n",
       "      <td>NaN</td>\n",
       "      <td>3</td>\n",
       "      <td>7049</td>\n",
       "      <td>1119</td>\n",
       "      <td>7</td>\n",
       "    </tr>\n",
       "    <tr>\n",
       "      <th>top</th>\n",
       "      <td>NaN</td>\n",
       "      <td>F</td>\n",
       "      <td>1955-03-06 00:00:00</td>\n",
       "      <td>2014-02-22 00:00:00</td>\n",
       "      <td>W</td>\n",
       "    </tr>\n",
       "    <tr>\n",
       "      <th>freq</th>\n",
       "      <td>NaN</td>\n",
       "      <td>3986</td>\n",
       "      <td>4</td>\n",
       "      <td>5</td>\n",
       "      <td>5999</td>\n",
       "    </tr>\n",
       "    <tr>\n",
       "      <th>first</th>\n",
       "      <td>NaN</td>\n",
       "      <td>NaN</td>\n",
       "      <td>1903-04-17 00:00:00</td>\n",
       "      <td>2004-08-19 00:00:00</td>\n",
       "      <td>NaN</td>\n",
       "    </tr>\n",
       "    <tr>\n",
       "      <th>last</th>\n",
       "      <td>NaN</td>\n",
       "      <td>NaN</td>\n",
       "      <td>2014-11-15 00:00:00</td>\n",
       "      <td>2015-06-25 00:00:00</td>\n",
       "      <td>NaN</td>\n",
       "    </tr>\n",
       "    <tr>\n",
       "      <th>mean</th>\n",
       "      <td>5.369131e+07</td>\n",
       "      <td>NaN</td>\n",
       "      <td>NaN</td>\n",
       "      <td>NaN</td>\n",
       "      <td>NaN</td>\n",
       "    </tr>\n",
       "    <tr>\n",
       "      <th>std</th>\n",
       "      <td>3.663645e+05</td>\n",
       "      <td>NaN</td>\n",
       "      <td>NaN</td>\n",
       "      <td>NaN</td>\n",
       "      <td>NaN</td>\n",
       "    </tr>\n",
       "    <tr>\n",
       "      <th>min</th>\n",
       "      <td>5.013526e+07</td>\n",
       "      <td>NaN</td>\n",
       "      <td>NaN</td>\n",
       "      <td>NaN</td>\n",
       "      <td>NaN</td>\n",
       "    </tr>\n",
       "    <tr>\n",
       "      <th>25%</th>\n",
       "      <td>5.372991e+07</td>\n",
       "      <td>NaN</td>\n",
       "      <td>NaN</td>\n",
       "      <td>NaN</td>\n",
       "      <td>NaN</td>\n",
       "    </tr>\n",
       "    <tr>\n",
       "      <th>50%</th>\n",
       "      <td>5.373210e+07</td>\n",
       "      <td>NaN</td>\n",
       "      <td>NaN</td>\n",
       "      <td>NaN</td>\n",
       "      <td>NaN</td>\n",
       "    </tr>\n",
       "    <tr>\n",
       "      <th>75%</th>\n",
       "      <td>5.373431e+07</td>\n",
       "      <td>NaN</td>\n",
       "      <td>NaN</td>\n",
       "      <td>NaN</td>\n",
       "      <td>NaN</td>\n",
       "    </tr>\n",
       "    <tr>\n",
       "      <th>max</th>\n",
       "      <td>5.373642e+07</td>\n",
       "      <td>NaN</td>\n",
       "      <td>NaN</td>\n",
       "      <td>NaN</td>\n",
       "      <td>NaN</td>\n",
       "    </tr>\n",
       "  </tbody>\n",
       "</table>\n",
       "</div>"
      ],
      "text/plain": [
       "                ruid   sex                  dob                  dod  race\n",
       "count   8.000000e+03  7957                 7957                 1358  8000\n",
       "unique           NaN     3                 7049                 1119     7\n",
       "top              NaN     F  1955-03-06 00:00:00  2014-02-22 00:00:00     W\n",
       "freq             NaN  3986                    4                    5  5999\n",
       "first            NaN   NaN  1903-04-17 00:00:00  2004-08-19 00:00:00   NaN\n",
       "last             NaN   NaN  2014-11-15 00:00:00  2015-06-25 00:00:00   NaN\n",
       "mean    5.369131e+07   NaN                  NaN                  NaN   NaN\n",
       "std     3.663645e+05   NaN                  NaN                  NaN   NaN\n",
       "min     5.013526e+07   NaN                  NaN                  NaN   NaN\n",
       "25%     5.372991e+07   NaN                  NaN                  NaN   NaN\n",
       "50%     5.373210e+07   NaN                  NaN                  NaN   NaN\n",
       "75%     5.373431e+07   NaN                  NaN                  NaN   NaN\n",
       "max     5.373642e+07   NaN                  NaN                  NaN   NaN"
      ]
     },
     "execution_count": 11,
     "metadata": {},
     "output_type": "execute_result"
    }
   ],
   "source": [
    "phenotype.describe(include='all')"
   ]
  },
  {
   "cell_type": "code",
   "execution_count": 12,
   "metadata": {
    "colab": {
     "base_uri": "https://localhost:8080/",
     "height": 34
    },
    "colab_type": "code",
    "id": "fw23-LaejuTd",
    "outputId": "9fe09dd3-bfbb-4c05-c160-54fbcbd95210"
   },
   "outputs": [
    {
     "name": "stdout",
     "output_type": "stream",
     "text": [
      "Shape of phenotype = (8000, 5). Unique RUIDs = 8000.\n"
     ]
    }
   ],
   "source": [
    "uniq = len(np.unique(phenotype.ruid))\n",
    "\n",
    "print(\"Shape of phenotype = {shape}. Unique RUIDs = {uniq}.\".format(\n",
    "    shape=phenotype.shape, uniq=uniq))"
   ]
  },
  {
   "cell_type": "code",
   "execution_count": 13,
   "metadata": {
    "colab": {
     "base_uri": "https://localhost:8080/",
     "height": 34
    },
    "colab_type": "code",
    "id": "6qrJFKDelwiI",
    "outputId": "5f90b528-434c-4813-e29d-8251828d1d39"
   },
   "outputs": [
    {
     "name": "stdout",
     "output_type": "stream",
     "text": [
      "Females = 3986, Males = 3953, Unknown = 18, NA = 43\n"
     ]
    }
   ],
   "source": [
    "females = sum(phenotype.sex=='F')\n",
    "males = sum(phenotype.sex=='M')\n",
    "unknown = sum(phenotype.sex=='U')\n",
    "miss = phenotype.sex.isnull().sum()\n",
    "assert(females + males + unknown + miss == uniq)\n",
    "\n",
    "print(\"Females = {f}, Males = {m}, Unknown = {u}, NA = {na}\".format(\n",
    "  f=females, m=males, u=unknown, na=miss))"
   ]
  },
  {
   "cell_type": "code",
   "execution_count": 15,
   "metadata": {
    "colab": {
     "base_uri": "https://localhost:8080/",
     "height": 340
    },
    "colab_type": "code",
    "id": "64nA10gZuKAb",
    "outputId": "d27d9051-a0c8-4b38-be4c-cc6b73e618ed"
   },
   "outputs": [
    {
     "data": {
      "image/png": "[encoded data removed]",
      "text/plain": [
       "<Figure size 360x360 with 1 Axes>"
      ]
     },
     "metadata": {},
     "output_type": "display_data"
    }
   ],
   "source": [
    "hlpr.pie_chart(['M', 'F', 'U'], phenotype, 'sex', 'Sex', figsize=(5, 5))"
   ]
  },
  {
   "cell_type": "code",
   "execution_count": 16,
   "metadata": {
    "colab": {
     "base_uri": "https://localhost:8080/",
     "height": 34
    },
    "colab_type": "code",
    "id": "_NWxFpHIpaBc",
    "outputId": "8b41da41-3a44-4f51-83d8-33c7084d2956"
   },
   "outputs": [
    {
     "name": "stdout",
     "output_type": "stream",
     "text": [
      "Asian = 94, Black = 1193, Hispanice = 315, American Indian = 8, Other = 50, Unknown = 341, White = 5999\n"
     ]
    }
   ],
   "source": [
    "asian = sum(phenotype.race=='A')\n",
    "black = sum(phenotype.race=='B')\n",
    "hispanic = sum(phenotype.race=='H')\n",
    "indian = sum(phenotype.race=='I')\n",
    "other = sum(phenotype.race=='N')\n",
    "unknown = sum(phenotype.race=='U')\n",
    "white = sum(phenotype.race=='W')\n",
    "assert(asian + black + hispanic + indian + other + unknown + white == uniq)\n",
    "\n",
    "print(\"Asian = {a}, Black = {b}, Hispanice = {h}, American Indian = {i}, Other = {n}, Unknown = {u}, White = {w}\".format( \\\n",
    "  a=asian, b=black, h=hispanic, i=indian, n=other, u=unknown, w=white))"
   ]
  },
  {
   "cell_type": "code",
   "execution_count": 17,
   "metadata": {
    "colab": {
     "base_uri": "https://localhost:8080/",
     "height": 340
    },
    "colab_type": "code",
    "id": "qVJPKhGioUTL",
    "outputId": "3049ef80-ca14-4252-cd2c-910b120ddaac"
   },
   "outputs": [
    {
     "data": {
      "image/png": "[encoded data removed]",
      "text/plain": [
       "<Figure size 360x360 with 1 Axes>"
      ]
     },
     "metadata": {},
     "output_type": "display_data"
    }
   ],
   "source": [
    "hlpr.pie_chart(['A', 'B', 'H', 'I', 'N', 'U', 'W'], phenotype, 'race', 'Race', figsize=(5, 5))"
   ]
  },
  {
   "cell_type": "code",
   "execution_count": 18,
   "metadata": {
    "colab": {
     "base_uri": "https://localhost:8080/",
     "height": 1382
    },
    "colab_type": "code",
    "id": "FV0g-xTKrQOY",
    "outputId": "5cf9c5aa-f771-4672-f922-c23f6d684ad7"
   },
   "outputs": [
    {
     "data": {
      "text/html": [
       "<div>\n",
       "<style scoped>\n",
       "    .dataframe tbody tr th:only-of-type {\n",
       "        vertical-align: middle;\n",
       "    }\n",
       "\n",
       "    .dataframe tbody tr th {\n",
       "        vertical-align: top;\n",
       "    }\n",
       "\n",
       "    .dataframe thead th {\n",
       "        text-align: right;\n",
       "    }\n",
       "</style>\n",
       "<table border=\"1\" class=\"dataframe\">\n",
       "  <thead>\n",
       "    <tr style=\"text-align: right;\">\n",
       "      <th></th>\n",
       "      <th>ruid</th>\n",
       "      <th>sex</th>\n",
       "      <th>dob</th>\n",
       "      <th>dod</th>\n",
       "      <th>race</th>\n",
       "    </tr>\n",
       "  </thead>\n",
       "  <tbody>\n",
       "    <tr>\n",
       "      <th>138</th>\n",
       "      <td>53727820</td>\n",
       "      <td>NaN</td>\n",
       "      <td>NaT</td>\n",
       "      <td>NaT</td>\n",
       "      <td>U</td>\n",
       "    </tr>\n",
       "    <tr>\n",
       "      <th>363</th>\n",
       "      <td>53728072</td>\n",
       "      <td>NaN</td>\n",
       "      <td>NaT</td>\n",
       "      <td>NaT</td>\n",
       "      <td>U</td>\n",
       "    </tr>\n",
       "    <tr>\n",
       "      <th>537</th>\n",
       "      <td>53728274</td>\n",
       "      <td>NaN</td>\n",
       "      <td>NaT</td>\n",
       "      <td>NaT</td>\n",
       "      <td>U</td>\n",
       "    </tr>\n",
       "    <tr>\n",
       "      <th>711</th>\n",
       "      <td>53728472</td>\n",
       "      <td>NaN</td>\n",
       "      <td>NaT</td>\n",
       "      <td>NaT</td>\n",
       "      <td>U</td>\n",
       "    </tr>\n",
       "    <tr>\n",
       "      <th>811</th>\n",
       "      <td>53728579</td>\n",
       "      <td>NaN</td>\n",
       "      <td>NaT</td>\n",
       "      <td>NaT</td>\n",
       "      <td>U</td>\n",
       "    </tr>\n",
       "    <tr>\n",
       "      <th>832</th>\n",
       "      <td>53728602</td>\n",
       "      <td>NaN</td>\n",
       "      <td>NaT</td>\n",
       "      <td>NaT</td>\n",
       "      <td>U</td>\n",
       "    </tr>\n",
       "    <tr>\n",
       "      <th>906</th>\n",
       "      <td>53728684</td>\n",
       "      <td>NaN</td>\n",
       "      <td>NaT</td>\n",
       "      <td>NaT</td>\n",
       "      <td>U</td>\n",
       "    </tr>\n",
       "    <tr>\n",
       "      <th>955</th>\n",
       "      <td>53728740</td>\n",
       "      <td>NaN</td>\n",
       "      <td>NaT</td>\n",
       "      <td>NaT</td>\n",
       "      <td>U</td>\n",
       "    </tr>\n",
       "    <tr>\n",
       "      <th>1192</th>\n",
       "      <td>53729008</td>\n",
       "      <td>NaN</td>\n",
       "      <td>NaT</td>\n",
       "      <td>NaT</td>\n",
       "      <td>U</td>\n",
       "    </tr>\n",
       "    <tr>\n",
       "      <th>1318</th>\n",
       "      <td>53729141</td>\n",
       "      <td>NaN</td>\n",
       "      <td>NaT</td>\n",
       "      <td>NaT</td>\n",
       "      <td>U</td>\n",
       "    </tr>\n",
       "    <tr>\n",
       "      <th>2382</th>\n",
       "      <td>53730329</td>\n",
       "      <td>NaN</td>\n",
       "      <td>NaT</td>\n",
       "      <td>NaT</td>\n",
       "      <td>U</td>\n",
       "    </tr>\n",
       "    <tr>\n",
       "      <th>2731</th>\n",
       "      <td>53730712</td>\n",
       "      <td>NaN</td>\n",
       "      <td>NaT</td>\n",
       "      <td>NaT</td>\n",
       "      <td>U</td>\n",
       "    </tr>\n",
       "    <tr>\n",
       "      <th>3022</th>\n",
       "      <td>53731021</td>\n",
       "      <td>NaN</td>\n",
       "      <td>NaT</td>\n",
       "      <td>NaT</td>\n",
       "      <td>U</td>\n",
       "    </tr>\n",
       "    <tr>\n",
       "      <th>3047</th>\n",
       "      <td>53731050</td>\n",
       "      <td>NaN</td>\n",
       "      <td>NaT</td>\n",
       "      <td>NaT</td>\n",
       "      <td>U</td>\n",
       "    </tr>\n",
       "    <tr>\n",
       "      <th>3151</th>\n",
       "      <td>53731170</td>\n",
       "      <td>NaN</td>\n",
       "      <td>NaT</td>\n",
       "      <td>NaT</td>\n",
       "      <td>U</td>\n",
       "    </tr>\n",
       "    <tr>\n",
       "      <th>3161</th>\n",
       "      <td>53731180</td>\n",
       "      <td>NaN</td>\n",
       "      <td>NaT</td>\n",
       "      <td>NaT</td>\n",
       "      <td>U</td>\n",
       "    </tr>\n",
       "    <tr>\n",
       "      <th>3335</th>\n",
       "      <td>53731369</td>\n",
       "      <td>NaN</td>\n",
       "      <td>NaT</td>\n",
       "      <td>NaT</td>\n",
       "      <td>U</td>\n",
       "    </tr>\n",
       "    <tr>\n",
       "      <th>3388</th>\n",
       "      <td>53731426</td>\n",
       "      <td>NaN</td>\n",
       "      <td>NaT</td>\n",
       "      <td>NaT</td>\n",
       "      <td>U</td>\n",
       "    </tr>\n",
       "    <tr>\n",
       "      <th>3472</th>\n",
       "      <td>53731518</td>\n",
       "      <td>NaN</td>\n",
       "      <td>NaT</td>\n",
       "      <td>NaT</td>\n",
       "      <td>U</td>\n",
       "    </tr>\n",
       "    <tr>\n",
       "      <th>3509</th>\n",
       "      <td>53731561</td>\n",
       "      <td>NaN</td>\n",
       "      <td>NaT</td>\n",
       "      <td>NaT</td>\n",
       "      <td>U</td>\n",
       "    </tr>\n",
       "    <tr>\n",
       "      <th>3557</th>\n",
       "      <td>53731616</td>\n",
       "      <td>NaN</td>\n",
       "      <td>NaT</td>\n",
       "      <td>2014-09-17</td>\n",
       "      <td>U</td>\n",
       "    </tr>\n",
       "    <tr>\n",
       "      <th>3862</th>\n",
       "      <td>53731946</td>\n",
       "      <td>NaN</td>\n",
       "      <td>NaT</td>\n",
       "      <td>NaT</td>\n",
       "      <td>U</td>\n",
       "    </tr>\n",
       "    <tr>\n",
       "      <th>3943</th>\n",
       "      <td>53732037</td>\n",
       "      <td>NaN</td>\n",
       "      <td>NaT</td>\n",
       "      <td>NaT</td>\n",
       "      <td>U</td>\n",
       "    </tr>\n",
       "    <tr>\n",
       "      <th>3977</th>\n",
       "      <td>53732072</td>\n",
       "      <td>NaN</td>\n",
       "      <td>NaT</td>\n",
       "      <td>NaT</td>\n",
       "      <td>U</td>\n",
       "    </tr>\n",
       "    <tr>\n",
       "      <th>4294</th>\n",
       "      <td>53732413</td>\n",
       "      <td>NaN</td>\n",
       "      <td>NaT</td>\n",
       "      <td>NaT</td>\n",
       "      <td>U</td>\n",
       "    </tr>\n",
       "    <tr>\n",
       "      <th>4463</th>\n",
       "      <td>53732606</td>\n",
       "      <td>NaN</td>\n",
       "      <td>NaT</td>\n",
       "      <td>NaT</td>\n",
       "      <td>U</td>\n",
       "    </tr>\n",
       "    <tr>\n",
       "      <th>5043</th>\n",
       "      <td>53733248</td>\n",
       "      <td>NaN</td>\n",
       "      <td>NaT</td>\n",
       "      <td>NaT</td>\n",
       "      <td>U</td>\n",
       "    </tr>\n",
       "    <tr>\n",
       "      <th>5220</th>\n",
       "      <td>53733438</td>\n",
       "      <td>NaN</td>\n",
       "      <td>NaT</td>\n",
       "      <td>NaT</td>\n",
       "      <td>U</td>\n",
       "    </tr>\n",
       "    <tr>\n",
       "      <th>5228</th>\n",
       "      <td>53733447</td>\n",
       "      <td>NaN</td>\n",
       "      <td>NaT</td>\n",
       "      <td>NaT</td>\n",
       "      <td>U</td>\n",
       "    </tr>\n",
       "    <tr>\n",
       "      <th>5281</th>\n",
       "      <td>53733506</td>\n",
       "      <td>NaN</td>\n",
       "      <td>NaT</td>\n",
       "      <td>NaT</td>\n",
       "      <td>U</td>\n",
       "    </tr>\n",
       "    <tr>\n",
       "      <th>5470</th>\n",
       "      <td>53733709</td>\n",
       "      <td>NaN</td>\n",
       "      <td>NaT</td>\n",
       "      <td>NaT</td>\n",
       "      <td>U</td>\n",
       "    </tr>\n",
       "    <tr>\n",
       "      <th>6058</th>\n",
       "      <td>53734369</td>\n",
       "      <td>NaN</td>\n",
       "      <td>NaT</td>\n",
       "      <td>NaT</td>\n",
       "      <td>U</td>\n",
       "    </tr>\n",
       "    <tr>\n",
       "      <th>6315</th>\n",
       "      <td>53734654</td>\n",
       "      <td>NaN</td>\n",
       "      <td>NaT</td>\n",
       "      <td>NaT</td>\n",
       "      <td>U</td>\n",
       "    </tr>\n",
       "    <tr>\n",
       "      <th>6334</th>\n",
       "      <td>53734676</td>\n",
       "      <td>NaN</td>\n",
       "      <td>NaT</td>\n",
       "      <td>NaT</td>\n",
       "      <td>U</td>\n",
       "    </tr>\n",
       "    <tr>\n",
       "      <th>6349</th>\n",
       "      <td>53734693</td>\n",
       "      <td>NaN</td>\n",
       "      <td>NaT</td>\n",
       "      <td>NaT</td>\n",
       "      <td>U</td>\n",
       "    </tr>\n",
       "    <tr>\n",
       "      <th>6563</th>\n",
       "      <td>53734929</td>\n",
       "      <td>NaN</td>\n",
       "      <td>NaT</td>\n",
       "      <td>NaT</td>\n",
       "      <td>U</td>\n",
       "    </tr>\n",
       "    <tr>\n",
       "      <th>6946</th>\n",
       "      <td>53735342</td>\n",
       "      <td>NaN</td>\n",
       "      <td>NaT</td>\n",
       "      <td>NaT</td>\n",
       "      <td>U</td>\n",
       "    </tr>\n",
       "    <tr>\n",
       "      <th>7195</th>\n",
       "      <td>53735613</td>\n",
       "      <td>NaN</td>\n",
       "      <td>NaT</td>\n",
       "      <td>NaT</td>\n",
       "      <td>U</td>\n",
       "    </tr>\n",
       "    <tr>\n",
       "      <th>7207</th>\n",
       "      <td>53735626</td>\n",
       "      <td>NaN</td>\n",
       "      <td>NaT</td>\n",
       "      <td>NaT</td>\n",
       "      <td>U</td>\n",
       "    </tr>\n",
       "    <tr>\n",
       "      <th>7299</th>\n",
       "      <td>53735723</td>\n",
       "      <td>NaN</td>\n",
       "      <td>NaT</td>\n",
       "      <td>NaT</td>\n",
       "      <td>U</td>\n",
       "    </tr>\n",
       "    <tr>\n",
       "      <th>7487</th>\n",
       "      <td>53735911</td>\n",
       "      <td>NaN</td>\n",
       "      <td>NaT</td>\n",
       "      <td>NaT</td>\n",
       "      <td>U</td>\n",
       "    </tr>\n",
       "    <tr>\n",
       "      <th>7608</th>\n",
       "      <td>53736032</td>\n",
       "      <td>NaN</td>\n",
       "      <td>NaT</td>\n",
       "      <td>NaT</td>\n",
       "      <td>U</td>\n",
       "    </tr>\n",
       "    <tr>\n",
       "      <th>7868</th>\n",
       "      <td>53736292</td>\n",
       "      <td>NaN</td>\n",
       "      <td>NaT</td>\n",
       "      <td>NaT</td>\n",
       "      <td>U</td>\n",
       "    </tr>\n",
       "  </tbody>\n",
       "</table>\n",
       "</div>"
      ],
      "text/plain": [
       "          ruid  sex dob        dod race\n",
       "138   53727820  NaN NaT        NaT    U\n",
       "363   53728072  NaN NaT        NaT    U\n",
       "537   53728274  NaN NaT        NaT    U\n",
       "711   53728472  NaN NaT        NaT    U\n",
       "811   53728579  NaN NaT        NaT    U\n",
       "832   53728602  NaN NaT        NaT    U\n",
       "906   53728684  NaN NaT        NaT    U\n",
       "955   53728740  NaN NaT        NaT    U\n",
       "1192  53729008  NaN NaT        NaT    U\n",
       "1318  53729141  NaN NaT        NaT    U\n",
       "2382  53730329  NaN NaT        NaT    U\n",
       "2731  53730712  NaN NaT        NaT    U\n",
       "3022  53731021  NaN NaT        NaT    U\n",
       "3047  53731050  NaN NaT        NaT    U\n",
       "3151  53731170  NaN NaT        NaT    U\n",
       "3161  53731180  NaN NaT        NaT    U\n",
       "3335  53731369  NaN NaT        NaT    U\n",
       "3388  53731426  NaN NaT        NaT    U\n",
       "3472  53731518  NaN NaT        NaT    U\n",
       "3509  53731561  NaN NaT        NaT    U\n",
       "3557  53731616  NaN NaT 2014-09-17    U\n",
       "3862  53731946  NaN NaT        NaT    U\n",
       "3943  53732037  NaN NaT        NaT    U\n",
       "3977  53732072  NaN NaT        NaT    U\n",
       "4294  53732413  NaN NaT        NaT    U\n",
       "4463  53732606  NaN NaT        NaT    U\n",
       "5043  53733248  NaN NaT        NaT    U\n",
       "5220  53733438  NaN NaT        NaT    U\n",
       "5228  53733447  NaN NaT        NaT    U\n",
       "5281  53733506  NaN NaT        NaT    U\n",
       "5470  53733709  NaN NaT        NaT    U\n",
       "6058  53734369  NaN NaT        NaT    U\n",
       "6315  53734654  NaN NaT        NaT    U\n",
       "6334  53734676  NaN NaT        NaT    U\n",
       "6349  53734693  NaN NaT        NaT    U\n",
       "6563  53734929  NaN NaT        NaT    U\n",
       "6946  53735342  NaN NaT        NaT    U\n",
       "7195  53735613  NaN NaT        NaT    U\n",
       "7207  53735626  NaN NaT        NaT    U\n",
       "7299  53735723  NaN NaT        NaT    U\n",
       "7487  53735911  NaN NaT        NaT    U\n",
       "7608  53736032  NaN NaT        NaT    U\n",
       "7868  53736292  NaN NaT        NaT    U"
      ]
     },
     "execution_count": 18,
     "metadata": {},
     "output_type": "execute_result"
    }
   ],
   "source": [
    "# missing DOB or sex\n",
    "potential_removal = phenotype[phenotype.dob.isnull() | phenotype.sex.isnull()]\n",
    "potential_removal"
   ]
  },
  {
   "cell_type": "code",
   "execution_count": 19,
   "metadata": {
    "colab": {
     "base_uri": "https://localhost:8080/",
     "height": 34
    },
    "colab_type": "code",
    "id": "Lf_hRmx_x7zP",
    "outputId": "17f4caf4-be49-4f88-d516-7867b7fa29dc"
   },
   "outputs": [
    {
     "data": {
      "text/plain": [
       "(43, 5)"
      ]
     },
     "execution_count": 19,
     "metadata": {},
     "output_type": "execute_result"
    }
   ],
   "source": [
    "potential_removal.shape"
   ]
  },
  {
   "cell_type": "code",
   "execution_count": 20,
   "metadata": {},
   "outputs": [],
   "source": [
    "phenotype.to_pickle(dir + './phenotype.pkl')"
   ]
  },
  {
   "cell_type": "markdown",
   "metadata": {
    "colab_type": "text",
    "id": "aPJj8v7H0wZA"
   },
   "source": [
    "# ICD Codes"
   ]
  },
  {
   "cell_type": "code",
   "execution_count": 21,
   "metadata": {
    "colab": {
     "base_uri": "https://localhost:8080/",
     "height": 34
    },
    "colab_type": "code",
    "id": "LtFOJnnN0yTP",
    "outputId": "8791d37d-d42e-4508-ebce-4cc93b1b128e"
   },
   "outputs": [
    {
     "name": "stdout",
     "output_type": "stream",
     "text": [
      "Shape of ICD = (2052067, 3). Unique RUIDs = 7935. Unique ICD9 Codes = 12423.\n"
     ]
    }
   ],
   "source": [
    "uniq = len(np.unique(icd.ruid))\n",
    "codes = set(icd.icd9_code)\n",
    "\n",
    "print(\"Shape of ICD = {shape}. Unique RUIDs = {uniq}. Unique ICD9 Codes = {codes}.\".format(\n",
    "    shape=icd.shape, uniq=uniq, codes=len(codes)))"
   ]
  },
  {
   "cell_type": "code",
   "execution_count": 22,
   "metadata": {
    "colab": {
     "base_uri": "https://localhost:8080/",
     "height": 204
    },
    "colab_type": "code",
    "id": "H7HeGxqJDG47",
    "outputId": "0275a4af-2a8d-4498-c168-0b97a9548896"
   },
   "outputs": [],
   "source": [
    "# create a new column of numeric version of codes, making strings NaN\n",
    "icd['code_num'] = pd.to_numeric(icd.icd9_code, errors='coerce')"
   ]
  },
  {
   "cell_type": "code",
   "execution_count": 23,
   "metadata": {
    "colab": {},
    "colab_type": "code",
    "id": "5wTtt10hFHz5"
   },
   "outputs": [],
   "source": [
    "icd['code_cat'] = pd.cut(icd.code_num, bins=[0, 1, 140, 240, 280, 290, 320, \n",
    "                                              390, 460, 520, 580, 630, \n",
    "                                              680, 710, 740, 760, 780, 800, 1000], \n",
    "                         right=False, # closed on the left, non-inclusive on the right\n",
    "                         labels=['proc', 'dx_infection', 'dx_neoplasm', 'dx_endocrine', 'dx_blood', 'dx_mental', 'dx_nervous', \n",
    "                                 'dx_circulatory', 'dx_respiratory', 'dx_digestive', 'dx_gu', 'dx_obstetric', \n",
    "                                 'dx_skin', 'dx_muscskel', 'dx_congenital', 'dx_perinatal', 'dx_symptoms', 'dx_injury'])\n",
    "\n",
    "icd.code_cat = np.where(icd.icd9_code.str.contains('V'), 'visit', icd.code_cat)\n",
    "icd.code_cat = np.where(icd.icd9_code.str.contains('E'), 'dx_external', icd.code_cat)"
   ]
  },
  {
   "cell_type": "code",
   "execution_count": 24,
   "metadata": {
    "colab": {
     "base_uri": "https://localhost:8080/",
     "height": 204
    },
    "colab_type": "code",
    "id": "a0AypSj5FM_0",
    "outputId": "774a34ce-d1ec-43b6-f9d9-ffadcbde03da"
   },
   "outputs": [
    {
     "data": {
      "text/html": [
       "<div>\n",
       "<style scoped>\n",
       "    .dataframe tbody tr th:only-of-type {\n",
       "        vertical-align: middle;\n",
       "    }\n",
       "\n",
       "    .dataframe tbody tr th {\n",
       "        vertical-align: top;\n",
       "    }\n",
       "\n",
       "    .dataframe thead th {\n",
       "        text-align: right;\n",
       "    }\n",
       "</style>\n",
       "<table border=\"1\" class=\"dataframe\">\n",
       "  <thead>\n",
       "    <tr style=\"text-align: right;\">\n",
       "      <th></th>\n",
       "      <th>ruid</th>\n",
       "      <th>icd9_code</th>\n",
       "      <th>event_date</th>\n",
       "      <th>code_num</th>\n",
       "      <th>code_cat</th>\n",
       "    </tr>\n",
       "  </thead>\n",
       "  <tbody>\n",
       "    <tr>\n",
       "      <th>0</th>\n",
       "      <td>50135262</td>\n",
       "      <td>00.40</td>\n",
       "      <td>08/04/2007</td>\n",
       "      <td>0.40</td>\n",
       "      <td>proc</td>\n",
       "    </tr>\n",
       "    <tr>\n",
       "      <th>1</th>\n",
       "      <td>50135262</td>\n",
       "      <td>00.46</td>\n",
       "      <td>08/04/2007</td>\n",
       "      <td>0.46</td>\n",
       "      <td>proc</td>\n",
       "    </tr>\n",
       "    <tr>\n",
       "      <th>2</th>\n",
       "      <td>50135262</td>\n",
       "      <td>00.66</td>\n",
       "      <td>08/04/2007</td>\n",
       "      <td>0.66</td>\n",
       "      <td>proc</td>\n",
       "    </tr>\n",
       "    <tr>\n",
       "      <th>3</th>\n",
       "      <td>50135262</td>\n",
       "      <td>00.81</td>\n",
       "      <td>09/17/2012</td>\n",
       "      <td>0.81</td>\n",
       "      <td>proc</td>\n",
       "    </tr>\n",
       "    <tr>\n",
       "      <th>4</th>\n",
       "      <td>50135262</td>\n",
       "      <td>00.82</td>\n",
       "      <td>09/17/2012</td>\n",
       "      <td>0.82</td>\n",
       "      <td>proc</td>\n",
       "    </tr>\n",
       "  </tbody>\n",
       "</table>\n",
       "</div>"
      ],
      "text/plain": [
       "       ruid icd9_code  event_date  code_num code_cat\n",
       "0  50135262     00.40  08/04/2007      0.40     proc\n",
       "1  50135262     00.46  08/04/2007      0.46     proc\n",
       "2  50135262     00.66  08/04/2007      0.66     proc\n",
       "3  50135262     00.81  09/17/2012      0.81     proc\n",
       "4  50135262     00.82  09/17/2012      0.82     proc"
      ]
     },
     "execution_count": 24,
     "metadata": {},
     "output_type": "execute_result"
    }
   ],
   "source": [
    "icd.head()"
   ]
  },
  {
   "cell_type": "code",
   "execution_count": 25,
   "metadata": {
    "colab": {
     "base_uri": "https://localhost:8080/",
     "height": 204
    },
    "colab_type": "code",
    "id": "E1fRmBBtGVwu",
    "outputId": "df6930b3-f138-4f6b-d6c4-ac9a55f8601e"
   },
   "outputs": [
    {
     "data": {
      "text/html": [
       "<div>\n",
       "<style scoped>\n",
       "    .dataframe tbody tr th:only-of-type {\n",
       "        vertical-align: middle;\n",
       "    }\n",
       "\n",
       "    .dataframe tbody tr th {\n",
       "        vertical-align: top;\n",
       "    }\n",
       "\n",
       "    .dataframe thead th {\n",
       "        text-align: right;\n",
       "    }\n",
       "</style>\n",
       "<table border=\"1\" class=\"dataframe\">\n",
       "  <thead>\n",
       "    <tr style=\"text-align: right;\">\n",
       "      <th></th>\n",
       "      <th>ruid</th>\n",
       "      <th>icd9_code</th>\n",
       "      <th>event_date</th>\n",
       "      <th>code_num</th>\n",
       "      <th>code_cat</th>\n",
       "    </tr>\n",
       "  </thead>\n",
       "  <tbody>\n",
       "    <tr>\n",
       "      <th>2052062</th>\n",
       "      <td>53736423</td>\n",
       "      <td>77</td>\n",
       "      <td>04/25/2006</td>\n",
       "      <td>77.0</td>\n",
       "      <td>dx_infection</td>\n",
       "    </tr>\n",
       "    <tr>\n",
       "      <th>2052063</th>\n",
       "      <td>53736423</td>\n",
       "      <td>774.6</td>\n",
       "      <td>04/23/2006</td>\n",
       "      <td>774.6</td>\n",
       "      <td>dx_perinatal</td>\n",
       "    </tr>\n",
       "    <tr>\n",
       "      <th>2052064</th>\n",
       "      <td>53736423</td>\n",
       "      <td>V30.00</td>\n",
       "      <td>04/23/2006</td>\n",
       "      <td>NaN</td>\n",
       "      <td>visit</td>\n",
       "    </tr>\n",
       "    <tr>\n",
       "      <th>2052065</th>\n",
       "      <td>53736423</td>\n",
       "      <td>V50.2</td>\n",
       "      <td>04/23/2006</td>\n",
       "      <td>NaN</td>\n",
       "      <td>visit</td>\n",
       "    </tr>\n",
       "    <tr>\n",
       "      <th>2052066</th>\n",
       "      <td>53736423</td>\n",
       "      <td>V50.2</td>\n",
       "      <td>04/24/2006</td>\n",
       "      <td>NaN</td>\n",
       "      <td>visit</td>\n",
       "    </tr>\n",
       "  </tbody>\n",
       "</table>\n",
       "</div>"
      ],
      "text/plain": [
       "             ruid icd9_code  event_date  code_num      code_cat\n",
       "2052062  53736423        77  04/25/2006      77.0  dx_infection\n",
       "2052063  53736423     774.6  04/23/2006     774.6  dx_perinatal\n",
       "2052064  53736423    V30.00  04/23/2006       NaN         visit\n",
       "2052065  53736423     V50.2  04/23/2006       NaN         visit\n",
       "2052066  53736423     V50.2  04/24/2006       NaN         visit"
      ]
     },
     "execution_count": 25,
     "metadata": {},
     "output_type": "execute_result"
    }
   ],
   "source": [
    "icd.tail()"
   ]
  },
  {
   "cell_type": "code",
   "execution_count": 26,
   "metadata": {
    "colab": {},
    "colab_type": "code",
    "id": "b7-B0l9TM_aA"
   },
   "outputs": [],
   "source": [
    "dx_dict = {}\n",
    "for dx in set(icd.code_cat):\n",
    "    dx_dict[dx] = sum(icd.code_cat==str(dx))\n",
    "\n",
    "assert(sum(dx_dict.values()) == icd.shape[0])"
   ]
  },
  {
   "cell_type": "code",
   "execution_count": 27,
   "metadata": {
    "colab": {
     "base_uri": "https://localhost:8080/",
     "height": 357
    },
    "colab_type": "code",
    "id": "a6uYCylVN4VM",
    "outputId": "77d30748-b12b-4eda-88f0-b39d425183fc"
   },
   "outputs": [
    {
     "data": {
      "text/plain": [
       "{'dx_nervous': 86283,\n",
       " 'dx_mental': 79404,\n",
       " 'dx_injury': 78319,\n",
       " 'dx_blood': 76572,\n",
       " 'dx_muscskel': 100649,\n",
       " 'dx_digestive': 87582,\n",
       " 'dx_external': 13521,\n",
       " 'dx_circulatory': 226565,\n",
       " 'dx_respiratory': 109354,\n",
       " 'dx_perinatal': 24061,\n",
       " 'dx_gu': 95505,\n",
       " 'dx_congenital': 34379,\n",
       " 'dx_infection': 145279,\n",
       " 'dx_symptoms': 283718,\n",
       " 'visit': 255132,\n",
       " 'dx_skin': 26707,\n",
       " 'dx_obstetric': 19746,\n",
       " 'dx_endocrine': 162164,\n",
       " 'proc': 38203,\n",
       " 'dx_neoplasm': 108924}"
      ]
     },
     "execution_count": 27,
     "metadata": {},
     "output_type": "execute_result"
    }
   ],
   "source": [
    "dx_dict"
   ]
  },
  {
   "cell_type": "code",
   "execution_count": 29,
   "metadata": {
    "colab": {
     "base_uri": "https://localhost:8080/",
     "height": 644
    },
    "colab_type": "code",
    "id": "lDikLuyNNh5c",
    "outputId": "947c941b-3a10-42ec-c34f-82ae50328963"
   },
   "outputs": [
    {
     "data": {
      "image/png": "[encoded data removed]",
      "text/plain": [
       "<Figure size 720x720 with 1 Axes>"
      ]
     },
     "metadata": {},
     "output_type": "display_data"
    }
   ],
   "source": [
    "hlpr.pie_chart(dx_dict.keys(), icd, 'code_cat', 'ICD9 Codes', figsize = (10, 10))"
   ]
  },
  {
   "cell_type": "code",
   "execution_count": 35,
   "metadata": {
    "colab": {
     "base_uri": "https://localhost:8080/",
     "height": 260
    },
    "colab_type": "code",
    "id": "9K2cLAQL2N91",
    "outputId": "eaa97087-bf14-4600-86cf-98d6c85bc91f"
   },
   "outputs": [],
   "source": [
    "# add counts of ICD9 categories for each day/patient combination\n",
    "icd_wide = icd.copy()\n",
    "icd_wide = (icd_wide.drop(columns=['icd9_code', 'code_num'])\n",
    "                    .groupby(['ruid', 'event_date', 'code_cat'])\n",
    "                    .size()\n",
    "                    .unstack()\n",
    "                    .fillna(0))"
   ]
  },
  {
   "cell_type": "code",
   "execution_count": 36,
   "metadata": {},
   "outputs": [
    {
     "data": {
      "text/html": [
       "<div>\n",
       "<style scoped>\n",
       "    .dataframe tbody tr th:only-of-type {\n",
       "        vertical-align: middle;\n",
       "    }\n",
       "\n",
       "    .dataframe tbody tr th {\n",
       "        vertical-align: top;\n",
       "    }\n",
       "\n",
       "    .dataframe thead th {\n",
       "        text-align: right;\n",
       "    }\n",
       "</style>\n",
       "<table border=\"1\" class=\"dataframe\">\n",
       "  <thead>\n",
       "    <tr style=\"text-align: right;\">\n",
       "      <th></th>\n",
       "      <th>code_cat</th>\n",
       "      <th>icd_dx_blood</th>\n",
       "      <th>icd_dx_circulatory</th>\n",
       "      <th>icd_dx_congenital</th>\n",
       "      <th>icd_dx_digestive</th>\n",
       "      <th>icd_dx_endocrine</th>\n",
       "      <th>icd_dx_external</th>\n",
       "      <th>icd_dx_gu</th>\n",
       "      <th>icd_dx_infection</th>\n",
       "      <th>icd_dx_injury</th>\n",
       "      <th>icd_dx_mental</th>\n",
       "      <th>icd_dx_muscskel</th>\n",
       "      <th>icd_dx_neoplasm</th>\n",
       "      <th>icd_dx_nervous</th>\n",
       "      <th>icd_dx_obstetric</th>\n",
       "      <th>icd_dx_perinatal</th>\n",
       "      <th>icd_dx_respiratory</th>\n",
       "      <th>icd_dx_skin</th>\n",
       "      <th>icd_dx_symptoms</th>\n",
       "      <th>icd_proc</th>\n",
       "      <th>icd_visit</th>\n",
       "    </tr>\n",
       "    <tr>\n",
       "      <th>ruid</th>\n",
       "      <th>event_date</th>\n",
       "      <th></th>\n",
       "      <th></th>\n",
       "      <th></th>\n",
       "      <th></th>\n",
       "      <th></th>\n",
       "      <th></th>\n",
       "      <th></th>\n",
       "      <th></th>\n",
       "      <th></th>\n",
       "      <th></th>\n",
       "      <th></th>\n",
       "      <th></th>\n",
       "      <th></th>\n",
       "      <th></th>\n",
       "      <th></th>\n",
       "      <th></th>\n",
       "      <th></th>\n",
       "      <th></th>\n",
       "      <th></th>\n",
       "      <th></th>\n",
       "    </tr>\n",
       "  </thead>\n",
       "  <tbody>\n",
       "    <tr>\n",
       "      <th rowspan=\"5\" valign=\"top\">50135262</th>\n",
       "      <th>01/09/2005</th>\n",
       "      <td>0.0</td>\n",
       "      <td>0.0</td>\n",
       "      <td>0.0</td>\n",
       "      <td>0.0</td>\n",
       "      <td>0.0</td>\n",
       "      <td>0.0</td>\n",
       "      <td>0.0</td>\n",
       "      <td>0.0</td>\n",
       "      <td>0.0</td>\n",
       "      <td>0.0</td>\n",
       "      <td>0.0</td>\n",
       "      <td>0.0</td>\n",
       "      <td>0.0</td>\n",
       "      <td>0.0</td>\n",
       "      <td>0.0</td>\n",
       "      <td>0.0</td>\n",
       "      <td>0.0</td>\n",
       "      <td>1.0</td>\n",
       "      <td>0.0</td>\n",
       "      <td>0.0</td>\n",
       "    </tr>\n",
       "    <tr>\n",
       "      <th>02/08/2007</th>\n",
       "      <td>0.0</td>\n",
       "      <td>2.0</td>\n",
       "      <td>0.0</td>\n",
       "      <td>0.0</td>\n",
       "      <td>3.0</td>\n",
       "      <td>1.0</td>\n",
       "      <td>0.0</td>\n",
       "      <td>2.0</td>\n",
       "      <td>5.0</td>\n",
       "      <td>0.0</td>\n",
       "      <td>1.0</td>\n",
       "      <td>0.0</td>\n",
       "      <td>1.0</td>\n",
       "      <td>0.0</td>\n",
       "      <td>0.0</td>\n",
       "      <td>1.0</td>\n",
       "      <td>0.0</td>\n",
       "      <td>3.0</td>\n",
       "      <td>0.0</td>\n",
       "      <td>4.0</td>\n",
       "    </tr>\n",
       "    <tr>\n",
       "      <th>02/09/2007</th>\n",
       "      <td>0.0</td>\n",
       "      <td>2.0</td>\n",
       "      <td>0.0</td>\n",
       "      <td>0.0</td>\n",
       "      <td>1.0</td>\n",
       "      <td>0.0</td>\n",
       "      <td>0.0</td>\n",
       "      <td>2.0</td>\n",
       "      <td>4.0</td>\n",
       "      <td>0.0</td>\n",
       "      <td>0.0</td>\n",
       "      <td>0.0</td>\n",
       "      <td>0.0</td>\n",
       "      <td>0.0</td>\n",
       "      <td>0.0</td>\n",
       "      <td>0.0</td>\n",
       "      <td>0.0</td>\n",
       "      <td>0.0</td>\n",
       "      <td>0.0</td>\n",
       "      <td>2.0</td>\n",
       "    </tr>\n",
       "    <tr>\n",
       "      <th>02/10/2007</th>\n",
       "      <td>0.0</td>\n",
       "      <td>0.0</td>\n",
       "      <td>0.0</td>\n",
       "      <td>0.0</td>\n",
       "      <td>1.0</td>\n",
       "      <td>0.0</td>\n",
       "      <td>0.0</td>\n",
       "      <td>0.0</td>\n",
       "      <td>0.0</td>\n",
       "      <td>0.0</td>\n",
       "      <td>0.0</td>\n",
       "      <td>0.0</td>\n",
       "      <td>0.0</td>\n",
       "      <td>0.0</td>\n",
       "      <td>0.0</td>\n",
       "      <td>0.0</td>\n",
       "      <td>0.0</td>\n",
       "      <td>2.0</td>\n",
       "      <td>0.0</td>\n",
       "      <td>0.0</td>\n",
       "    </tr>\n",
       "    <tr>\n",
       "      <th>02/11/2007</th>\n",
       "      <td>0.0</td>\n",
       "      <td>0.0</td>\n",
       "      <td>0.0</td>\n",
       "      <td>0.0</td>\n",
       "      <td>1.0</td>\n",
       "      <td>0.0</td>\n",
       "      <td>0.0</td>\n",
       "      <td>0.0</td>\n",
       "      <td>0.0</td>\n",
       "      <td>0.0</td>\n",
       "      <td>0.0</td>\n",
       "      <td>0.0</td>\n",
       "      <td>0.0</td>\n",
       "      <td>0.0</td>\n",
       "      <td>0.0</td>\n",
       "      <td>0.0</td>\n",
       "      <td>0.0</td>\n",
       "      <td>0.0</td>\n",
       "      <td>0.0</td>\n",
       "      <td>0.0</td>\n",
       "    </tr>\n",
       "  </tbody>\n",
       "</table>\n",
       "</div>"
      ],
      "text/plain": [
       "code_cat             icd_dx_blood  icd_dx_circulatory  icd_dx_congenital  \\\n",
       "ruid     event_date                                                        \n",
       "50135262 01/09/2005           0.0                 0.0                0.0   \n",
       "         02/08/2007           0.0                 2.0                0.0   \n",
       "         02/09/2007           0.0                 2.0                0.0   \n",
       "         02/10/2007           0.0                 0.0                0.0   \n",
       "         02/11/2007           0.0                 0.0                0.0   \n",
       "\n",
       "code_cat             icd_dx_digestive  icd_dx_endocrine  icd_dx_external  \\\n",
       "ruid     event_date                                                        \n",
       "50135262 01/09/2005               0.0               0.0              0.0   \n",
       "         02/08/2007               0.0               3.0              1.0   \n",
       "         02/09/2007               0.0               1.0              0.0   \n",
       "         02/10/2007               0.0               1.0              0.0   \n",
       "         02/11/2007               0.0               1.0              0.0   \n",
       "\n",
       "code_cat             icd_dx_gu  icd_dx_infection  icd_dx_injury  \\\n",
       "ruid     event_date                                               \n",
       "50135262 01/09/2005        0.0               0.0            0.0   \n",
       "         02/08/2007        0.0               2.0            5.0   \n",
       "         02/09/2007        0.0               2.0            4.0   \n",
       "         02/10/2007        0.0               0.0            0.0   \n",
       "         02/11/2007        0.0               0.0            0.0   \n",
       "\n",
       "code_cat             icd_dx_mental  icd_dx_muscskel  icd_dx_neoplasm  \\\n",
       "ruid     event_date                                                    \n",
       "50135262 01/09/2005            0.0              0.0              0.0   \n",
       "         02/08/2007            0.0              1.0              0.0   \n",
       "         02/09/2007            0.0              0.0              0.0   \n",
       "         02/10/2007            0.0              0.0              0.0   \n",
       "         02/11/2007            0.0              0.0              0.0   \n",
       "\n",
       "code_cat             icd_dx_nervous  icd_dx_obstetric  icd_dx_perinatal  \\\n",
       "ruid     event_date                                                       \n",
       "50135262 01/09/2005             0.0               0.0               0.0   \n",
       "         02/08/2007             1.0               0.0               0.0   \n",
       "         02/09/2007             0.0               0.0               0.0   \n",
       "         02/10/2007             0.0               0.0               0.0   \n",
       "         02/11/2007             0.0               0.0               0.0   \n",
       "\n",
       "code_cat             icd_dx_respiratory  icd_dx_skin  icd_dx_symptoms  \\\n",
       "ruid     event_date                                                     \n",
       "50135262 01/09/2005                 0.0          0.0              1.0   \n",
       "         02/08/2007                 1.0          0.0              3.0   \n",
       "         02/09/2007                 0.0          0.0              0.0   \n",
       "         02/10/2007                 0.0          0.0              2.0   \n",
       "         02/11/2007                 0.0          0.0              0.0   \n",
       "\n",
       "code_cat             icd_proc  icd_visit  \n",
       "ruid     event_date                       \n",
       "50135262 01/09/2005       0.0        0.0  \n",
       "         02/08/2007       0.0        4.0  \n",
       "         02/09/2007       0.0        2.0  \n",
       "         02/10/2007       0.0        0.0  \n",
       "         02/11/2007       0.0        0.0  "
      ]
     },
     "execution_count": 36,
     "metadata": {},
     "output_type": "execute_result"
    }
   ],
   "source": [
    "# add 'icd_' prefix to all columns\n",
    "cols = icd_wide.columns[~icd_wide.columns.str.contains('ruid|event_date')]\n",
    "icd_wide.rename(columns = dict(zip(cols, 'icd_' + cols)), inplace=True)\n",
    "icd_wide.head()"
   ]
  },
  {
   "cell_type": "code",
   "execution_count": 37,
   "metadata": {},
   "outputs": [
    {
     "data": {
      "text/html": [
       "<div>\n",
       "<style scoped>\n",
       "    .dataframe tbody tr th:only-of-type {\n",
       "        vertical-align: middle;\n",
       "    }\n",
       "\n",
       "    .dataframe tbody tr th {\n",
       "        vertical-align: top;\n",
       "    }\n",
       "\n",
       "    .dataframe thead th {\n",
       "        text-align: right;\n",
       "    }\n",
       "</style>\n",
       "<table border=\"1\" class=\"dataframe\">\n",
       "  <thead>\n",
       "    <tr style=\"text-align: right;\">\n",
       "      <th>code_cat</th>\n",
       "      <th>ruid</th>\n",
       "      <th>event_date</th>\n",
       "      <th>icd_dx_blood</th>\n",
       "      <th>icd_dx_circulatory</th>\n",
       "      <th>icd_dx_congenital</th>\n",
       "      <th>icd_dx_digestive</th>\n",
       "      <th>icd_dx_endocrine</th>\n",
       "      <th>icd_dx_external</th>\n",
       "      <th>icd_dx_gu</th>\n",
       "      <th>icd_dx_infection</th>\n",
       "      <th>...</th>\n",
       "      <th>icd_dx_muscskel</th>\n",
       "      <th>icd_dx_neoplasm</th>\n",
       "      <th>icd_dx_nervous</th>\n",
       "      <th>icd_dx_obstetric</th>\n",
       "      <th>icd_dx_perinatal</th>\n",
       "      <th>icd_dx_respiratory</th>\n",
       "      <th>icd_dx_skin</th>\n",
       "      <th>icd_dx_symptoms</th>\n",
       "      <th>icd_proc</th>\n",
       "      <th>icd_visit</th>\n",
       "    </tr>\n",
       "  </thead>\n",
       "  <tbody>\n",
       "    <tr>\n",
       "      <th>0</th>\n",
       "      <td>50135262</td>\n",
       "      <td>01/09/2005</td>\n",
       "      <td>0.0</td>\n",
       "      <td>0.0</td>\n",
       "      <td>0.0</td>\n",
       "      <td>0.0</td>\n",
       "      <td>0.0</td>\n",
       "      <td>0.0</td>\n",
       "      <td>0.0</td>\n",
       "      <td>0.0</td>\n",
       "      <td>...</td>\n",
       "      <td>0.0</td>\n",
       "      <td>0.0</td>\n",
       "      <td>0.0</td>\n",
       "      <td>0.0</td>\n",
       "      <td>0.0</td>\n",
       "      <td>0.0</td>\n",
       "      <td>0.0</td>\n",
       "      <td>1.0</td>\n",
       "      <td>0.0</td>\n",
       "      <td>0.0</td>\n",
       "    </tr>\n",
       "    <tr>\n",
       "      <th>1</th>\n",
       "      <td>50135262</td>\n",
       "      <td>02/08/2007</td>\n",
       "      <td>0.0</td>\n",
       "      <td>2.0</td>\n",
       "      <td>0.0</td>\n",
       "      <td>0.0</td>\n",
       "      <td>3.0</td>\n",
       "      <td>1.0</td>\n",
       "      <td>0.0</td>\n",
       "      <td>2.0</td>\n",
       "      <td>...</td>\n",
       "      <td>1.0</td>\n",
       "      <td>0.0</td>\n",
       "      <td>1.0</td>\n",
       "      <td>0.0</td>\n",
       "      <td>0.0</td>\n",
       "      <td>1.0</td>\n",
       "      <td>0.0</td>\n",
       "      <td>3.0</td>\n",
       "      <td>0.0</td>\n",
       "      <td>4.0</td>\n",
       "    </tr>\n",
       "    <tr>\n",
       "      <th>2</th>\n",
       "      <td>50135262</td>\n",
       "      <td>02/09/2007</td>\n",
       "      <td>0.0</td>\n",
       "      <td>2.0</td>\n",
       "      <td>0.0</td>\n",
       "      <td>0.0</td>\n",
       "      <td>1.0</td>\n",
       "      <td>0.0</td>\n",
       "      <td>0.0</td>\n",
       "      <td>2.0</td>\n",
       "      <td>...</td>\n",
       "      <td>0.0</td>\n",
       "      <td>0.0</td>\n",
       "      <td>0.0</td>\n",
       "      <td>0.0</td>\n",
       "      <td>0.0</td>\n",
       "      <td>0.0</td>\n",
       "      <td>0.0</td>\n",
       "      <td>0.0</td>\n",
       "      <td>0.0</td>\n",
       "      <td>2.0</td>\n",
       "    </tr>\n",
       "    <tr>\n",
       "      <th>3</th>\n",
       "      <td>50135262</td>\n",
       "      <td>02/10/2007</td>\n",
       "      <td>0.0</td>\n",
       "      <td>0.0</td>\n",
       "      <td>0.0</td>\n",
       "      <td>0.0</td>\n",
       "      <td>1.0</td>\n",
       "      <td>0.0</td>\n",
       "      <td>0.0</td>\n",
       "      <td>0.0</td>\n",
       "      <td>...</td>\n",
       "      <td>0.0</td>\n",
       "      <td>0.0</td>\n",
       "      <td>0.0</td>\n",
       "      <td>0.0</td>\n",
       "      <td>0.0</td>\n",
       "      <td>0.0</td>\n",
       "      <td>0.0</td>\n",
       "      <td>2.0</td>\n",
       "      <td>0.0</td>\n",
       "      <td>0.0</td>\n",
       "    </tr>\n",
       "    <tr>\n",
       "      <th>4</th>\n",
       "      <td>50135262</td>\n",
       "      <td>02/11/2007</td>\n",
       "      <td>0.0</td>\n",
       "      <td>0.0</td>\n",
       "      <td>0.0</td>\n",
       "      <td>0.0</td>\n",
       "      <td>1.0</td>\n",
       "      <td>0.0</td>\n",
       "      <td>0.0</td>\n",
       "      <td>0.0</td>\n",
       "      <td>...</td>\n",
       "      <td>0.0</td>\n",
       "      <td>0.0</td>\n",
       "      <td>0.0</td>\n",
       "      <td>0.0</td>\n",
       "      <td>0.0</td>\n",
       "      <td>0.0</td>\n",
       "      <td>0.0</td>\n",
       "      <td>0.0</td>\n",
       "      <td>0.0</td>\n",
       "      <td>0.0</td>\n",
       "    </tr>\n",
       "  </tbody>\n",
       "</table>\n",
       "<p>5 rows × 22 columns</p>\n",
       "</div>"
      ],
      "text/plain": [
       "code_cat      ruid  event_date  icd_dx_blood  icd_dx_circulatory  \\\n",
       "0         50135262  01/09/2005           0.0                 0.0   \n",
       "1         50135262  02/08/2007           0.0                 2.0   \n",
       "2         50135262  02/09/2007           0.0                 2.0   \n",
       "3         50135262  02/10/2007           0.0                 0.0   \n",
       "4         50135262  02/11/2007           0.0                 0.0   \n",
       "\n",
       "code_cat  icd_dx_congenital  icd_dx_digestive  icd_dx_endocrine  \\\n",
       "0                       0.0               0.0               0.0   \n",
       "1                       0.0               0.0               3.0   \n",
       "2                       0.0               0.0               1.0   \n",
       "3                       0.0               0.0               1.0   \n",
       "4                       0.0               0.0               1.0   \n",
       "\n",
       "code_cat  icd_dx_external  icd_dx_gu  icd_dx_infection    ...      \\\n",
       "0                     0.0        0.0               0.0    ...       \n",
       "1                     1.0        0.0               2.0    ...       \n",
       "2                     0.0        0.0               2.0    ...       \n",
       "3                     0.0        0.0               0.0    ...       \n",
       "4                     0.0        0.0               0.0    ...       \n",
       "\n",
       "code_cat  icd_dx_muscskel  icd_dx_neoplasm  icd_dx_nervous  icd_dx_obstetric  \\\n",
       "0                     0.0              0.0             0.0               0.0   \n",
       "1                     1.0              0.0             1.0               0.0   \n",
       "2                     0.0              0.0             0.0               0.0   \n",
       "3                     0.0              0.0             0.0               0.0   \n",
       "4                     0.0              0.0             0.0               0.0   \n",
       "\n",
       "code_cat  icd_dx_perinatal  icd_dx_respiratory  icd_dx_skin  icd_dx_symptoms  \\\n",
       "0                      0.0                 0.0          0.0              1.0   \n",
       "1                      0.0                 1.0          0.0              3.0   \n",
       "2                      0.0                 0.0          0.0              0.0   \n",
       "3                      0.0                 0.0          0.0              2.0   \n",
       "4                      0.0                 0.0          0.0              0.0   \n",
       "\n",
       "code_cat  icd_proc  icd_visit  \n",
       "0              0.0        0.0  \n",
       "1              0.0        4.0  \n",
       "2              0.0        2.0  \n",
       "3              0.0        0.0  \n",
       "4              0.0        0.0  \n",
       "\n",
       "[5 rows x 22 columns]"
      ]
     },
     "execution_count": 37,
     "metadata": {},
     "output_type": "execute_result"
    }
   ],
   "source": [
    "icd_wide.reset_index(inplace=True)\n",
    "icd_wide.head()"
   ]
  },
  {
   "cell_type": "code",
   "execution_count": 38,
   "metadata": {
    "colab": {
     "base_uri": "https://localhost:8080/",
     "height": 260
    },
    "colab_type": "code",
    "id": "Yo_I222M3cHC",
    "outputId": "cfcf64b0-5262-4392-a17e-cc08b695ded6"
   },
   "outputs": [
    {
     "data": {
      "text/html": [
       "<div>\n",
       "<style scoped>\n",
       "    .dataframe tbody tr th:only-of-type {\n",
       "        vertical-align: middle;\n",
       "    }\n",
       "\n",
       "    .dataframe tbody tr th {\n",
       "        vertical-align: top;\n",
       "    }\n",
       "\n",
       "    .dataframe thead th {\n",
       "        text-align: right;\n",
       "    }\n",
       "</style>\n",
       "<table border=\"1\" class=\"dataframe\">\n",
       "  <thead>\n",
       "    <tr style=\"text-align: right;\">\n",
       "      <th>code_cat</th>\n",
       "      <th>ruid</th>\n",
       "      <th>event_date</th>\n",
       "      <th>icd_dx_blood</th>\n",
       "      <th>icd_dx_circulatory</th>\n",
       "      <th>icd_dx_congenital</th>\n",
       "      <th>icd_dx_digestive</th>\n",
       "      <th>icd_dx_endocrine</th>\n",
       "      <th>icd_dx_external</th>\n",
       "      <th>icd_dx_gu</th>\n",
       "      <th>icd_dx_infection</th>\n",
       "      <th>...</th>\n",
       "      <th>icd_dx_muscskel</th>\n",
       "      <th>icd_dx_neoplasm</th>\n",
       "      <th>icd_dx_nervous</th>\n",
       "      <th>icd_dx_obstetric</th>\n",
       "      <th>icd_dx_perinatal</th>\n",
       "      <th>icd_dx_respiratory</th>\n",
       "      <th>icd_dx_skin</th>\n",
       "      <th>icd_dx_symptoms</th>\n",
       "      <th>icd_proc</th>\n",
       "      <th>icd_visit</th>\n",
       "    </tr>\n",
       "  </thead>\n",
       "  <tbody>\n",
       "    <tr>\n",
       "      <th>574577</th>\n",
       "      <td>53736422</td>\n",
       "      <td>12/06/2006</td>\n",
       "      <td>0.0</td>\n",
       "      <td>0.0</td>\n",
       "      <td>0.0</td>\n",
       "      <td>0.0</td>\n",
       "      <td>0.0</td>\n",
       "      <td>0.0</td>\n",
       "      <td>0.0</td>\n",
       "      <td>0.0</td>\n",
       "      <td>...</td>\n",
       "      <td>0.0</td>\n",
       "      <td>0.0</td>\n",
       "      <td>1.0</td>\n",
       "      <td>0.0</td>\n",
       "      <td>0.0</td>\n",
       "      <td>0.0</td>\n",
       "      <td>0.0</td>\n",
       "      <td>0.0</td>\n",
       "      <td>0.0</td>\n",
       "      <td>0.0</td>\n",
       "    </tr>\n",
       "    <tr>\n",
       "      <th>574578</th>\n",
       "      <td>53736422</td>\n",
       "      <td>12/25/2007</td>\n",
       "      <td>0.0</td>\n",
       "      <td>0.0</td>\n",
       "      <td>0.0</td>\n",
       "      <td>0.0</td>\n",
       "      <td>0.0</td>\n",
       "      <td>0.0</td>\n",
       "      <td>0.0</td>\n",
       "      <td>0.0</td>\n",
       "      <td>...</td>\n",
       "      <td>0.0</td>\n",
       "      <td>0.0</td>\n",
       "      <td>1.0</td>\n",
       "      <td>0.0</td>\n",
       "      <td>0.0</td>\n",
       "      <td>0.0</td>\n",
       "      <td>0.0</td>\n",
       "      <td>0.0</td>\n",
       "      <td>0.0</td>\n",
       "      <td>0.0</td>\n",
       "    </tr>\n",
       "    <tr>\n",
       "      <th>574579</th>\n",
       "      <td>53736423</td>\n",
       "      <td>04/23/2006</td>\n",
       "      <td>0.0</td>\n",
       "      <td>0.0</td>\n",
       "      <td>0.0</td>\n",
       "      <td>0.0</td>\n",
       "      <td>0.0</td>\n",
       "      <td>0.0</td>\n",
       "      <td>0.0</td>\n",
       "      <td>0.0</td>\n",
       "      <td>...</td>\n",
       "      <td>0.0</td>\n",
       "      <td>0.0</td>\n",
       "      <td>0.0</td>\n",
       "      <td>0.0</td>\n",
       "      <td>1.0</td>\n",
       "      <td>0.0</td>\n",
       "      <td>0.0</td>\n",
       "      <td>0.0</td>\n",
       "      <td>1.0</td>\n",
       "      <td>2.0</td>\n",
       "    </tr>\n",
       "    <tr>\n",
       "      <th>574580</th>\n",
       "      <td>53736423</td>\n",
       "      <td>04/24/2006</td>\n",
       "      <td>0.0</td>\n",
       "      <td>0.0</td>\n",
       "      <td>0.0</td>\n",
       "      <td>0.0</td>\n",
       "      <td>0.0</td>\n",
       "      <td>0.0</td>\n",
       "      <td>0.0</td>\n",
       "      <td>2.0</td>\n",
       "      <td>...</td>\n",
       "      <td>0.0</td>\n",
       "      <td>0.0</td>\n",
       "      <td>0.0</td>\n",
       "      <td>0.0</td>\n",
       "      <td>0.0</td>\n",
       "      <td>0.0</td>\n",
       "      <td>0.0</td>\n",
       "      <td>0.0</td>\n",
       "      <td>1.0</td>\n",
       "      <td>1.0</td>\n",
       "    </tr>\n",
       "    <tr>\n",
       "      <th>574581</th>\n",
       "      <td>53736423</td>\n",
       "      <td>04/25/2006</td>\n",
       "      <td>0.0</td>\n",
       "      <td>0.0</td>\n",
       "      <td>0.0</td>\n",
       "      <td>0.0</td>\n",
       "      <td>0.0</td>\n",
       "      <td>0.0</td>\n",
       "      <td>0.0</td>\n",
       "      <td>1.0</td>\n",
       "      <td>...</td>\n",
       "      <td>0.0</td>\n",
       "      <td>0.0</td>\n",
       "      <td>0.0</td>\n",
       "      <td>0.0</td>\n",
       "      <td>0.0</td>\n",
       "      <td>0.0</td>\n",
       "      <td>0.0</td>\n",
       "      <td>0.0</td>\n",
       "      <td>1.0</td>\n",
       "      <td>0.0</td>\n",
       "    </tr>\n",
       "  </tbody>\n",
       "</table>\n",
       "<p>5 rows × 22 columns</p>\n",
       "</div>"
      ],
      "text/plain": [
       "code_cat      ruid  event_date  icd_dx_blood  icd_dx_circulatory  \\\n",
       "574577    53736422  12/06/2006           0.0                 0.0   \n",
       "574578    53736422  12/25/2007           0.0                 0.0   \n",
       "574579    53736423  04/23/2006           0.0                 0.0   \n",
       "574580    53736423  04/24/2006           0.0                 0.0   \n",
       "574581    53736423  04/25/2006           0.0                 0.0   \n",
       "\n",
       "code_cat  icd_dx_congenital  icd_dx_digestive  icd_dx_endocrine  \\\n",
       "574577                  0.0               0.0               0.0   \n",
       "574578                  0.0               0.0               0.0   \n",
       "574579                  0.0               0.0               0.0   \n",
       "574580                  0.0               0.0               0.0   \n",
       "574581                  0.0               0.0               0.0   \n",
       "\n",
       "code_cat  icd_dx_external  icd_dx_gu  icd_dx_infection    ...      \\\n",
       "574577                0.0        0.0               0.0    ...       \n",
       "574578                0.0        0.0               0.0    ...       \n",
       "574579                0.0        0.0               0.0    ...       \n",
       "574580                0.0        0.0               2.0    ...       \n",
       "574581                0.0        0.0               1.0    ...       \n",
       "\n",
       "code_cat  icd_dx_muscskel  icd_dx_neoplasm  icd_dx_nervous  icd_dx_obstetric  \\\n",
       "574577                0.0              0.0             1.0               0.0   \n",
       "574578                0.0              0.0             1.0               0.0   \n",
       "574579                0.0              0.0             0.0               0.0   \n",
       "574580                0.0              0.0             0.0               0.0   \n",
       "574581                0.0              0.0             0.0               0.0   \n",
       "\n",
       "code_cat  icd_dx_perinatal  icd_dx_respiratory  icd_dx_skin  icd_dx_symptoms  \\\n",
       "574577                 0.0                 0.0          0.0              0.0   \n",
       "574578                 0.0                 0.0          0.0              0.0   \n",
       "574579                 1.0                 0.0          0.0              0.0   \n",
       "574580                 0.0                 0.0          0.0              0.0   \n",
       "574581                 0.0                 0.0          0.0              0.0   \n",
       "\n",
       "code_cat  icd_proc  icd_visit  \n",
       "574577         0.0        0.0  \n",
       "574578         0.0        0.0  \n",
       "574579         1.0        2.0  \n",
       "574580         1.0        1.0  \n",
       "574581         1.0        0.0  \n",
       "\n",
       "[5 rows x 22 columns]"
      ]
     },
     "execution_count": 38,
     "metadata": {},
     "output_type": "execute_result"
    }
   ],
   "source": [
    "icd_wide.tail()"
   ]
  },
  {
   "cell_type": "code",
   "execution_count": 39,
   "metadata": {},
   "outputs": [],
   "source": [
    "icd_wide['event_date'] = pd.to_datetime(icd_wide['event_date'])"
   ]
  },
  {
   "cell_type": "code",
   "execution_count": null,
   "metadata": {
    "colab": {},
    "colab_type": "code",
    "id": "ybAoy1Tf6hXe"
   },
   "outputs": [],
   "source": [
    "icd_wide.to_pickle(dir + 'icd_wide.pkl')"
   ]
  },
  {
   "cell_type": "markdown",
   "metadata": {
    "colab_type": "text",
    "id": "aPJj8v7H0wZA"
   },
   "source": [
    "# CPT Codes"
   ]
  },
  {
   "cell_type": "code",
   "execution_count": 40,
   "metadata": {
    "colab": {
     "base_uri": "https://localhost:8080/",
     "height": 204
    },
    "colab_type": "code",
    "id": "OkX-fKxT0xad",
    "outputId": "e4d73c36-eeec-41cd-98d9-4a962fd3c97d"
   },
   "outputs": [
    {
     "data": {
      "text/html": [
       "<div>\n",
       "<style scoped>\n",
       "    .dataframe tbody tr th:only-of-type {\n",
       "        vertical-align: middle;\n",
       "    }\n",
       "\n",
       "    .dataframe tbody tr th {\n",
       "        vertical-align: top;\n",
       "    }\n",
       "\n",
       "    .dataframe thead th {\n",
       "        text-align: right;\n",
       "    }\n",
       "</style>\n",
       "<table border=\"1\" class=\"dataframe\">\n",
       "  <thead>\n",
       "    <tr style=\"text-align: right;\">\n",
       "      <th></th>\n",
       "      <th>ruid</th>\n",
       "      <th>cpt_code</th>\n",
       "      <th>event_date</th>\n",
       "    </tr>\n",
       "  </thead>\n",
       "  <tbody>\n",
       "    <tr>\n",
       "      <th>3827383</th>\n",
       "      <td>53736423</td>\n",
       "      <td>86850</td>\n",
       "      <td>04/25/2006</td>\n",
       "    </tr>\n",
       "    <tr>\n",
       "      <th>3827384</th>\n",
       "      <td>53736423</td>\n",
       "      <td>86880</td>\n",
       "      <td>04/25/2006</td>\n",
       "    </tr>\n",
       "    <tr>\n",
       "      <th>3827385</th>\n",
       "      <td>53736423</td>\n",
       "      <td>86900</td>\n",
       "      <td>04/25/2006</td>\n",
       "    </tr>\n",
       "    <tr>\n",
       "      <th>3827386</th>\n",
       "      <td>53736423</td>\n",
       "      <td>86901</td>\n",
       "      <td>04/25/2006</td>\n",
       "    </tr>\n",
       "    <tr>\n",
       "      <th>3827387</th>\n",
       "      <td>53736423</td>\n",
       "      <td>90744</td>\n",
       "      <td>04/23/2006</td>\n",
       "    </tr>\n",
       "  </tbody>\n",
       "</table>\n",
       "</div>"
      ],
      "text/plain": [
       "             ruid cpt_code  event_date\n",
       "3827383  53736423    86850  04/25/2006\n",
       "3827384  53736423    86880  04/25/2006\n",
       "3827385  53736423    86900  04/25/2006\n",
       "3827386  53736423    86901  04/25/2006\n",
       "3827387  53736423    90744  04/23/2006"
      ]
     },
     "execution_count": 40,
     "metadata": {},
     "output_type": "execute_result"
    }
   ],
   "source": [
    "cpt.tail()"
   ]
  },
  {
   "cell_type": "code",
   "execution_count": 41,
   "metadata": {
    "colab": {
     "base_uri": "https://localhost:8080/",
     "height": 34
    },
    "colab_type": "code",
    "id": "LtFOJnnN0yTP",
    "outputId": "8791d37d-d42e-4508-ebce-4cc93b1b128e"
   },
   "outputs": [
    {
     "name": "stdout",
     "output_type": "stream",
     "text": [
      "Shape of CPT = (3827388, 3). Unique RUIDs = 7891. Unique CPT Codes = 7274.\n"
     ]
    }
   ],
   "source": [
    "uniq = len(np.unique(cpt.ruid))\n",
    "codes = set(cpt.cpt_code)\n",
    "\n",
    "print(\"Shape of CPT = {shape}. Unique RUIDs = {uniq}. Unique CPT Codes = {codes}.\".format(\n",
    "    shape=cpt.shape, uniq=uniq, codes=len(codes)))"
   ]
  },
  {
   "cell_type": "code",
   "execution_count": 42,
   "metadata": {},
   "outputs": [
    {
     "data": {
      "text/plain": [
       "array([' J751', '00001', '00002', ..., 'V5363', 'V5364', 'Y1405'],\n",
       "      dtype=object)"
      ]
     },
     "execution_count": 42,
     "metadata": {},
     "output_type": "execute_result"
    }
   ],
   "source": [
    "# are any non-numeric CPT codes present - yes!\n",
    "np.unique(cpt.cpt_code)"
   ]
  },
  {
   "cell_type": "code",
   "execution_count": 43,
   "metadata": {
    "colab": {
     "base_uri": "https://localhost:8080/",
     "height": 204
    },
    "colab_type": "code",
    "id": "H7HeGxqJDG47",
    "outputId": "0275a4af-2a8d-4498-c168-0b97a9548896"
   },
   "outputs": [],
   "source": [
    "# create a new column of numeric version of codes, making strings NaN\n",
    "cpt['code_num'] = pd.to_numeric(cpt.cpt_code, errors='coerce')"
   ]
  },
  {
   "cell_type": "code",
   "execution_count": 44,
   "metadata": {
    "colab": {},
    "colab_type": "code",
    "id": "5wTtt10hFHz5"
   },
   "outputs": [],
   "source": [
    "cpt['code_cat'] = pd.cut(cpt.code_num, bins=[0, 99, # expired codes\n",
    "                                             100-0.01, 1999, # anethesia\n",
    "                                             10000-0.01, 69990, # surgery\n",
    "                                             70000-0.01, 79999, # radiology\n",
    "                                             80000-0.01, 89398, # pathology & laboratory\n",
    "                                             90281-0.01, 99099, # medicine\n",
    "                                             99100-0.01, 99150, # anesthesia\n",
    "                                             99151-0.01, 99199, # medicine\n",
    "                                             99201-0.01, 99499, # evaluation & management\n",
    "                                             99500-0.01, 99607, # medicine\n",
    "                                             99608-0.01, 100000, # unknown2\n",
    "                                             ],\n",
    "                          # by default, it doesn't include value on the left, so -0.01 added\n",
    "                          right=True, # inclusive on the right\n",
    "                          # labels must be unique in the pandas cut() function\n",
    "                          labels=['expired', 'gap0',\n",
    "                                  'anesthesia1', 'gap1', \n",
    "                                  'surgery', 'gap2',\n",
    "                                  'radiology', 'gap3', \n",
    "                                  'path_lab', 'gap4', \n",
    "                                  'medicine1', 'gap5',\n",
    "                                  'anesthesia2', 'gap6',\n",
    "                                  'medicine2', 'gap7',\n",
    "                                  'eval_manage', 'gap8',\n",
    "                                  'medicine3', 'gap9',\n",
    "                                  'unknown1'\n",
    "                                 ])\n",
    "\n",
    "# remove numbers from labels\n",
    "cpt.code_cat = cpt.code_cat.str.replace('\\d+', '', regex=True)\n",
    "\n",
    "# for Category 2 & 3 CPT codes (i.e., those that include a letter rather than all numbers), \n",
    "# marks as \"modifier\" (the CPT terminology), which are optional for billing purposes\n",
    "cpt.code_cat = np.where(np.isnan(cpt.code_num), 'modifier', cpt.code_cat)"
   ]
  },
  {
   "cell_type": "code",
   "execution_count": 45,
   "metadata": {
    "colab": {
     "base_uri": "https://localhost:8080/",
     "height": 204
    },
    "colab_type": "code",
    "id": "a0AypSj5FM_0",
    "outputId": "774a34ce-d1ec-43b6-f9d9-ffadcbde03da"
   },
   "outputs": [
    {
     "data": {
      "text/html": [
       "<div>\n",
       "<style scoped>\n",
       "    .dataframe tbody tr th:only-of-type {\n",
       "        vertical-align: middle;\n",
       "    }\n",
       "\n",
       "    .dataframe tbody tr th {\n",
       "        vertical-align: top;\n",
       "    }\n",
       "\n",
       "    .dataframe thead th {\n",
       "        text-align: right;\n",
       "    }\n",
       "</style>\n",
       "<table border=\"1\" class=\"dataframe\">\n",
       "  <thead>\n",
       "    <tr style=\"text-align: right;\">\n",
       "      <th></th>\n",
       "      <th>ruid</th>\n",
       "      <th>cpt_code</th>\n",
       "      <th>event_date</th>\n",
       "      <th>code_num</th>\n",
       "      <th>code_cat</th>\n",
       "    </tr>\n",
       "  </thead>\n",
       "  <tbody>\n",
       "    <tr>\n",
       "      <th>0</th>\n",
       "      <td>50135262</td>\n",
       "      <td>00001</td>\n",
       "      <td>11/28/2004</td>\n",
       "      <td>1.0</td>\n",
       "      <td>expired</td>\n",
       "    </tr>\n",
       "    <tr>\n",
       "      <th>1</th>\n",
       "      <td>50135262</td>\n",
       "      <td>00005</td>\n",
       "      <td>05/03/2012</td>\n",
       "      <td>5.0</td>\n",
       "      <td>expired</td>\n",
       "    </tr>\n",
       "    <tr>\n",
       "      <th>2</th>\n",
       "      <td>50135262</td>\n",
       "      <td>00025</td>\n",
       "      <td>02/08/2007</td>\n",
       "      <td>25.0</td>\n",
       "      <td>expired</td>\n",
       "    </tr>\n",
       "    <tr>\n",
       "      <th>3</th>\n",
       "      <td>50135262</td>\n",
       "      <td>00025</td>\n",
       "      <td>11/16/2004</td>\n",
       "      <td>25.0</td>\n",
       "      <td>expired</td>\n",
       "    </tr>\n",
       "    <tr>\n",
       "      <th>4</th>\n",
       "      <td>50135262</td>\n",
       "      <td>00030</td>\n",
       "      <td>02/08/2007</td>\n",
       "      <td>30.0</td>\n",
       "      <td>expired</td>\n",
       "    </tr>\n",
       "  </tbody>\n",
       "</table>\n",
       "</div>"
      ],
      "text/plain": [
       "       ruid cpt_code  event_date  code_num code_cat\n",
       "0  50135262    00001  11/28/2004       1.0  expired\n",
       "1  50135262    00005  05/03/2012       5.0  expired\n",
       "2  50135262    00025  02/08/2007      25.0  expired\n",
       "3  50135262    00025  11/16/2004      25.0  expired\n",
       "4  50135262    00030  02/08/2007      30.0  expired"
      ]
     },
     "execution_count": 45,
     "metadata": {},
     "output_type": "execute_result"
    }
   ],
   "source": [
    "cpt.head()"
   ]
  },
  {
   "cell_type": "code",
   "execution_count": 46,
   "metadata": {
    "colab": {
     "base_uri": "https://localhost:8080/",
     "height": 204
    },
    "colab_type": "code",
    "id": "E1fRmBBtGVwu",
    "outputId": "df6930b3-f138-4f6b-d6c4-ac9a55f8601e"
   },
   "outputs": [
    {
     "data": {
      "text/html": [
       "<div>\n",
       "<style scoped>\n",
       "    .dataframe tbody tr th:only-of-type {\n",
       "        vertical-align: middle;\n",
       "    }\n",
       "\n",
       "    .dataframe tbody tr th {\n",
       "        vertical-align: top;\n",
       "    }\n",
       "\n",
       "    .dataframe thead th {\n",
       "        text-align: right;\n",
       "    }\n",
       "</style>\n",
       "<table border=\"1\" class=\"dataframe\">\n",
       "  <thead>\n",
       "    <tr style=\"text-align: right;\">\n",
       "      <th></th>\n",
       "      <th>ruid</th>\n",
       "      <th>cpt_code</th>\n",
       "      <th>event_date</th>\n",
       "      <th>code_num</th>\n",
       "      <th>code_cat</th>\n",
       "    </tr>\n",
       "  </thead>\n",
       "  <tbody>\n",
       "    <tr>\n",
       "      <th>3827383</th>\n",
       "      <td>53736423</td>\n",
       "      <td>86850</td>\n",
       "      <td>04/25/2006</td>\n",
       "      <td>86850.0</td>\n",
       "      <td>path_lab</td>\n",
       "    </tr>\n",
       "    <tr>\n",
       "      <th>3827384</th>\n",
       "      <td>53736423</td>\n",
       "      <td>86880</td>\n",
       "      <td>04/25/2006</td>\n",
       "      <td>86880.0</td>\n",
       "      <td>path_lab</td>\n",
       "    </tr>\n",
       "    <tr>\n",
       "      <th>3827385</th>\n",
       "      <td>53736423</td>\n",
       "      <td>86900</td>\n",
       "      <td>04/25/2006</td>\n",
       "      <td>86900.0</td>\n",
       "      <td>path_lab</td>\n",
       "    </tr>\n",
       "    <tr>\n",
       "      <th>3827386</th>\n",
       "      <td>53736423</td>\n",
       "      <td>86901</td>\n",
       "      <td>04/25/2006</td>\n",
       "      <td>86901.0</td>\n",
       "      <td>path_lab</td>\n",
       "    </tr>\n",
       "    <tr>\n",
       "      <th>3827387</th>\n",
       "      <td>53736423</td>\n",
       "      <td>90744</td>\n",
       "      <td>04/23/2006</td>\n",
       "      <td>90744.0</td>\n",
       "      <td>medicine</td>\n",
       "    </tr>\n",
       "  </tbody>\n",
       "</table>\n",
       "</div>"
      ],
      "text/plain": [
       "             ruid cpt_code  event_date  code_num  code_cat\n",
       "3827383  53736423    86850  04/25/2006   86850.0  path_lab\n",
       "3827384  53736423    86880  04/25/2006   86880.0  path_lab\n",
       "3827385  53736423    86900  04/25/2006   86900.0  path_lab\n",
       "3827386  53736423    86901  04/25/2006   86901.0  path_lab\n",
       "3827387  53736423    90744  04/23/2006   90744.0  medicine"
      ]
     },
     "execution_count": 46,
     "metadata": {},
     "output_type": "execute_result"
    }
   ],
   "source": [
    "cpt.tail()"
   ]
  },
  {
   "cell_type": "code",
   "execution_count": 47,
   "metadata": {},
   "outputs": [
    {
     "data": {
      "text/plain": [
       "array(['99999'], dtype=object)"
      ]
     },
     "execution_count": 47,
     "metadata": {},
     "output_type": "execute_result"
    }
   ],
   "source": [
    "# what are the 'unknown' values?\n",
    "np.unique(cpt[cpt.code_cat=='unknown']['cpt_code'])"
   ]
  },
  {
   "cell_type": "markdown",
   "metadata": {},
   "source": [
    "I couldn't find 99999 anywhere - perhaps this just means missing & should be removed?"
   ]
  },
  {
   "cell_type": "code",
   "execution_count": 48,
   "metadata": {},
   "outputs": [
    {
     "data": {
      "text/plain": [
       "array(['01999.1', '01999.2', '01999.3', '01999.4', '01999.5', '01999.6',\n",
       "       '01999.7', '01999.8', '89399', '9999'], dtype=object)"
      ]
     },
     "execution_count": 48,
     "metadata": {},
     "output_type": "execute_result"
    }
   ],
   "source": [
    "# what are the 'gap' values?\n",
    "np.unique(cpt[cpt.code_cat=='gap']['cpt_code'])"
   ]
  },
  {
   "cell_type": "markdown",
   "metadata": {},
   "source": [
    "I've never seen decimal places in a CPT code, so we could either label these as modifiers or just remove them (similar to 9999, which isn't a correct CPT code as it only has 4 digits).  "
   ]
  },
  {
   "cell_type": "code",
   "execution_count": 49,
   "metadata": {},
   "outputs": [],
   "source": [
    "# replace \"gap\" with unknown\n",
    "cpt.code_cat = np.where(cpt.code_cat=='gap', 'unknown', cpt.code_cat)"
   ]
  },
  {
   "cell_type": "code",
   "execution_count": 50,
   "metadata": {
    "colab": {},
    "colab_type": "code",
    "id": "b7-B0l9TM_aA"
   },
   "outputs": [
    {
     "data": {
      "text/plain": [
       "{'unknown': 5964,\n",
       " 'medicine': 474569,\n",
       " 'anesthesia': 6526,\n",
       " 'eval_manage': 447503,\n",
       " 'path_lab': 1813333,\n",
       " 'surgery': 179513,\n",
       " 'expired': 81986,\n",
       " 'modifier': 625824,\n",
       " 'radiology': 192170}"
      ]
     },
     "execution_count": 50,
     "metadata": {},
     "output_type": "execute_result"
    }
   ],
   "source": [
    "code_dict = {}\n",
    "for code in set(cpt.code_cat):\n",
    "    code_dict[code] = sum(cpt.code_cat==str(code))\n",
    "\n",
    "assert(sum(code_dict.values()) == cpt.shape[0])\n",
    "\n",
    "code_dict"
   ]
  },
  {
   "cell_type": "code",
   "execution_count": 51,
   "metadata": {
    "colab": {
     "base_uri": "https://localhost:8080/",
     "height": 644
    },
    "colab_type": "code",
    "id": "lDikLuyNNh5c",
    "outputId": "947c941b-3a10-42ec-c34f-82ae50328963"
   },
   "outputs": [
    {
     "data": {
      "image/png": "[encoded data removed]",
      "text/plain": [
       "<Figure size 720x720 with 1 Axes>"
      ]
     },
     "metadata": {},
     "output_type": "display_data"
    }
   ],
   "source": [
    "hlpr.pie_chart(code_dict.keys(), cpt, 'code_cat', 'CPT Codes', figsize = (10, 10))"
   ]
  },
  {
   "cell_type": "code",
   "execution_count": 52,
   "metadata": {
    "colab": {
     "base_uri": "https://localhost:8080/",
     "height": 260
    },
    "colab_type": "code",
    "id": "9K2cLAQL2N91",
    "outputId": "eaa97087-bf14-4600-86cf-98d6c85bc91f"
   },
   "outputs": [],
   "source": [
    "# add counts of CPT categories for each day/patient combination\n",
    "cpt_wide = cpt.copy()\n",
    "cpt_wide = (cpt_wide.drop(columns=['cpt_code', 'code_num'])\n",
    "                    .groupby(['ruid', 'event_date', 'code_cat'])\n",
    "                    .size()\n",
    "                    .unstack()\n",
    "                    .fillna(0))"
   ]
  },
  {
   "cell_type": "code",
   "execution_count": 53,
   "metadata": {},
   "outputs": [
    {
     "data": {
      "text/html": [
       "<div>\n",
       "<style scoped>\n",
       "    .dataframe tbody tr th:only-of-type {\n",
       "        vertical-align: middle;\n",
       "    }\n",
       "\n",
       "    .dataframe tbody tr th {\n",
       "        vertical-align: top;\n",
       "    }\n",
       "\n",
       "    .dataframe thead th {\n",
       "        text-align: right;\n",
       "    }\n",
       "</style>\n",
       "<table border=\"1\" class=\"dataframe\">\n",
       "  <thead>\n",
       "    <tr style=\"text-align: right;\">\n",
       "      <th></th>\n",
       "      <th>code_cat</th>\n",
       "      <th>cpt_anesthesia</th>\n",
       "      <th>cpt_eval_manage</th>\n",
       "      <th>cpt_expired</th>\n",
       "      <th>cpt_medicine</th>\n",
       "      <th>cpt_modifier</th>\n",
       "      <th>cpt_path_lab</th>\n",
       "      <th>cpt_radiology</th>\n",
       "      <th>cpt_surgery</th>\n",
       "      <th>cpt_unknown</th>\n",
       "    </tr>\n",
       "    <tr>\n",
       "      <th>ruid</th>\n",
       "      <th>event_date</th>\n",
       "      <th></th>\n",
       "      <th></th>\n",
       "      <th></th>\n",
       "      <th></th>\n",
       "      <th></th>\n",
       "      <th></th>\n",
       "      <th></th>\n",
       "      <th></th>\n",
       "      <th></th>\n",
       "    </tr>\n",
       "  </thead>\n",
       "  <tbody>\n",
       "    <tr>\n",
       "      <th rowspan=\"5\" valign=\"top\">50135262</th>\n",
       "      <th>01/09/2005</th>\n",
       "      <td>0.0</td>\n",
       "      <td>1.0</td>\n",
       "      <td>0.0</td>\n",
       "      <td>1.0</td>\n",
       "      <td>0.0</td>\n",
       "      <td>0.0</td>\n",
       "      <td>0.0</td>\n",
       "      <td>0.0</td>\n",
       "      <td>0.0</td>\n",
       "    </tr>\n",
       "    <tr>\n",
       "      <th>02/08/2007</th>\n",
       "      <td>0.0</td>\n",
       "      <td>1.0</td>\n",
       "      <td>2.0</td>\n",
       "      <td>4.0</td>\n",
       "      <td>2.0</td>\n",
       "      <td>10.0</td>\n",
       "      <td>4.0</td>\n",
       "      <td>0.0</td>\n",
       "      <td>0.0</td>\n",
       "    </tr>\n",
       "    <tr>\n",
       "      <th>02/09/2007</th>\n",
       "      <td>0.0</td>\n",
       "      <td>2.0</td>\n",
       "      <td>1.0</td>\n",
       "      <td>0.0</td>\n",
       "      <td>3.0</td>\n",
       "      <td>9.0</td>\n",
       "      <td>5.0</td>\n",
       "      <td>2.0</td>\n",
       "      <td>0.0</td>\n",
       "    </tr>\n",
       "    <tr>\n",
       "      <th>02/10/2007</th>\n",
       "      <td>0.0</td>\n",
       "      <td>1.0</td>\n",
       "      <td>0.0</td>\n",
       "      <td>7.0</td>\n",
       "      <td>2.0</td>\n",
       "      <td>2.0</td>\n",
       "      <td>0.0</td>\n",
       "      <td>0.0</td>\n",
       "      <td>0.0</td>\n",
       "    </tr>\n",
       "    <tr>\n",
       "      <th>02/11/2007</th>\n",
       "      <td>0.0</td>\n",
       "      <td>1.0</td>\n",
       "      <td>0.0</td>\n",
       "      <td>2.0</td>\n",
       "      <td>1.0</td>\n",
       "      <td>2.0</td>\n",
       "      <td>0.0</td>\n",
       "      <td>0.0</td>\n",
       "      <td>0.0</td>\n",
       "    </tr>\n",
       "  </tbody>\n",
       "</table>\n",
       "</div>"
      ],
      "text/plain": [
       "code_cat             cpt_anesthesia  cpt_eval_manage  cpt_expired  \\\n",
       "ruid     event_date                                                 \n",
       "50135262 01/09/2005             0.0              1.0          0.0   \n",
       "         02/08/2007             0.0              1.0          2.0   \n",
       "         02/09/2007             0.0              2.0          1.0   \n",
       "         02/10/2007             0.0              1.0          0.0   \n",
       "         02/11/2007             0.0              1.0          0.0   \n",
       "\n",
       "code_cat             cpt_medicine  cpt_modifier  cpt_path_lab  cpt_radiology  \\\n",
       "ruid     event_date                                                            \n",
       "50135262 01/09/2005           1.0           0.0           0.0            0.0   \n",
       "         02/08/2007           4.0           2.0          10.0            4.0   \n",
       "         02/09/2007           0.0           3.0           9.0            5.0   \n",
       "         02/10/2007           7.0           2.0           2.0            0.0   \n",
       "         02/11/2007           2.0           1.0           2.0            0.0   \n",
       "\n",
       "code_cat             cpt_surgery  cpt_unknown  \n",
       "ruid     event_date                            \n",
       "50135262 01/09/2005          0.0          0.0  \n",
       "         02/08/2007          0.0          0.0  \n",
       "         02/09/2007          2.0          0.0  \n",
       "         02/10/2007          0.0          0.0  \n",
       "         02/11/2007          0.0          0.0  "
      ]
     },
     "execution_count": 53,
     "metadata": {},
     "output_type": "execute_result"
    }
   ],
   "source": [
    "# add 'cpt_' prefix to all columns\n",
    "cols = cpt_wide.columns[~cpt_wide.columns.str.contains('ruid|event_date')]\n",
    "cpt_wide.rename(columns = dict(zip(cols, 'cpt_' + cols)), inplace=True)\n",
    "cpt_wide.head()"
   ]
  },
  {
   "cell_type": "code",
   "execution_count": 54,
   "metadata": {},
   "outputs": [
    {
     "data": {
      "text/html": [
       "<div>\n",
       "<style scoped>\n",
       "    .dataframe tbody tr th:only-of-type {\n",
       "        vertical-align: middle;\n",
       "    }\n",
       "\n",
       "    .dataframe tbody tr th {\n",
       "        vertical-align: top;\n",
       "    }\n",
       "\n",
       "    .dataframe thead th {\n",
       "        text-align: right;\n",
       "    }\n",
       "</style>\n",
       "<table border=\"1\" class=\"dataframe\">\n",
       "  <thead>\n",
       "    <tr style=\"text-align: right;\">\n",
       "      <th>code_cat</th>\n",
       "      <th>ruid</th>\n",
       "      <th>event_date</th>\n",
       "      <th>cpt_anesthesia</th>\n",
       "      <th>cpt_eval_manage</th>\n",
       "      <th>cpt_expired</th>\n",
       "      <th>cpt_medicine</th>\n",
       "      <th>cpt_modifier</th>\n",
       "      <th>cpt_path_lab</th>\n",
       "      <th>cpt_radiology</th>\n",
       "      <th>cpt_surgery</th>\n",
       "      <th>cpt_unknown</th>\n",
       "    </tr>\n",
       "  </thead>\n",
       "  <tbody>\n",
       "    <tr>\n",
       "      <th>0</th>\n",
       "      <td>50135262</td>\n",
       "      <td>01/09/2005</td>\n",
       "      <td>0.0</td>\n",
       "      <td>1.0</td>\n",
       "      <td>0.0</td>\n",
       "      <td>1.0</td>\n",
       "      <td>0.0</td>\n",
       "      <td>0.0</td>\n",
       "      <td>0.0</td>\n",
       "      <td>0.0</td>\n",
       "      <td>0.0</td>\n",
       "    </tr>\n",
       "    <tr>\n",
       "      <th>1</th>\n",
       "      <td>50135262</td>\n",
       "      <td>02/08/2007</td>\n",
       "      <td>0.0</td>\n",
       "      <td>1.0</td>\n",
       "      <td>2.0</td>\n",
       "      <td>4.0</td>\n",
       "      <td>2.0</td>\n",
       "      <td>10.0</td>\n",
       "      <td>4.0</td>\n",
       "      <td>0.0</td>\n",
       "      <td>0.0</td>\n",
       "    </tr>\n",
       "    <tr>\n",
       "      <th>2</th>\n",
       "      <td>50135262</td>\n",
       "      <td>02/09/2007</td>\n",
       "      <td>0.0</td>\n",
       "      <td>2.0</td>\n",
       "      <td>1.0</td>\n",
       "      <td>0.0</td>\n",
       "      <td>3.0</td>\n",
       "      <td>9.0</td>\n",
       "      <td>5.0</td>\n",
       "      <td>2.0</td>\n",
       "      <td>0.0</td>\n",
       "    </tr>\n",
       "    <tr>\n",
       "      <th>3</th>\n",
       "      <td>50135262</td>\n",
       "      <td>02/10/2007</td>\n",
       "      <td>0.0</td>\n",
       "      <td>1.0</td>\n",
       "      <td>0.0</td>\n",
       "      <td>7.0</td>\n",
       "      <td>2.0</td>\n",
       "      <td>2.0</td>\n",
       "      <td>0.0</td>\n",
       "      <td>0.0</td>\n",
       "      <td>0.0</td>\n",
       "    </tr>\n",
       "    <tr>\n",
       "      <th>4</th>\n",
       "      <td>50135262</td>\n",
       "      <td>02/11/2007</td>\n",
       "      <td>0.0</td>\n",
       "      <td>1.0</td>\n",
       "      <td>0.0</td>\n",
       "      <td>2.0</td>\n",
       "      <td>1.0</td>\n",
       "      <td>2.0</td>\n",
       "      <td>0.0</td>\n",
       "      <td>0.0</td>\n",
       "      <td>0.0</td>\n",
       "    </tr>\n",
       "  </tbody>\n",
       "</table>\n",
       "</div>"
      ],
      "text/plain": [
       "code_cat      ruid  event_date  cpt_anesthesia  cpt_eval_manage  cpt_expired  \\\n",
       "0         50135262  01/09/2005             0.0              1.0          0.0   \n",
       "1         50135262  02/08/2007             0.0              1.0          2.0   \n",
       "2         50135262  02/09/2007             0.0              2.0          1.0   \n",
       "3         50135262  02/10/2007             0.0              1.0          0.0   \n",
       "4         50135262  02/11/2007             0.0              1.0          0.0   \n",
       "\n",
       "code_cat  cpt_medicine  cpt_modifier  cpt_path_lab  cpt_radiology  \\\n",
       "0                  1.0           0.0           0.0            0.0   \n",
       "1                  4.0           2.0          10.0            4.0   \n",
       "2                  0.0           3.0           9.0            5.0   \n",
       "3                  7.0           2.0           2.0            0.0   \n",
       "4                  2.0           1.0           2.0            0.0   \n",
       "\n",
       "code_cat  cpt_surgery  cpt_unknown  \n",
       "0                 0.0          0.0  \n",
       "1                 0.0          0.0  \n",
       "2                 2.0          0.0  \n",
       "3                 0.0          0.0  \n",
       "4                 0.0          0.0  "
      ]
     },
     "execution_count": 54,
     "metadata": {},
     "output_type": "execute_result"
    }
   ],
   "source": [
    "cpt_wide.reset_index(inplace=True)\n",
    "cpt_wide.head()"
   ]
  },
  {
   "cell_type": "code",
   "execution_count": 55,
   "metadata": {
    "colab": {
     "base_uri": "https://localhost:8080/",
     "height": 260
    },
    "colab_type": "code",
    "id": "Yo_I222M3cHC",
    "outputId": "cfcf64b0-5262-4392-a17e-cc08b695ded6"
   },
   "outputs": [
    {
     "data": {
      "text/html": [
       "<div>\n",
       "<style scoped>\n",
       "    .dataframe tbody tr th:only-of-type {\n",
       "        vertical-align: middle;\n",
       "    }\n",
       "\n",
       "    .dataframe tbody tr th {\n",
       "        vertical-align: top;\n",
       "    }\n",
       "\n",
       "    .dataframe thead th {\n",
       "        text-align: right;\n",
       "    }\n",
       "</style>\n",
       "<table border=\"1\" class=\"dataframe\">\n",
       "  <thead>\n",
       "    <tr style=\"text-align: right;\">\n",
       "      <th>code_cat</th>\n",
       "      <th>ruid</th>\n",
       "      <th>event_date</th>\n",
       "      <th>cpt_anesthesia</th>\n",
       "      <th>cpt_eval_manage</th>\n",
       "      <th>cpt_expired</th>\n",
       "      <th>cpt_medicine</th>\n",
       "      <th>cpt_modifier</th>\n",
       "      <th>cpt_path_lab</th>\n",
       "      <th>cpt_radiology</th>\n",
       "      <th>cpt_surgery</th>\n",
       "      <th>cpt_unknown</th>\n",
       "    </tr>\n",
       "  </thead>\n",
       "  <tbody>\n",
       "    <tr>\n",
       "      <th>576803</th>\n",
       "      <td>53736422</td>\n",
       "      <td>12/06/2006</td>\n",
       "      <td>0.0</td>\n",
       "      <td>1.0</td>\n",
       "      <td>0.0</td>\n",
       "      <td>0.0</td>\n",
       "      <td>0.0</td>\n",
       "      <td>0.0</td>\n",
       "      <td>0.0</td>\n",
       "      <td>0.0</td>\n",
       "      <td>0.0</td>\n",
       "    </tr>\n",
       "    <tr>\n",
       "      <th>576804</th>\n",
       "      <td>53736422</td>\n",
       "      <td>12/25/2007</td>\n",
       "      <td>0.0</td>\n",
       "      <td>1.0</td>\n",
       "      <td>0.0</td>\n",
       "      <td>1.0</td>\n",
       "      <td>0.0</td>\n",
       "      <td>0.0</td>\n",
       "      <td>0.0</td>\n",
       "      <td>0.0</td>\n",
       "      <td>0.0</td>\n",
       "    </tr>\n",
       "    <tr>\n",
       "      <th>576805</th>\n",
       "      <td>53736423</td>\n",
       "      <td>04/23/2006</td>\n",
       "      <td>0.0</td>\n",
       "      <td>0.0</td>\n",
       "      <td>1.0</td>\n",
       "      <td>1.0</td>\n",
       "      <td>0.0</td>\n",
       "      <td>1.0</td>\n",
       "      <td>0.0</td>\n",
       "      <td>0.0</td>\n",
       "      <td>0.0</td>\n",
       "    </tr>\n",
       "    <tr>\n",
       "      <th>576806</th>\n",
       "      <td>53736423</td>\n",
       "      <td>04/24/2006</td>\n",
       "      <td>0.0</td>\n",
       "      <td>0.0</td>\n",
       "      <td>1.0</td>\n",
       "      <td>0.0</td>\n",
       "      <td>0.0</td>\n",
       "      <td>0.0</td>\n",
       "      <td>0.0</td>\n",
       "      <td>1.0</td>\n",
       "      <td>0.0</td>\n",
       "    </tr>\n",
       "    <tr>\n",
       "      <th>576807</th>\n",
       "      <td>53736423</td>\n",
       "      <td>04/25/2006</td>\n",
       "      <td>0.0</td>\n",
       "      <td>0.0</td>\n",
       "      <td>1.0</td>\n",
       "      <td>0.0</td>\n",
       "      <td>0.0</td>\n",
       "      <td>7.0</td>\n",
       "      <td>0.0</td>\n",
       "      <td>0.0</td>\n",
       "      <td>0.0</td>\n",
       "    </tr>\n",
       "  </tbody>\n",
       "</table>\n",
       "</div>"
      ],
      "text/plain": [
       "code_cat      ruid  event_date  cpt_anesthesia  cpt_eval_manage  cpt_expired  \\\n",
       "576803    53736422  12/06/2006             0.0              1.0          0.0   \n",
       "576804    53736422  12/25/2007             0.0              1.0          0.0   \n",
       "576805    53736423  04/23/2006             0.0              0.0          1.0   \n",
       "576806    53736423  04/24/2006             0.0              0.0          1.0   \n",
       "576807    53736423  04/25/2006             0.0              0.0          1.0   \n",
       "\n",
       "code_cat  cpt_medicine  cpt_modifier  cpt_path_lab  cpt_radiology  \\\n",
       "576803             0.0           0.0           0.0            0.0   \n",
       "576804             1.0           0.0           0.0            0.0   \n",
       "576805             1.0           0.0           1.0            0.0   \n",
       "576806             0.0           0.0           0.0            0.0   \n",
       "576807             0.0           0.0           7.0            0.0   \n",
       "\n",
       "code_cat  cpt_surgery  cpt_unknown  \n",
       "576803            0.0          0.0  \n",
       "576804            0.0          0.0  \n",
       "576805            0.0          0.0  \n",
       "576806            1.0          0.0  \n",
       "576807            0.0          0.0  "
      ]
     },
     "execution_count": 55,
     "metadata": {},
     "output_type": "execute_result"
    }
   ],
   "source": [
    "cpt_wide.tail()"
   ]
  },
  {
   "cell_type": "code",
   "execution_count": null,
   "metadata": {},
   "outputs": [],
   "source": [
    "cpt_wide['event_date'] = pd.to_datetime(cpt_wide['event_date'])"
   ]
  },
  {
   "cell_type": "code",
   "execution_count": null,
   "metadata": {
    "colab": {},
    "colab_type": "code",
    "id": "ybAoy1Tf6hXe"
   },
   "outputs": [],
   "source": [
    "cpt_wide.to_pickle(dir + 'cpt_wide.pkl')"
   ]
  },
  {
   "cell_type": "markdown",
   "metadata": {
    "colab_type": "text",
    "id": "BgFC5XYbNYw0"
   },
   "source": [
    "# Medications"
   ]
  },
  {
   "cell_type": "code",
   "execution_count": null,
   "metadata": {
    "colab": {
     "base_uri": "https://localhost:8080/",
     "height": 359
    },
    "colab_type": "code",
    "id": "74rueEt8NaJr",
    "outputId": "e8a5524e-70d4-452a-f972-922b212394c0"
   },
   "outputs": [],
   "source": [
    "med[60:80]"
   ]
  },
  {
   "cell_type": "code",
   "execution_count": null,
   "metadata": {
    "colab": {
     "base_uri": "https://localhost:8080/",
     "height": 359
    },
    "colab_type": "code",
    "id": "egDcKCGkNbDD",
    "outputId": "c676b0ba-0d9d-43dc-bd3f-2fd52ac83ad8"
   },
   "outputs": [],
   "source": [
    "med[-10:]"
   ]
  },
  {
   "cell_type": "markdown",
   "metadata": {
    "colab_type": "text",
    "id": "fDzxG3k_Vk8s"
   },
   "source": [
    "There are significant duplicates of numeric rows where a \".00000\" is added to `dose_amt`. Given that this is likely a coding error (e.g., even a vaccine was administered at 5 and 5.00000 for the same patient on the same, which wouldn't happen), I'm removing all rows with the \".00000\" in the dose by first removing the \".00000\" then looking for duplicates. I already sorted values during loading of data. "
   ]
  },
  {
   "cell_type": "code",
   "execution_count": null,
   "metadata": {},
   "outputs": [],
   "source": [
    "med2 = med.copy()\n",
    "med2.dose_amt = med2.dose_amt.str.replace('.00000', '')\n",
    "med2.drop_duplicates(inplace=True)"
   ]
  },
  {
   "cell_type": "code",
   "execution_count": null,
   "metadata": {},
   "outputs": [],
   "source": [
    "print(\"Removed {diff} of {orig} rows ({perc}%).\".format(\n",
    "    diff=med.shape[0]-med2.shape[0], orig=med.shape[0], \n",
    "    perc=round((med.shape[0]-med2.shape[0])/med.shape[0]*100, 2)))\n",
    "med2.shape"
   ]
  },
  {
   "cell_type": "code",
   "execution_count": null,
   "metadata": {
    "colab": {
     "base_uri": "https://localhost:8080/",
     "height": 204
    },
    "colab_type": "code",
    "id": "gZFr85rZOFfg",
    "outputId": "65486e9f-9a64-4fd6-c2fa-4267bc505412"
   },
   "outputs": [],
   "source": [
    "# make new columns to match api for RxNorm\n",
    "med2.rename(columns={'drug_name': 'DrugNameWithoutDose',\n",
    "                    'drug_form': 'DosageForm'}, \n",
    "            inplace=True)\n",
    "\n",
    "# inconsistencies in whether dose_amt vs. drug_strength contains the actual strength\n",
    "# if drug_strength is missing or if dose_amt contains an \"mg\" use the dose_amt veriable\n",
    "med2['StrengthText'] = np.where((med2.drug_strength.isnull() | \n",
    "                                 med2.dose_amt.str.contains('mg', case=False)), \n",
    "                                med2.dose_amt,\n",
    "                                med2.drug_strength)\n",
    "\n",
    "# need to add a blank 'DrugUnit' as it's already included in 'dose_amt'\n",
    "med2['DrugUnit'] = np.NaN\n",
    "\n",
    "med2.head()"
   ]
  },
  {
   "cell_type": "markdown",
   "metadata": {},
   "source": [
    "### Convert Strings to Standardized RxNorm Concept Unique Identifiers (CUIs)"
   ]
  },
  {
   "cell_type": "code",
   "execution_count": null,
   "metadata": {
    "colab": {
     "base_uri": "https://localhost:8080/",
     "height": 85
    },
    "colab_type": "code",
    "id": "KBsZLvDzCBvi",
    "outputId": "49d212b5-7427-4729-d0bf-dd6c7e883cc0",
    "scrolled": false
   },
   "outputs": [],
   "source": [
    "# only needs to be run once\n",
    "#DatasetCreation.structured_elements2rxcui(med2)"
   ]
  },
  {
   "cell_type": "code",
   "execution_count": null,
   "metadata": {},
   "outputs": [],
   "source": [
    "cuis = pd.read_csv(config.out_dir + 'structured_elements_to_rxcui.csv')\n",
    "print(cuis.shape)\n",
    "cuis.head()"
   ]
  },
  {
   "cell_type": "markdown",
   "metadata": {},
   "source": [
    "### Convert RxNorm CUIs to MeSH Drug Classes"
   ]
  },
  {
   "cell_type": "code",
   "execution_count": null,
   "metadata": {
    "colab": {
     "base_uri": "https://localhost:8080/",
     "height": 85
    },
    "colab_type": "code",
    "id": "AX1wv24BEWgv",
    "outputId": "e1940e45-22a5-45f0-fbd4-4d74f34e774c"
   },
   "outputs": [],
   "source": [
    "# only needs to be run once\n",
    "#DatasetCreation.cui2class(cuis)"
   ]
  },
  {
   "cell_type": "code",
   "execution_count": null,
   "metadata": {
    "colab": {},
    "colab_type": "code",
    "id": "Z1zajT35GEgP"
   },
   "outputs": [],
   "source": [
    "# load classes corresponding to each cui\n",
    "classes = pd.read_csv(config.out_dir + 'cui2class.csv')\n",
    "print(classes.shape)\n",
    "\n",
    "# drop rows with no corresponding categories (i.e., must contain rxcui & at least 1 category)\n",
    "classes.dropna(thresh=2, inplace=True)\n",
    "print(classes.shape)\n",
    "classes.head()"
   ]
  },
  {
   "cell_type": "code",
   "execution_count": null,
   "metadata": {},
   "outputs": [],
   "source": [
    "classes.tail()"
   ]
  },
  {
   "cell_type": "markdown",
   "metadata": {},
   "source": [
    "### Combine All Medication Information"
   ]
  },
  {
   "cell_type": "code",
   "execution_count": null,
   "metadata": {},
   "outputs": [],
   "source": [
    "# add \"unique_combo\" column to original meds for merging\n",
    "med2['unique_combo'] = api_rxnorm.make_string(med2)\n",
    "med2.head()"
   ]
  },
  {
   "cell_type": "code",
   "execution_count": null,
   "metadata": {},
   "outputs": [],
   "source": [
    "# replace \"%20\" with space (because not making API calls here)\n",
    "med2.drop(columns='full', inplace=True)\n",
    "med2.unique_combo = med2.unique_combo.str.replace('%20', ' ')"
   ]
  },
  {
   "cell_type": "code",
   "execution_count": null,
   "metadata": {},
   "outputs": [],
   "source": [
    "med2[:10]"
   ]
  },
  {
   "cell_type": "code",
   "execution_count": null,
   "metadata": {},
   "outputs": [],
   "source": [
    "med2[-10:]"
   ]
  },
  {
   "cell_type": "code",
   "execution_count": null,
   "metadata": {
    "scrolled": false
   },
   "outputs": [],
   "source": [
    "# add just first rxcui (for now)\n",
    "med_cuis = (med2[['ruid', 'entry_date', 'unique_combo']]\n",
    "            .merge(cuis[['unique_combo', 'rxcui1']], \n",
    "                   how='left', \n",
    "                   on='unique_combo'))\n",
    "med_cuis.head()"
   ]
  },
  {
   "cell_type": "code",
   "execution_count": null,
   "metadata": {
    "scrolled": false
   },
   "outputs": [],
   "source": [
    "med_cuis.tail()"
   ]
  },
  {
   "cell_type": "code",
   "execution_count": null,
   "metadata": {
    "scrolled": false
   },
   "outputs": [],
   "source": [
    "# rename rxcui for merge\n",
    "med_cuis.rename(columns={'rxcui1': 'rxcui'}, inplace=True)\n",
    "\n",
    "med_classes = med_cuis.merge(classes, how='left', on='rxcui')\n",
    "med_classes.head()"
   ]
  },
  {
   "cell_type": "code",
   "execution_count": null,
   "metadata": {},
   "outputs": [],
   "source": [
    "med_classes.tail()"
   ]
  },
  {
   "cell_type": "code",
   "execution_count": null,
   "metadata": {},
   "outputs": [],
   "source": [
    "med_classes.shape"
   ]
  },
  {
   "cell_type": "code",
   "execution_count": null,
   "metadata": {},
   "outputs": [],
   "source": [
    "# break dataframe into subsections to reduce memory burden (& increase speed)\n",
    "batch_size = 1000000\n",
    "\n",
    "batches = [med_classes[i * batch_size:(i + 1) * batch_size] \\\n",
    "           for i in range((len(med_classes) + batch_size - 1) // batch_size)]"
   ]
  },
  {
   "cell_type": "code",
   "execution_count": null,
   "metadata": {},
   "outputs": [],
   "source": [
    "if config.print_status:\n",
    "    counter = 0\n",
    "    print('Created ' + str(len(batches)) + ' batches.')\n",
    "    \n",
    "med_classes_long = pd.DataFrame()\n",
    "\n",
    "for i in range(len(batches)):\n",
    "    if config.print_status:\n",
    "        counter += 1\n",
    "        print('Starting batch # ' + str(counter))\n",
    "    \n",
    "    # melt data frame so all categories collapsed into 1 column\n",
    "    temp = pd.melt(batches[i], id_vars=['ruid', 'entry_date', 'unique_combo', 'rxcui'])\n",
    "    \n",
    "    # append to existing dataframe\n",
    "    med_classes_long = med_classes_long.append(temp, sort=True)"
   ]
  },
  {
   "cell_type": "code",
   "execution_count": null,
   "metadata": {},
   "outputs": [],
   "source": [
    "# melt data frame so all categories collapsed into 1 column\n",
    "med_classes = pd.melt(med_classes, id_vars=['ruid', 'entry_date', 'unique_combo', 'rxcui'])\n",
    "# drop values where category was missing (which is primarily done for cat2 & higher)\n",
    "med_classes.dropna(inplace=True)\n",
    "med_classes.head()"
   ]
  },
  {
   "cell_type": "code",
   "execution_count": null,
   "metadata": {},
   "outputs": [],
   "source": [
    "med_classes.shape"
   ]
  },
  {
   "cell_type": "code",
   "execution_count": null,
   "metadata": {},
   "outputs": [],
   "source": [
    "# This file contains the unique medications for each patient-day along with the\n",
    "# first (best) RxCUI and all MeSH classess associated with that first CUI.\n",
    "# Because an RxCUI can have multiple classes, the \"variable\" column indicates \n",
    "# which category the value belonged to (note: this is not ranked, all categories \n",
    "# are equally representative for the RxCUI)\n",
    "\n",
    "#med_classes.to_pickle(dir + 'med_classes.pkl')\n",
    "med_classes.to_csv(dir + 'med_classes.csv')"
   ]
  },
  {
   "cell_type": "markdown",
   "metadata": {},
   "source": [
    "### Drop RUIDs of Patients not in Final Cohort"
   ]
  },
  {
   "cell_type": "code",
   "execution_count": null,
   "metadata": {},
   "outputs": [],
   "source": [
    "med_classes = pd.read_pickle(dir + './med_classes.pkl')\n",
    "med_classes.head()"
   ]
  },
  {
   "cell_type": "code",
   "execution_count": null,
   "metadata": {},
   "outputs": [],
   "source": [
    "final_ruids = adt_cms_final.ruid.unique()\n",
    "len(final_ruids)"
   ]
  },
  {
   "cell_type": "code",
   "execution_count": null,
   "metadata": {},
   "outputs": [],
   "source": [
    "# break dataframe into subsections to prevent timeout\n",
    "batch_size = 500\n",
    "ruids = [final_ruids[i * batch_size:(i + 1) * batch_size] \\\n",
    "         for i in range((len(final_ruids) + batch_size - 1) // batch_size)]"
   ]
  },
  {
   "cell_type": "code",
   "execution_count": null,
   "metadata": {},
   "outputs": [],
   "source": [
    "if config.print_status:\n",
    "    counter = 0\n",
    "    print('Created ' + str(len(ruids)) + ' batches.')\n",
    "    \n",
    "med_classes_final_ruids = pd.DataFrame()\n",
    "\n",
    "for i in range(len(ruids)):\n",
    "    if config.print_status:\n",
    "        counter += 1\n",
    "        print('Starting batch # ' + str(counter))\n",
    "    \n",
    "    temp = med_classes[med_classes['ruid'].isin(ruids[i])]\n",
    "    \n",
    "    temp = (temp.drop(columns=['rxcui', 'variable'])\n",
    "                .groupby(['ruid', 'entry_date', 'value'])\n",
    "                .size()\n",
    "                .unstack()\n",
    "                .fillna(0))\n",
    "    \n",
    "    med_classes_final_ruids = med_classes_final_ruids.append(temp, sort=True)"
   ]
  },
  {
   "cell_type": "code",
   "execution_count": null,
   "metadata": {},
   "outputs": [],
   "source": [
    "# add 'med_' prefix to all columns\n",
    "cols = med_classes_final_ruids.columns[~med_classes_final_ruids.columns.str.contains('ruid|event_date')]\n",
    "med_classes_final_ruids.rename(columns = dict(zip(cols, 'med_' + cols)), inplace=True)\n",
    "med_classes_final_ruids.head()"
   ]
  },
  {
   "cell_type": "code",
   "execution_count": null,
   "metadata": {
    "scrolled": false
   },
   "outputs": [],
   "source": [
    "med_classes_final_ruids.shape"
   ]
  },
  {
   "cell_type": "code",
   "execution_count": null,
   "metadata": {},
   "outputs": [],
   "source": [
    "med_classes_final_ruids.reset_index(inplace=True)"
   ]
  },
  {
   "cell_type": "code",
   "execution_count": null,
   "metadata": {},
   "outputs": [],
   "source": [
    "med_classes_final_ruids.head()"
   ]
  },
  {
   "cell_type": "code",
   "execution_count": null,
   "metadata": {
    "colab": {
     "base_uri": "https://localhost:8080/",
     "height": 260
    },
    "colab_type": "code",
    "id": "Yo_I222M3cHC",
    "outputId": "cfcf64b0-5262-4392-a17e-cc08b695ded6"
   },
   "outputs": [],
   "source": [
    "med_classes_final_ruids.tail()"
   ]
  },
  {
   "cell_type": "code",
   "execution_count": null,
   "metadata": {},
   "outputs": [],
   "source": [
    "len(med_classes_final_ruids.ruid.unique())"
   ]
  },
  {
   "cell_type": "code",
   "execution_count": null,
   "metadata": {},
   "outputs": [],
   "source": [
    "med_classes_final_ruids['entry_date'] = pd.to_datetime(med_classes_final_ruids['entry_date'])"
   ]
  },
  {
   "cell_type": "code",
   "execution_count": null,
   "metadata": {
    "colab": {},
    "colab_type": "code",
    "id": "ybAoy1Tf6hXe"
   },
   "outputs": [],
   "source": [
    "# SAVE\n",
    "med_classes_final_ruids.to_pickle(dir + 'med_classes_final_ruids.pkl')"
   ]
  }
 ],
 "metadata": {
  "colab": {
   "collapsed_sections": [
    "TGRbzSHB6UuZ",
    "JPl36nsFjshD",
    "aPJj8v7H0wZA"
   ],
   "name": "alvin_prelim.ipynb",
   "provenance": [],
   "version": "0.3.2"
  },
  "kernelspec": {
   "display_name": "Python 3",
   "language": "python",
   "name": "python3"
  },
  "language_info": {
   "codemirror_mode": {
    "name": "ipython",
    "version": 3
   },
   "file_extension": ".py",
   "mimetype": "text/x-python",
   "name": "python",
   "nbconvert_exporter": "python",
   "pygments_lexer": "ipython3",
   "version": "3.6.6"
  }
 },
 "nbformat": 4,
 "nbformat_minor": 2
}
