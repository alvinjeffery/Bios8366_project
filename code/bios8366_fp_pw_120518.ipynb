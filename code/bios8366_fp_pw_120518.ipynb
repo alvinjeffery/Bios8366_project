{
 "cells": [
  {
   "cell_type": "markdown",
   "metadata": {},
   "source": [
    "# bios8366_fp_pw_120518.ipynb"
   ]
  },
  {
   "cell_type": "markdown",
   "metadata": {},
   "source": [
    "# 12.05.18"
   ]
  },
  {
   "cell_type": "code",
   "execution_count": 2,
   "metadata": {},
   "outputs": [],
   "source": [
    "%matplotlib inline\n",
    "import numpy as np\n",
    "import pymc3 as pm\n",
    "import pylab as plt\n",
    "import pandas as pd\n",
    "import seaborn as sns\n",
    "sns.set(style=\"whitegrid\")\n",
    "\n",
    "# Set seed\n",
    "np.random.seed(10011)"
   ]
  },
  {
   "cell_type": "markdown",
   "metadata": {},
   "source": [
    "## Helper functions"
   ]
  },
  {
   "cell_type": "code",
   "execution_count": 4,
   "metadata": {},
   "outputs": [],
   "source": [
    "# create function looking at top X number of labs\n",
    "def top_labs(labs_df,num_labs=10):\n",
    "    \n",
    "    \"\"\"function takes in lab in dataframe format and outputs \n",
    "    \n",
    "        :param labs_df = lab dataframe with columns = {'RUID','Lab_name','Lab_date','Lab_value'}\n",
    "        :param num_labs = top X of desired top labs to output from function, default = top 10\n",
    "        \n",
    "        :return = \n",
    "            top_num_labs: pandas dataframe with columns {'Lab_name','counts'} that contains only labs from top number of desired labs\n",
    "            top_pt_labs: pandas dataframe with columns {'RUID', 'Lab_name', 'Lab_date','Lab_value'} that contains only labs from top number of desired labs\n",
    "    \"\"\"\n",
    "    # preprocess lab dataframe to get sorted labs\n",
    "    top_labs = pd.DataFrame(labs_df[['Lab_name']].groupby(['Lab_name']).size()).reset_index()\n",
    "    top_labs.columns = ['Lab_name','counts']\n",
    "    top_labs1 = top_labs.sort_values(by='counts',ascending=False)\n",
    "    \n",
    "    # get dataframe with columns = {'Lab_name', 'counts'}\n",
    "    top_num_labs = top_labs1.iloc[0:int(num_labs),:]\n",
    "    \n",
    "    # create dataframe with only labs matching top labs\n",
    "    top_pt_labs = labs_df[labs_df['Lab_name'].isin(top_num_labs['Lab_name'])]\n",
    "    \n",
    "    return top_num_labs, top_pt_labs"
   ]
  },
  {
   "cell_type": "code",
   "execution_count": 10,
   "metadata": {},
   "outputs": [],
   "source": [
    "# write function to clean labs, to remove non-numeric values, etc.\n",
    "\n",
    "def cleanLabs(labsdf):\n",
    "    \n",
    "    # sort labs dataframe to identify non-numeric values\n",
    "    cleanlabs_df = labsdf.sort_values(by='lab_value',ascending=False)\n",
    "    \n",
    "    # convert non-numeric values to 'NaN'\n",
    "    cleanlabs_df['lab_value'] = pd.to_numeric(cleanlabs_df['lab_value'],errors='coerce')\n",
    "    \n",
    "    # remove rows with NaN for Lab_value\n",
    "    cleanlabs_df = cleanlabs_df[~cleanlabs_df['lab_value'].isna()]\n",
    "    \n",
    "    # return cleaned up labs dataframe\n",
    "    return cleanlabs_df"
   ]
  },
  {
   "cell_type": "code",
   "execution_count": 20,
   "metadata": {},
   "outputs": [],
   "source": [
    "# write function to clean labs, to remove non-numeric values, etc.\n",
    "# note that this differs from the cleanLabs() function, as rows with NaN are NOT removed\n",
    "\n",
    "def cleanLabs1(labsdf):\n",
    "    \n",
    "    # sort labs dataframe to identify non-numeric values\n",
    "    cleanlabs_df = labsdf.sort_values(by='lab_value',ascending=False)\n",
    "    \n",
    "    # convert non-numeric values to 'NaN'\n",
    "    cleanlabs_df['lab_value'] = pd.to_numeric(cleanlabs_df['lab_value'],errors='coerce')\n",
    "    \n",
    "    # return cleaned up labs dataframe\n",
    "    return cleanlabs_df"
   ]
  },
  {
   "cell_type": "code",
   "execution_count": 45,
   "metadata": {},
   "outputs": [],
   "source": [
    "# write function that returns merged table for labs with base_table\n",
    "def stat_values_labs(labs_df, base_table):\n",
    "    \n",
    "    # merge cleaned up labs df with match 'ruid' and 'hospital_day' with base table\n",
    "    labs_merged = pd.merge(base_table, labs_df, how='left', left_on=['ruid','hospital_day'], right_on=['ruid','lab_date'])\n",
    "    \n",
    "    # return merged df\n",
    "    return labs_merged"
   ]
  },
  {
   "cell_type": "markdown",
   "metadata": {},
   "source": [
    "## Aim #1: process labs to merge with base_table that has rows orgnaized by pid-visit_id combination"
   ]
  },
  {
   "cell_type": "code",
   "execution_count": 58,
   "metadata": {},
   "outputs": [
    {
     "data": {
      "text/html": [
       "<div>\n",
       "<style scoped>\n",
       "    .dataframe tbody tr th:only-of-type {\n",
       "        vertical-align: middle;\n",
       "    }\n",
       "\n",
       "    .dataframe tbody tr th {\n",
       "        vertical-align: top;\n",
       "    }\n",
       "\n",
       "    .dataframe thead th {\n",
       "        text-align: right;\n",
       "    }\n",
       "</style>\n",
       "<table border=\"1\" class=\"dataframe\">\n",
       "  <thead>\n",
       "    <tr style=\"text-align: right;\">\n",
       "      <th></th>\n",
       "      <th>RUID</th>\n",
       "      <th>Lab_name</th>\n",
       "      <th>Lab_date</th>\n",
       "      <th>Lab_value</th>\n",
       "    </tr>\n",
       "  </thead>\n",
       "  <tbody>\n",
       "    <tr>\n",
       "      <th>0</th>\n",
       "      <td>50135262</td>\n",
       "      <td>%SAT</td>\n",
       "      <td>04/13/2008</td>\n",
       "      <td>17</td>\n",
       "    </tr>\n",
       "    <tr>\n",
       "      <th>1</th>\n",
       "      <td>50135262</td>\n",
       "      <td>ABO</td>\n",
       "      <td>02/08/2007</td>\n",
       "      <td>A</td>\n",
       "    </tr>\n",
       "    <tr>\n",
       "      <th>2</th>\n",
       "      <td>50135262</td>\n",
       "      <td>ABO</td>\n",
       "      <td>02/24/2008</td>\n",
       "      <td>a</td>\n",
       "    </tr>\n",
       "    <tr>\n",
       "      <th>3</th>\n",
       "      <td>50135262</td>\n",
       "      <td>AN-GAP</td>\n",
       "      <td>02/08/2007</td>\n",
       "      <td>9</td>\n",
       "    </tr>\n",
       "    <tr>\n",
       "      <th>4</th>\n",
       "      <td>50135262</td>\n",
       "      <td>AN-GAP</td>\n",
       "      <td>02/11/2011</td>\n",
       "      <td>8</td>\n",
       "    </tr>\n",
       "  </tbody>\n",
       "</table>\n",
       "</div>"
      ],
      "text/plain": [
       "       RUID Lab_name    Lab_date Lab_value\n",
       "0  50135262     %SAT  04/13/2008        17\n",
       "1  50135262      ABO  02/08/2007         A\n",
       "2  50135262      ABO  02/24/2008         a\n",
       "3  50135262   AN-GAP  02/08/2007         9\n",
       "4  50135262   AN-GAP  02/11/2011         8"
      ]
     },
     "execution_count": 58,
     "metadata": {},
     "output_type": "execute_result"
    }
   ],
   "source": [
    "# import labs\n",
    "df_LAB = pd.read_csv('./Data/FONNESBECK_LAB_20151202.csv',sep=',',engine='python',quoting=3,dtype={'RUID': np.str},infer_datetime_format=True, parse_dates=['Lab_date'])\n",
    "df_LAB.head()"
   ]
  },
  {
   "cell_type": "code",
   "execution_count": 59,
   "metadata": {},
   "outputs": [],
   "source": [
    "# top 20 labs\n",
    "top_num_labs, top_pt_labs = top_labs(df_LAB,20)"
   ]
  },
  {
   "cell_type": "code",
   "execution_count": 60,
   "metadata": {},
   "outputs": [
    {
     "data": {
      "text/html": [
       "<div>\n",
       "<style scoped>\n",
       "    .dataframe tbody tr th:only-of-type {\n",
       "        vertical-align: middle;\n",
       "    }\n",
       "\n",
       "    .dataframe tbody tr th {\n",
       "        vertical-align: top;\n",
       "    }\n",
       "\n",
       "    .dataframe thead th {\n",
       "        text-align: right;\n",
       "    }\n",
       "</style>\n",
       "<table border=\"1\" class=\"dataframe\">\n",
       "  <thead>\n",
       "    <tr style=\"text-align: right;\">\n",
       "      <th></th>\n",
       "      <th>Lab_name</th>\n",
       "      <th>counts</th>\n",
       "    </tr>\n",
       "  </thead>\n",
       "  <tbody>\n",
       "    <tr>\n",
       "      <th>1762</th>\n",
       "      <td>GluBed</td>\n",
       "      <td>252113</td>\n",
       "    </tr>\n",
       "    <tr>\n",
       "      <th>2218</th>\n",
       "      <td>K</td>\n",
       "      <td>238492</td>\n",
       "    </tr>\n",
       "    <tr>\n",
       "      <th>1154</th>\n",
       "      <td>Creat</td>\n",
       "      <td>233493</td>\n",
       "    </tr>\n",
       "    <tr>\n",
       "      <th>2609</th>\n",
       "      <td>Na</td>\n",
       "      <td>230471</td>\n",
       "    </tr>\n",
       "    <tr>\n",
       "      <th>2776</th>\n",
       "      <td>PCV</td>\n",
       "      <td>229964</td>\n",
       "    </tr>\n",
       "    <tr>\n",
       "      <th>592</th>\n",
       "      <td>BUN</td>\n",
       "      <td>226556</td>\n",
       "    </tr>\n",
       "    <tr>\n",
       "      <th>1765</th>\n",
       "      <td>Gluc</td>\n",
       "      <td>226554</td>\n",
       "    </tr>\n",
       "    <tr>\n",
       "      <th>926</th>\n",
       "      <td>CO2</td>\n",
       "      <td>226256</td>\n",
       "    </tr>\n",
       "    <tr>\n",
       "      <th>1070</th>\n",
       "      <td>Cl</td>\n",
       "      <td>226059</td>\n",
       "    </tr>\n",
       "    <tr>\n",
       "      <th>2920</th>\n",
       "      <td>Plt-Ct</td>\n",
       "      <td>215131</td>\n",
       "    </tr>\n",
       "    <tr>\n",
       "      <th>3891</th>\n",
       "      <td>WBC</td>\n",
       "      <td>213850</td>\n",
       "    </tr>\n",
       "    <tr>\n",
       "      <th>2025</th>\n",
       "      <td>Hgb</td>\n",
       "      <td>213328</td>\n",
       "    </tr>\n",
       "    <tr>\n",
       "      <th>3058</th>\n",
       "      <td>RBC</td>\n",
       "      <td>210475</td>\n",
       "    </tr>\n",
       "    <tr>\n",
       "      <th>2376</th>\n",
       "      <td>MCHC</td>\n",
       "      <td>209793</td>\n",
       "    </tr>\n",
       "    <tr>\n",
       "      <th>2375</th>\n",
       "      <td>MCH</td>\n",
       "      <td>209463</td>\n",
       "    </tr>\n",
       "    <tr>\n",
       "      <th>2378</th>\n",
       "      <td>MCV</td>\n",
       "      <td>207226</td>\n",
       "    </tr>\n",
       "    <tr>\n",
       "      <th>3067</th>\n",
       "      <td>RDW</td>\n",
       "      <td>207028</td>\n",
       "    </tr>\n",
       "    <tr>\n",
       "      <th>292</th>\n",
       "      <td>AN-GAP</td>\n",
       "      <td>205919</td>\n",
       "    </tr>\n",
       "    <tr>\n",
       "      <th>1002</th>\n",
       "      <td>Ca</td>\n",
       "      <td>198994</td>\n",
       "    </tr>\n",
       "    <tr>\n",
       "      <th>3069</th>\n",
       "      <td>RDWSD</td>\n",
       "      <td>117521</td>\n",
       "    </tr>\n",
       "  </tbody>\n",
       "</table>\n",
       "</div>"
      ],
      "text/plain": [
       "     Lab_name  counts\n",
       "1762   GluBed  252113\n",
       "2218        K  238492\n",
       "1154    Creat  233493\n",
       "2609       Na  230471\n",
       "2776      PCV  229964\n",
       "592       BUN  226556\n",
       "1765     Gluc  226554\n",
       "926       CO2  226256\n",
       "1070       Cl  226059\n",
       "2920   Plt-Ct  215131\n",
       "3891      WBC  213850\n",
       "2025      Hgb  213328\n",
       "3058      RBC  210475\n",
       "2376     MCHC  209793\n",
       "2375      MCH  209463\n",
       "2378      MCV  207226\n",
       "3067      RDW  207028\n",
       "292    AN-GAP  205919\n",
       "1002       Ca  198994\n",
       "3069    RDWSD  117521"
      ]
     },
     "execution_count": 60,
     "metadata": {},
     "output_type": "execute_result"
    }
   ],
   "source": [
    "top_num_labs"
   ]
  },
  {
   "cell_type": "markdown",
   "metadata": {},
   "source": [
    "based on these results, will use all labs from `GluBed` to `Ca`, since there's a big drop-off between `Ca` and `RDWSD`"
   ]
  },
  {
   "cell_type": "code",
   "execution_count": 61,
   "metadata": {},
   "outputs": [],
   "source": [
    "# get all labs from GluBed to Ca, i.e. filter RDWSD\n",
    "top_num_labs1, top_pt_labs1 = top_labs(df_LAB,19)"
   ]
  },
  {
   "cell_type": "code",
   "execution_count": 62,
   "metadata": {},
   "outputs": [
    {
     "data": {
      "text/plain": [
       "GluBed    252113\n",
       "K         238492\n",
       "Creat     233493\n",
       "Na        230471\n",
       "PCV       229964\n",
       "BUN       226556\n",
       "Gluc      226554\n",
       "CO2       226256\n",
       "Cl        226059\n",
       "Plt-Ct    215131\n",
       "WBC       213850\n",
       "Hgb       213328\n",
       "RBC       210475\n",
       "MCHC      209793\n",
       "MCH       209463\n",
       "MCV       207226\n",
       "RDW       207028\n",
       "AN-GAP    205919\n",
       "Ca        198994\n",
       "Name: Lab_name, dtype: int64"
      ]
     },
     "execution_count": 62,
     "metadata": {},
     "output_type": "execute_result"
    }
   ],
   "source": [
    "top_pt_labs1['Lab_name'].value_counts()"
   ]
  },
  {
   "cell_type": "code",
   "execution_count": 63,
   "metadata": {},
   "outputs": [
    {
     "data": {
      "text/html": [
       "<div>\n",
       "<style scoped>\n",
       "    .dataframe tbody tr th:only-of-type {\n",
       "        vertical-align: middle;\n",
       "    }\n",
       "\n",
       "    .dataframe tbody tr th {\n",
       "        vertical-align: top;\n",
       "    }\n",
       "\n",
       "    .dataframe thead th {\n",
       "        text-align: right;\n",
       "    }\n",
       "</style>\n",
       "<table border=\"1\" class=\"dataframe\">\n",
       "  <thead>\n",
       "    <tr style=\"text-align: right;\">\n",
       "      <th></th>\n",
       "      <th>ruid</th>\n",
       "      <th>lab_name</th>\n",
       "      <th>lab_date</th>\n",
       "      <th>lab_value</th>\n",
       "    </tr>\n",
       "  </thead>\n",
       "  <tbody>\n",
       "    <tr>\n",
       "      <th>3</th>\n",
       "      <td>50135262</td>\n",
       "      <td>AN-GAP</td>\n",
       "      <td>02/08/2007</td>\n",
       "      <td>9</td>\n",
       "    </tr>\n",
       "    <tr>\n",
       "      <th>4</th>\n",
       "      <td>50135262</td>\n",
       "      <td>AN-GAP</td>\n",
       "      <td>02/11/2011</td>\n",
       "      <td>8</td>\n",
       "    </tr>\n",
       "    <tr>\n",
       "      <th>5</th>\n",
       "      <td>50135262</td>\n",
       "      <td>AN-GAP</td>\n",
       "      <td>02/12/2011</td>\n",
       "      <td>6</td>\n",
       "    </tr>\n",
       "    <tr>\n",
       "      <th>6</th>\n",
       "      <td>50135262</td>\n",
       "      <td>AN-GAP</td>\n",
       "      <td>02/13/2007</td>\n",
       "      <td>9</td>\n",
       "    </tr>\n",
       "    <tr>\n",
       "      <th>7</th>\n",
       "      <td>50135262</td>\n",
       "      <td>AN-GAP</td>\n",
       "      <td>02/13/2011</td>\n",
       "      <td>8</td>\n",
       "    </tr>\n",
       "  </tbody>\n",
       "</table>\n",
       "</div>"
      ],
      "text/plain": [
       "       ruid lab_name    lab_date lab_value\n",
       "3  50135262   AN-GAP  02/08/2007         9\n",
       "4  50135262   AN-GAP  02/11/2011         8\n",
       "5  50135262   AN-GAP  02/12/2011         6\n",
       "6  50135262   AN-GAP  02/13/2007         9\n",
       "7  50135262   AN-GAP  02/13/2011         8"
      ]
     },
     "execution_count": 63,
     "metadata": {},
     "output_type": "execute_result"
    }
   ],
   "source": [
    "top_pt_labs1.columns = ['ruid','lab_name','lab_date','lab_value']\n",
    "top_pt_labs1.head()"
   ]
  },
  {
   "cell_type": "code",
   "execution_count": 64,
   "metadata": {},
   "outputs": [
    {
     "data": {
      "text/html": [
       "<div>\n",
       "<style scoped>\n",
       "    .dataframe tbody tr th:only-of-type {\n",
       "        vertical-align: middle;\n",
       "    }\n",
       "\n",
       "    .dataframe tbody tr th {\n",
       "        vertical-align: top;\n",
       "    }\n",
       "\n",
       "    .dataframe thead th {\n",
       "        text-align: right;\n",
       "    }\n",
       "</style>\n",
       "<table border=\"1\" class=\"dataframe\">\n",
       "  <thead>\n",
       "    <tr style=\"text-align: right;\">\n",
       "      <th></th>\n",
       "      <th>ruid</th>\n",
       "      <th>lab_name</th>\n",
       "      <th>lab_date</th>\n",
       "      <th>lab_value</th>\n",
       "    </tr>\n",
       "  </thead>\n",
       "  <tbody>\n",
       "    <tr>\n",
       "      <th>5503436</th>\n",
       "      <td>53732927</td>\n",
       "      <td>Plt-Ct</td>\n",
       "      <td>07/25/2013</td>\n",
       "      <td>NaN</td>\n",
       "    </tr>\n",
       "    <tr>\n",
       "      <th>6301228</th>\n",
       "      <td>53733765</td>\n",
       "      <td>Na</td>\n",
       "      <td>10/23/1999</td>\n",
       "      <td>NaN</td>\n",
       "    </tr>\n",
       "    <tr>\n",
       "      <th>2683342</th>\n",
       "      <td>53730260</td>\n",
       "      <td>CO2</td>\n",
       "      <td>02/10/2000</td>\n",
       "      <td>NaN</td>\n",
       "    </tr>\n",
       "    <tr>\n",
       "      <th>2684017</th>\n",
       "      <td>53730260</td>\n",
       "      <td>K</td>\n",
       "      <td>02/10/2000</td>\n",
       "      <td>NaN</td>\n",
       "    </tr>\n",
       "    <tr>\n",
       "      <th>2239788</th>\n",
       "      <td>53729811</td>\n",
       "      <td>Creat</td>\n",
       "      <td>05/26/2000</td>\n",
       "      <td>NaN</td>\n",
       "    </tr>\n",
       "  </tbody>\n",
       "</table>\n",
       "</div>"
      ],
      "text/plain": [
       "             ruid lab_name    lab_date  lab_value\n",
       "5503436  53732927   Plt-Ct  07/25/2013        NaN\n",
       "6301228  53733765       Na  10/23/1999        NaN\n",
       "2683342  53730260      CO2  02/10/2000        NaN\n",
       "2684017  53730260        K  02/10/2000        NaN\n",
       "2239788  53729811    Creat  05/26/2000        NaN"
      ]
     },
     "execution_count": 64,
     "metadata": {},
     "output_type": "execute_result"
    }
   ],
   "source": [
    "# clean labs, i.e. lab_value  to NaN if not numeric\n",
    "top_pt_labs2 = cleanLabs1(top_pt_labs1)\n",
    "top_pt_labs2.head()"
   ]
  },
  {
   "cell_type": "code",
   "execution_count": 65,
   "metadata": {},
   "outputs": [
    {
     "data": {
      "text/plain": [
       "ruid             0\n",
       "lab_name         0\n",
       "lab_date         0\n",
       "lab_value    18659\n",
       "dtype: int64"
      ]
     },
     "execution_count": 65,
     "metadata": {},
     "output_type": "execute_result"
    }
   ],
   "source": [
    "top_pt_labs2.isna().sum()"
   ]
  },
  {
   "cell_type": "code",
   "execution_count": 66,
   "metadata": {},
   "outputs": [
    {
     "data": {
      "text/plain": [
       "(4181165, 4)"
      ]
     },
     "execution_count": 66,
     "metadata": {},
     "output_type": "execute_result"
    }
   ],
   "source": [
    "top_pt_labs2.shape"
   ]
  },
  {
   "cell_type": "code",
   "execution_count": 67,
   "metadata": {},
   "outputs": [],
   "source": [
    "# read in base table that I will use for merging\n",
    "base_table = pd.read_csv('./Data/base_table_112018.csv',sep=',',dtype={'ruid': np.str},infer_datetime_format=True, parse_dates=['admit_date','discharge_date','hospital_day'])"
   ]
  },
  {
   "cell_type": "code",
   "execution_count": 68,
   "metadata": {},
   "outputs": [
    {
     "data": {
      "text/html": [
       "<div>\n",
       "<style scoped>\n",
       "    .dataframe tbody tr th:only-of-type {\n",
       "        vertical-align: middle;\n",
       "    }\n",
       "\n",
       "    .dataframe tbody tr th {\n",
       "        vertical-align: top;\n",
       "    }\n",
       "\n",
       "    .dataframe thead th {\n",
       "        text-align: right;\n",
       "    }\n",
       "</style>\n",
       "<table border=\"1\" class=\"dataframe\">\n",
       "  <thead>\n",
       "    <tr style=\"text-align: right;\">\n",
       "      <th></th>\n",
       "      <th>ruid</th>\n",
       "      <th>visit_id</th>\n",
       "      <th>admit_date</th>\n",
       "      <th>discharge_date</th>\n",
       "      <th>hospital_day</th>\n",
       "      <th>stay_length</th>\n",
       "      <th>n_transfers</th>\n",
       "      <th>readmit_time</th>\n",
       "      <th>readmit_30d</th>\n",
       "    </tr>\n",
       "  </thead>\n",
       "  <tbody>\n",
       "    <tr>\n",
       "      <th>0</th>\n",
       "      <td>50135262</td>\n",
       "      <td>0</td>\n",
       "      <td>2007-02-08</td>\n",
       "      <td>2007-02-12</td>\n",
       "      <td>2007-02-08</td>\n",
       "      <td>4 days 00:00:00.000000000</td>\n",
       "      <td>2</td>\n",
       "      <td>NaN</td>\n",
       "      <td>0</td>\n",
       "    </tr>\n",
       "    <tr>\n",
       "      <th>1</th>\n",
       "      <td>50135262</td>\n",
       "      <td>0</td>\n",
       "      <td>2007-02-08</td>\n",
       "      <td>2007-02-12</td>\n",
       "      <td>2007-02-09</td>\n",
       "      <td>4 days 00:00:00.000000000</td>\n",
       "      <td>2</td>\n",
       "      <td>NaN</td>\n",
       "      <td>0</td>\n",
       "    </tr>\n",
       "    <tr>\n",
       "      <th>2</th>\n",
       "      <td>50135262</td>\n",
       "      <td>0</td>\n",
       "      <td>2007-02-08</td>\n",
       "      <td>2007-02-12</td>\n",
       "      <td>2007-02-10</td>\n",
       "      <td>4 days 00:00:00.000000000</td>\n",
       "      <td>2</td>\n",
       "      <td>NaN</td>\n",
       "      <td>0</td>\n",
       "    </tr>\n",
       "    <tr>\n",
       "      <th>3</th>\n",
       "      <td>50135262</td>\n",
       "      <td>0</td>\n",
       "      <td>2007-02-08</td>\n",
       "      <td>2007-02-12</td>\n",
       "      <td>2007-02-11</td>\n",
       "      <td>4 days 00:00:00.000000000</td>\n",
       "      <td>2</td>\n",
       "      <td>NaN</td>\n",
       "      <td>0</td>\n",
       "    </tr>\n",
       "    <tr>\n",
       "      <th>4</th>\n",
       "      <td>50135262</td>\n",
       "      <td>0</td>\n",
       "      <td>2007-02-08</td>\n",
       "      <td>2007-02-12</td>\n",
       "      <td>2007-02-12</td>\n",
       "      <td>4 days 00:00:00.000000000</td>\n",
       "      <td>2</td>\n",
       "      <td>NaN</td>\n",
       "      <td>0</td>\n",
       "    </tr>\n",
       "  </tbody>\n",
       "</table>\n",
       "</div>"
      ],
      "text/plain": [
       "       ruid  visit_id admit_date discharge_date hospital_day  \\\n",
       "0  50135262         0 2007-02-08     2007-02-12   2007-02-08   \n",
       "1  50135262         0 2007-02-08     2007-02-12   2007-02-09   \n",
       "2  50135262         0 2007-02-08     2007-02-12   2007-02-10   \n",
       "3  50135262         0 2007-02-08     2007-02-12   2007-02-11   \n",
       "4  50135262         0 2007-02-08     2007-02-12   2007-02-12   \n",
       "\n",
       "                 stay_length  n_transfers readmit_time  readmit_30d  \n",
       "0  4 days 00:00:00.000000000            2          NaN            0  \n",
       "1  4 days 00:00:00.000000000            2          NaN            0  \n",
       "2  4 days 00:00:00.000000000            2          NaN            0  \n",
       "3  4 days 00:00:00.000000000            2          NaN            0  \n",
       "4  4 days 00:00:00.000000000            2          NaN            0  "
      ]
     },
     "execution_count": 68,
     "metadata": {},
     "output_type": "execute_result"
    }
   ],
   "source": [
    "base_table.head()"
   ]
  },
  {
   "cell_type": "code",
   "execution_count": 69,
   "metadata": {},
   "outputs": [
    {
     "data": {
      "text/html": [
       "<div>\n",
       "<style scoped>\n",
       "    .dataframe tbody tr th:only-of-type {\n",
       "        vertical-align: middle;\n",
       "    }\n",
       "\n",
       "    .dataframe tbody tr th {\n",
       "        vertical-align: top;\n",
       "    }\n",
       "\n",
       "    .dataframe thead th {\n",
       "        text-align: right;\n",
       "    }\n",
       "</style>\n",
       "<table border=\"1\" class=\"dataframe\">\n",
       "  <thead>\n",
       "    <tr style=\"text-align: right;\">\n",
       "      <th></th>\n",
       "      <th>ruid</th>\n",
       "      <th>visit_id</th>\n",
       "      <th>hospital_day</th>\n",
       "    </tr>\n",
       "  </thead>\n",
       "  <tbody>\n",
       "    <tr>\n",
       "      <th>0</th>\n",
       "      <td>50135262</td>\n",
       "      <td>0</td>\n",
       "      <td>2007-02-08</td>\n",
       "    </tr>\n",
       "    <tr>\n",
       "      <th>1</th>\n",
       "      <td>50135262</td>\n",
       "      <td>0</td>\n",
       "      <td>2007-02-09</td>\n",
       "    </tr>\n",
       "    <tr>\n",
       "      <th>2</th>\n",
       "      <td>50135262</td>\n",
       "      <td>0</td>\n",
       "      <td>2007-02-10</td>\n",
       "    </tr>\n",
       "    <tr>\n",
       "      <th>3</th>\n",
       "      <td>50135262</td>\n",
       "      <td>0</td>\n",
       "      <td>2007-02-11</td>\n",
       "    </tr>\n",
       "    <tr>\n",
       "      <th>4</th>\n",
       "      <td>50135262</td>\n",
       "      <td>0</td>\n",
       "      <td>2007-02-12</td>\n",
       "    </tr>\n",
       "  </tbody>\n",
       "</table>\n",
       "</div>"
      ],
      "text/plain": [
       "       ruid  visit_id hospital_day\n",
       "0  50135262         0   2007-02-08\n",
       "1  50135262         0   2007-02-09\n",
       "2  50135262         0   2007-02-10\n",
       "3  50135262         0   2007-02-11\n",
       "4  50135262         0   2007-02-12"
      ]
     },
     "execution_count": 69,
     "metadata": {},
     "output_type": "execute_result"
    }
   ],
   "source": [
    "base_table = base_table[['ruid','visit_id','hospital_day']]\n",
    "base_table.head()"
   ]
  },
  {
   "cell_type": "code",
   "execution_count": 70,
   "metadata": {},
   "outputs": [
    {
     "data": {
      "text/html": [
       "<div>\n",
       "<style scoped>\n",
       "    .dataframe tbody tr th:only-of-type {\n",
       "        vertical-align: middle;\n",
       "    }\n",
       "\n",
       "    .dataframe tbody tr th {\n",
       "        vertical-align: top;\n",
       "    }\n",
       "\n",
       "    .dataframe thead th {\n",
       "        text-align: right;\n",
       "    }\n",
       "</style>\n",
       "<table border=\"1\" class=\"dataframe\">\n",
       "  <thead>\n",
       "    <tr style=\"text-align: right;\">\n",
       "      <th></th>\n",
       "      <th>ruid</th>\n",
       "      <th>lab_name</th>\n",
       "      <th>lab_date</th>\n",
       "      <th>lab_value</th>\n",
       "    </tr>\n",
       "  </thead>\n",
       "  <tbody>\n",
       "    <tr>\n",
       "      <th>5503436</th>\n",
       "      <td>53732927</td>\n",
       "      <td>Plt-Ct</td>\n",
       "      <td>07/25/2013</td>\n",
       "      <td>NaN</td>\n",
       "    </tr>\n",
       "    <tr>\n",
       "      <th>6301228</th>\n",
       "      <td>53733765</td>\n",
       "      <td>Na</td>\n",
       "      <td>10/23/1999</td>\n",
       "      <td>NaN</td>\n",
       "    </tr>\n",
       "    <tr>\n",
       "      <th>2683342</th>\n",
       "      <td>53730260</td>\n",
       "      <td>CO2</td>\n",
       "      <td>02/10/2000</td>\n",
       "      <td>NaN</td>\n",
       "    </tr>\n",
       "    <tr>\n",
       "      <th>2684017</th>\n",
       "      <td>53730260</td>\n",
       "      <td>K</td>\n",
       "      <td>02/10/2000</td>\n",
       "      <td>NaN</td>\n",
       "    </tr>\n",
       "    <tr>\n",
       "      <th>2239788</th>\n",
       "      <td>53729811</td>\n",
       "      <td>Creat</td>\n",
       "      <td>05/26/2000</td>\n",
       "      <td>NaN</td>\n",
       "    </tr>\n",
       "  </tbody>\n",
       "</table>\n",
       "</div>"
      ],
      "text/plain": [
       "             ruid lab_name    lab_date  lab_value\n",
       "5503436  53732927   Plt-Ct  07/25/2013        NaN\n",
       "6301228  53733765       Na  10/23/1999        NaN\n",
       "2683342  53730260      CO2  02/10/2000        NaN\n",
       "2684017  53730260        K  02/10/2000        NaN\n",
       "2239788  53729811    Creat  05/26/2000        NaN"
      ]
     },
     "execution_count": 70,
     "metadata": {},
     "output_type": "execute_result"
    }
   ],
   "source": [
    "top_pt_labs2.head()"
   ]
  },
  {
   "cell_type": "code",
   "execution_count": 75,
   "metadata": {},
   "outputs": [
    {
     "data": {
      "text/plain": [
       "ruid                    object\n",
       "visit_id                 int64\n",
       "hospital_day    datetime64[ns]\n",
       "dtype: object"
      ]
     },
     "execution_count": 75,
     "metadata": {},
     "output_type": "execute_result"
    }
   ],
   "source": [
    "base_table.dtypes"
   ]
  },
  {
   "cell_type": "code",
   "execution_count": 76,
   "metadata": {},
   "outputs": [],
   "source": [
    "top_pt_labs3 = top_pt_labs2.copy()\n",
    "top_pt_labs3['lab_date'] = pd.to_datetime(top_pt_labs3['lab_date'], infer_datetime_format=True)"
   ]
  },
  {
   "cell_type": "code",
   "execution_count": 79,
   "metadata": {},
   "outputs": [
    {
     "data": {
      "text/plain": [
       "ruid                 object\n",
       "lab_name             object\n",
       "lab_date     datetime64[ns]\n",
       "lab_value           float64\n",
       "dtype: object"
      ]
     },
     "execution_count": 79,
     "metadata": {},
     "output_type": "execute_result"
    }
   ],
   "source": [
    "top_pt_labs3.dtypes"
   ]
  },
  {
   "cell_type": "code",
   "execution_count": 80,
   "metadata": {},
   "outputs": [
    {
     "data": {
      "text/plain": [
       "ruid                    object\n",
       "visit_id                 int64\n",
       "hospital_day    datetime64[ns]\n",
       "dtype: object"
      ]
     },
     "execution_count": 80,
     "metadata": {},
     "output_type": "execute_result"
    }
   ],
   "source": [
    "base_table.dtypes"
   ]
  },
  {
   "cell_type": "code",
   "execution_count": 81,
   "metadata": {},
   "outputs": [],
   "source": [
    "labs_merged = stat_values_labs(top_pt_labs3, base_table)"
   ]
  },
  {
   "cell_type": "code",
   "execution_count": 82,
   "metadata": {},
   "outputs": [
    {
     "data": {
      "text/html": [
       "<div>\n",
       "<style scoped>\n",
       "    .dataframe tbody tr th:only-of-type {\n",
       "        vertical-align: middle;\n",
       "    }\n",
       "\n",
       "    .dataframe tbody tr th {\n",
       "        vertical-align: top;\n",
       "    }\n",
       "\n",
       "    .dataframe thead th {\n",
       "        text-align: right;\n",
       "    }\n",
       "</style>\n",
       "<table border=\"1\" class=\"dataframe\">\n",
       "  <thead>\n",
       "    <tr style=\"text-align: right;\">\n",
       "      <th></th>\n",
       "      <th>ruid</th>\n",
       "      <th>visit_id</th>\n",
       "      <th>hospital_day</th>\n",
       "      <th>lab_name</th>\n",
       "      <th>lab_date</th>\n",
       "      <th>lab_value</th>\n",
       "    </tr>\n",
       "  </thead>\n",
       "  <tbody>\n",
       "    <tr>\n",
       "      <th>0</th>\n",
       "      <td>50135262</td>\n",
       "      <td>0</td>\n",
       "      <td>2007-02-08</td>\n",
       "      <td>MCV</td>\n",
       "      <td>2007-02-08</td>\n",
       "      <td>91.00</td>\n",
       "    </tr>\n",
       "    <tr>\n",
       "      <th>1</th>\n",
       "      <td>50135262</td>\n",
       "      <td>0</td>\n",
       "      <td>2007-02-08</td>\n",
       "      <td>AN-GAP</td>\n",
       "      <td>2007-02-08</td>\n",
       "      <td>9.00</td>\n",
       "    </tr>\n",
       "    <tr>\n",
       "      <th>2</th>\n",
       "      <td>50135262</td>\n",
       "      <td>0</td>\n",
       "      <td>2007-02-08</td>\n",
       "      <td>Ca</td>\n",
       "      <td>2007-02-08</td>\n",
       "      <td>8.90</td>\n",
       "    </tr>\n",
       "    <tr>\n",
       "      <th>3</th>\n",
       "      <td>50135262</td>\n",
       "      <td>0</td>\n",
       "      <td>2007-02-08</td>\n",
       "      <td>PCV</td>\n",
       "      <td>2007-02-08</td>\n",
       "      <td>40.00</td>\n",
       "    </tr>\n",
       "    <tr>\n",
       "      <th>4</th>\n",
       "      <td>50135262</td>\n",
       "      <td>0</td>\n",
       "      <td>2007-02-08</td>\n",
       "      <td>RBC</td>\n",
       "      <td>2007-02-08</td>\n",
       "      <td>4.41</td>\n",
       "    </tr>\n",
       "  </tbody>\n",
       "</table>\n",
       "</div>"
      ],
      "text/plain": [
       "       ruid  visit_id hospital_day lab_name   lab_date  lab_value\n",
       "0  50135262         0   2007-02-08      MCV 2007-02-08      91.00\n",
       "1  50135262         0   2007-02-08   AN-GAP 2007-02-08       9.00\n",
       "2  50135262         0   2007-02-08       Ca 2007-02-08       8.90\n",
       "3  50135262         0   2007-02-08      PCV 2007-02-08      40.00\n",
       "4  50135262         0   2007-02-08      RBC 2007-02-08       4.41"
      ]
     },
     "execution_count": 82,
     "metadata": {},
     "output_type": "execute_result"
    }
   ],
   "source": [
    "labs_merged.head()"
   ]
  },
  {
   "cell_type": "code",
   "execution_count": 83,
   "metadata": {},
   "outputs": [
    {
     "data": {
      "text/plain": [
       "ruid                0\n",
       "visit_id            0\n",
       "hospital_day        0\n",
       "lab_name        26871\n",
       "lab_date        26871\n",
       "lab_value       33654\n",
       "dtype: int64"
      ]
     },
     "execution_count": 83,
     "metadata": {},
     "output_type": "execute_result"
    }
   ],
   "source": [
    "labs_merged.isna().sum()"
   ]
  },
  {
   "cell_type": "code",
   "execution_count": 85,
   "metadata": {},
   "outputs": [
    {
     "data": {
      "text/plain": [
       "(1924507, 6)"
      ]
     },
     "execution_count": 85,
     "metadata": {},
     "output_type": "execute_result"
    }
   ],
   "source": [
    "labs_merged.shape"
   ]
  },
  {
   "cell_type": "code",
   "execution_count": 84,
   "metadata": {},
   "outputs": [],
   "source": [
    "# export labs_merged to csv to upload to drive\n",
    "labs_merged.to_csv('labs_merged_120518.csv',index=False)"
   ]
  }
 ],
 "metadata": {
  "kernelspec": {
   "display_name": "Python 3",
   "language": "python",
   "name": "python3"
  },
  "language_info": {
   "codemirror_mode": {
    "name": "ipython",
    "version": 3
   },
   "file_extension": ".py",
   "mimetype": "text/x-python",
   "name": "python",
   "nbconvert_exporter": "python",
   "pygments_lexer": "ipython3",
   "version": "3.6.7"
  }
 },
 "nbformat": 4,
 "nbformat_minor": 2
}
